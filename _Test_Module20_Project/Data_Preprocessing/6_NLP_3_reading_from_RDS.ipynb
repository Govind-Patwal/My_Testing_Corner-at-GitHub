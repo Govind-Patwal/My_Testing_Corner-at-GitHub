{
  "nbformat": 4,
  "nbformat_minor": 0,
  "metadata": {
    "colab": {
      "name": "NLP_Numerical_Reviews.ipynb",
      "provenance": []
    },
    "kernelspec": {
      "display_name": "Python 3",
      "language": "python",
      "name": "python3"
    },
    "language_info": {
      "codemirror_mode": {
        "name": "ipython",
        "version": 3
      },
      "file_extension": ".py",
      "mimetype": "text/x-python",
      "name": "python",
      "nbconvert_exporter": "python",
      "pygments_lexer": "ipython3",
      "version": "3.7.7"
    }
  },
  "cells": [
    {
      "cell_type": "code",
      "metadata": {
        "id": "CarnJEuzwP1B",
        "outputId": "f3110572-f28e-466a-8abe-e0614d8af9a4",
        "colab": {
          "base_uri": "https://localhost:8080/"
        }
      },
      "source": [
        "import os\n",
        "# Find the latest version of spark 3.0  from http://www-us.apache.org/dist/spark/ and enter as the spark version\n",
        "# For example:\n",
        "# spark_version = 'spark-3.0.1'\n",
        "spark_version = 'spark-3.0.1'\n",
        "os.environ['SPARK_VERSION']=spark_version\n",
        "\n",
        "# Install Spark and Java\n",
        "!apt-get update\n",
        "!apt-get install openjdk-11-jdk-headless -qq > /dev/null\n",
        "!wget -q http://www-us.apache.org/dist/spark/$SPARK_VERSION/$SPARK_VERSION-bin-hadoop2.7.tgz\n",
        "!tar xf $SPARK_VERSION-bin-hadoop2.7.tgz\n",
        "!pip install -q findspark\n",
        "\n",
        "# Set Environment Variables\n",
        "import os\n",
        "os.environ[\"JAVA_HOME\"] = \"/usr/lib/jvm/java-11-openjdk-amd64\"\n",
        "os.environ[\"SPARK_HOME\"] = f\"/content/{spark_version}-bin-hadoop2.7\"\n",
        "\n",
        "# Start a SparkSession\n",
        "import findspark\n",
        "findspark.init()"
      ],
      "execution_count": 1,
      "outputs": [
        {
          "output_type": "stream",
          "text": [
            "\r0% [Working]\r            \rIgn:1 https://developer.download.nvidia.com/compute/cuda/repos/ubuntu1804/x86_64  InRelease\n",
            "Hit:2 https://cloud.r-project.org/bin/linux/ubuntu bionic-cran40/ InRelease\n",
            "Ign:3 https://developer.download.nvidia.com/compute/machine-learning/repos/ubuntu1804/x86_64  InRelease\n",
            "Hit:4 https://developer.download.nvidia.com/compute/cuda/repos/ubuntu1804/x86_64  Release\n",
            "Hit:5 http://ppa.launchpad.net/c2d4u.team/c2d4u4.0+/ubuntu bionic InRelease\n",
            "Hit:6 http://security.ubuntu.com/ubuntu bionic-security InRelease\n",
            "Hit:7 https://developer.download.nvidia.com/compute/machine-learning/repos/ubuntu1804/x86_64  Release\n",
            "Hit:8 http://archive.ubuntu.com/ubuntu bionic InRelease\n",
            "Hit:10 http://archive.ubuntu.com/ubuntu bionic-updates InRelease\n",
            "Hit:11 http://ppa.launchpad.net/graphics-drivers/ppa/ubuntu bionic InRelease\n",
            "Hit:12 http://archive.ubuntu.com/ubuntu bionic-backports InRelease\n",
            "Reading package lists... Done\n"
          ],
          "name": "stdout"
        }
      ]
    },
    {
      "cell_type": "code",
      "metadata": {
        "id": "lZilGKyDwUV_"
      },
      "source": [
        "# Start Spark session\n",
        "from pyspark.sql import SparkSession\n",
        "spark = SparkSession.builder.appName(\"Hotel_Reviews_NLP\").getOrCreate()"
      ],
      "execution_count": 2,
      "outputs": []
    },
    {
      "cell_type": "code",
      "metadata": {
        "id": "FBrRnsEK1gI1",
        "outputId": "ab586455-d858-4a61-afdd-d5d062b7b63e",
        "colab": {
          "base_uri": "https://localhost:8080/",
          "height": 1000
        }
      },
      "source": [
        "# Importing data from RDS (AWS)\n",
        "import psycopg2\n",
        "connection = psycopg2.connect(\n",
        "    host = 'sample-hotel-reviews.cfxm7dziqs2d.us-east-2.rds.amazonaws.com',\n",
        "    port = 5432,\n",
        "    user = 'postgres',\n",
        "    password = 'Postgres$123',\n",
        "    database = 'Sample_db'\n",
        "    )\n",
        "cursor=connection.cursor()\n",
        "\n",
        "# using pandas to execute SQL queries\n",
        "import pandas as pd\n",
        "sql = \"\"\"\n",
        "SELECT *\n",
        "FROM public.\"Hotel_Reviews\"\n",
        "\"\"\"\n",
        "pandas_df = pd.read_sql(sql, con=connection)\n",
        "\n",
        "# Show DataFrame\n",
        "pandas_df"
      ],
      "execution_count": 3,
      "outputs": [
        {
          "output_type": "stream",
          "text": [
            "/usr/local/lib/python3.6/dist-packages/psycopg2/__init__.py:144: UserWarning: The psycopg2 wheel package will be renamed from release 2.8; in order to keep installing from binary please use \"pip install psycopg2-binary\" instead. For details see: <http://initd.org/psycopg/docs/install.html#binary-install-from-pypi>.\n",
            "  \"\"\")\n"
          ],
          "name": "stderr"
        },
        {
          "output_type": "execute_result",
          "data": {
            "text/html": [
              "<div>\n",
              "<style scoped>\n",
              "    .dataframe tbody tr th:only-of-type {\n",
              "        vertical-align: middle;\n",
              "    }\n",
              "\n",
              "    .dataframe tbody tr th {\n",
              "        vertical-align: top;\n",
              "    }\n",
              "\n",
              "    .dataframe thead th {\n",
              "        text-align: right;\n",
              "    }\n",
              "</style>\n",
              "<table border=\"1\" class=\"dataframe\">\n",
              "  <thead>\n",
              "    <tr style=\"text-align: right;\">\n",
              "      <th></th>\n",
              "      <th>Id</th>\n",
              "      <th>Hotel_Address</th>\n",
              "      <th>Additional_Number_of_Scoring</th>\n",
              "      <th>Review_Date</th>\n",
              "      <th>Average_Score</th>\n",
              "      <th>Hotel_Name</th>\n",
              "      <th>Reviewer_Nationality</th>\n",
              "      <th>Negative_Review</th>\n",
              "      <th>Review_Total_Negative_Word_Counts</th>\n",
              "      <th>Total_Number_of_Reviews</th>\n",
              "      <th>Positive_Review</th>\n",
              "      <th>Review_Total_Positive_Word_Counts</th>\n",
              "      <th>Total_Number_of_Reviews_Reviewer_Has_Given</th>\n",
              "      <th>Reviewer_Score</th>\n",
              "      <th>Tags</th>\n",
              "      <th>days_since_review</th>\n",
              "    </tr>\n",
              "  </thead>\n",
              "  <tbody>\n",
              "    <tr>\n",
              "      <th>0</th>\n",
              "      <td>0</td>\n",
              "      <td>s Gravesandestraat 55 Oost 1092 AA Amsterdam ...</td>\n",
              "      <td>194</td>\n",
              "      <td>2017-08-03</td>\n",
              "      <td>7.7</td>\n",
              "      <td>Hotel Arena</td>\n",
              "      <td>Russia</td>\n",
              "      <td>I am so angry that i made this post available...</td>\n",
              "      <td>397</td>\n",
              "      <td>1403</td>\n",
              "      <td>Only the park outside of the hotel was beauti...</td>\n",
              "      <td>11</td>\n",
              "      <td>7</td>\n",
              "      <td>2.9</td>\n",
              "      <td>[' Leisure trip ', ' Couple ', ' Duplex Double...</td>\n",
              "      <td>0 days</td>\n",
              "    </tr>\n",
              "    <tr>\n",
              "      <th>1</th>\n",
              "      <td>1</td>\n",
              "      <td>s Gravesandestraat 55 Oost 1092 AA Amsterdam ...</td>\n",
              "      <td>194</td>\n",
              "      <td>2017-08-03</td>\n",
              "      <td>7.7</td>\n",
              "      <td>Hotel Arena</td>\n",
              "      <td>Ireland</td>\n",
              "      <td>No Negative</td>\n",
              "      <td>0</td>\n",
              "      <td>1403</td>\n",
              "      <td>No real complaints the hotel was great great ...</td>\n",
              "      <td>105</td>\n",
              "      <td>7</td>\n",
              "      <td>7.5</td>\n",
              "      <td>[' Leisure trip ', ' Couple ', ' Duplex Double...</td>\n",
              "      <td>0 days</td>\n",
              "    </tr>\n",
              "    <tr>\n",
              "      <th>2</th>\n",
              "      <td>2</td>\n",
              "      <td>s Gravesandestraat 55 Oost 1092 AA Amsterdam ...</td>\n",
              "      <td>194</td>\n",
              "      <td>2017-07-31</td>\n",
              "      <td>7.7</td>\n",
              "      <td>Hotel Arena</td>\n",
              "      <td>Australia</td>\n",
              "      <td>Rooms are nice but for elderly a bit difficul...</td>\n",
              "      <td>42</td>\n",
              "      <td>1403</td>\n",
              "      <td>Location was good and staff were ok It is cut...</td>\n",
              "      <td>21</td>\n",
              "      <td>9</td>\n",
              "      <td>7.1</td>\n",
              "      <td>[' Leisure trip ', ' Family with young childre...</td>\n",
              "      <td>3 days</td>\n",
              "    </tr>\n",
              "    <tr>\n",
              "      <th>3</th>\n",
              "      <td>3</td>\n",
              "      <td>s Gravesandestraat 55 Oost 1092 AA Amsterdam ...</td>\n",
              "      <td>194</td>\n",
              "      <td>2017-07-31</td>\n",
              "      <td>7.7</td>\n",
              "      <td>Hotel Arena</td>\n",
              "      <td>United Kingdom</td>\n",
              "      <td>My room was dirty and I was afraid to walk ba...</td>\n",
              "      <td>210</td>\n",
              "      <td>1403</td>\n",
              "      <td>Great location in nice surroundings the bar a...</td>\n",
              "      <td>26</td>\n",
              "      <td>1</td>\n",
              "      <td>3.8</td>\n",
              "      <td>[' Leisure trip ', ' Solo traveler ', ' Duplex...</td>\n",
              "      <td>3 days</td>\n",
              "    </tr>\n",
              "    <tr>\n",
              "      <th>4</th>\n",
              "      <td>4</td>\n",
              "      <td>s Gravesandestraat 55 Oost 1092 AA Amsterdam ...</td>\n",
              "      <td>194</td>\n",
              "      <td>2017-07-24</td>\n",
              "      <td>7.7</td>\n",
              "      <td>Hotel Arena</td>\n",
              "      <td>New Zealand</td>\n",
              "      <td>You When I booked with your company on line y...</td>\n",
              "      <td>140</td>\n",
              "      <td>1403</td>\n",
              "      <td>Amazing location and building Romantic setting</td>\n",
              "      <td>8</td>\n",
              "      <td>3</td>\n",
              "      <td>6.7</td>\n",
              "      <td>[' Leisure trip ', ' Couple ', ' Suite ', ' St...</td>\n",
              "      <td>10 days</td>\n",
              "    </tr>\n",
              "    <tr>\n",
              "      <th>...</th>\n",
              "      <td>...</td>\n",
              "      <td>...</td>\n",
              "      <td>...</td>\n",
              "      <td>...</td>\n",
              "      <td>...</td>\n",
              "      <td>...</td>\n",
              "      <td>...</td>\n",
              "      <td>...</td>\n",
              "      <td>...</td>\n",
              "      <td>...</td>\n",
              "      <td>...</td>\n",
              "      <td>...</td>\n",
              "      <td>...</td>\n",
              "      <td>...</td>\n",
              "      <td>...</td>\n",
              "      <td>...</td>\n",
              "    </tr>\n",
              "    <tr>\n",
              "      <th>995</th>\n",
              "      <td>995</td>\n",
              "      <td>1 2 Serjeant s Inn Fleet Street City of London...</td>\n",
              "      <td>639</td>\n",
              "      <td>2017-04-25</td>\n",
              "      <td>9.2</td>\n",
              "      <td>Apex Temple Court Hotel</td>\n",
              "      <td>United Kingdom</td>\n",
              "      <td>No Negative</td>\n",
              "      <td>0</td>\n",
              "      <td>2619</td>\n",
              "      <td>Great location room was outstanding beds were...</td>\n",
              "      <td>30</td>\n",
              "      <td>5</td>\n",
              "      <td>10.0</td>\n",
              "      <td>[' Leisure trip ', ' Couple ', ' City Twin Roo...</td>\n",
              "      <td>100 day</td>\n",
              "    </tr>\n",
              "    <tr>\n",
              "      <th>996</th>\n",
              "      <td>996</td>\n",
              "      <td>1 2 Serjeant s Inn Fleet Street City of London...</td>\n",
              "      <td>639</td>\n",
              "      <td>2017-04-23</td>\n",
              "      <td>9.2</td>\n",
              "      <td>Apex Temple Court Hotel</td>\n",
              "      <td>United Kingdom</td>\n",
              "      <td>The cleaner knocked on our door at 8am which ...</td>\n",
              "      <td>38</td>\n",
              "      <td>2619</td>\n",
              "      <td>The hotel gave us a complimentary upgrade to ...</td>\n",
              "      <td>28</td>\n",
              "      <td>2</td>\n",
              "      <td>10.0</td>\n",
              "      <td>[' Leisure trip ', ' Couple ', ' City King Roo...</td>\n",
              "      <td>102 day</td>\n",
              "    </tr>\n",
              "    <tr>\n",
              "      <th>997</th>\n",
              "      <td>997</td>\n",
              "      <td>1 2 Serjeant s Inn Fleet Street City of London...</td>\n",
              "      <td>639</td>\n",
              "      <td>2017-04-21</td>\n",
              "      <td>9.2</td>\n",
              "      <td>Apex Temple Court Hotel</td>\n",
              "      <td>United States of America</td>\n",
              "      <td>This was my second time at this hotel the fir...</td>\n",
              "      <td>72</td>\n",
              "      <td>2619</td>\n",
              "      <td>No Positive</td>\n",
              "      <td>0</td>\n",
              "      <td>11</td>\n",
              "      <td>8.3</td>\n",
              "      <td>[' Business trip ', ' Solo traveler ', ' Super...</td>\n",
              "      <td>104 day</td>\n",
              "    </tr>\n",
              "    <tr>\n",
              "      <th>998</th>\n",
              "      <td>998</td>\n",
              "      <td>1 2 Serjeant s Inn Fleet Street City of London...</td>\n",
              "      <td>639</td>\n",
              "      <td>2017-04-20</td>\n",
              "      <td>9.2</td>\n",
              "      <td>Apex Temple Court Hotel</td>\n",
              "      <td>Spain</td>\n",
              "      <td>Going as a family with two rooms hired in the...</td>\n",
              "      <td>34</td>\n",
              "      <td>2619</td>\n",
              "      <td>The design facilities and location of the hot...</td>\n",
              "      <td>16</td>\n",
              "      <td>7</td>\n",
              "      <td>10.0</td>\n",
              "      <td>[' Leisure trip ', ' Family with young childre...</td>\n",
              "      <td>105 day</td>\n",
              "    </tr>\n",
              "    <tr>\n",
              "      <th>999</th>\n",
              "      <td>999</td>\n",
              "      <td>1 2 Serjeant s Inn Fleet Street City of London...</td>\n",
              "      <td>639</td>\n",
              "      <td>2017-04-19</td>\n",
              "      <td>9.2</td>\n",
              "      <td>Apex Temple Court Hotel</td>\n",
              "      <td>United Kingdom</td>\n",
              "      <td>Some of the complimentary items of food from ...</td>\n",
              "      <td>24</td>\n",
              "      <td>2619</td>\n",
              "      <td>Staff were lovely reception sent a card and a...</td>\n",
              "      <td>46</td>\n",
              "      <td>3</td>\n",
              "      <td>10.0</td>\n",
              "      <td>[' Leisure trip ', ' Couple ', ' City King Roo...</td>\n",
              "      <td>106 day</td>\n",
              "    </tr>\n",
              "  </tbody>\n",
              "</table>\n",
              "<p>1000 rows × 16 columns</p>\n",
              "</div>"
            ],
            "text/plain": [
              "      Id  ... days_since_review\n",
              "0      0  ...            0 days\n",
              "1      1  ...            0 days\n",
              "2      2  ...            3 days\n",
              "3      3  ...            3 days\n",
              "4      4  ...           10 days\n",
              "..   ...  ...               ...\n",
              "995  995  ...           100 day\n",
              "996  996  ...           102 day\n",
              "997  997  ...           104 day\n",
              "998  998  ...           105 day\n",
              "999  999  ...           106 day\n",
              "\n",
              "[1000 rows x 16 columns]"
            ]
          },
          "metadata": {
            "tags": []
          },
          "execution_count": 3
        }
      ]
    },
    {
      "cell_type": "code",
      "metadata": {
        "id": "xr9bgq0x3l1Y",
        "outputId": "04f07ec2-022e-43c2-9d60-e874a5989d0f",
        "colab": {
          "base_uri": "https://localhost:8080/"
        }
      },
      "source": [
        "# converting PD dataframe to PySpark DataFrame\n",
        "\n",
        "import numpy as np\n",
        "import pandas as pd\n",
        "\n",
        "# Enable Arrow-based columnar data transfers\n",
        "spark.conf.set(\"spark.sql.execution.arrow.enabled\", \"true\")\n",
        "\n",
        "# Create a Spark DataFrame from a pandas DataFrame using Arrow\n",
        "df = spark.createDataFrame(pandas_df)\n",
        "df.show()"
      ],
      "execution_count": 4,
      "outputs": [
        {
          "output_type": "stream",
          "text": [
            "/content/spark-3.0.1-bin-hadoop2.7/python/pyspark/sql/pandas/conversion.py:289: UserWarning: createDataFrame attempted Arrow optimization because 'spark.sql.execution.arrow.pyspark.enabled' is set to true; however, failed by the reason below:\n",
            "  PyArrow >= 0.15.1 must be installed; however, your version was 0.14.1.\n",
            "Attempting non-optimization as 'spark.sql.execution.arrow.pyspark.fallback.enabled' is set to true.\n",
            "  warnings.warn(msg)\n"
          ],
          "name": "stderr"
        },
        {
          "output_type": "stream",
          "text": [
            "+---+--------------------+----------------------------+-----------+-------------+-----------+--------------------+--------------------+---------------------------------+-----------------------+--------------------+---------------------------------+------------------------------------------+--------------+--------------------+-----------------+\n",
            "| Id|       Hotel_Address|Additional_Number_of_Scoring|Review_Date|Average_Score| Hotel_Name|Reviewer_Nationality|     Negative_Review|Review_Total_Negative_Word_Counts|Total_Number_of_Reviews|     Positive_Review|Review_Total_Positive_Word_Counts|Total_Number_of_Reviews_Reviewer_Has_Given|Reviewer_Score|                Tags|days_since_review|\n",
            "+---+--------------------+----------------------------+-----------+-------------+-----------+--------------------+--------------------+---------------------------------+-----------------------+--------------------+---------------------------------+------------------------------------------+--------------+--------------------+-----------------+\n",
            "|  0| s Gravesandestra...|                         194| 2017-08-03|          7.7|Hotel Arena|             Russia | I am so angry th...|                              397|                   1403| Only the park ou...|                               11|                                         7|           2.9|[' Leisure trip '...|           0 days|\n",
            "|  1| s Gravesandestra...|                         194| 2017-08-03|          7.7|Hotel Arena|            Ireland |         No Negative|                                0|                   1403| No real complain...|                              105|                                         7|           7.5|[' Leisure trip '...|           0 days|\n",
            "|  2| s Gravesandestra...|                         194| 2017-07-31|          7.7|Hotel Arena|          Australia | Rooms are nice b...|                               42|                   1403| Location was goo...|                               21|                                         9|           7.1|[' Leisure trip '...|           3 days|\n",
            "|  3| s Gravesandestra...|                         194| 2017-07-31|          7.7|Hotel Arena|     United Kingdom | My room was dirt...|                              210|                   1403| Great location i...|                               26|                                         1|           3.8|[' Leisure trip '...|           3 days|\n",
            "|  4| s Gravesandestra...|                         194| 2017-07-24|          7.7|Hotel Arena|        New Zealand | You When I booke...|                              140|                   1403| Amazing location...|                                8|                                         3|           6.7|[' Leisure trip '...|          10 days|\n",
            "|  5| s Gravesandestra...|                         194| 2017-07-24|          7.7|Hotel Arena|             Poland | Backyard of the ...|                               17|                   1403| Good restaurant ...|                               20|                                         1|           6.7|[' Leisure trip '...|          10 days|\n",
            "|  6| s Gravesandestra...|                         194| 2017-07-17|          7.7|Hotel Arena|     United Kingdom | Cleaner did not ...|                               33|                   1403| The room is spac...|                               18|                                         6|           4.6|[' Leisure trip '...|          17 days|\n",
            "|  7| s Gravesandestra...|                         194| 2017-07-17|          7.7|Hotel Arena|     United Kingdom | Apart from the p...|                               11|                   1403| Good location Se...|                               19|                                         1|          10.0|[' Leisure trip '...|          17 days|\n",
            "|  8| s Gravesandestra...|                         194| 2017-07-09|          7.7|Hotel Arena|            Belgium | Even though the ...|                               34|                   1403|         No Positive|                                0|                                         3|           6.5|[' Leisure trip '...|          25 days|\n",
            "|  9| s Gravesandestra...|                         194| 2017-07-08|          7.7|Hotel Arena|             Norway | The aircondition...|                               15|                   1403| The room was big...|                               50|                                         1|           7.9|[' Leisure trip '...|          26 days|\n",
            "| 10| s Gravesandestra...|                         194| 2017-07-07|          7.7|Hotel Arena|     United Kingdom |  Nothing all great |                                5|                   1403| Rooms were stunn...|                              101|                                         2|          10.0|[' Leisure trip '...|          27 days|\n",
            "| 11| s Gravesandestra...|                         194| 2017-07-06|          7.7|Hotel Arena|             France | 6 30 AM started ...|                               75|                   1403| Style location r...|                                4|                                        12|           5.8|[' Business trip ...|          28 days|\n",
            "| 12| s Gravesandestra...|                         194| 2017-07-06|          7.7|Hotel Arena|     United Kingdom | The floor in my ...|                               28|                   1403| Comfy bed good l...|                                6|                                         7|           4.6|[' Leisure trip '...|          28 days|\n",
            "| 13| s Gravesandestra...|                         194| 2017-07-04|          7.7|Hotel Arena|              Italy |         No Negative|                                0|                   1403| This hotel is be...|                               59|                                         6|           9.2|[' Business trip ...|          30 days|\n",
            "| 14| s Gravesandestra...|                         194| 2017-07-04|          7.7|Hotel Arena|             Canada | The staff in the...|                               35|                   1403| It was very good...|                               15|                                         1|           8.8|[' Leisure trip '...|          30 days|\n",
            "| 15| s Gravesandestra...|                         194| 2017-07-03|          7.7|Hotel Arena|              Italy |         No Negative|                                0|                   1403| This hotel is aw...|                               82|                                        26|          10.0|[' Leisure trip '...|          31 days|\n",
            "| 16| s Gravesandestra...|                         194| 2017-07-03|          7.7|Hotel Arena|     United Kingdom | Very steep steps...|                               38|                   1403| Great onsite caf...|                               14|                                         8|           6.3|[' Leisure trip '...|          31 days|\n",
            "| 17| s Gravesandestra...|                         194| 2017-06-30|          7.7|Hotel Arena|            Ireland | We did not like ...|                               59|                   1403| We loved the loc...|                               64|                                         2|           7.5|[' Leisure trip '...|          34 days|\n",
            "| 18| s Gravesandestra...|                         194| 2017-06-29|          7.7|Hotel Arena|        Netherlands |         No Negative|                                0|                   1403| Public areas are...|                               33|                                         4|           7.1|[' Business trip ...|          35 days|\n",
            "| 19| s Gravesandestra...|                         194| 2017-06-20|          7.7|Hotel Arena|          Australia | We had issues wi...|                               73|                   1403| I liked the hote...|                               48|                                        16|           7.5|[' Leisure trip '...|          44 days|\n",
            "+---+--------------------+----------------------------+-----------+-------------+-----------+--------------------+--------------------+---------------------------------+-----------------------+--------------------+---------------------------------+------------------------------------------+--------------+--------------------+-----------------+\n",
            "only showing top 20 rows\n",
            "\n"
          ],
          "name": "stdout"
        }
      ]
    },
    {
      "cell_type": "code",
      "metadata": {
        "id": "sx5ryO5Bwe94"
      },
      "source": [
        "# Import functions\n",
        "from pyspark.ml.feature import Tokenizer, StopWordsRemover, HashingTF, IDF, StringIndexer"
      ],
      "execution_count": 5,
      "outputs": []
    },
    {
      "cell_type": "code",
      "metadata": {
        "id": "2Pf42Ru-woQ0",
        "outputId": "d7c086cd-1917-40a7-b05f-60c278a472bb",
        "colab": {
          "base_uri": "https://localhost:8080/"
        }
      },
      "source": [
        "from pyspark.sql.functions import length\n",
        "# Create a length column to be used as a future feature\n",
        "data_df = df.withColumn('length', length(df['Positive_Review']))\n",
        "data_df.show()"
      ],
      "execution_count": 6,
      "outputs": [
        {
          "output_type": "stream",
          "text": [
            "+---+--------------------+----------------------------+-----------+-------------+-----------+--------------------+--------------------+---------------------------------+-----------------------+--------------------+---------------------------------+------------------------------------------+--------------+--------------------+-----------------+------+\n",
            "| Id|       Hotel_Address|Additional_Number_of_Scoring|Review_Date|Average_Score| Hotel_Name|Reviewer_Nationality|     Negative_Review|Review_Total_Negative_Word_Counts|Total_Number_of_Reviews|     Positive_Review|Review_Total_Positive_Word_Counts|Total_Number_of_Reviews_Reviewer_Has_Given|Reviewer_Score|                Tags|days_since_review|length|\n",
            "+---+--------------------+----------------------------+-----------+-------------+-----------+--------------------+--------------------+---------------------------------+-----------------------+--------------------+---------------------------------+------------------------------------------+--------------+--------------------+-----------------+------+\n",
            "|  0| s Gravesandestra...|                         194| 2017-08-03|          7.7|Hotel Arena|             Russia | I am so angry th...|                              397|                   1403| Only the park ou...|                               11|                                         7|           2.9|[' Leisure trip '...|           0 days|    50|\n",
            "|  1| s Gravesandestra...|                         194| 2017-08-03|          7.7|Hotel Arena|            Ireland |         No Negative|                                0|                   1403| No real complain...|                              105|                                         7|           7.5|[' Leisure trip '...|           0 days|   611|\n",
            "|  2| s Gravesandestra...|                         194| 2017-07-31|          7.7|Hotel Arena|          Australia | Rooms are nice b...|                               42|                   1403| Location was goo...|                               21|                                         9|           7.1|[' Leisure trip '...|           3 days|    95|\n",
            "|  3| s Gravesandestra...|                         194| 2017-07-31|          7.7|Hotel Arena|     United Kingdom | My room was dirt...|                              210|                   1403| Great location i...|                               26|                                         1|           3.8|[' Leisure trip '...|           3 days|   143|\n",
            "|  4| s Gravesandestra...|                         194| 2017-07-24|          7.7|Hotel Arena|        New Zealand | You When I booke...|                              140|                   1403| Amazing location...|                                8|                                         3|           6.7|[' Leisure trip '...|          10 days|    48|\n",
            "|  5| s Gravesandestra...|                         194| 2017-07-24|          7.7|Hotel Arena|             Poland | Backyard of the ...|                               17|                   1403| Good restaurant ...|                               20|                                         1|           6.7|[' Leisure trip '...|          10 days|   110|\n",
            "|  6| s Gravesandestra...|                         194| 2017-07-17|          7.7|Hotel Arena|     United Kingdom | Cleaner did not ...|                               33|                   1403| The room is spac...|                               18|                                         6|           4.6|[' Leisure trip '...|          17 days|    84|\n",
            "|  7| s Gravesandestra...|                         194| 2017-07-17|          7.7|Hotel Arena|     United Kingdom | Apart from the p...|                               11|                   1403| Good location Se...|                               19|                                         1|          10.0|[' Leisure trip '...|          17 days|    98|\n",
            "|  8| s Gravesandestra...|                         194| 2017-07-09|          7.7|Hotel Arena|            Belgium | Even though the ...|                               34|                   1403|         No Positive|                                0|                                         3|           6.5|[' Leisure trip '...|          25 days|    11|\n",
            "|  9| s Gravesandestra...|                         194| 2017-07-08|          7.7|Hotel Arena|             Norway | The aircondition...|                               15|                   1403| The room was big...|                               50|                                         1|           7.9|[' Leisure trip '...|          26 days|   243|\n",
            "| 10| s Gravesandestra...|                         194| 2017-07-07|          7.7|Hotel Arena|     United Kingdom |  Nothing all great |                                5|                   1403| Rooms were stunn...|                              101|                                         2|          10.0|[' Leisure trip '...|          27 days|   549|\n",
            "| 11| s Gravesandestra...|                         194| 2017-07-06|          7.7|Hotel Arena|             France | 6 30 AM started ...|                               75|                   1403| Style location r...|                                4|                                        12|           5.8|[' Business trip ...|          28 days|    21|\n",
            "| 12| s Gravesandestra...|                         194| 2017-07-06|          7.7|Hotel Arena|     United Kingdom | The floor in my ...|                               28|                   1403| Comfy bed good l...|                                6|                                         7|           4.6|[' Leisure trip '...|          28 days|    25|\n",
            "| 13| s Gravesandestra...|                         194| 2017-07-04|          7.7|Hotel Arena|              Italy |         No Negative|                                0|                   1403| This hotel is be...|                               59|                                         6|           9.2|[' Business trip ...|          30 days|   329|\n",
            "| 14| s Gravesandestra...|                         194| 2017-07-04|          7.7|Hotel Arena|             Canada | The staff in the...|                               35|                   1403| It was very good...|                               15|                                         1|           8.8|[' Leisure trip '...|          30 days|    63|\n",
            "| 15| s Gravesandestra...|                         194| 2017-07-03|          7.7|Hotel Arena|              Italy |         No Negative|                                0|                   1403| This hotel is aw...|                               82|                                        26|          10.0|[' Leisure trip '...|          31 days|   413|\n",
            "| 16| s Gravesandestra...|                         194| 2017-07-03|          7.7|Hotel Arena|     United Kingdom | Very steep steps...|                               38|                   1403| Great onsite caf...|                               14|                                         8|           6.3|[' Leisure trip '...|          31 days|    78|\n",
            "| 17| s Gravesandestra...|                         194| 2017-06-30|          7.7|Hotel Arena|            Ireland | We did not like ...|                               59|                   1403| We loved the loc...|                               64|                                         2|           7.5|[' Leisure trip '...|          34 days|   330|\n",
            "| 18| s Gravesandestra...|                         194| 2017-06-29|          7.7|Hotel Arena|        Netherlands |         No Negative|                                0|                   1403| Public areas are...|                               33|                                         4|           7.1|[' Business trip ...|          35 days|   166|\n",
            "| 19| s Gravesandestra...|                         194| 2017-06-20|          7.7|Hotel Arena|          Australia | We had issues wi...|                               73|                   1403| I liked the hote...|                               48|                                        16|           7.5|[' Leisure trip '...|          44 days|   242|\n",
            "+---+--------------------+----------------------------+-----------+-------------+-----------+--------------------+--------------------+---------------------------------+-----------------------+--------------------+---------------------------------+------------------------------------------+--------------+--------------------+-----------------+------+\n",
            "only showing top 20 rows\n",
            "\n"
          ],
          "name": "stdout"
        }
      ]
    },
    {
      "cell_type": "code",
      "metadata": {
        "id": "mnjC7sdrwyL0"
      },
      "source": [
        "# Create all the features to the data set\n",
        "pos_neg_to_num = StringIndexer(inputCol='Reviewer_Score',outputCol='label')\n",
        "tokenizer = Tokenizer(inputCol=\"Positive_Review\", outputCol=\"token_text\")\n",
        "stopremove = StopWordsRemover(inputCol='token_text',outputCol='stop_tokens')\n",
        "hashingTF = HashingTF(inputCol=\"stop_tokens\", outputCol='hash_token')\n",
        "idf = IDF(inputCol='hash_token', outputCol='idf_token')"
      ],
      "execution_count": 7,
      "outputs": []
    },
    {
      "cell_type": "code",
      "metadata": {
        "id": "StQhEWRw254y"
      },
      "source": [
        "from pyspark.ml.feature import VectorAssembler\n",
        "from pyspark.ml.linalg import Vector\n",
        "# Create feature vectors\n",
        "clean_up = VectorAssembler(inputCols=['idf_token', 'length'], outputCol='features')"
      ],
      "execution_count": 8,
      "outputs": []
    },
    {
      "cell_type": "code",
      "metadata": {
        "id": "_pwTN86YzVPj"
      },
      "source": [
        "# Create and run a data processing Pipeline\n",
        "from pyspark.ml import Pipeline\n",
        "data_prep_pipeline = Pipeline(stages=[pos_neg_to_num, tokenizer, stopremove, hashingTF, idf, clean_up])"
      ],
      "execution_count": 9,
      "outputs": []
    },
    {
      "cell_type": "code",
      "metadata": {
        "id": "as1ctTNS0Nff",
        "outputId": "d098460a-c573-40db-c64d-d44d4ca81d09",
        "colab": {
          "base_uri": "https://localhost:8080/"
        }
      },
      "source": [
        "# Fit and transform the pipeline\n",
        "cleaner = data_prep_pipeline.fit(data_df)\n",
        "cleaned = cleaner.transform(data_df)\n",
        "\n",
        "# Show \"Combined_Review\" and resulting features\n",
        "cleaned.select(['label', 'features']).show()"
      ],
      "execution_count": 10,
      "outputs": [
        {
          "output_type": "stream",
          "text": [
            "+-----+--------------------+\n",
            "|label|            features|\n",
            "+-----+--------------------+\n",
            "| 17.0|(262145,[45848,71...|\n",
            "|  5.0|(262145,[4714,514...|\n",
            "|  7.0|(262145,[22346,23...|\n",
            "| 15.0|(262145,[22346,30...|\n",
            "|  8.0|(262145,[73341,90...|\n",
            "|  8.0|(262145,[9781,304...|\n",
            "| 13.0|(262145,[71826,80...|\n",
            "|  0.0|(262145,[43890,71...|\n",
            "| 23.0|(262145,[162801,2...|\n",
            "|  6.0|(262145,[21641,43...|\n",
            "|  0.0|(262145,[9129,181...|\n",
            "| 10.0|(262145,[73341,12...|\n",
            "| 13.0|(262145,[21641,73...|\n",
            "|  2.0|(262145,[15370,23...|\n",
            "|  3.0|(262145,[66869,90...|\n",
            "|  0.0|(262145,[5765,218...|\n",
            "|  9.0|(262145,[62309,71...|\n",
            "|  5.0|(262145,[329,9129...|\n",
            "|  7.0|(262145,[11941,17...|\n",
            "|  5.0|(262145,[22373,26...|\n",
            "+-----+--------------------+\n",
            "only showing top 20 rows\n",
            "\n"
          ],
          "name": "stdout"
        }
      ]
    },
    {
      "cell_type": "code",
      "metadata": {
        "id": "8Qe1rrGv0Nkn"
      },
      "source": [
        "# Break data down into a training set and a testing set\n",
        "training, testing = cleaned.randomSplit([0.7, 0.3], 21)"
      ],
      "execution_count": 11,
      "outputs": []
    },
    {
      "cell_type": "code",
      "metadata": {
        "id": "CtPLIwaa0Nnf"
      },
      "source": [
        "from pyspark.ml.classification import NaiveBayes\n",
        "# Create a Naive Bayes model and fit training data\n",
        "nb = NaiveBayes()\n",
        "predictor = nb.fit(training)"
      ],
      "execution_count": 12,
      "outputs": []
    },
    {
      "cell_type": "code",
      "metadata": {
        "id": "jHb4DHem0Np9",
        "outputId": "a56d6518-3054-4ad3-b7a3-cc42f3f08584",
        "colab": {
          "base_uri": "https://localhost:8080/"
        }
      },
      "source": [
        "# Transform the data with the testing data\n",
        "test_results = predictor.transform(testing)\n",
        "test_results.show(10)"
      ],
      "execution_count": 13,
      "outputs": [
        {
          "output_type": "stream",
          "text": [
            "+---+--------------------+----------------------------+-----------+-------------+-----------+--------------------+--------------------+---------------------------------+-----------------------+--------------------+---------------------------------+------------------------------------------+--------------+--------------------+-----------------+------+-----+--------------------+--------------------+--------------------+--------------------+--------------------+--------------------+--------------------+----------+\n",
            "| Id|       Hotel_Address|Additional_Number_of_Scoring|Review_Date|Average_Score| Hotel_Name|Reviewer_Nationality|     Negative_Review|Review_Total_Negative_Word_Counts|Total_Number_of_Reviews|     Positive_Review|Review_Total_Positive_Word_Counts|Total_Number_of_Reviews_Reviewer_Has_Given|Reviewer_Score|                Tags|days_since_review|length|label|          token_text|         stop_tokens|          hash_token|           idf_token|            features|       rawPrediction|         probability|prediction|\n",
            "+---+--------------------+----------------------------+-----------+-------------+-----------+--------------------+--------------------+---------------------------------+-----------------------+--------------------+---------------------------------+------------------------------------------+--------------+--------------------+-----------------+------+-----+--------------------+--------------------+--------------------+--------------------+--------------------+--------------------+--------------------+----------+\n",
            "|  4| s Gravesandestra...|                         194| 2017-07-24|          7.7|Hotel Arena|        New Zealand | You When I booke...|                              140|                   1403| Amazing location...|                                8|                                         3|           6.7|[' Leisure trip '...|          10 days|    48|  8.0|[, amazing, locat...|[, amazing, locat...|(262144,[73341,90...|(262144,[73341,90...|(262145,[73341,90...|[-322.36504211506...|[0.99999999999973...|       0.0|\n",
            "| 11| s Gravesandestra...|                         194| 2017-07-06|          7.7|Hotel Arena|             France | 6 30 AM started ...|                               75|                   1403| Style location r...|                                4|                                        12|           5.8|[' Business trip ...|          28 days|    21| 10.0|[, style, locatio...|[, style, locatio...|(262144,[73341,12...|(262144,[73341,12...|(262145,[73341,12...|[-140.07645601369...|[0.02077888230114...|       1.0|\n",
            "| 21| s Gravesandestra...|                         194| 2017-06-12|          7.7|Hotel Arena|             France | Our room was an ...|                               92|                   1403| The breakfast wa...|                               75|                                        12|           3.8|[' Couple ', ' Du...|          52 days|   392| 15.0|[, the, breakfast...|[, breakfast, pos...|(262144,[6213,153...|(262144,[6213,153...|(262145,[6213,153...|[-2556.7354469414...|[1.0,1.8063205576...|       0.0|\n",
            "| 27| s Gravesandestra...|                         194| 2017-05-22|          7.7|Hotel Arena|             France | Careful they are...|                               31|                   1403| Great hotel orig...|                                6|                                        25|           8.3|[' Business trip ...|          73 days|    35|  4.0|[, great, hotel, ...|[, great, hotel, ...|(262144,[91031,11...|(262144,[91031,11...|(262145,[91031,11...|[-314.36876198336...|[0.66839430564719...|       0.0|\n",
            "| 36| s Gravesandestra...|                         194| 2017-04-26|          7.7|Hotel Arena|            Ireland | not cleaned well...|                               18|                   1403| the building mee...|                               11|                                         5|           7.1|[' Business trip ...|          99 days|    56|  7.0|[, the, building,...|[, building, meet...|(262144,[71826,78...|(262144,[71826,78...|(262145,[71826,78...|[-396.61745453988...|[0.99999557551889...|       0.0|\n",
            "| 37| s Gravesandestra...|                         194| 2017-04-20|          7.7|Hotel Arena|             Russia | The glass wall s...|                               29|                   1403| Very nice hotel ...|                               56|                                        85|           8.8|[' Leisure trip '...|          105 day|   271|  3.0|[, very, nice, ho...|[, nice, hotel, l...|(262144,[21641,22...|(262144,[21641,22...|(262145,[21641,22...|[-1965.4779683738...|[1.0,1.2513055546...|       0.0|\n",
            "| 39| s Gravesandestra...|                         194| 2017-04-19|          7.7|Hotel Arena|             Canada | Staff a few were...|                              122|                   1403| Location on the ...|                               15|                                         1|           6.3|[' Leisure trip '...|          106 day|    67|  9.0|[, location, on, ...|[, location, park...|(262144,[41421,71...|(262144,[41421,71...|(262145,[41421,71...|[-370.21488036388...|[0.99999999999994...|       0.0|\n",
            "| 40| s Gravesandestra...|                         194| 2017-04-18|          7.7|Hotel Arena|            Germany | Several parts of...|                               63|                   1403| The hotel is nic...|                               41|                                        26|           7.5|[' Leisure trip '...|          107 day|   235|  5.0|[, the, hotel, is...|[, hotel, nicely,...|(262144,[15585,32...|(262144,[15585,32...|(262145,[15585,32...|[-1370.5923871696...|[1.0,5.7776568743...|       0.0|\n",
            "| 47| s Gravesandestra...|                         194| 2017-03-29|          7.7|Hotel Arena|     United Kingdom | The hotel is a l...|                               41|                   1403| The hotel looks ...|                               32|                                         2|           8.3|[' Leisure trip '...|          127 day|   159|  4.0|[, the, hotel, lo...|[, hotel, looks, ...|(262144,[5561,216...|(262144,[5561,216...|(262145,[5561,216...|[-971.54061371129...|[1.0,6.3686320143...|       0.0|\n",
            "| 52| s Gravesandestra...|                         194| 2017-03-18|          7.7|Hotel Arena|        Netherlands | I loved everything |                                5|                   1403| The location in ...|                               65|                                        34|          10.0|[' Leisure trip '...|          138 day|   350|  0.0|[, the, location,...|[, location, quie...|(262144,[9284,286...|(262144,[9284,286...|(262145,[9284,286...|[-2224.2047377403...|[1.0,2.9498285269...|       0.0|\n",
            "+---+--------------------+----------------------------+-----------+-------------+-----------+--------------------+--------------------+---------------------------------+-----------------------+--------------------+---------------------------------+------------------------------------------+--------------+--------------------+-----------------+------+-----+--------------------+--------------------+--------------------+--------------------+--------------------+--------------------+--------------------+----------+\n",
            "only showing top 10 rows\n",
            "\n"
          ],
          "name": "stdout"
        }
      ]
    },
    {
      "cell_type": "code",
      "metadata": {
        "id": "shc-i0sR0NxL",
        "outputId": "5bc4bd78-39e0-42c6-ec4a-c8e06b4fdfb9",
        "colab": {
          "base_uri": "https://localhost:8080/"
        }
      },
      "source": [
        "# Use the Class Evaluator for a cleaner description\n",
        "from pyspark.ml.evaluation import MulticlassClassificationEvaluator\n",
        "\n",
        "acc_eval = MulticlassClassificationEvaluator()\n",
        "acc = acc_eval.evaluate(test_results)\n",
        "print(\"Accuracy of model at predicting reviews was: %f\" %acc)"
      ],
      "execution_count": 14,
      "outputs": [
        {
          "output_type": "stream",
          "text": [
            "Accuracy of model at predicting reviews was: 0.057089\n"
          ],
          "name": "stdout"
        }
      ]
    },
    {
      "cell_type": "code",
      "metadata": {
        "id": "s9Y6f72xxQ9p"
      },
      "source": [
        ""
      ],
      "execution_count": 14,
      "outputs": []
    }
  ]
}