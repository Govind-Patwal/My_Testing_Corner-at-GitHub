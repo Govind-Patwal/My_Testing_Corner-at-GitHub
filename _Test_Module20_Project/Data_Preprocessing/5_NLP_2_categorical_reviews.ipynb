{
 "cells": [
  {
   "cell_type": "code",
   "execution_count": 1,
   "metadata": {
    "colab": {
     "base_uri": "https://localhost:8080/"
    },
    "id": "CarnJEuzwP1B",
    "outputId": "b76083ed-d5df-42ca-db18-0757a70e9fbf"
   },
   "outputs": [
    {
     "name": "stdout",
     "output_type": "stream",
     "text": [
      "\r",
      "0% [Working]\r",
      "            \r",
      "Get:1 https://cloud.r-project.org/bin/linux/ubuntu bionic-cran40/ InRelease [3,626 B]\n",
      "\r",
      "0% [Waiting for headers] [Waiting for headers] [1 InRelease 3,626 B/3,626 B 100\r",
      "0% [Waiting for headers] [Waiting for headers] [Waiting for headers] [Waiting f\r",
      "                                                                               \r",
      "Ign:2 https://developer.download.nvidia.com/compute/cuda/repos/ubuntu1804/x86_64  InRelease\n",
      "Hit:3 http://archive.ubuntu.com/ubuntu bionic InRelease\n",
      "Get:4 http://security.ubuntu.com/ubuntu bionic-security InRelease [88.7 kB]\n",
      "Get:5 http://ppa.launchpad.net/c2d4u.team/c2d4u4.0+/ubuntu bionic InRelease [15.9 kB]\n",
      "Ign:6 https://developer.download.nvidia.com/compute/machine-learning/repos/ubuntu1804/x86_64  InRelease\n",
      "Get:7 https://developer.download.nvidia.com/compute/cuda/repos/ubuntu1804/x86_64  Release [697 B]\n",
      "Hit:8 https://developer.download.nvidia.com/compute/machine-learning/repos/ubuntu1804/x86_64  Release\n",
      "Get:9 https://developer.download.nvidia.com/compute/cuda/repos/ubuntu1804/x86_64  Release.gpg [836 B]\n",
      "Get:10 http://archive.ubuntu.com/ubuntu bionic-updates InRelease [88.7 kB]\n",
      "Get:11 http://ppa.launchpad.net/graphics-drivers/ppa/ubuntu bionic InRelease [21.3 kB]\n",
      "Get:12 https://cloud.r-project.org/bin/linux/ubuntu bionic-cran40/ Packages [40.3 kB]\n",
      "Get:13 http://archive.ubuntu.com/ubuntu bionic-backports InRelease [74.6 kB]\n",
      "Ign:15 https://developer.download.nvidia.com/compute/cuda/repos/ubuntu1804/x86_64  Packages\n",
      "Get:15 https://developer.download.nvidia.com/compute/cuda/repos/ubuntu1804/x86_64  Packages [405 kB]\n",
      "Get:16 http://ppa.launchpad.net/c2d4u.team/c2d4u4.0+/ubuntu bionic/main Sources [1,688 kB]\n",
      "Get:17 http://security.ubuntu.com/ubuntu bionic-security/main amd64 Packages [1,750 kB]\n",
      "Get:18 http://archive.ubuntu.com/ubuntu bionic-updates/main amd64 Packages [2,167 kB]\n",
      "Get:19 http://security.ubuntu.com/ubuntu bionic-security/universe amd64 Packages [1,354 kB]\n",
      "Get:20 http://ppa.launchpad.net/c2d4u.team/c2d4u4.0+/ubuntu bionic/main amd64 Packages [864 kB]\n",
      "Get:21 http://archive.ubuntu.com/ubuntu bionic-updates/universe amd64 Packages [2,119 kB]\n",
      "Get:22 http://ppa.launchpad.net/graphics-drivers/ppa/ubuntu bionic/main amd64 Packages [48.9 kB]\n",
      "Fetched 10.7 MB in 3s (3,420 kB/s)\n",
      "Reading package lists... Done\n"
     ]
    }
   ],
   "source": [
    "import os\n",
    "# Find the latest version of spark 3.0  from http://www-us.apache.org/dist/spark/ and enter as the spark version\n",
    "# For example:\n",
    "# spark_version = 'spark-3.0.1'\n",
    "spark_version = 'spark-3.0.1'\n",
    "os.environ['SPARK_VERSION']=spark_version\n",
    "\n",
    "# Install Spark and Java\n",
    "!apt-get update\n",
    "!apt-get install openjdk-11-jdk-headless -qq > /dev/null\n",
    "!wget -q http://www-us.apache.org/dist/spark/$SPARK_VERSION/$SPARK_VERSION-bin-hadoop2.7.tgz\n",
    "!tar xf $SPARK_VERSION-bin-hadoop2.7.tgz\n",
    "!pip install -q findspark\n",
    "\n",
    "# Set Environment Variables\n",
    "import os\n",
    "os.environ[\"JAVA_HOME\"] = \"/usr/lib/jvm/java-11-openjdk-amd64\"\n",
    "os.environ[\"SPARK_HOME\"] = f\"/content/{spark_version}-bin-hadoop2.7\"\n",
    "\n",
    "# Start a SparkSession\n",
    "import findspark\n",
    "findspark.init()"
   ]
  },
  {
   "cell_type": "code",
   "execution_count": 2,
   "metadata": {
    "id": "lZilGKyDwUV_"
   },
   "outputs": [],
   "source": [
    "# Start Spark session\n",
    "from pyspark.sql import SparkSession\n",
    "spark = SparkSession.builder.appName(\"Yelp_NLP\").getOrCreate()"
   ]
  },
  {
   "cell_type": "code",
   "execution_count": 3,
   "metadata": {
    "colab": {
     "base_uri": "https://localhost:8080/"
    },
    "id": "lOu9ay3cwZX9",
    "outputId": "8fc6410d-df71-4a04-c7a7-9e0106833195"
   },
   "outputs": [
    {
     "name": "stdout",
     "output_type": "stream",
     "text": [
      "+---+--------------------+----------------------------+-----------+-------------+-----------+--------------------+--------------------+---------------------------------+-----------------------+--------------------+---------------------------------+------------------------------------------+--------------+--------------------+-----------------+--------------------+------------+\n",
      "| Id|       Hotel_Address|Additional_Number_of_Scoring|Review_Date|Average_Score| Hotel_Name|Reviewer_Nationality|     Negative_Review|Review_Total_Negative_Word_Counts|Total_Number_of_Reviews|     Positive_Review|Review_Total_Positive_Word_Counts|Total_Number_of_Reviews_Reviewer_Has_Given|Reviewer_Score|                Tags|days_since_review|     Combined_Review|Review_Class|\n",
      "+---+--------------------+----------------------------+-----------+-------------+-----------+--------------------+--------------------+---------------------------------+-----------------------+--------------------+---------------------------------+------------------------------------------+--------------+--------------------+-----------------+--------------------+------------+\n",
      "|  0| s Gravesandestra...|                         194|   8/3/2017|          7.7|Hotel Arena|             Russia | I am so angry th...|                              397|                   1403| Only the park ou...|                               11|                                         7|           2.9|[' Leisure trip '...|           0 days| I am so angry th...|    negative|\n",
      "|  1| s Gravesandestra...|                         194|   8/3/2017|          7.7|Hotel Arena|            Ireland |                null|                                0|                   1403| No real complain...|                              105|                                         7|           7.5|[' Leisure trip '...|           0 days| No real complain...|    positive|\n",
      "|  2| s Gravesandestra...|                         194|  7/31/2017|          7.7|Hotel Arena|          Australia | Rooms are nice b...|                               42|                   1403| Location was goo...|                               21|                                         9|           7.1|[' Leisure trip '...|           3 days| Rooms are nice b...|    positive|\n",
      "|  3| s Gravesandestra...|                         194|  7/31/2017|          7.7|Hotel Arena|     United Kingdom | My room was dirt...|                              210|                   1403| Great location i...|                               26|                                         1|           3.8|[' Leisure trip '...|           3 days| My room was dirt...|    negative|\n",
      "|  4| s Gravesandestra...|                         194|  7/24/2017|          7.7|Hotel Arena|        New Zealand | You When I booke...|                              140|                   1403| Amazing location...|                                8|                                         3|           6.7|[' Leisure trip '...|          10 days| You When I booke...|    positive|\n",
      "|  5| s Gravesandestra...|                         194|  7/24/2017|          7.7|Hotel Arena|             Poland | Backyard of the ...|                               17|                   1403| Good restaurant ...|                               20|                                         1|           6.7|[' Leisure trip '...|          10 days| Backyard of the ...|    positive|\n",
      "|  6| s Gravesandestra...|                         194|  7/17/2017|          7.7|Hotel Arena|     United Kingdom | Cleaner did not ...|                               33|                   1403| The room is spac...|                               18|                                         6|           4.6|[' Leisure trip '...|          17 days| Cleaner did not ...|    negative|\n",
      "|  7| s Gravesandestra...|                         194|  7/17/2017|          7.7|Hotel Arena|     United Kingdom | Apart from the p...|                               11|                   1403| Good location Se...|                               19|                                         1|          10.0|[' Leisure trip '...|          17 days| Apart from the p...|    positive|\n",
      "|  8| s Gravesandestra...|                         194|   7/9/2017|          7.7|Hotel Arena|            Belgium | Even though the ...|                               34|                   1403|                null|                                0|                                         3|           6.5|[' Leisure trip '...|          25 days| Even though the ...|    positive|\n",
      "|  9| s Gravesandestra...|                         194|   7/8/2017|          7.7|Hotel Arena|             Norway | The aircondition...|                               15|                   1403| The room was big...|                               50|                                         1|           7.9|[' Leisure trip '...|          26 days| The aircondition...|    positive|\n",
      "| 10| s Gravesandestra...|                         194|   7/7/2017|          7.7|Hotel Arena|     United Kingdom |  Nothing all great |                                5|                   1403| Rooms were stunn...|                              101|                                         2|          10.0|[' Leisure trip '...|          27 days| Nothing all grea...|    positive|\n",
      "| 11| s Gravesandestra...|                         194|   7/6/2017|          7.7|Hotel Arena|             France | 6 30 AM started ...|                               75|                   1403| Style location r...|                                4|                                        12|           5.8|[' Business trip ...|          28 days| 6 30 AM started ...|    positive|\n",
      "| 12| s Gravesandestra...|                         194|   7/6/2017|          7.7|Hotel Arena|     United Kingdom | The floor in my ...|                               28|                   1403| Comfy bed good l...|                                6|                                         7|           4.6|[' Leisure trip '...|          28 days| The floor in my ...|    negative|\n",
      "| 13| s Gravesandestra...|                         194|   7/4/2017|          7.7|Hotel Arena|              Italy |                null|                                0|                   1403| This hotel is be...|                               59|                                         6|           9.2|[' Business trip ...|          30 days| This hotel is be...|    positive|\n",
      "| 14| s Gravesandestra...|                         194|   7/4/2017|          7.7|Hotel Arena|             Canada | The staff in the...|                               35|                   1403| It was very good...|                               15|                                         1|           8.8|[' Leisure trip '...|          30 days| The staff in the...|    positive|\n",
      "| 15| s Gravesandestra...|                         194|   7/3/2017|          7.7|Hotel Arena|              Italy |                null|                                0|                   1403| This hotel is aw...|                               82|                                        26|          10.0|[' Leisure trip '...|          31 days| This hotel is aw...|    positive|\n",
      "| 16| s Gravesandestra...|                         194|   7/3/2017|          7.7|Hotel Arena|     United Kingdom | Very steep steps...|                               38|                   1403| Great onsite caf...|                               14|                                         8|           6.3|[' Leisure trip '...|          31 days| Very steep steps...|    positive|\n",
      "| 17| s Gravesandestra...|                         194|  6/30/2017|          7.7|Hotel Arena|            Ireland | We did not like ...|                               59|                   1403| We loved the loc...|                               64|                                         2|           7.5|[' Leisure trip '...|          34 days| We did not like ...|    positive|\n",
      "| 18| s Gravesandestra...|                         194|  6/29/2017|          7.7|Hotel Arena|        Netherlands |                null|                                0|                   1403| Public areas are...|                               33|                                         4|           7.1|[' Business trip ...|          35 days| Public areas are...|    positive|\n",
      "| 19| s Gravesandestra...|                         194|  6/20/2017|          7.7|Hotel Arena|          Australia | We had issues wi...|                               73|                   1403| I liked the hote...|                               48|                                        16|           7.5|[' Leisure trip '...|          44 days| We had issues wi...|    positive|\n",
      "+---+--------------------+----------------------------+-----------+-------------+-----------+--------------------+--------------------+---------------------------------+-----------------------+--------------------+---------------------------------+------------------------------------------+--------------+--------------------+-----------------+--------------------+------------+\n",
      "only showing top 20 rows\n",
      "\n"
     ]
    }
   ],
   "source": [
    "# Read in data \n",
    "from pyspark import SparkFiles\n",
    "file_path = \"Sample_positive_negative_review_table.csv\"\n",
    "spark.sparkContext.addFile(file_path)\n",
    "df = spark.read.csv(SparkFiles.get(\"Sample_positive_negative_review_table.csv\"), sep=\",\", header=True)\n",
    "\n",
    "# Show DataFrame\n",
    "df.show()"
   ]
  },
  {
   "cell_type": "code",
   "execution_count": 4,
   "metadata": {
    "id": "sx5ryO5Bwe94"
   },
   "outputs": [],
   "source": [
    "# Import functions\n",
    "from pyspark.ml.feature import Tokenizer, StopWordsRemover, HashingTF, IDF, StringIndexer"
   ]
  },
  {
   "cell_type": "code",
   "execution_count": 5,
   "metadata": {
    "colab": {
     "base_uri": "https://localhost:8080/"
    },
    "id": "2Pf42Ru-woQ0",
    "outputId": "a7d0b7c2-8048-448c-d22d-08e505380cbd"
   },
   "outputs": [
    {
     "name": "stdout",
     "output_type": "stream",
     "text": [
      "+---+--------------------+----------------------------+-----------+-------------+-----------+--------------------+--------------------+---------------------------------+-----------------------+--------------------+---------------------------------+------------------------------------------+--------------+--------------------+-----------------+--------------------+------------+------+\n",
      "| Id|       Hotel_Address|Additional_Number_of_Scoring|Review_Date|Average_Score| Hotel_Name|Reviewer_Nationality|     Negative_Review|Review_Total_Negative_Word_Counts|Total_Number_of_Reviews|     Positive_Review|Review_Total_Positive_Word_Counts|Total_Number_of_Reviews_Reviewer_Has_Given|Reviewer_Score|                Tags|days_since_review|     Combined_Review|Review_Class|length|\n",
      "+---+--------------------+----------------------------+-----------+-------------+-----------+--------------------+--------------------+---------------------------------+-----------------------+--------------------+---------------------------------+------------------------------------------+--------------+--------------------+-----------------+--------------------+------------+------+\n",
      "|  0| s Gravesandestra...|                         194|   8/3/2017|          7.7|Hotel Arena|             Russia | I am so angry th...|                              397|                   1403| Only the park ou...|                               11|                                         7|           2.9|[' Leisure trip '...|           0 days| I am so angry th...|    negative|  1913|\n",
      "|  1| s Gravesandestra...|                         194|   8/3/2017|          7.7|Hotel Arena|            Ireland |                null|                                0|                   1403| No real complain...|                              105|                                         7|           7.5|[' Leisure trip '...|           0 days| No real complain...|    positive|   611|\n",
      "|  2| s Gravesandestra...|                         194|  7/31/2017|          7.7|Hotel Arena|          Australia | Rooms are nice b...|                               42|                   1403| Location was goo...|                               21|                                         9|           7.1|[' Leisure trip '...|           3 days| Rooms are nice b...|    positive|   301|\n",
      "|  3| s Gravesandestra...|                         194|  7/31/2017|          7.7|Hotel Arena|     United Kingdom | My room was dirt...|                              210|                   1403| Great location i...|                               26|                                         1|           3.8|[' Leisure trip '...|           3 days| My room was dirt...|    negative|  1221|\n",
      "|  4| s Gravesandestra...|                         194|  7/24/2017|          7.7|Hotel Arena|        New Zealand | You When I booke...|                              140|                   1403| Amazing location...|                                8|                                         3|           6.7|[' Leisure trip '...|          10 days| You When I booke...|    positive|   774|\n",
      "|  5| s Gravesandestra...|                         194|  7/24/2017|          7.7|Hotel Arena|             Poland | Backyard of the ...|                               17|                   1403| Good restaurant ...|                               20|                                         1|           6.7|[' Leisure trip '...|          10 days| Backyard of the ...|    positive|   186|\n",
      "|  6| s Gravesandestra...|                         194|  7/17/2017|          7.7|Hotel Arena|     United Kingdom | Cleaner did not ...|                               33|                   1403| The room is spac...|                               18|                                         6|           4.6|[' Leisure trip '...|          17 days| Cleaner did not ...|    negative|   235|\n",
      "|  7| s Gravesandestra...|                         194|  7/17/2017|          7.7|Hotel Arena|     United Kingdom | Apart from the p...|                               11|                   1403| Good location Se...|                               19|                                         1|          10.0|[' Leisure trip '...|          17 days| Apart from the p...|    positive|   157|\n",
      "|  8| s Gravesandestra...|                         194|   7/9/2017|          7.7|Hotel Arena|            Belgium | Even though the ...|                               34|                   1403|                null|                                0|                                         3|           6.5|[' Leisure trip '...|          25 days| Even though the ...|    positive|   162|\n",
      "|  9| s Gravesandestra...|                         194|   7/8/2017|          7.7|Hotel Arena|             Norway | The aircondition...|                               15|                   1403| The room was big...|                               50|                                         1|           7.9|[' Leisure trip '...|          26 days| The aircondition...|    positive|   312|\n",
      "| 10| s Gravesandestra...|                         194|   7/7/2017|          7.7|Hotel Arena|     United Kingdom |  Nothing all great |                                5|                   1403| Rooms were stunn...|                              101|                                         2|          10.0|[' Leisure trip '...|          27 days| Nothing all grea...|    positive|   568|\n",
      "| 11| s Gravesandestra...|                         194|   7/6/2017|          7.7|Hotel Arena|             France | 6 30 AM started ...|                               75|                   1403| Style location r...|                                4|                                        12|           5.8|[' Business trip ...|          28 days| 6 30 AM started ...|    positive|   430|\n",
      "| 12| s Gravesandestra...|                         194|   7/6/2017|          7.7|Hotel Arena|     United Kingdom | The floor in my ...|                               28|                   1403| Comfy bed good l...|                                6|                                         7|           4.6|[' Leisure trip '...|          28 days| The floor in my ...|    negative|   152|\n",
      "| 13| s Gravesandestra...|                         194|   7/4/2017|          7.7|Hotel Arena|              Italy |                null|                                0|                   1403| This hotel is be...|                               59|                                         6|           9.2|[' Business trip ...|          30 days| This hotel is be...|    positive|   329|\n",
      "| 14| s Gravesandestra...|                         194|   7/4/2017|          7.7|Hotel Arena|             Canada | The staff in the...|                               35|                   1403| It was very good...|                               15|                                         1|           8.8|[' Leisure trip '...|          30 days| The staff in the...|    positive|   229|\n",
      "| 15| s Gravesandestra...|                         194|   7/3/2017|          7.7|Hotel Arena|              Italy |                null|                                0|                   1403| This hotel is aw...|                               82|                                        26|          10.0|[' Leisure trip '...|          31 days| This hotel is aw...|    positive|   413|\n",
      "| 16| s Gravesandestra...|                         194|   7/3/2017|          7.7|Hotel Arena|     United Kingdom | Very steep steps...|                               38|                   1403| Great onsite caf...|                               14|                                         8|           6.3|[' Leisure trip '...|          31 days| Very steep steps...|    positive|   270|\n",
      "| 17| s Gravesandestra...|                         194|  6/30/2017|          7.7|Hotel Arena|            Ireland | We did not like ...|                               59|                   1403| We loved the loc...|                               64|                                         2|           7.5|[' Leisure trip '...|          34 days| We did not like ...|    positive|   623|\n",
      "| 18| s Gravesandestra...|                         194|  6/29/2017|          7.7|Hotel Arena|        Netherlands |                null|                                0|                   1403| Public areas are...|                               33|                                         4|           7.1|[' Business trip ...|          35 days| Public areas are...|    positive|   166|\n",
      "| 19| s Gravesandestra...|                         194|  6/20/2017|          7.7|Hotel Arena|          Australia | We had issues wi...|                               73|                   1403| I liked the hote...|                               48|                                        16|           7.5|[' Leisure trip '...|          44 days| We had issues wi...|    positive|   620|\n",
      "+---+--------------------+----------------------------+-----------+-------------+-----------+--------------------+--------------------+---------------------------------+-----------------------+--------------------+---------------------------------+------------------------------------------+--------------+--------------------+-----------------+--------------------+------------+------+\n",
      "only showing top 20 rows\n",
      "\n"
     ]
    }
   ],
   "source": [
    "from pyspark.sql.functions import length\n",
    "# Create a length column to be used as a future feature\n",
    "data_df = df.withColumn('length', length(df['Combined_Review']))\n",
    "data_df.show()"
   ]
  },
  {
   "cell_type": "code",
   "execution_count": 6,
   "metadata": {
    "id": "mnjC7sdrwyL0"
   },
   "outputs": [],
   "source": [
    "# Create all the features to the data set\n",
    "pos_neg_to_num = StringIndexer(inputCol='Review_Class',outputCol='label')\n",
    "tokenizer = Tokenizer(inputCol=\"Combined_Review\", outputCol=\"token_text\")\n",
    "stopremove = StopWordsRemover(inputCol='token_text',outputCol='stop_tokens')\n",
    "hashingTF = HashingTF(inputCol=\"stop_tokens\", outputCol='hash_token')\n",
    "idf = IDF(inputCol='hash_token', outputCol='idf_token')"
   ]
  },
  {
   "cell_type": "code",
   "execution_count": 7,
   "metadata": {
    "id": "StQhEWRw254y"
   },
   "outputs": [],
   "source": [
    "from pyspark.ml.feature import VectorAssembler\n",
    "from pyspark.ml.linalg import Vector\n",
    "# Create feature vectors\n",
    "clean_up = VectorAssembler(inputCols=['idf_token', 'length'], outputCol='features')"
   ]
  },
  {
   "cell_type": "code",
   "execution_count": 8,
   "metadata": {
    "id": "_pwTN86YzVPj"
   },
   "outputs": [],
   "source": [
    "# Create and run a data processing Pipeline\n",
    "from pyspark.ml import Pipeline\n",
    "data_prep_pipeline = Pipeline(stages=[pos_neg_to_num, tokenizer, stopremove, hashingTF, idf, clean_up])"
   ]
  },
  {
   "cell_type": "code",
   "execution_count": 9,
   "metadata": {
    "colab": {
     "base_uri": "https://localhost:8080/"
    },
    "id": "as1ctTNS0Nff",
    "outputId": "e919dffe-ee00-4dff-a0ad-c3c72083c31a"
   },
   "outputs": [
    {
     "name": "stdout",
     "output_type": "stream",
     "text": [
      "+-----+--------------------+\n",
      "|label|            features|\n",
      "+-----+--------------------+\n",
      "|  1.0|(262145,[2437,302...|\n",
      "|  0.0|(262145,[4714,514...|\n",
      "|  0.0|(262145,[22346,23...|\n",
      "|  1.0|(262145,[1797,230...|\n",
      "|  0.0|(262145,[14870,20...|\n",
      "|  0.0|(262145,[9781,304...|\n",
      "|  1.0|(262145,[21641,34...|\n",
      "|  0.0|(262145,[25789,43...|\n",
      "|  0.0|(262145,[22815,31...|\n",
      "|  0.0|(262145,[2437,216...|\n",
      "|  0.0|(262145,[9129,181...|\n",
      "|  0.0|(262145,[1696,383...|\n",
      "|  1.0|(262145,[1729,216...|\n",
      "|  0.0|(262145,[15370,23...|\n",
      "|  0.0|(262145,[6957,304...|\n",
      "|  0.0|(262145,[5765,218...|\n",
      "|  0.0|(262145,[3280,110...|\n",
      "|  0.0|(262145,[329,9129...|\n",
      "|  0.0|(262145,[11941,17...|\n",
      "|  0.0|(262145,[17435,21...|\n",
      "+-----+--------------------+\n",
      "only showing top 20 rows\n",
      "\n"
     ]
    }
   ],
   "source": [
    "# Fit and transform the pipeline\n",
    "cleaner = data_prep_pipeline.fit(data_df)\n",
    "cleaned = cleaner.transform(data_df)\n",
    "\n",
    "# Show \"Combined_Review\" and resulting features\n",
    "cleaned.select(['label', 'features']).show()"
   ]
  },
  {
   "cell_type": "code",
   "execution_count": 10,
   "metadata": {
    "id": "8Qe1rrGv0Nkn"
   },
   "outputs": [],
   "source": [
    "# Break data down into a training set and a testing set\n",
    "training, testing = cleaned.randomSplit([0.7, 0.3], 21)"
   ]
  },
  {
   "cell_type": "code",
   "execution_count": 11,
   "metadata": {
    "id": "CtPLIwaa0Nnf"
   },
   "outputs": [],
   "source": [
    "from pyspark.ml.classification import NaiveBayes\n",
    "# Create a Naive Bayes model and fit training data\n",
    "nb = NaiveBayes()\n",
    "predictor = nb.fit(training)"
   ]
  },
  {
   "cell_type": "code",
   "execution_count": 12,
   "metadata": {
    "colab": {
     "base_uri": "https://localhost:8080/"
    },
    "id": "jHb4DHem0Np9",
    "outputId": "c3899230-0cac-4004-cc0b-e7311ecbaea0"
   },
   "outputs": [
    {
     "name": "stdout",
     "output_type": "stream",
     "text": [
      "+---+--------------------+----------------------------+-----------+-------------+-----------+--------------------+--------------------+---------------------------------+-----------------------+--------------------+---------------------------------+------------------------------------------+--------------+--------------------+-----------------+--------------------+------------+------+-----+--------------------+--------------------+--------------------+--------------------+--------------------+--------------------+--------------------+----------+\n",
      "| Id|       Hotel_Address|Additional_Number_of_Scoring|Review_Date|Average_Score| Hotel_Name|Reviewer_Nationality|     Negative_Review|Review_Total_Negative_Word_Counts|Total_Number_of_Reviews|     Positive_Review|Review_Total_Positive_Word_Counts|Total_Number_of_Reviews_Reviewer_Has_Given|Reviewer_Score|                Tags|days_since_review|     Combined_Review|Review_Class|length|label|          token_text|         stop_tokens|          hash_token|           idf_token|            features|       rawPrediction|         probability|prediction|\n",
      "+---+--------------------+----------------------------+-----------+-------------+-----------+--------------------+--------------------+---------------------------------+-----------------------+--------------------+---------------------------------+------------------------------------------+--------------+--------------------+-----------------+--------------------+------------+------+-----+--------------------+--------------------+--------------------+--------------------+--------------------+--------------------+--------------------+----------+\n",
      "|101| s Gravesandestra...|                         194|  9/12/2016|          7.7|Hotel Arena|     United Kingdom | Hotel is having ...|                               56|                   1403| Location was ok ...|                               28|                                         5|           4.6|[' Business trip ...|          325 day| Hotel is having ...|    negative|   421|  1.0|[, hotel, is, hav...|[, hotel, constru...|(262144,[19192,21...|(262144,[19192,21...|(262145,[19192,21...|[-1850.6546724045...|           [1.0,0.0]|       0.0|\n",
      "|108| s Gravesandestra...|                         194|  7/20/2016|          7.7|Hotel Arena|     United Kingdom | There was a loud...|                               28|                   1403| The hotel is loc...|                               39|                                        14|           9.6|[' Leisure trip '...|          379 day| There was a loud...|    positive|   326|  0.0|[, there, was, a,...|[, loud, noise, o...|(262144,[21294,22...|(262144,[21294,22...|(262145,[21294,22...|[-1420.4618125234...|           [1.0,0.0]|       0.0|\n",
      "|117| s Gravesandestra...|                         194|  6/17/2016|          7.7|Hotel Arena|             Canada | The outside of t...|                               18|                   1403| The inside of th...|                               67|                                         2|           8.8|[' Leisure trip '...|          412 day| The outside of t...|    positive|   426|  0.0|[, the, outside, ...|[, outside, hotel...|(262144,[21641,22...|(262144,[21641,22...|(262145,[21641,22...|[-1654.1712148717...|           [1.0,0.0]|       0.0|\n",
      "|122| s Gravesandestra...|                         194|   6/1/2016|          7.7|Hotel Arena|         Luxembourg | The bathroom has...|                               21|                   1403| Well located if ...|                               12|                                         9|           4.2|[' Leisure trip '...|          428 day| The bathroom has...|    negative|   150|  1.0|[, the, bathroom,...|[, bathroom, cris...|(262144,[23071,33...|(262144,[23071,33...|(262145,[23071,33...|[-644.59417499129...|[1.0,2.0880321393...|       0.0|\n",
      "|130| s Gravesandestra...|                         194|   5/3/2016|          7.7|Hotel Arena|     United Kingdom | Two storey room ...|                               18|                   1403| Very helpful and...|                               21|                                         2|           7.9|[' Leisure trip '...|          457 day| Two storey room ...|    positive|   225|  0.0|[, two, storey, r...|[, two, storey, r...|(262144,[7748,125...|(262144,[7748,125...|(262145,[7748,125...|[-1402.9164433079...|[1.0,1.8277559898...|       0.0|\n",
      "|131| s Gravesandestra...|                         194|   5/3/2016|          7.7|Hotel Arena|        Netherlands | There was a stai...|                               38|                   1403| The hotel has it...|                               29|                                         7|           8.3|[' Leisure trip '...|          457 day| There was a stai...|    positive|   319|  0.0|[, there, was, a,...|[, staircase, roo...|(262144,[21641,21...|(262144,[21641,21...|(262145,[21641,21...|[-1241.0512855987...|           [1.0,0.0]|       0.0|\n",
      "|133| s Gravesandestra...|                         194|   5/1/2016|          7.7|Hotel Arena|     United Kingdom | First impression...|                               56|                   1403| Comfy beds we up...|                               38|                                         3|          10.0|[' Leisure trip '...|          459 day| First impression...|    positive|   504|  0.0|[, first, impress...|[, first, impress...|(262144,[9284,160...|(262144,[9284,160...|(262145,[9284,160...|[-2315.7775026401...|           [1.0,0.0]|       0.0|\n",
      "|134| s Gravesandestra...|                         194|   5/1/2016|          7.7|Hotel Arena|          Australia | Foyer was a mess...|                              180|                   1403|                null|                                0|                                         6|           4.6|[' Leisure trip '...|          459 day| Foyer was a mess...|    negative|   923|  1.0|[, foyer, was, a,...|[, foyer, mess, p...|(262144,[2564,100...|(262144,[2564,100...|(262145,[2564,100...|[-4668.4658274733...|           [1.0,0.0]|       0.0|\n",
      "|140| s Gravesandestra...|                         194|  4/22/2016|          7.7|Hotel Arena|     United Kingdom |                null|                                0|                   1403| Beautiful gothic...|                               40|                                         2|          10.0|[' Leisure trip '...|          468 day| Beautiful gothic...|    positive|   235|  0.0|[, beautiful, got...|[, beautiful, got...|(262144,[6501,912...|(262144,[6501,912...|(262145,[6501,912...|[-1189.3210092832...|[1.0,3.8908983786...|       0.0|\n",
      "|145| s Gravesandestra...|                         194|  4/12/2016|          7.7|Hotel Arena|     United Kingdom | Stairs in our ro...|                               30|                   1403| Hotel was very c...|                               13|                                         3|           9.6|[' Leisure trip '...|          478 day| Stairs in our ro...|    positive|   224|  0.0|[, stairs, in, ou...|[, stairs, room, ...|(262144,[329,9781...|(262144,[329,9781...|(262145,[329,9781...|[-1055.8342068350...|[1.0,7.6687657441...|       0.0|\n",
      "+---+--------------------+----------------------------+-----------+-------------+-----------+--------------------+--------------------+---------------------------------+-----------------------+--------------------+---------------------------------+------------------------------------------+--------------+--------------------+-----------------+--------------------+------------+------+-----+--------------------+--------------------+--------------------+--------------------+--------------------+--------------------+--------------------+----------+\n",
      "only showing top 10 rows\n",
      "\n"
     ]
    }
   ],
   "source": [
    "# Transform the data with the testing data\n",
    "test_results = predictor.transform(testing)\n",
    "test_results.show(10)"
   ]
  },
  {
   "cell_type": "code",
   "execution_count": 13,
   "metadata": {
    "colab": {
     "base_uri": "https://localhost:8080/"
    },
    "id": "shc-i0sR0NxL",
    "outputId": "bdf2d758-b0c3-4e91-cb57-fbc9ee557c11"
   },
   "outputs": [
    {
     "name": "stdout",
     "output_type": "stream",
     "text": [
      "Accuracy of model at predicting reviews was: 0.918457\n"
     ]
    }
   ],
   "source": [
    "# Use the Class Evaluator for a cleaner description\n",
    "from pyspark.ml.evaluation import MulticlassClassificationEvaluator\n",
    "\n",
    "acc_eval = MulticlassClassificationEvaluator()\n",
    "acc = acc_eval.evaluate(test_results)\n",
    "print(\"Accuracy of model at predicting reviews was: %f\" %acc)"
   ]
  },
  {
   "cell_type": "code",
   "execution_count": 13,
   "metadata": {
    "id": "s9Y6f72xxQ9p"
   },
   "outputs": [],
   "source": []
  }
 ],
 "metadata": {
  "colab": {
   "name": "5_NLP_2_categorical_reviews - Copy.ipynb",
   "provenance": []
  },
  "kernelspec": {
   "display_name": "Python 3",
   "language": "python",
   "name": "python3"
  },
  "language_info": {
   "codemirror_mode": {
    "name": "ipython",
    "version": 3
   },
   "file_extension": ".py",
   "mimetype": "text/x-python",
   "name": "python",
   "nbconvert_exporter": "python",
   "pygments_lexer": "ipython3",
   "version": "3.7.7"
  }
 },
 "nbformat": 4,
 "nbformat_minor": 1
}
