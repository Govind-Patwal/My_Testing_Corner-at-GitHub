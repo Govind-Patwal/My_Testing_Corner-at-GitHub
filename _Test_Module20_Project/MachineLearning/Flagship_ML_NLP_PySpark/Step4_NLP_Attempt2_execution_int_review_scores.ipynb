{
 "cells": [
  {
   "cell_type": "markdown",
   "metadata": {
    "id": "SIZfgdzXciMg"
   },
   "source": [
    "# This file runs on ***Google Colab***\n",
    "## Before running this file, the Data Source file needs to be placed at the same level as this file\n",
    "\n",
    "### Data file location: https://github.com/JagpreetBath/European_Hotel_Analysis/tree/main/DataFiles/TransformedData/tables/hotel_reviews_for_NLP2_int_review_score.csv"
   ]
  },
  {
   "cell_type": "code",
   "execution_count": 1,
   "metadata": {
    "colab": {
     "base_uri": "https://localhost:8080/"
    },
    "id": "CarnJEuzwP1B",
    "outputId": "b53dcb51-4366-41c8-c502-6268b015ffbc"
   },
   "outputs": [
    {
     "name": "stdout",
     "output_type": "stream",
     "text": [
      "\r",
      "0% [Working]\r",
      "            \r",
      "Hit:1 https://cloud.r-project.org/bin/linux/ubuntu bionic-cran40/ InRelease\n",
      "\r",
      "0% [Connecting to archive.ubuntu.com] [Connecting to security.ubuntu.com] [Conn\r",
      "0% [1 InRelease gpgv 3,626 B] [Connecting to archive.ubuntu.com (91.189.88.142)\r",
      "                                                                               \r",
      "Ign:2 https://developer.download.nvidia.com/compute/cuda/repos/ubuntu1804/x86_64  InRelease\n",
      "\r",
      "0% [1 InRelease gpgv 3,626 B] [Connecting to archive.ubuntu.com (91.189.88.142)\r",
      "                                                                               \r",
      "Ign:3 https://developer.download.nvidia.com/compute/machine-learning/repos/ubuntu1804/x86_64  InRelease\n",
      "\r",
      "0% [1 InRelease gpgv 3,626 B] [Connecting to archive.ubuntu.com (91.189.88.142)\r",
      "                                                                               \r",
      "Hit:4 https://developer.download.nvidia.com/compute/cuda/repos/ubuntu1804/x86_64  Release\n",
      "\r",
      "0% [1 InRelease gpgv 3,626 B] [Connecting to archive.ubuntu.com (91.189.88.142)\r",
      "                                                                               \r",
      "Hit:5 https://developer.download.nvidia.com/compute/machine-learning/repos/ubuntu1804/x86_64  Release\n",
      "Hit:6 http://ppa.launchpad.net/c2d4u.team/c2d4u4.0+/ubuntu bionic InRelease\n",
      "Hit:7 http://archive.ubuntu.com/ubuntu bionic InRelease\n",
      "Get:8 http://security.ubuntu.com/ubuntu bionic-security InRelease [88.7 kB]\n",
      "Hit:9 http://ppa.launchpad.net/graphics-drivers/ppa/ubuntu bionic InRelease\n",
      "Get:10 http://archive.ubuntu.com/ubuntu bionic-updates InRelease [88.7 kB]\n",
      "Get:13 http://archive.ubuntu.com/ubuntu bionic-backports InRelease [74.6 kB]\n",
      "Fetched 252 kB in 2s (142 kB/s)\n",
      "Reading package lists... Done\n"
     ]
    }
   ],
   "source": [
    "import os\n",
    "# Find the latest version of spark 3.0  from http://www-us.apache.org/dist/spark/ and enter as the spark version\n",
    "# For example:\n",
    "# spark_version = 'spark-3.0.1'\n",
    "spark_version = 'spark-3.0.1'\n",
    "os.environ['SPARK_VERSION']=spark_version\n",
    "\n",
    "# Install Spark and Java\n",
    "!apt-get update\n",
    "!apt-get install openjdk-11-jdk-headless -qq > /dev/null\n",
    "!wget -q http://www-us.apache.org/dist/spark/$SPARK_VERSION/$SPARK_VERSION-bin-hadoop2.7.tgz\n",
    "!tar xf $SPARK_VERSION-bin-hadoop2.7.tgz\n",
    "!pip install -q findspark\n",
    "\n",
    "# Set Environment Variables\n",
    "import os\n",
    "os.environ[\"JAVA_HOME\"] = \"/usr/lib/jvm/java-11-openjdk-amd64\"\n",
    "os.environ[\"SPARK_HOME\"] = f\"/content/{spark_version}-bin-hadoop2.7\"\n",
    "\n",
    "# Start a SparkSession\n",
    "import findspark\n",
    "findspark.init()"
   ]
  },
  {
   "cell_type": "code",
   "execution_count": 2,
   "metadata": {
    "id": "lZilGKyDwUV_"
   },
   "outputs": [],
   "source": [
    "# Start Spark session\n",
    "from pyspark.sql import SparkSession\n",
    "spark = SparkSession.builder.appName(\"PySpark_NLP_Attempt1\").getOrCreate()"
   ]
  },
  {
   "cell_type": "code",
   "execution_count": 3,
   "metadata": {
    "colab": {
     "base_uri": "https://localhost:8080/"
    },
    "id": "lOu9ay3cwZX9",
    "outputId": "7309eb47-af53-4240-9e87-0789adb29648"
   },
   "outputs": [
    {
     "name": "stdout",
     "output_type": "stream",
     "text": [
      "+--------------------+--------------+\n",
      "|              Review|Reviewer_Score|\n",
      "+--------------------+--------------+\n",
      "| I am so angry th...|             2|\n",
      "| No real complain...|             7|\n",
      "| Rooms are nice b...|             7|\n",
      "| My room was dirt...|             3|\n",
      "| You When I booke...|             6|\n",
      "| Backyard of the ...|             6|\n",
      "| Cleaner did not ...|             4|\n",
      "| Apart from the p...|            10|\n",
      "| Even though the ...|             6|\n",
      "| The aircondition...|             7|\n",
      "| Nothing all grea...|            10|\n",
      "| 6 30 AM started ...|             5|\n",
      "| The floor in my ...|             4|\n",
      "| This hotel is be...|             9|\n",
      "| The staff in the...|             8|\n",
      "| This hotel is aw...|            10|\n",
      "| Very steep steps...|             6|\n",
      "| We did not like ...|             7|\n",
      "| Public areas are...|             7|\n",
      "| We had issues wi...|             7|\n",
      "+--------------------+--------------+\n",
      "only showing top 20 rows\n",
      "\n"
     ]
    }
   ],
   "source": [
    "# Read in data \n",
    "from pyspark import SparkFiles\n",
    "file_path = \"hotel_reviews_for_NLP2_int_review_score.csv\"\n",
    "spark.sparkContext.addFile(file_path)\n",
    "df = spark.read.csv(SparkFiles.get(\"hotel_reviews_for_NLP2_int_review_score.csv\"), sep=\",\", header=True)\n",
    "\n",
    "# Show DataFrame\n",
    "df.show()"
   ]
  },
  {
   "cell_type": "code",
   "execution_count": 4,
   "metadata": {
    "id": "sx5ryO5Bwe94"
   },
   "outputs": [],
   "source": [
    "# Import functions\n",
    "from pyspark.ml.feature import Tokenizer, StopWordsRemover, HashingTF, IDF, StringIndexer"
   ]
  },
  {
   "cell_type": "code",
   "execution_count": 5,
   "metadata": {
    "colab": {
     "base_uri": "https://localhost:8080/"
    },
    "id": "2Pf42Ru-woQ0",
    "outputId": "1c96b71f-30e5-448c-89d7-3db95ee6e9b2"
   },
   "outputs": [
    {
     "name": "stdout",
     "output_type": "stream",
     "text": [
      "+--------------------+--------------+------+\n",
      "|              Review|Reviewer_Score|length|\n",
      "+--------------------+--------------+------+\n",
      "| I am so angry th...|             2|  1913|\n",
      "| No real complain...|             7|   611|\n",
      "| Rooms are nice b...|             7|   301|\n",
      "| My room was dirt...|             3|  1221|\n",
      "| You When I booke...|             6|   774|\n",
      "| Backyard of the ...|             6|   186|\n",
      "| Cleaner did not ...|             4|   235|\n",
      "| Apart from the p...|            10|   157|\n",
      "| Even though the ...|             6|   162|\n",
      "| The aircondition...|             7|   312|\n",
      "| Nothing all grea...|            10|   568|\n",
      "| 6 30 AM started ...|             5|   430|\n",
      "| The floor in my ...|             4|   152|\n",
      "| This hotel is be...|             9|   329|\n",
      "| The staff in the...|             8|   229|\n",
      "| This hotel is aw...|            10|   413|\n",
      "| Very steep steps...|             6|   270|\n",
      "| We did not like ...|             7|   623|\n",
      "| Public areas are...|             7|   166|\n",
      "| We had issues wi...|             7|   620|\n",
      "+--------------------+--------------+------+\n",
      "only showing top 20 rows\n",
      "\n"
     ]
    }
   ],
   "source": [
    "from pyspark.sql.functions import length\n",
    "# Create a length column to be used as a future feature\n",
    "data_df = df.withColumn('length', length(df['Review']))\n",
    "data_df.show()"
   ]
  },
  {
   "cell_type": "code",
   "execution_count": 6,
   "metadata": {
    "id": "mnjC7sdrwyL0"
   },
   "outputs": [],
   "source": [
    "# Create all the features to the data set\n",
    "convert_review_output_to_numbers = StringIndexer(inputCol='Reviewer_Score',outputCol='label')\n",
    "tokenizer = Tokenizer(inputCol=\"Review\", outputCol=\"token_text\")\n",
    "stopremove = StopWordsRemover(inputCol='token_text',outputCol='stop_tokens')\n",
    "hashingTF = HashingTF(inputCol=\"stop_tokens\", outputCol='hash_token')\n",
    "idf = IDF(inputCol='hash_token', outputCol='idf_token')"
   ]
  },
  {
   "cell_type": "code",
   "execution_count": 7,
   "metadata": {
    "id": "StQhEWRw254y"
   },
   "outputs": [],
   "source": [
    "from pyspark.ml.feature import VectorAssembler\n",
    "from pyspark.ml.linalg import Vector\n",
    "# Create feature vectors\n",
    "clean_up = VectorAssembler(inputCols=['idf_token', 'length'], outputCol='features')"
   ]
  },
  {
   "cell_type": "code",
   "execution_count": 8,
   "metadata": {
    "id": "_pwTN86YzVPj"
   },
   "outputs": [],
   "source": [
    "# Create and run a data processing Pipeline\n",
    "from pyspark.ml import Pipeline\n",
    "data_prep_pipeline = Pipeline(stages=[convert_review_output_to_numbers, tokenizer, stopremove, hashingTF, idf, clean_up])"
   ]
  },
  {
   "cell_type": "code",
   "execution_count": 9,
   "metadata": {
    "colab": {
     "base_uri": "https://localhost:8080/"
    },
    "id": "as1ctTNS0Nff",
    "outputId": "b90d6c0a-4e90-402b-e020-5149b3c11d94"
   },
   "outputs": [
    {
     "name": "stdout",
     "output_type": "stream",
     "text": [
      "+-----+--------------------+\n",
      "|label|            features|\n",
      "+-----+--------------------+\n",
      "|  8.0|(262145,[2437,302...|\n",
      "|  2.0|(262145,[4714,514...|\n",
      "|  2.0|(262145,[22346,23...|\n",
      "|  7.0|(262145,[1797,230...|\n",
      "|  4.0|(262145,[14870,20...|\n",
      "|  4.0|(262145,[9781,304...|\n",
      "|  6.0|(262145,[21641,34...|\n",
      "|  1.0|(262145,[25789,43...|\n",
      "|  4.0|(262145,[22815,31...|\n",
      "|  2.0|(262145,[2437,216...|\n",
      "|  1.0|(262145,[9129,181...|\n",
      "|  5.0|(262145,[1696,383...|\n",
      "|  6.0|(262145,[1729,216...|\n",
      "|  0.0|(262145,[15370,23...|\n",
      "|  3.0|(262145,[6957,304...|\n",
      "|  1.0|(262145,[5765,218...|\n",
      "|  4.0|(262145,[3280,110...|\n",
      "|  2.0|(262145,[329,9129...|\n",
      "|  2.0|(262145,[11941,17...|\n",
      "|  2.0|(262145,[17435,21...|\n",
      "+-----+--------------------+\n",
      "only showing top 20 rows\n",
      "\n"
     ]
    }
   ],
   "source": [
    "# Fit and transform the pipeline\n",
    "cleaner = data_prep_pipeline.fit(data_df)\n",
    "cleaned = cleaner.transform(data_df)\n",
    "\n",
    "# Show \"Combined_Review\" and resulting features\n",
    "cleaned.select(['label', 'features']).show()"
   ]
  },
  {
   "cell_type": "code",
   "execution_count": 10,
   "metadata": {
    "id": "8Qe1rrGv0Nkn"
   },
   "outputs": [],
   "source": [
    "# Break data down into a training set and a testing set\n",
    "training, testing = cleaned.randomSplit([0.7, 0.3], 21)"
   ]
  },
  {
   "cell_type": "code",
   "execution_count": 11,
   "metadata": {
    "id": "CtPLIwaa0Nnf"
   },
   "outputs": [],
   "source": [
    "from pyspark.ml.classification import NaiveBayes\n",
    "# Create a Naive Bayes model and fit training data\n",
    "nb = NaiveBayes()\n",
    "predictor = nb.fit(training)"
   ]
  },
  {
   "cell_type": "code",
   "execution_count": 12,
   "metadata": {
    "colab": {
     "base_uri": "https://localhost:8080/"
    },
    "id": "jHb4DHem0Np9",
    "outputId": "75fb98bd-2c0f-4baf-a75c-c8cc6f2aa844"
   },
   "outputs": [
    {
     "name": "stdout",
     "output_type": "stream",
     "text": [
      "+--------------------+--------------+------+-----+--------------------+--------------------+--------------------+--------------------+--------------------+--------------------+--------------------+----------+\n",
      "|              Review|Reviewer_Score|length|label|          token_text|         stop_tokens|          hash_token|           idf_token|            features|       rawPrediction|         probability|prediction|\n",
      "+--------------------+--------------+------+-----+--------------------+--------------------+--------------------+--------------------+--------------------+--------------------+--------------------+----------+\n",
      "| A bit noisy You ...|             8|   429|  3.0|[, a, bit, noisy,...|[, bit, noisy, he...|(262144,[9781,216...|(262144,[9781,216...|(262145,[9781,216...|[-2613.6665944248...|[1.0,6.9364358196...|       0.0|\n",
      "| A very well orga...|             8|   123|  3.0|[, a, very, well,...|[, well, organise...|(262144,[6346,732...|(262144,[6346,732...|(262145,[6346,732...|[-521.52164571064...|[0.99999999999970...|       0.0|\n",
      "| All the staff wh...|             9|   120|  0.0|[, all, the, staf...|[, staff, friendl...|(262144,[59317,78...|(262144,[59317,78...|(262145,[59317,78...|[-436.37568841236...|[0.99999999999973...|       0.0|\n",
      "| Arena hotel is l...|             6|   538|  4.0|[, arena, hotel, ...|[, arena, hotel, ...|(262144,[6346,978...|(262144,[6346,978...|(262145,[6346,978...|[-3326.8981599272...|[1.0,3.5054691798...|       0.0|\n",
      "| Basically everyt...|             9|   420|  0.0|[, basically, eve...|[, basically, eve...|(262144,[12035,22...|(262144,[12035,22...|(262145,[12035,22...|[-2131.5595305101...|[1.0,9.7346831002...|       0.0|\n",
      "| Bath wasn t clea...|             6|    98|  4.0|[, bath, wasn, t,...|[, bath, wasn, cl...|(262144,[22346,44...|(262144,[22346,44...|(262145,[22346,44...|[-582.21775177052...|[0.99999572659112...|       0.0|\n",
      "| Bathroom lightin...|             7|   501|  2.0|[, bathroom, ligh...|[, bathroom, ligh...|(262144,[8408,125...|(262144,[8408,125...|(262145,[8408,125...|[-2874.6856297868...|[1.0,4.3686810496...|       0.0|\n",
      "| Bathroom smell T...|             3|    64|  7.0|[, bathroom, smel...|[, bathroom, smel...|(262144,[21086,41...|(262144,[21086,41...|(262145,[21086,41...|[-371.45622819542...|[0.99998786397975...|       0.0|\n",
      "| Bathrooms were t...|             6|    61|  4.0|[, bathrooms, wer...|[, bathrooms, tin...|(262144,[54425,55...|(262144,[54425,55...|(262145,[54425,55...|[-378.43084103947...|[0.99999909476228...|       0.0|\n",
      "| Beautiful hotel ...|             9|    95|  0.0|[, beautiful, hot...|[, beautiful, hot...|(262144,[43756,69...|(262144,[43756,69...|(262145,[43756,69...|[-546.17414296485...|[0.99999355737074...|       0.0|\n",
      "+--------------------+--------------+------+-----+--------------------+--------------------+--------------------+--------------------+--------------------+--------------------+--------------------+----------+\n",
      "only showing top 10 rows\n",
      "\n"
     ]
    }
   ],
   "source": [
    "# Transform the data with the testing data\n",
    "test_results = predictor.transform(testing)\n",
    "test_results.show(10)"
   ]
  },
  {
   "cell_type": "code",
   "execution_count": 13,
   "metadata": {
    "colab": {
     "base_uri": "https://localhost:8080/"
    },
    "id": "shc-i0sR0NxL",
    "outputId": "199158a0-cea1-4f98-ef74-d2dc16fa536d"
   },
   "outputs": [
    {
     "name": "stdout",
     "output_type": "stream",
     "text": [
      "Accuracy of model at predicting reviews was: 0.118251\n"
     ]
    }
   ],
   "source": [
    "# Use the Class Evaluator for a cleaner description\n",
    "from pyspark.ml.evaluation import MulticlassClassificationEvaluator\n",
    "\n",
    "acc_eval = MulticlassClassificationEvaluator()\n",
    "acc = acc_eval.evaluate(test_results)\n",
    "print(\"Accuracy of model at predicting reviews was: %f\" %acc)"
   ]
  },
  {
   "cell_type": "code",
   "execution_count": 13,
   "metadata": {
    "id": "s9Y6f72xxQ9p"
   },
   "outputs": [],
   "source": []
  }
 ],
 "metadata": {
  "colab": {
   "collapsed_sections": [],
   "name": "5_NLP_2_categorical_reviews - Copy.ipynb",
   "provenance": []
  },
  "kernelspec": {
   "display_name": "Python 3",
   "language": "python",
   "name": "python3"
  },
  "language_info": {
   "codemirror_mode": {
    "name": "ipython",
    "version": 3
   },
   "file_extension": ".py",
   "mimetype": "text/x-python",
   "name": "python",
   "nbconvert_exporter": "python",
   "pygments_lexer": "ipython3",
   "version": "3.7.7"
  }
 },
 "nbformat": 4,
 "nbformat_minor": 1
}
