{
 "cells": [
  {
   "cell_type": "markdown",
   "metadata": {
    "id": "SIZfgdzXciMg"
   },
   "source": [
    "# This file runs best on ***Google Colab***\n",
    "## Before running this file, the Data Source file needs to be placed at the same level as this file\n",
    "\n",
    "### Data file location: https://github.com/JagpreetBath/European_Hotel_Analysis/tree/main/DataFiles/TransformedData/tables/hotel_reviews_for_NLP1_float_review_score.csv"
   ]
  },
  {
   "cell_type": "code",
   "execution_count": 1,
   "metadata": {
    "colab": {
     "base_uri": "https://localhost:8080/"
    },
    "id": "CarnJEuzwP1B",
    "outputId": "876f7ad0-4a5a-4af8-c9d3-7e067a338f5d"
   },
   "outputs": [
    {
     "name": "stdout",
     "output_type": "stream",
     "text": [
      "\r",
      "0% [Working]\r",
      "            \r",
      "Get:1 http://security.ubuntu.com/ubuntu bionic-security InRelease [88.7 kB]\n",
      "\r",
      "0% [Connecting to archive.ubuntu.com (91.189.88.152)] [1 InRelease 14.2 kB/88.7\r",
      "                                                                               \r",
      "Hit:2 https://cloud.r-project.org/bin/linux/ubuntu bionic-cran40/ InRelease\n",
      "\r",
      "0% [Connecting to archive.ubuntu.com (91.189.88.152)] [1 InRelease 14.2 kB/88.7\r",
      "0% [2 InRelease gpgv 3,626 B] [Connecting to archive.ubuntu.com (91.189.88.152)\r",
      "                                                                               \r",
      "Ign:3 https://developer.download.nvidia.com/compute/cuda/repos/ubuntu1804/x86_64  InRelease\n",
      "\r",
      "0% [2 InRelease gpgv 3,626 B] [Connecting to archive.ubuntu.com (91.189.88.152)\r",
      "0% [2 InRelease gpgv 3,626 B] [Waiting for headers] [Waiting for headers] [Wait\r",
      "                                                                               \r",
      "Ign:4 https://developer.download.nvidia.com/compute/machine-learning/repos/ubuntu1804/x86_64  InRelease\n",
      "\r",
      "                                                                               \r",
      "0% [2 InRelease gpgv 3,626 B] [Waiting for headers] [Waiting for headers]\r",
      "                                                                         \r",
      "Hit:5 https://developer.download.nvidia.com/compute/cuda/repos/ubuntu1804/x86_64  Release\n",
      "\r",
      "0% [2 InRelease gpgv 3,626 B] [Waiting for headers] [Waiting for headers]\r",
      "                                                                         \r",
      "Hit:6 https://developer.download.nvidia.com/compute/machine-learning/repos/ubuntu1804/x86_64  Release\n",
      "Hit:7 http://ppa.launchpad.net/c2d4u.team/c2d4u4.0+/ubuntu bionic InRelease\n",
      "Hit:8 http://archive.ubuntu.com/ubuntu bionic InRelease\n",
      "Get:9 http://archive.ubuntu.com/ubuntu bionic-updates InRelease [88.7 kB]\n",
      "Hit:10 http://ppa.launchpad.net/graphics-drivers/ppa/ubuntu bionic InRelease\n",
      "Get:12 http://archive.ubuntu.com/ubuntu bionic-backports InRelease [74.6 kB]\n",
      "Fetched 252 kB in 2s (151 kB/s)\n",
      "Reading package lists... Done\n"
     ]
    }
   ],
   "source": [
    "import os\n",
    "# Find the latest version of spark 3.0  from http://www-us.apache.org/dist/spark/ and enter as the spark version\n",
    "# For example:\n",
    "# spark_version = 'spark-3.0.1'\n",
    "spark_version = 'spark-3.0.1'\n",
    "os.environ['SPARK_VERSION']=spark_version\n",
    "\n",
    "# Install Spark and Java\n",
    "!apt-get update\n",
    "!apt-get install openjdk-11-jdk-headless -qq > /dev/null\n",
    "!wget -q http://www-us.apache.org/dist/spark/$SPARK_VERSION/$SPARK_VERSION-bin-hadoop2.7.tgz\n",
    "!tar xf $SPARK_VERSION-bin-hadoop2.7.tgz\n",
    "!pip install -q findspark\n",
    "\n",
    "# Set Environment Variables\n",
    "import os\n",
    "os.environ[\"JAVA_HOME\"] = \"/usr/lib/jvm/java-11-openjdk-amd64\"\n",
    "os.environ[\"SPARK_HOME\"] = f\"/content/{spark_version}-bin-hadoop2.7\"\n",
    "\n",
    "# Start a SparkSession\n",
    "import findspark\n",
    "findspark.init()"
   ]
  },
  {
   "cell_type": "code",
   "execution_count": 2,
   "metadata": {
    "id": "lZilGKyDwUV_"
   },
   "outputs": [],
   "source": [
    "# Start Spark session\n",
    "from pyspark.sql import SparkSession\n",
    "spark = SparkSession.builder.appName(\"PySpark_NLP_Attempt1\").getOrCreate()"
   ]
  },
  {
   "cell_type": "code",
   "execution_count": 3,
   "metadata": {
    "colab": {
     "base_uri": "https://localhost:8080/"
    },
    "id": "lOu9ay3cwZX9",
    "outputId": "8ecd3aa0-8408-414b-ebcb-77e7aee66306"
   },
   "outputs": [
    {
     "name": "stdout",
     "output_type": "stream",
     "text": [
      "+--------------------+--------------+\n",
      "|              Review|Reviewer_Score|\n",
      "+--------------------+--------------+\n",
      "| I am so angry th...|           2.9|\n",
      "| No real complain...|           7.5|\n",
      "| Rooms are nice b...|           7.1|\n",
      "| My room was dirt...|           3.8|\n",
      "| You When I booke...|           6.7|\n",
      "| Backyard of the ...|           6.7|\n",
      "| Cleaner did not ...|           4.6|\n",
      "| Apart from the p...|          10.0|\n",
      "| Even though the ...|           6.5|\n",
      "| The aircondition...|           7.9|\n",
      "| Nothing all grea...|          10.0|\n",
      "| 6 30 AM started ...|           5.8|\n",
      "| The floor in my ...|           4.6|\n",
      "| This hotel is be...|           9.2|\n",
      "| The staff in the...|           8.8|\n",
      "| This hotel is aw...|          10.0|\n",
      "| Very steep steps...|           6.3|\n",
      "| We did not like ...|           7.5|\n",
      "| Public areas are...|           7.1|\n",
      "| We had issues wi...|           7.5|\n",
      "+--------------------+--------------+\n",
      "only showing top 20 rows\n",
      "\n"
     ]
    }
   ],
   "source": [
    "# Read in data \n",
    "from pyspark import SparkFiles\n",
    "file_path = \"hotel_reviews_for_NLP1_float_review_score.csv\"\n",
    "spark.sparkContext.addFile(file_path)\n",
    "df = spark.read.csv(SparkFiles.get(\"hotel_reviews_for_NLP1_float_review_score.csv\"), sep=\",\", header=True)\n",
    "\n",
    "# Show DataFrame\n",
    "df.show()"
   ]
  },
  {
   "cell_type": "code",
   "execution_count": 4,
   "metadata": {
    "id": "sx5ryO5Bwe94"
   },
   "outputs": [],
   "source": [
    "# Import functions\n",
    "from pyspark.ml.feature import Tokenizer, StopWordsRemover, HashingTF, IDF, StringIndexer"
   ]
  },
  {
   "cell_type": "code",
   "execution_count": 5,
   "metadata": {
    "colab": {
     "base_uri": "https://localhost:8080/"
    },
    "id": "2Pf42Ru-woQ0",
    "outputId": "66e52baa-1d01-47fe-dafd-4263db9c094f"
   },
   "outputs": [
    {
     "name": "stdout",
     "output_type": "stream",
     "text": [
      "+--------------------+--------------+------+\n",
      "|              Review|Reviewer_Score|length|\n",
      "+--------------------+--------------+------+\n",
      "| I am so angry th...|           2.9|  1913|\n",
      "| No real complain...|           7.5|   611|\n",
      "| Rooms are nice b...|           7.1|   301|\n",
      "| My room was dirt...|           3.8|  1221|\n",
      "| You When I booke...|           6.7|   774|\n",
      "| Backyard of the ...|           6.7|   186|\n",
      "| Cleaner did not ...|           4.6|   235|\n",
      "| Apart from the p...|          10.0|   157|\n",
      "| Even though the ...|           6.5|   162|\n",
      "| The aircondition...|           7.9|   312|\n",
      "| Nothing all grea...|          10.0|   568|\n",
      "| 6 30 AM started ...|           5.8|   430|\n",
      "| The floor in my ...|           4.6|   152|\n",
      "| This hotel is be...|           9.2|   329|\n",
      "| The staff in the...|           8.8|   229|\n",
      "| This hotel is aw...|          10.0|   413|\n",
      "| Very steep steps...|           6.3|   270|\n",
      "| We did not like ...|           7.5|   623|\n",
      "| Public areas are...|           7.1|   166|\n",
      "| We had issues wi...|           7.5|   620|\n",
      "+--------------------+--------------+------+\n",
      "only showing top 20 rows\n",
      "\n"
     ]
    }
   ],
   "source": [
    "from pyspark.sql.functions import length\n",
    "# Create a length column to be used as a future feature\n",
    "data_df = df.withColumn('length', length(df['Review']))\n",
    "data_df.show()"
   ]
  },
  {
   "cell_type": "code",
   "execution_count": 6,
   "metadata": {
    "id": "mnjC7sdrwyL0"
   },
   "outputs": [],
   "source": [
    "# Create all the features to the data set\n",
    "pos_neg_to_num = StringIndexer(inputCol='Reviewer_Score',outputCol='label')\n",
    "tokenizer = Tokenizer(inputCol=\"Review\", outputCol=\"token_text\")\n",
    "stopremove = StopWordsRemover(inputCol='token_text',outputCol='stop_tokens')\n",
    "hashingTF = HashingTF(inputCol=\"stop_tokens\", outputCol='hash_token')\n",
    "idf = IDF(inputCol='hash_token', outputCol='idf_token')"
   ]
  },
  {
   "cell_type": "code",
   "execution_count": 7,
   "metadata": {
    "id": "StQhEWRw254y"
   },
   "outputs": [],
   "source": [
    "from pyspark.ml.feature import VectorAssembler\n",
    "from pyspark.ml.linalg import Vector\n",
    "# Create feature vectors\n",
    "clean_up = VectorAssembler(inputCols=['idf_token', 'length'], outputCol='features')"
   ]
  },
  {
   "cell_type": "code",
   "execution_count": 8,
   "metadata": {
    "id": "_pwTN86YzVPj"
   },
   "outputs": [],
   "source": [
    "# Create and run a data processing Pipeline\n",
    "from pyspark.ml import Pipeline\n",
    "data_prep_pipeline = Pipeline(stages=[pos_neg_to_num, tokenizer, stopremove, hashingTF, idf, clean_up])"
   ]
  },
  {
   "cell_type": "code",
   "execution_count": 9,
   "metadata": {
    "colab": {
     "base_uri": "https://localhost:8080/"
    },
    "id": "as1ctTNS0Nff",
    "outputId": "2dc585a6-3ba3-4534-9384-c1f97228d539"
   },
   "outputs": [
    {
     "name": "stdout",
     "output_type": "stream",
     "text": [
      "+-----+--------------------+\n",
      "|label|            features|\n",
      "+-----+--------------------+\n",
      "| 17.0|(262145,[2437,302...|\n",
      "|  5.0|(262145,[4714,514...|\n",
      "|  7.0|(262145,[22346,23...|\n",
      "| 15.0|(262145,[1797,230...|\n",
      "|  8.0|(262145,[14870,20...|\n",
      "|  8.0|(262145,[9781,304...|\n",
      "| 13.0|(262145,[21641,34...|\n",
      "|  0.0|(262145,[25789,43...|\n",
      "| 23.0|(262145,[22815,31...|\n",
      "|  6.0|(262145,[2437,216...|\n",
      "|  0.0|(262145,[9129,181...|\n",
      "| 10.0|(262145,[1696,383...|\n",
      "| 13.0|(262145,[1729,216...|\n",
      "|  2.0|(262145,[15370,23...|\n",
      "|  3.0|(262145,[6957,304...|\n",
      "|  0.0|(262145,[5765,218...|\n",
      "|  9.0|(262145,[3280,110...|\n",
      "|  5.0|(262145,[329,9129...|\n",
      "|  7.0|(262145,[11941,17...|\n",
      "|  5.0|(262145,[17435,21...|\n",
      "+-----+--------------------+\n",
      "only showing top 20 rows\n",
      "\n"
     ]
    }
   ],
   "source": [
    "# Fit and transform the pipeline\n",
    "cleaner = data_prep_pipeline.fit(data_df)\n",
    "cleaned = cleaner.transform(data_df)\n",
    "\n",
    "# Show \"Combined_Review\" and resulting features\n",
    "cleaned.select(['label', 'features']).show()"
   ]
  },
  {
   "cell_type": "code",
   "execution_count": 10,
   "metadata": {
    "id": "8Qe1rrGv0Nkn"
   },
   "outputs": [],
   "source": [
    "# Break data down into a training set and a testing set\n",
    "training, testing = cleaned.randomSplit([0.7, 0.3], 21)"
   ]
  },
  {
   "cell_type": "code",
   "execution_count": 11,
   "metadata": {
    "id": "CtPLIwaa0Nnf"
   },
   "outputs": [],
   "source": [
    "from pyspark.ml.classification import NaiveBayes\n",
    "# Create a Naive Bayes model and fit training data\n",
    "nb = NaiveBayes()\n",
    "predictor = nb.fit(training)"
   ]
  },
  {
   "cell_type": "code",
   "execution_count": 12,
   "metadata": {
    "colab": {
     "base_uri": "https://localhost:8080/"
    },
    "id": "jHb4DHem0Np9",
    "outputId": "e01816b8-ffc2-4604-d2d2-c5a990ecd815"
   },
   "outputs": [
    {
     "name": "stdout",
     "output_type": "stream",
     "text": [
      "+--------------------+--------------+------+-----+--------------------+--------------------+--------------------+--------------------+--------------------+--------------------+--------------------+----------+\n",
      "|              Review|Reviewer_Score|length|label|          token_text|         stop_tokens|          hash_token|           idf_token|            features|       rawPrediction|         probability|prediction|\n",
      "+--------------------+--------------+------+-----+--------------------+--------------------+--------------------+--------------------+--------------------+--------------------+--------------------+----------+\n",
      "| A bit noisy You ...|           8.8|   429|  3.0|[, a, bit, noisy,...|[, bit, noisy, he...|(262144,[9781,216...|(262144,[9781,216...|(262145,[9781,216...|[-2837.4034950057...|[1.0,1.0629136066...|       0.0|\n",
      "| A very well orga...|           8.3|   123|  4.0|[, a, very, well,...|[, well, organise...|(262144,[6346,732...|(262144,[6346,732...|(262145,[6346,732...|[-562.27859154522...|[0.99999999999999...|       0.0|\n",
      "| All the staff wh...|           9.6|   120|  1.0|[, all, the, staf...|[, staff, friendl...|(262144,[59317,78...|(262144,[59317,78...|(262145,[59317,78...|[-485.66255079141...|[0.99999999987559...|       0.0|\n",
      "| Arena hotel is l...|           6.0|   538| 20.0|[, arena, hotel, ...|[, arena, hotel, ...|(262144,[6346,978...|(262144,[6346,978...|(262145,[6346,978...|[-3615.7899068121...|[1.0,2.4827133001...|       0.0|\n",
      "| Basically everyt...|           9.6|   420|  1.0|[, basically, eve...|[, basically, eve...|(262144,[12035,22...|(262144,[12035,22...|(262145,[12035,22...|[-2318.1161625894...|[1.0,4.5090360865...|       0.0|\n",
      "| Bath wasn t clea...|           6.3|    98|  9.0|[, bath, wasn, t,...|[, bath, wasn, cl...|(262144,[22346,44...|(262144,[22346,44...|(262145,[22346,44...|[-645.21312662651...|[0.99999999925274...|       0.0|\n",
      "| Bathroom lightin...|           7.9|   501|  6.0|[, bathroom, ligh...|[, bathroom, ligh...|(262144,[8408,125...|(262144,[8408,125...|(262145,[8408,125...|[-3080.4641765514...|[1.0,6.8829838242...|       0.0|\n",
      "| Bathroom smell T...|           3.3|    64| 16.0|[, bathroom, smel...|[, bathroom, smel...|(262144,[21086,41...|(262144,[21086,41...|(262145,[21086,41...|[-429.91619077052...|[0.00229338076004...|       1.0|\n",
      "| Bathrooms were t...|           6.7|    61|  8.0|[, bathrooms, wer...|[, bathrooms, tin...|(262144,[54425,55...|(262144,[54425,55...|(262145,[54425,55...|[-419.41625238667...|[0.99999158319363...|       0.0|\n",
      "| Beautiful hotel ...|           9.6|    95|  1.0|[, beautiful, hot...|[, beautiful, hot...|(262144,[43756,69...|(262144,[43756,69...|(262145,[43756,69...|[-574.16738044158...|[1.0,7.6531511755...|       0.0|\n",
      "+--------------------+--------------+------+-----+--------------------+--------------------+--------------------+--------------------+--------------------+--------------------+--------------------+----------+\n",
      "only showing top 10 rows\n",
      "\n"
     ]
    }
   ],
   "source": [
    "# Transform the data with the testing data\n",
    "test_results = predictor.transform(testing)\n",
    "test_results.show(10)"
   ]
  },
  {
   "cell_type": "code",
   "execution_count": 13,
   "metadata": {
    "colab": {
     "base_uri": "https://localhost:8080/"
    },
    "id": "shc-i0sR0NxL",
    "outputId": "0b45d3fb-26f8-4722-df8c-b9eb41c947ac"
   },
   "outputs": [
    {
     "name": "stdout",
     "output_type": "stream",
     "text": [
      "Accuracy of model at predicting reviews was: 0.072433\n"
     ]
    }
   ],
   "source": [
    "# Use the Class Evaluator for a cleaner description\n",
    "from pyspark.ml.evaluation import MulticlassClassificationEvaluator\n",
    "\n",
    "acc_eval = MulticlassClassificationEvaluator()\n",
    "acc = acc_eval.evaluate(test_results)\n",
    "print(\"Accuracy of model at predicting reviews was: %f\" %acc)"
   ]
  },
  {
   "cell_type": "code",
   "execution_count": 13,
   "metadata": {
    "id": "s9Y6f72xxQ9p"
   },
   "outputs": [],
   "source": []
  }
 ],
 "metadata": {
  "colab": {
   "name": "5_NLP_2_categorical_reviews - Copy.ipynb",
   "provenance": []
  },
  "kernelspec": {
   "display_name": "Python 3",
   "language": "python",
   "name": "python3"
  },
  "language_info": {
   "codemirror_mode": {
    "name": "ipython",
    "version": 3
   },
   "file_extension": ".py",
   "mimetype": "text/x-python",
   "name": "python",
   "nbconvert_exporter": "python",
   "pygments_lexer": "ipython3",
   "version": "3.7.7"
  }
 },
 "nbformat": 4,
 "nbformat_minor": 1
}
