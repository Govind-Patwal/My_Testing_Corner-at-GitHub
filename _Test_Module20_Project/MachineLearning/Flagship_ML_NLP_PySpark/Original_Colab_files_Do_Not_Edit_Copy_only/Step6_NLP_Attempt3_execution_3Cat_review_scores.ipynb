{
  "nbformat": 4,
  "nbformat_minor": 0,
  "metadata": {
    "colab": {
      "name": "Step6_NLP_Attempt3_execution_3Cat_review_scores.ipynb",
      "provenance": [],
      "collapsed_sections": [],
      "toc_visible": true
    },
    "kernelspec": {
      "display_name": "Python 3",
      "language": "python",
      "name": "python3"
    },
    "language_info": {
      "codemirror_mode": {
        "name": "ipython",
        "version": 3
      },
      "file_extension": ".py",
      "mimetype": "text/x-python",
      "name": "python",
      "nbconvert_exporter": "python",
      "pygments_lexer": "ipython3",
      "version": "3.7.7"
    }
  },
  "cells": [
    {
      "cell_type": "markdown",
      "metadata": {
        "id": "SIZfgdzXciMg"
      },
      "source": [
        "# This file runs best on ***Google Colab***\n",
        "## Before running this file, the Data Source file needs to be placed at the same level as this file\n",
        "\n",
        "### Data file location: https://github.com/JagpreetBath/European_Hotel_Analysis/tree/main/DataFiles/TransformedData/tables/hotel_reviews_for_NLP3_3Cat_review_score"
      ]
    },
    {
      "cell_type": "code",
      "metadata": {
        "id": "CarnJEuzwP1B",
        "outputId": "02865c93-6015-445d-fd3f-2c9394007e67",
        "colab": {
          "base_uri": "https://localhost:8080/"
        }
      },
      "source": [
        "import os\n",
        "# Find the latest version of spark 3.0  from http://www-us.apache.org/dist/spark/ and enter as the spark version\n",
        "# For example:\n",
        "# spark_version = 'spark-3.0.1'\n",
        "spark_version = 'spark-3.0.1'\n",
        "os.environ['SPARK_VERSION']=spark_version\n",
        "\n",
        "# Install Spark and Java\n",
        "!apt-get update\n",
        "!apt-get install openjdk-11-jdk-headless -qq > /dev/null\n",
        "!wget -q http://www-us.apache.org/dist/spark/$SPARK_VERSION/$SPARK_VERSION-bin-hadoop2.7.tgz\n",
        "!tar xf $SPARK_VERSION-bin-hadoop2.7.tgz\n",
        "!pip install -q findspark\n",
        "\n",
        "# Set Environment Variables\n",
        "import os\n",
        "os.environ[\"JAVA_HOME\"] = \"/usr/lib/jvm/java-11-openjdk-amd64\"\n",
        "os.environ[\"SPARK_HOME\"] = f\"/content/{spark_version}-bin-hadoop2.7\"\n",
        "\n",
        "# Start a SparkSession\n",
        "import findspark\n",
        "findspark.init()"
      ],
      "execution_count": 1,
      "outputs": [
        {
          "output_type": "stream",
          "text": [
            "Ign:1 https://developer.download.nvidia.com/compute/cuda/repos/ubuntu1804/x86_64  InRelease\n",
            "Ign:2 https://developer.download.nvidia.com/compute/machine-learning/repos/ubuntu1804/x86_64  InRelease\n",
            "Hit:3 https://developer.download.nvidia.com/compute/cuda/repos/ubuntu1804/x86_64  Release\n",
            "Hit:4 https://developer.download.nvidia.com/compute/machine-learning/repos/ubuntu1804/x86_64  Release\n",
            "Hit:5 https://cloud.r-project.org/bin/linux/ubuntu bionic-cran40/ InRelease\n",
            "Hit:6 http://archive.ubuntu.com/ubuntu bionic InRelease\n",
            "Hit:7 http://security.ubuntu.com/ubuntu bionic-security InRelease\n",
            "Hit:8 http://ppa.launchpad.net/c2d4u.team/c2d4u4.0+/ubuntu bionic InRelease\n",
            "Hit:10 http://archive.ubuntu.com/ubuntu bionic-updates InRelease\n",
            "Hit:12 http://archive.ubuntu.com/ubuntu bionic-backports InRelease\n",
            "Hit:13 http://ppa.launchpad.net/graphics-drivers/ppa/ubuntu bionic InRelease\n",
            "Reading package lists... Done\n"
          ],
          "name": "stdout"
        }
      ]
    },
    {
      "cell_type": "code",
      "metadata": {
        "id": "lZilGKyDwUV_"
      },
      "source": [
        "# Start Spark session\n",
        "from pyspark.sql import SparkSession\n",
        "spark = SparkSession.builder.appName(\"PySpark_NLP_Attempt3\").getOrCreate()"
      ],
      "execution_count": 2,
      "outputs": []
    },
    {
      "cell_type": "code",
      "metadata": {
        "id": "lOu9ay3cwZX9",
        "outputId": "18462a8e-4870-495b-aa41-f22ca967e512",
        "colab": {
          "base_uri": "https://localhost:8080/"
        }
      },
      "source": [
        "# Read in data \n",
        "from pyspark import SparkFiles\n",
        "file_path = \"hotel_reviews_for_NLP3_3Cat_review_score.csv\"\n",
        "spark.sparkContext.addFile(file_path)\n",
        "df = spark.read.csv(SparkFiles.get(\"hotel_reviews_for_NLP3_3Cat_review_score.csv\"), sep=\",\", header=True)\n",
        "\n",
        "# Show DataFrame\n",
        "df.show()"
      ],
      "execution_count": 3,
      "outputs": [
        {
          "output_type": "stream",
          "text": [
            "+--------------------+---------------+\n",
            "|              Review|Review_Category|\n",
            "+--------------------+---------------+\n",
            "| I am so angry th...|            Bad|\n",
            "| No real complain...|        Average|\n",
            "| Rooms are nice b...|        Average|\n",
            "| My room was dirt...|            Bad|\n",
            "| You When I booke...|        Average|\n",
            "| Backyard of the ...|        Average|\n",
            "| Cleaner did not ...|            Bad|\n",
            "| Apart from the p...|           Good|\n",
            "| Even though the ...|        Average|\n",
            "| The aircondition...|        Average|\n",
            "| Nothing all grea...|           Good|\n",
            "| 6 30 AM started ...|        Average|\n",
            "| The floor in my ...|            Bad|\n",
            "| This hotel is be...|           Good|\n",
            "| The staff in the...|           Good|\n",
            "| This hotel is aw...|           Good|\n",
            "| Very steep steps...|        Average|\n",
            "| We did not like ...|        Average|\n",
            "| Public areas are...|        Average|\n",
            "| We had issues wi...|        Average|\n",
            "+--------------------+---------------+\n",
            "only showing top 20 rows\n",
            "\n"
          ],
          "name": "stdout"
        }
      ]
    },
    {
      "cell_type": "code",
      "metadata": {
        "id": "sx5ryO5Bwe94"
      },
      "source": [
        "# Import functions\n",
        "from pyspark.ml.feature import Tokenizer, StopWordsRemover, HashingTF, IDF, StringIndexer"
      ],
      "execution_count": 4,
      "outputs": []
    },
    {
      "cell_type": "code",
      "metadata": {
        "id": "2Pf42Ru-woQ0",
        "outputId": "480dfeb1-ba93-4626-c1fe-251967059a05",
        "colab": {
          "base_uri": "https://localhost:8080/"
        }
      },
      "source": [
        "from pyspark.sql.functions import length\n",
        "# Create a length column to be used as a future feature\n",
        "data_df = df.withColumn('length', length(df['Review']))\n",
        "data_df.show()"
      ],
      "execution_count": 5,
      "outputs": [
        {
          "output_type": "stream",
          "text": [
            "+--------------------+---------------+------+\n",
            "|              Review|Review_Category|length|\n",
            "+--------------------+---------------+------+\n",
            "| I am so angry th...|            Bad|  1913|\n",
            "| No real complain...|        Average|   611|\n",
            "| Rooms are nice b...|        Average|   301|\n",
            "| My room was dirt...|            Bad|  1221|\n",
            "| You When I booke...|        Average|   774|\n",
            "| Backyard of the ...|        Average|   186|\n",
            "| Cleaner did not ...|            Bad|   235|\n",
            "| Apart from the p...|           Good|   157|\n",
            "| Even though the ...|        Average|   162|\n",
            "| The aircondition...|        Average|   312|\n",
            "| Nothing all grea...|           Good|   568|\n",
            "| 6 30 AM started ...|        Average|   430|\n",
            "| The floor in my ...|            Bad|   152|\n",
            "| This hotel is be...|           Good|   329|\n",
            "| The staff in the...|           Good|   229|\n",
            "| This hotel is aw...|           Good|   413|\n",
            "| Very steep steps...|        Average|   270|\n",
            "| We did not like ...|        Average|   623|\n",
            "| Public areas are...|        Average|   166|\n",
            "| We had issues wi...|        Average|   620|\n",
            "+--------------------+---------------+------+\n",
            "only showing top 20 rows\n",
            "\n"
          ],
          "name": "stdout"
        }
      ]
    },
    {
      "cell_type": "code",
      "metadata": {
        "id": "mnjC7sdrwyL0"
      },
      "source": [
        "# Create all the features to the data set\n",
        "pos_neg_to_num = StringIndexer(inputCol='Review_Category',outputCol='label')\n",
        "tokenizer = Tokenizer(inputCol=\"Review\", outputCol=\"token_text\")\n",
        "stopremove = StopWordsRemover(inputCol='token_text',outputCol='stop_tokens')\n",
        "hashingTF = HashingTF(inputCol=\"stop_tokens\", outputCol='hash_token')\n",
        "idf = IDF(inputCol='hash_token', outputCol='idf_token')"
      ],
      "execution_count": 6,
      "outputs": []
    },
    {
      "cell_type": "code",
      "metadata": {
        "id": "StQhEWRw254y"
      },
      "source": [
        "from pyspark.ml.feature import VectorAssembler\n",
        "from pyspark.ml.linalg import Vector\n",
        "# Create feature vectors\n",
        "clean_up = VectorAssembler(inputCols=['idf_token', 'length'], outputCol='features')"
      ],
      "execution_count": 7,
      "outputs": []
    },
    {
      "cell_type": "code",
      "metadata": {
        "id": "_pwTN86YzVPj"
      },
      "source": [
        "# Create and run a data processing Pipeline\n",
        "from pyspark.ml import Pipeline\n",
        "data_prep_pipeline = Pipeline(stages=[pos_neg_to_num, tokenizer, stopremove, hashingTF, idf, clean_up])"
      ],
      "execution_count": 8,
      "outputs": []
    },
    {
      "cell_type": "code",
      "metadata": {
        "id": "as1ctTNS0Nff",
        "outputId": "bdc69638-355e-4375-e9c3-45808c032fbd",
        "colab": {
          "base_uri": "https://localhost:8080/"
        }
      },
      "source": [
        "# Fit and transform the pipeline\n",
        "cleaner = data_prep_pipeline.fit(data_df)\n",
        "cleaned = cleaner.transform(data_df)\n",
        "\n",
        "# Show \"Combined_Review\" and resulting features\n",
        "cleaned.select(['label', 'features']).show()"
      ],
      "execution_count": 9,
      "outputs": [
        {
          "output_type": "stream",
          "text": [
            "+-----+--------------------+\n",
            "|label|            features|\n",
            "+-----+--------------------+\n",
            "|  2.0|(262145,[2437,302...|\n",
            "|  1.0|(262145,[4714,514...|\n",
            "|  1.0|(262145,[22346,23...|\n",
            "|  2.0|(262145,[1797,230...|\n",
            "|  1.0|(262145,[14870,20...|\n",
            "|  1.0|(262145,[9781,304...|\n",
            "|  2.0|(262145,[21641,34...|\n",
            "|  0.0|(262145,[25789,43...|\n",
            "|  1.0|(262145,[22815,31...|\n",
            "|  1.0|(262145,[2437,216...|\n",
            "|  0.0|(262145,[9129,181...|\n",
            "|  1.0|(262145,[1696,383...|\n",
            "|  2.0|(262145,[1729,216...|\n",
            "|  0.0|(262145,[15370,23...|\n",
            "|  0.0|(262145,[6957,304...|\n",
            "|  0.0|(262145,[5765,218...|\n",
            "|  1.0|(262145,[3280,110...|\n",
            "|  1.0|(262145,[329,9129...|\n",
            "|  1.0|(262145,[11941,17...|\n",
            "|  1.0|(262145,[17435,21...|\n",
            "+-----+--------------------+\n",
            "only showing top 20 rows\n",
            "\n"
          ],
          "name": "stdout"
        }
      ]
    },
    {
      "cell_type": "code",
      "metadata": {
        "id": "8Qe1rrGv0Nkn"
      },
      "source": [
        "# Break data down into a training set and a testing set\n",
        "training, testing = cleaned.randomSplit([0.7, 0.3], 21)"
      ],
      "execution_count": 10,
      "outputs": []
    },
    {
      "cell_type": "code",
      "metadata": {
        "id": "CtPLIwaa0Nnf"
      },
      "source": [
        "from pyspark.ml.classification import NaiveBayes\n",
        "# Create a Naive Bayes model and fit training data\n",
        "nb = NaiveBayes()\n",
        "predictor = nb.fit(training)"
      ],
      "execution_count": 11,
      "outputs": []
    },
    {
      "cell_type": "code",
      "metadata": {
        "id": "jHb4DHem0Np9",
        "outputId": "21f38479-2152-406f-fd84-df512f0a3c26",
        "colab": {
          "base_uri": "https://localhost:8080/"
        }
      },
      "source": [
        "# Transform the data with the testing data\n",
        "test_results = predictor.transform(testing)\n",
        "test_results.show(10)"
      ],
      "execution_count": 12,
      "outputs": [
        {
          "output_type": "stream",
          "text": [
            "+--------------------+---------------+------+-----+--------------------+--------------------+--------------------+--------------------+--------------------+--------------------+--------------------+----------+\n",
            "|              Review|Review_Category|length|label|          token_text|         stop_tokens|          hash_token|           idf_token|            features|       rawPrediction|         probability|prediction|\n",
            "+--------------------+---------------+------+-----+--------------------+--------------------+--------------------+--------------------+--------------------+--------------------+--------------------+----------+\n",
            "| A bit noisy You ...|           Good|   429|  0.0|[, a, bit, noisy,...|[, bit, noisy, he...|(262144,[9781,216...|(262144,[9781,216...|(262145,[9781,216...|[-2263.4452491703...|[1.0,1.3582143073...|       0.0|\n",
            "| A very well orga...|           Good|   123|  0.0|[, a, very, well,...|[, well, organise...|(262144,[6346,732...|(262144,[6346,732...|(262145,[6346,732...|[-422.30622156756...|[1.0,2.9061531307...|       0.0|\n",
            "| All the staff wh...|           Good|   120|  0.0|[, all, the, staf...|[, staff, friendl...|(262144,[59317,78...|(262144,[59317,78...|(262145,[59317,78...|[-347.41388925764...|[1.0,6.1012694722...|       0.0|\n",
            "| Arena hotel is l...|        Average|   538|  1.0|[, arena, hotel, ...|[, arena, hotel, ...|(262144,[6346,978...|(262144,[6346,978...|(262145,[6346,978...|[-2912.2177448841...|[1.0,2.7642309685...|       0.0|\n",
            "| Basically everyt...|           Good|   420|  0.0|[, basically, eve...|[, basically, eve...|(262144,[12035,22...|(262144,[12035,22...|(262145,[12035,22...|[-1822.4754557026...|[1.0,2.4039791126...|       0.0|\n",
            "| Bath wasn t clea...|        Average|    98|  1.0|[, bath, wasn, t,...|[, bath, wasn, cl...|(262144,[22346,44...|(262144,[22346,44...|(262145,[22346,44...|[-503.81004073139...|[0.99999999936772...|       0.0|\n",
            "| Bathroom lightin...|        Average|   501|  1.0|[, bathroom, ligh...|[, bathroom, ligh...|(262144,[8408,125...|(262144,[8408,125...|(262145,[8408,125...|[-2488.5021657266...|[1.0,2.1277683627...|       0.0|\n",
            "| Bathroom smell T...|            Bad|    64|  2.0|[, bathroom, smel...|[, bathroom, smel...|(262144,[21086,41...|(262144,[21086,41...|(262145,[21086,41...|[-325.10160435599...|[0.99998933879992...|       0.0|\n",
            "| Bathrooms were t...|        Average|    61|  1.0|[, bathrooms, wer...|[, bathrooms, tin...|(262144,[54425,55...|(262144,[54425,55...|(262145,[54425,55...|[-328.33687199532...|[0.99999999999999...|       0.0|\n",
            "| Beautiful hotel ...|           Good|    95|  0.0|[, beautiful, hot...|[, beautiful, hot...|(262144,[43756,69...|(262144,[43756,69...|(262145,[43756,69...|[-460.11261840842...|[1.0,7.8339973553...|       0.0|\n",
            "+--------------------+---------------+------+-----+--------------------+--------------------+--------------------+--------------------+--------------------+--------------------+--------------------+----------+\n",
            "only showing top 10 rows\n",
            "\n"
          ],
          "name": "stdout"
        }
      ]
    },
    {
      "cell_type": "code",
      "metadata": {
        "id": "shc-i0sR0NxL",
        "outputId": "e117f3ac-272b-4cad-e2e2-ea4a54cef3c8",
        "colab": {
          "base_uri": "https://localhost:8080/"
        }
      },
      "source": [
        "# Use the Class Evaluator for a cleaner description\n",
        "from pyspark.ml.evaluation import MulticlassClassificationEvaluator\n",
        "\n",
        "acc_eval = MulticlassClassificationEvaluator()\n",
        "acc = acc_eval.evaluate(test_results)\n",
        "print(\"Accuracy of model at predicting reviews was: %f\" %acc)"
      ],
      "execution_count": 13,
      "outputs": [
        {
          "output_type": "stream",
          "text": [
            "Accuracy of model at predicting reviews was: 0.455536\n"
          ],
          "name": "stdout"
        }
      ]
    },
    {
      "cell_type": "code",
      "metadata": {
        "id": "s9Y6f72xxQ9p"
      },
      "source": [
        ""
      ],
      "execution_count": 13,
      "outputs": []
    }
  ]
}