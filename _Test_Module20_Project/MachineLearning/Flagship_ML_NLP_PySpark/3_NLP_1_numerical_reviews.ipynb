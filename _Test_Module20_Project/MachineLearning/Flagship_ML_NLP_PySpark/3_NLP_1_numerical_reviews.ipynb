{
 "cells": [
  {
   "cell_type": "code",
   "execution_count": 1,
   "metadata": {
    "colab": {
     "base_uri": "https://localhost:8080/"
    },
    "id": "CarnJEuzwP1B",
    "outputId": "e1864dd9-0e01-4422-f0c7-e4373720bfd2"
   },
   "outputs": [
    {
     "name": "stdout",
     "output_type": "stream",
     "text": [
      "\r",
      "0% [Working]\r",
      "            \r",
      "Hit:1 http://ppa.launchpad.net/c2d4u.team/c2d4u4.0+/ubuntu bionic InRelease\n",
      "\r",
      "0% [Waiting for headers] [Connecting to security.ubuntu.com (91.189.91.39)] [Co\r",
      "                                                                               \r",
      "Hit:2 http://archive.ubuntu.com/ubuntu bionic InRelease\n",
      "\r",
      "0% [Waiting for headers] [Connecting to security.ubuntu.com (91.189.91.39)] [Co\r",
      "0% [1 InRelease gpgv 15.9 kB] [Waiting for headers] [Connecting to security.ubu\r",
      "                                                                               \r",
      "Get:3 http://archive.ubuntu.com/ubuntu bionic-updates InRelease [88.7 kB]\n",
      "\r",
      "0% [1 InRelease gpgv 15.9 kB] [3 InRelease 14.2 kB/88.7 kB 16%] [Connecting to \r",
      "                                                                               \r",
      "Hit:4 http://ppa.launchpad.net/graphics-drivers/ppa/ubuntu bionic InRelease\n",
      "\r",
      "0% [1 InRelease gpgv 15.9 kB] [3 InRelease 14.2 kB/88.7 kB 16%] [Connecting to \r",
      "                                                                               \r",
      "Hit:5 https://cloud.r-project.org/bin/linux/ubuntu bionic-cran40/ InRelease\n",
      "\r",
      "0% [1 InRelease gpgv 15.9 kB] [3 InRelease 44.6 kB/88.7 kB 50%] [Connecting to \r",
      "0% [1 InRelease gpgv 15.9 kB] [Waiting for headers] [Connecting to security.ubu\r",
      "                                                                               \r",
      "Get:6 http://archive.ubuntu.com/ubuntu bionic-backports InRelease [74.6 kB]\n",
      "\r",
      "0% [1 InRelease gpgv 15.9 kB] [6 InRelease 17.1 kB/74.6 kB 23%] [Connecting to \r",
      "                                                                               \r",
      "0% [1 InRelease gpgv 15.9 kB] [Waiting for headers] [Waiting for headers]\r",
      "                                                                         \r",
      "Get:7 http://security.ubuntu.com/ubuntu bionic-security InRelease [88.7 kB]\n",
      "Ign:8 https://developer.download.nvidia.com/compute/cuda/repos/ubuntu1804/x86_64  InRelease\n",
      "Ign:9 https://developer.download.nvidia.com/compute/machine-learning/repos/ubuntu1804/x86_64  InRelease\n",
      "Hit:10 https://developer.download.nvidia.com/compute/cuda/repos/ubuntu1804/x86_64  Release\n",
      "Hit:11 https://developer.download.nvidia.com/compute/machine-learning/repos/ubuntu1804/x86_64  Release\n",
      "Fetched 252 kB in 2s (165 kB/s)\n",
      "Reading package lists... Done\n"
     ]
    }
   ],
   "source": [
    "import os\n",
    "# Find the latest version of spark 3.0  from http://www-us.apache.org/dist/spark/ and enter as the spark version\n",
    "# For example:\n",
    "# spark_version = 'spark-3.0.1'\n",
    "spark_version = 'spark-3.0.1'\n",
    "os.environ['SPARK_VERSION']=spark_version\n",
    "\n",
    "# Install Spark and Java\n",
    "!apt-get update\n",
    "!apt-get install openjdk-11-jdk-headless -qq > /dev/null\n",
    "!wget -q http://www-us.apache.org/dist/spark/$SPARK_VERSION/$SPARK_VERSION-bin-hadoop2.7.tgz\n",
    "!tar xf $SPARK_VERSION-bin-hadoop2.7.tgz\n",
    "!pip install -q findspark\n",
    "\n",
    "# Set Environment Variables\n",
    "import os\n",
    "os.environ[\"JAVA_HOME\"] = \"/usr/lib/jvm/java-11-openjdk-amd64\"\n",
    "os.environ[\"SPARK_HOME\"] = f\"/content/{spark_version}-bin-hadoop2.7\"\n",
    "\n",
    "# Start a SparkSession\n",
    "import findspark\n",
    "findspark.init()"
   ]
  },
  {
   "cell_type": "code",
   "execution_count": 2,
   "metadata": {
    "id": "lZilGKyDwUV_"
   },
   "outputs": [],
   "source": [
    "# Start Spark session\n",
    "from pyspark.sql import SparkSession\n",
    "spark = SparkSession.builder.appName(\"Yelp_NLP\").getOrCreate()"
   ]
  },
  {
   "cell_type": "code",
   "execution_count": 3,
   "metadata": {
    "colab": {
     "base_uri": "https://localhost:8080/"
    },
    "id": "lOu9ay3cwZX9",
    "outputId": "38a87a79-e1a5-4592-b3a6-46bc23abf1ed"
   },
   "outputs": [
    {
     "name": "stdout",
     "output_type": "stream",
     "text": [
      "+---+--------------------+----------------------------+-----------+-------------+-----------+--------------------+--------------------+---------------------------------+-----------------------+--------------------+---------------------------------+------------------------------------------+--------------+--------------------+-----------------+--------------------+\n",
      "| Id|       Hotel_Address|Additional_Number_of_Scoring|Review_Date|Average_Score| Hotel_Name|Reviewer_Nationality|     Negative_Review|Review_Total_Negative_Word_Counts|Total_Number_of_Reviews|     Positive_Review|Review_Total_Positive_Word_Counts|Total_Number_of_Reviews_Reviewer_Has_Given|Reviewer_Score|                Tags|days_since_review|     Combined_Review|\n",
      "+---+--------------------+----------------------------+-----------+-------------+-----------+--------------------+--------------------+---------------------------------+-----------------------+--------------------+---------------------------------+------------------------------------------+--------------+--------------------+-----------------+--------------------+\n",
      "|  0| s Gravesandestra...|                         194|   8/3/2017|          7.7|Hotel Arena|             Russia | I am so angry th...|                              397|                   1403| Only the park ou...|                               11|                                         7|           2.9|[' Leisure trip '...|           0 days| I am so angry th...|\n",
      "|  1| s Gravesandestra...|                         194|   8/3/2017|          7.7|Hotel Arena|            Ireland |                null|                                0|                   1403| No real complain...|                              105|                                         7|           7.5|[' Leisure trip '...|           0 days| No real complain...|\n",
      "|  2| s Gravesandestra...|                         194|  7/31/2017|          7.7|Hotel Arena|          Australia | Rooms are nice b...|                               42|                   1403| Location was goo...|                               21|                                         9|           7.1|[' Leisure trip '...|           3 days| Rooms are nice b...|\n",
      "|  3| s Gravesandestra...|                         194|  7/31/2017|          7.7|Hotel Arena|     United Kingdom | My room was dirt...|                              210|                   1403| Great location i...|                               26|                                         1|           3.8|[' Leisure trip '...|           3 days| My room was dirt...|\n",
      "|  4| s Gravesandestra...|                         194|  7/24/2017|          7.7|Hotel Arena|        New Zealand | You When I booke...|                              140|                   1403| Amazing location...|                                8|                                         3|           6.7|[' Leisure trip '...|          10 days| You When I booke...|\n",
      "|  5| s Gravesandestra...|                         194|  7/24/2017|          7.7|Hotel Arena|             Poland | Backyard of the ...|                               17|                   1403| Good restaurant ...|                               20|                                         1|           6.7|[' Leisure trip '...|          10 days| Backyard of the ...|\n",
      "|  6| s Gravesandestra...|                         194|  7/17/2017|          7.7|Hotel Arena|     United Kingdom | Cleaner did not ...|                               33|                   1403| The room is spac...|                               18|                                         6|           4.6|[' Leisure trip '...|          17 days| Cleaner did not ...|\n",
      "|  7| s Gravesandestra...|                         194|  7/17/2017|          7.7|Hotel Arena|     United Kingdom | Apart from the p...|                               11|                   1403| Good location Se...|                               19|                                         1|          10.0|[' Leisure trip '...|          17 days| Apart from the p...|\n",
      "|  8| s Gravesandestra...|                         194|   7/9/2017|          7.7|Hotel Arena|            Belgium | Even though the ...|                               34|                   1403|                null|                                0|                                         3|           6.5|[' Leisure trip '...|          25 days| Even though the ...|\n",
      "|  9| s Gravesandestra...|                         194|   7/8/2017|          7.7|Hotel Arena|             Norway | The aircondition...|                               15|                   1403| The room was big...|                               50|                                         1|           7.9|[' Leisure trip '...|          26 days| The aircondition...|\n",
      "| 10| s Gravesandestra...|                         194|   7/7/2017|          7.7|Hotel Arena|     United Kingdom |  Nothing all great |                                5|                   1403| Rooms were stunn...|                              101|                                         2|          10.0|[' Leisure trip '...|          27 days| Nothing all grea...|\n",
      "| 11| s Gravesandestra...|                         194|   7/6/2017|          7.7|Hotel Arena|             France | 6 30 AM started ...|                               75|                   1403| Style location r...|                                4|                                        12|           5.8|[' Business trip ...|          28 days| 6 30 AM started ...|\n",
      "| 12| s Gravesandestra...|                         194|   7/6/2017|          7.7|Hotel Arena|     United Kingdom | The floor in my ...|                               28|                   1403| Comfy bed good l...|                                6|                                         7|           4.6|[' Leisure trip '...|          28 days| The floor in my ...|\n",
      "| 13| s Gravesandestra...|                         194|   7/4/2017|          7.7|Hotel Arena|              Italy |                null|                                0|                   1403| This hotel is be...|                               59|                                         6|           9.2|[' Business trip ...|          30 days| This hotel is be...|\n",
      "| 14| s Gravesandestra...|                         194|   7/4/2017|          7.7|Hotel Arena|             Canada | The staff in the...|                               35|                   1403| It was very good...|                               15|                                         1|           8.8|[' Leisure trip '...|          30 days| The staff in the...|\n",
      "| 15| s Gravesandestra...|                         194|   7/3/2017|          7.7|Hotel Arena|              Italy |                null|                                0|                   1403| This hotel is aw...|                               82|                                        26|          10.0|[' Leisure trip '...|          31 days| This hotel is aw...|\n",
      "| 16| s Gravesandestra...|                         194|   7/3/2017|          7.7|Hotel Arena|     United Kingdom | Very steep steps...|                               38|                   1403| Great onsite caf...|                               14|                                         8|           6.3|[' Leisure trip '...|          31 days| Very steep steps...|\n",
      "| 17| s Gravesandestra...|                         194|  6/30/2017|          7.7|Hotel Arena|            Ireland | We did not like ...|                               59|                   1403| We loved the loc...|                               64|                                         2|           7.5|[' Leisure trip '...|          34 days| We did not like ...|\n",
      "| 18| s Gravesandestra...|                         194|  6/29/2017|          7.7|Hotel Arena|        Netherlands |                null|                                0|                   1403| Public areas are...|                               33|                                         4|           7.1|[' Business trip ...|          35 days| Public areas are...|\n",
      "| 19| s Gravesandestra...|                         194|  6/20/2017|          7.7|Hotel Arena|          Australia | We had issues wi...|                               73|                   1403| I liked the hote...|                               48|                                        16|           7.5|[' Leisure trip '...|          44 days| We had issues wi...|\n",
      "+---+--------------------+----------------------------+-----------+-------------+-----------+--------------------+--------------------+---------------------------------+-----------------------+--------------------+---------------------------------+------------------------------------------+--------------+--------------------+-----------------+--------------------+\n",
      "only showing top 20 rows\n",
      "\n"
     ]
    }
   ],
   "source": [
    "# Read in data \n",
    "from pyspark import SparkFiles\n",
    "file_path = \"sample_table_for_NLP.csv\"\n",
    "spark.sparkContext.addFile(file_path)\n",
    "df = spark.read.csv(SparkFiles.get(\"sample_table_for_NLP.csv\"), sep=\",\", header=True)\n",
    "\n",
    "# Show DataFrame\n",
    "df.show()"
   ]
  },
  {
   "cell_type": "code",
   "execution_count": 4,
   "metadata": {
    "id": "sx5ryO5Bwe94"
   },
   "outputs": [],
   "source": [
    "# Import functions\n",
    "from pyspark.ml.feature import Tokenizer, StopWordsRemover, HashingTF, IDF, StringIndexer"
   ]
  },
  {
   "cell_type": "code",
   "execution_count": 5,
   "metadata": {
    "colab": {
     "base_uri": "https://localhost:8080/"
    },
    "id": "2Pf42Ru-woQ0",
    "outputId": "2e1adc82-5f26-474c-fbea-56fff74dee80"
   },
   "outputs": [
    {
     "name": "stdout",
     "output_type": "stream",
     "text": [
      "+---+--------------------+----------------------------+-----------+-------------+-----------+--------------------+--------------------+---------------------------------+-----------------------+--------------------+---------------------------------+------------------------------------------+--------------+--------------------+-----------------+--------------------+------+\n",
      "| Id|       Hotel_Address|Additional_Number_of_Scoring|Review_Date|Average_Score| Hotel_Name|Reviewer_Nationality|     Negative_Review|Review_Total_Negative_Word_Counts|Total_Number_of_Reviews|     Positive_Review|Review_Total_Positive_Word_Counts|Total_Number_of_Reviews_Reviewer_Has_Given|Reviewer_Score|                Tags|days_since_review|     Combined_Review|length|\n",
      "+---+--------------------+----------------------------+-----------+-------------+-----------+--------------------+--------------------+---------------------------------+-----------------------+--------------------+---------------------------------+------------------------------------------+--------------+--------------------+-----------------+--------------------+------+\n",
      "|  0| s Gravesandestra...|                         194|   8/3/2017|          7.7|Hotel Arena|             Russia | I am so angry th...|                              397|                   1403| Only the park ou...|                               11|                                         7|           2.9|[' Leisure trip '...|           0 days| I am so angry th...|  1913|\n",
      "|  1| s Gravesandestra...|                         194|   8/3/2017|          7.7|Hotel Arena|            Ireland |                null|                                0|                   1403| No real complain...|                              105|                                         7|           7.5|[' Leisure trip '...|           0 days| No real complain...|   611|\n",
      "|  2| s Gravesandestra...|                         194|  7/31/2017|          7.7|Hotel Arena|          Australia | Rooms are nice b...|                               42|                   1403| Location was goo...|                               21|                                         9|           7.1|[' Leisure trip '...|           3 days| Rooms are nice b...|   301|\n",
      "|  3| s Gravesandestra...|                         194|  7/31/2017|          7.7|Hotel Arena|     United Kingdom | My room was dirt...|                              210|                   1403| Great location i...|                               26|                                         1|           3.8|[' Leisure trip '...|           3 days| My room was dirt...|  1221|\n",
      "|  4| s Gravesandestra...|                         194|  7/24/2017|          7.7|Hotel Arena|        New Zealand | You When I booke...|                              140|                   1403| Amazing location...|                                8|                                         3|           6.7|[' Leisure trip '...|          10 days| You When I booke...|   774|\n",
      "|  5| s Gravesandestra...|                         194|  7/24/2017|          7.7|Hotel Arena|             Poland | Backyard of the ...|                               17|                   1403| Good restaurant ...|                               20|                                         1|           6.7|[' Leisure trip '...|          10 days| Backyard of the ...|   186|\n",
      "|  6| s Gravesandestra...|                         194|  7/17/2017|          7.7|Hotel Arena|     United Kingdom | Cleaner did not ...|                               33|                   1403| The room is spac...|                               18|                                         6|           4.6|[' Leisure trip '...|          17 days| Cleaner did not ...|   235|\n",
      "|  7| s Gravesandestra...|                         194|  7/17/2017|          7.7|Hotel Arena|     United Kingdom | Apart from the p...|                               11|                   1403| Good location Se...|                               19|                                         1|          10.0|[' Leisure trip '...|          17 days| Apart from the p...|   157|\n",
      "|  8| s Gravesandestra...|                         194|   7/9/2017|          7.7|Hotel Arena|            Belgium | Even though the ...|                               34|                   1403|                null|                                0|                                         3|           6.5|[' Leisure trip '...|          25 days| Even though the ...|   162|\n",
      "|  9| s Gravesandestra...|                         194|   7/8/2017|          7.7|Hotel Arena|             Norway | The aircondition...|                               15|                   1403| The room was big...|                               50|                                         1|           7.9|[' Leisure trip '...|          26 days| The aircondition...|   312|\n",
      "| 10| s Gravesandestra...|                         194|   7/7/2017|          7.7|Hotel Arena|     United Kingdom |  Nothing all great |                                5|                   1403| Rooms were stunn...|                              101|                                         2|          10.0|[' Leisure trip '...|          27 days| Nothing all grea...|   568|\n",
      "| 11| s Gravesandestra...|                         194|   7/6/2017|          7.7|Hotel Arena|             France | 6 30 AM started ...|                               75|                   1403| Style location r...|                                4|                                        12|           5.8|[' Business trip ...|          28 days| 6 30 AM started ...|   430|\n",
      "| 12| s Gravesandestra...|                         194|   7/6/2017|          7.7|Hotel Arena|     United Kingdom | The floor in my ...|                               28|                   1403| Comfy bed good l...|                                6|                                         7|           4.6|[' Leisure trip '...|          28 days| The floor in my ...|   152|\n",
      "| 13| s Gravesandestra...|                         194|   7/4/2017|          7.7|Hotel Arena|              Italy |                null|                                0|                   1403| This hotel is be...|                               59|                                         6|           9.2|[' Business trip ...|          30 days| This hotel is be...|   329|\n",
      "| 14| s Gravesandestra...|                         194|   7/4/2017|          7.7|Hotel Arena|             Canada | The staff in the...|                               35|                   1403| It was very good...|                               15|                                         1|           8.8|[' Leisure trip '...|          30 days| The staff in the...|   229|\n",
      "| 15| s Gravesandestra...|                         194|   7/3/2017|          7.7|Hotel Arena|              Italy |                null|                                0|                   1403| This hotel is aw...|                               82|                                        26|          10.0|[' Leisure trip '...|          31 days| This hotel is aw...|   413|\n",
      "| 16| s Gravesandestra...|                         194|   7/3/2017|          7.7|Hotel Arena|     United Kingdom | Very steep steps...|                               38|                   1403| Great onsite caf...|                               14|                                         8|           6.3|[' Leisure trip '...|          31 days| Very steep steps...|   270|\n",
      "| 17| s Gravesandestra...|                         194|  6/30/2017|          7.7|Hotel Arena|            Ireland | We did not like ...|                               59|                   1403| We loved the loc...|                               64|                                         2|           7.5|[' Leisure trip '...|          34 days| We did not like ...|   623|\n",
      "| 18| s Gravesandestra...|                         194|  6/29/2017|          7.7|Hotel Arena|        Netherlands |                null|                                0|                   1403| Public areas are...|                               33|                                         4|           7.1|[' Business trip ...|          35 days| Public areas are...|   166|\n",
      "| 19| s Gravesandestra...|                         194|  6/20/2017|          7.7|Hotel Arena|          Australia | We had issues wi...|                               73|                   1403| I liked the hote...|                               48|                                        16|           7.5|[' Leisure trip '...|          44 days| We had issues wi...|   620|\n",
      "+---+--------------------+----------------------------+-----------+-------------+-----------+--------------------+--------------------+---------------------------------+-----------------------+--------------------+---------------------------------+------------------------------------------+--------------+--------------------+-----------------+--------------------+------+\n",
      "only showing top 20 rows\n",
      "\n"
     ]
    }
   ],
   "source": [
    "from pyspark.sql.functions import length\n",
    "# Create a length column to be used as a future feature\n",
    "data_df = df.withColumn('length', length(df['Combined_Review']))\n",
    "data_df.show()"
   ]
  },
  {
   "cell_type": "code",
   "execution_count": 6,
   "metadata": {
    "id": "mnjC7sdrwyL0"
   },
   "outputs": [],
   "source": [
    "# Create all the features to the data set\n",
    "pos_neg_to_num = StringIndexer(inputCol='Reviewer_Score',outputCol='label')\n",
    "tokenizer = Tokenizer(inputCol=\"Combined_Review\", outputCol=\"token_text\")\n",
    "stopremove = StopWordsRemover(inputCol='token_text',outputCol='stop_tokens')\n",
    "hashingTF = HashingTF(inputCol=\"stop_tokens\", outputCol='hash_token')\n",
    "idf = IDF(inputCol='hash_token', outputCol='idf_token')"
   ]
  },
  {
   "cell_type": "code",
   "execution_count": 7,
   "metadata": {
    "id": "StQhEWRw254y"
   },
   "outputs": [],
   "source": [
    "from pyspark.ml.feature import VectorAssembler\n",
    "from pyspark.ml.linalg import Vector\n",
    "# Create feature vectors\n",
    "clean_up = VectorAssembler(inputCols=['idf_token', 'length'], outputCol='features')"
   ]
  },
  {
   "cell_type": "code",
   "execution_count": 8,
   "metadata": {
    "id": "_pwTN86YzVPj"
   },
   "outputs": [],
   "source": [
    "# Create and run a data processing Pipeline\n",
    "from pyspark.ml import Pipeline\n",
    "data_prep_pipeline = Pipeline(stages=[pos_neg_to_num, tokenizer, stopremove, hashingTF, idf, clean_up])"
   ]
  },
  {
   "cell_type": "code",
   "execution_count": 9,
   "metadata": {
    "colab": {
     "base_uri": "https://localhost:8080/"
    },
    "id": "as1ctTNS0Nff",
    "outputId": "6f1eda9d-a9c3-4fb5-9fdb-2b0ccde3200c"
   },
   "outputs": [
    {
     "name": "stdout",
     "output_type": "stream",
     "text": [
      "+-----+--------------------+\n",
      "|label|            features|\n",
      "+-----+--------------------+\n",
      "| 17.0|(262145,[2437,302...|\n",
      "|  5.0|(262145,[4714,514...|\n",
      "|  7.0|(262145,[22346,23...|\n",
      "| 15.0|(262145,[1797,230...|\n",
      "|  8.0|(262145,[14870,20...|\n",
      "|  8.0|(262145,[9781,304...|\n",
      "| 13.0|(262145,[21641,34...|\n",
      "|  0.0|(262145,[25789,43...|\n",
      "| 23.0|(262145,[22815,31...|\n",
      "|  6.0|(262145,[2437,216...|\n",
      "|  0.0|(262145,[9129,181...|\n",
      "| 10.0|(262145,[1696,383...|\n",
      "| 13.0|(262145,[1729,216...|\n",
      "|  2.0|(262145,[15370,23...|\n",
      "|  3.0|(262145,[6957,304...|\n",
      "|  0.0|(262145,[5765,218...|\n",
      "|  9.0|(262145,[3280,110...|\n",
      "|  5.0|(262145,[329,9129...|\n",
      "|  7.0|(262145,[11941,17...|\n",
      "|  5.0|(262145,[17435,21...|\n",
      "+-----+--------------------+\n",
      "only showing top 20 rows\n",
      "\n"
     ]
    }
   ],
   "source": [
    "# Fit and transform the pipeline\n",
    "cleaner = data_prep_pipeline.fit(data_df)\n",
    "cleaned = cleaner.transform(data_df)\n",
    "\n",
    "# Show \"Combined_Review\" and resulting features\n",
    "cleaned.select(['label', 'features']).show()"
   ]
  },
  {
   "cell_type": "code",
   "execution_count": 10,
   "metadata": {
    "id": "8Qe1rrGv0Nkn"
   },
   "outputs": [],
   "source": [
    "# Break data down into a training set and a testing set\n",
    "training, testing = cleaned.randomSplit([0.7, 0.3], 21)"
   ]
  },
  {
   "cell_type": "code",
   "execution_count": 11,
   "metadata": {
    "id": "CtPLIwaa0Nnf"
   },
   "outputs": [],
   "source": [
    "from pyspark.ml.classification import NaiveBayes\n",
    "# Create a Naive Bayes model and fit training data\n",
    "nb = NaiveBayes()\n",
    "predictor = nb.fit(training)"
   ]
  },
  {
   "cell_type": "code",
   "execution_count": 12,
   "metadata": {
    "colab": {
     "base_uri": "https://localhost:8080/"
    },
    "id": "jHb4DHem0Np9",
    "outputId": "69c56911-bd25-40ae-8856-cb283710e1ce"
   },
   "outputs": [
    {
     "name": "stdout",
     "output_type": "stream",
     "text": [
      "+---+--------------------+----------------------------+-----------+-------------+-----------+--------------------+--------------------+---------------------------------+-----------------------+--------------------+---------------------------------+------------------------------------------+--------------+--------------------+-----------------+--------------------+------+-----+--------------------+--------------------+--------------------+--------------------+--------------------+--------------------+--------------------+----------+\n",
      "| Id|       Hotel_Address|Additional_Number_of_Scoring|Review_Date|Average_Score| Hotel_Name|Reviewer_Nationality|     Negative_Review|Review_Total_Negative_Word_Counts|Total_Number_of_Reviews|     Positive_Review|Review_Total_Positive_Word_Counts|Total_Number_of_Reviews_Reviewer_Has_Given|Reviewer_Score|                Tags|days_since_review|     Combined_Review|length|label|          token_text|         stop_tokens|          hash_token|           idf_token|            features|       rawPrediction|         probability|prediction|\n",
      "+---+--------------------+----------------------------+-----------+-------------+-----------+--------------------+--------------------+---------------------------------+-----------------------+--------------------+---------------------------------+------------------------------------------+--------------+--------------------+-----------------+--------------------+------+-----+--------------------+--------------------+--------------------+--------------------+--------------------+--------------------+--------------------+----------+\n",
      "|101| s Gravesandestra...|                         194|  9/12/2016|          7.7|Hotel Arena|     United Kingdom | Hotel is having ...|                               56|                   1403| Location was ok ...|                               28|                                         5|           4.6|[' Business trip ...|          325 day| Hotel is having ...|   421| 13.0|[, hotel, is, hav...|[, hotel, constru...|(262144,[19192,21...|(262144,[19192,21...|(262145,[19192,21...|[-2609.8527472277...|[1.0,1.9934634121...|       0.0|\n",
      "|108| s Gravesandestra...|                         194|  7/20/2016|          7.7|Hotel Arena|     United Kingdom | There was a loud...|                               28|                   1403| The hotel is loc...|                               39|                                        14|           9.6|[' Leisure trip '...|          379 day| There was a loud...|   326|  1.0|[, there, was, a,...|[, loud, noise, o...|(262144,[21294,22...|(262144,[21294,22...|(262145,[21294,22...|[-2002.4155679371...|[1.0,4.4963142039...|       0.0|\n",
      "|117| s Gravesandestra...|                         194|  6/17/2016|          7.7|Hotel Arena|             Canada | The outside of t...|                               18|                   1403| The inside of th...|                               67|                                         2|           8.8|[' Leisure trip '...|          412 day| The outside of t...|   426|  3.0|[, the, outside, ...|[, outside, hotel...|(262144,[21641,22...|(262144,[21641,22...|(262145,[21641,22...|[-2382.1799443370...|[1.0,3.3200143152...|       0.0|\n",
      "|122| s Gravesandestra...|                         194|   6/1/2016|          7.7|Hotel Arena|         Luxembourg | The bathroom has...|                               21|                   1403| Well located if ...|                               12|                                         9|           4.2|[' Leisure trip '...|          428 day| The bathroom has...|   150| 14.0|[, the, bathroom,...|[, bathroom, cris...|(262144,[23071,33...|(262144,[23071,33...|(262145,[23071,33...|[-908.54525207472...|[1.0,4.8185520886...|       0.0|\n",
      "|130| s Gravesandestra...|                         194|   5/3/2016|          7.7|Hotel Arena|     United Kingdom | Two storey room ...|                               18|                   1403| Very helpful and...|                               21|                                         2|           7.9|[' Leisure trip '...|          457 day| Two storey room ...|   225|  6.0|[, two, storey, r...|[, two, storey, r...|(262144,[7748,125...|(262144,[7748,125...|(262145,[7748,125...|[-1832.3876783423...|[1.0,3.5660061078...|       0.0|\n",
      "|131| s Gravesandestra...|                         194|   5/3/2016|          7.7|Hotel Arena|        Netherlands | There was a stai...|                               38|                   1403| The hotel has it...|                               29|                                         7|           8.3|[' Leisure trip '...|          457 day| There was a stai...|   319|  4.0|[, there, was, a,...|[, staircase, roo...|(262144,[21641,21...|(262144,[21641,21...|(262145,[21641,21...|[-1809.7126467387...|[1.0,4.8543112797...|       0.0|\n",
      "|133| s Gravesandestra...|                         194|   5/1/2016|          7.7|Hotel Arena|     United Kingdom | First impression...|                               56|                   1403| Comfy beds we up...|                               38|                                         3|          10.0|[' Leisure trip '...|          459 day| First impression...|   504|  0.0|[, first, impress...|[, first, impress...|(262144,[9284,160...|(262144,[9284,160...|(262145,[9284,160...|[-3229.2639460250...|[1.0,1.5593636119...|       0.0|\n",
      "|134| s Gravesandestra...|                         194|   5/1/2016|          7.7|Hotel Arena|          Australia | Foyer was a mess...|                              180|                   1403|                null|                                0|                                         6|           4.6|[' Leisure trip '...|          459 day| Foyer was a mess...|   923| 13.0|[, foyer, was, a,...|[, foyer, mess, p...|(262144,[2564,100...|(262144,[2564,100...|(262145,[2564,100...|[-6271.5665760035...|[1.0,3.5989709456...|       0.0|\n",
      "|140| s Gravesandestra...|                         194|  4/22/2016|          7.7|Hotel Arena|     United Kingdom |                null|                                0|                   1403| Beautiful gothic...|                               40|                                         2|          10.0|[' Leisure trip '...|          468 day| Beautiful gothic...|   235|  0.0|[, beautiful, got...|[, beautiful, got...|(262144,[6501,912...|(262144,[6501,912...|(262145,[6501,912...|[-1634.3156538222...|[1.0,2.1751270304...|       0.0|\n",
      "|145| s Gravesandestra...|                         194|  4/12/2016|          7.7|Hotel Arena|     United Kingdom | Stairs in our ro...|                               30|                   1403| Hotel was very c...|                               13|                                         3|           9.6|[' Leisure trip '...|          478 day| Stairs in our ro...|   224|  1.0|[, stairs, in, ou...|[, stairs, room, ...|(262144,[329,9781...|(262144,[329,9781...|(262145,[329,9781...|[-1477.3945801647...|[1.0,3.6460820378...|       0.0|\n",
      "+---+--------------------+----------------------------+-----------+-------------+-----------+--------------------+--------------------+---------------------------------+-----------------------+--------------------+---------------------------------+------------------------------------------+--------------+--------------------+-----------------+--------------------+------+-----+--------------------+--------------------+--------------------+--------------------+--------------------+--------------------+--------------------+----------+\n",
      "only showing top 10 rows\n",
      "\n"
     ]
    }
   ],
   "source": [
    "# Transform the data with the testing data\n",
    "test_results = predictor.transform(testing)\n",
    "test_results.show(10)"
   ]
  },
  {
   "cell_type": "code",
   "execution_count": 13,
   "metadata": {
    "colab": {
     "base_uri": "https://localhost:8080/"
    },
    "id": "shc-i0sR0NxL",
    "outputId": "7882fbee-5426-4644-fe97-162b0c53ae23"
   },
   "outputs": [
    {
     "name": "stdout",
     "output_type": "stream",
     "text": [
      "Accuracy of model at predicting reviews was: 0.091161\n"
     ]
    }
   ],
   "source": [
    "# Use the Class Evaluator for a cleaner description\n",
    "from pyspark.ml.evaluation import MulticlassClassificationEvaluator\n",
    "\n",
    "acc_eval = MulticlassClassificationEvaluator()\n",
    "acc = acc_eval.evaluate(test_results)\n",
    "print(\"Accuracy of model at predicting reviews was: %f\" %acc)"
   ]
  },
  {
   "cell_type": "code",
   "execution_count": 13,
   "metadata": {
    "id": "s9Y6f72xxQ9p"
   },
   "outputs": [],
   "source": []
  }
 ],
 "metadata": {
  "colab": {
   "name": "NLP.ipynb",
   "provenance": []
  },
  "kernelspec": {
   "display_name": "Python 3",
   "language": "python",
   "name": "python3"
  },
  "language_info": {
   "codemirror_mode": {
    "name": "ipython",
    "version": 3
   },
   "file_extension": ".py",
   "mimetype": "text/x-python",
   "name": "python",
   "nbconvert_exporter": "python",
   "pygments_lexer": "ipython3",
   "version": "3.7.7"
  }
 },
 "nbformat": 4,
 "nbformat_minor": 1
}
