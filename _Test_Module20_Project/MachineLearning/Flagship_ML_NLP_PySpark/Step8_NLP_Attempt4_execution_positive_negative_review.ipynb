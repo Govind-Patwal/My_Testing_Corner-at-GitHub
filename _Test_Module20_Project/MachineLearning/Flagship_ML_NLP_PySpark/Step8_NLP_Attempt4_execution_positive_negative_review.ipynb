{
 "cells": [
  {
   "cell_type": "markdown",
   "metadata": {
    "id": "SIZfgdzXciMg"
   },
   "source": [
    "# This file runs best on ***Google Colab***\n",
    "## Before running this file, the Data Source file needs to be placed at the same level as this file\n",
    "\n",
    "### Data file location: https://github.com/JagpreetBath/European_Hotel_Analysis/tree/main/DataFiles/TransformedData/tables/hotel_reviews_for_NLP4_Positive_Negative_review_score.csv"
   ]
  },
  {
   "cell_type": "code",
   "execution_count": 1,
   "metadata": {
    "colab": {
     "base_uri": "https://localhost:8080/"
    },
    "id": "CarnJEuzwP1B",
    "outputId": "60d677d4-f00b-401d-e677-33aa63492b41"
   },
   "outputs": [
    {
     "name": "stdout",
     "output_type": "stream",
     "text": [
      "Hit:1 https://cloud.r-project.org/bin/linux/ubuntu bionic-cran40/ InRelease\n",
      "Ign:2 https://developer.download.nvidia.com/compute/cuda/repos/ubuntu1804/x86_64  InRelease\n",
      "Ign:3 https://developer.download.nvidia.com/compute/machine-learning/repos/ubuntu1804/x86_64  InRelease\n",
      "Hit:4 https://developer.download.nvidia.com/compute/cuda/repos/ubuntu1804/x86_64  Release\n",
      "Hit:5 https://developer.download.nvidia.com/compute/machine-learning/repos/ubuntu1804/x86_64  Release\n",
      "Hit:6 http://archive.ubuntu.com/ubuntu bionic InRelease\n",
      "Hit:7 http://ppa.launchpad.net/c2d4u.team/c2d4u4.0+/ubuntu bionic InRelease\n",
      "Hit:9 http://security.ubuntu.com/ubuntu bionic-security InRelease\n",
      "Hit:10 http://archive.ubuntu.com/ubuntu bionic-updates InRelease\n",
      "Hit:12 http://archive.ubuntu.com/ubuntu bionic-backports InRelease\n",
      "Hit:13 http://ppa.launchpad.net/graphics-drivers/ppa/ubuntu bionic InRelease\n",
      "Reading package lists... Done\n"
     ]
    }
   ],
   "source": [
    "import os\n",
    "# Find the latest version of spark 3.0  from http://www-us.apache.org/dist/spark/ and enter as the spark version\n",
    "# For example:\n",
    "# spark_version = 'spark-3.0.1'\n",
    "spark_version = 'spark-3.0.1'\n",
    "os.environ['SPARK_VERSION']=spark_version\n",
    "\n",
    "# Install Spark and Java\n",
    "!apt-get update\n",
    "!apt-get install openjdk-11-jdk-headless -qq > /dev/null\n",
    "!wget -q http://www-us.apache.org/dist/spark/$SPARK_VERSION/$SPARK_VERSION-bin-hadoop2.7.tgz\n",
    "!tar xf $SPARK_VERSION-bin-hadoop2.7.tgz\n",
    "!pip install -q findspark\n",
    "\n",
    "# Set Environment Variables\n",
    "import os\n",
    "os.environ[\"JAVA_HOME\"] = \"/usr/lib/jvm/java-11-openjdk-amd64\"\n",
    "os.environ[\"SPARK_HOME\"] = f\"/content/{spark_version}-bin-hadoop2.7\"\n",
    "\n",
    "# Start a SparkSession\n",
    "import findspark\n",
    "findspark.init()"
   ]
  },
  {
   "cell_type": "code",
   "execution_count": 2,
   "metadata": {
    "id": "lZilGKyDwUV_"
   },
   "outputs": [],
   "source": [
    "# Start Spark session\n",
    "from pyspark.sql import SparkSession\n",
    "spark = SparkSession.builder.appName(\"PySpark_NLP_Attempt4\").getOrCreate()"
   ]
  },
  {
   "cell_type": "code",
   "execution_count": 3,
   "metadata": {
    "colab": {
     "base_uri": "https://localhost:8080/"
    },
    "id": "lOu9ay3cwZX9",
    "outputId": "7b5ea6c4-472e-461b-884e-f2215ebf9dae"
   },
   "outputs": [
    {
     "name": "stdout",
     "output_type": "stream",
     "text": [
      "+--------------------+------------------+\n",
      "|              Review|Reviewer_Sentiment|\n",
      "+--------------------+------------------+\n",
      "| I am so angry th...|          negative|\n",
      "| No real complain...|          positive|\n",
      "| Rooms are nice b...|          positive|\n",
      "| My room was dirt...|          negative|\n",
      "| You When I booke...|          positive|\n",
      "| Backyard of the ...|          positive|\n",
      "| Cleaner did not ...|          negative|\n",
      "| Apart from the p...|          positive|\n",
      "| Even though the ...|          positive|\n",
      "| The aircondition...|          positive|\n",
      "| Nothing all grea...|          positive|\n",
      "| 6 30 AM started ...|          positive|\n",
      "| The floor in my ...|          negative|\n",
      "| This hotel is be...|          positive|\n",
      "| The staff in the...|          positive|\n",
      "| This hotel is aw...|          positive|\n",
      "| Very steep steps...|          positive|\n",
      "| We did not like ...|          positive|\n",
      "| Public areas are...|          positive|\n",
      "| We had issues wi...|          positive|\n",
      "+--------------------+------------------+\n",
      "only showing top 20 rows\n",
      "\n"
     ]
    }
   ],
   "source": [
    "# Read in data \n",
    "from pyspark import SparkFiles\n",
    "file_path = \"hotel_reviews_for_NLP4_Positive_Negative_review_score.csv\"\n",
    "spark.sparkContext.addFile(file_path)\n",
    "df = spark.read.csv(SparkFiles.get(\"hotel_reviews_for_NLP4_Positive_Negative_review_score.csv\"), sep=\",\", header=True)\n",
    "\n",
    "# Show DataFrame\n",
    "df.show()"
   ]
  },
  {
   "cell_type": "code",
   "execution_count": 4,
   "metadata": {
    "id": "sx5ryO5Bwe94"
   },
   "outputs": [],
   "source": [
    "# Import functions\n",
    "from pyspark.ml.feature import Tokenizer, StopWordsRemover, HashingTF, IDF, StringIndexer"
   ]
  },
  {
   "cell_type": "code",
   "execution_count": 5,
   "metadata": {
    "colab": {
     "base_uri": "https://localhost:8080/"
    },
    "id": "2Pf42Ru-woQ0",
    "outputId": "60f8cdb0-af23-4345-aedb-c8eac7df44e8"
   },
   "outputs": [
    {
     "name": "stdout",
     "output_type": "stream",
     "text": [
      "+--------------------+------------------+------+\n",
      "|              Review|Reviewer_Sentiment|length|\n",
      "+--------------------+------------------+------+\n",
      "| I am so angry th...|          negative|  1913|\n",
      "| No real complain...|          positive|   611|\n",
      "| Rooms are nice b...|          positive|   301|\n",
      "| My room was dirt...|          negative|  1221|\n",
      "| You When I booke...|          positive|   774|\n",
      "| Backyard of the ...|          positive|   186|\n",
      "| Cleaner did not ...|          negative|   235|\n",
      "| Apart from the p...|          positive|   157|\n",
      "| Even though the ...|          positive|   162|\n",
      "| The aircondition...|          positive|   312|\n",
      "| Nothing all grea...|          positive|   568|\n",
      "| 6 30 AM started ...|          positive|   430|\n",
      "| The floor in my ...|          negative|   152|\n",
      "| This hotel is be...|          positive|   329|\n",
      "| The staff in the...|          positive|   229|\n",
      "| This hotel is aw...|          positive|   413|\n",
      "| Very steep steps...|          positive|   270|\n",
      "| We did not like ...|          positive|   623|\n",
      "| Public areas are...|          positive|   166|\n",
      "| We had issues wi...|          positive|   620|\n",
      "+--------------------+------------------+------+\n",
      "only showing top 20 rows\n",
      "\n"
     ]
    }
   ],
   "source": [
    "from pyspark.sql.functions import length\n",
    "# Create a length column to be used as a future feature\n",
    "data_df = df.withColumn('length', length(df['Review']))\n",
    "data_df.show()"
   ]
  },
  {
   "cell_type": "code",
   "execution_count": 6,
   "metadata": {
    "id": "mnjC7sdrwyL0"
   },
   "outputs": [],
   "source": [
    "# Create all the features to the data set\n",
    "convert_review_output_to_numbers = StringIndexer(inputCol='Reviewer_Sentiment',outputCol='label')\n",
    "tokenizer = Tokenizer(inputCol=\"Review\", outputCol=\"token_text\")\n",
    "stopremove = StopWordsRemover(inputCol='token_text',outputCol='stop_tokens')\n",
    "hashingTF = HashingTF(inputCol=\"stop_tokens\", outputCol='hash_token')\n",
    "idf = IDF(inputCol='hash_token', outputCol='idf_token')"
   ]
  },
  {
   "cell_type": "code",
   "execution_count": 7,
   "metadata": {
    "id": "StQhEWRw254y"
   },
   "outputs": [],
   "source": [
    "from pyspark.ml.feature import VectorAssembler\n",
    "from pyspark.ml.linalg import Vector\n",
    "# Create feature vectors\n",
    "clean_up = VectorAssembler(inputCols=['idf_token', 'length'], outputCol='features')"
   ]
  },
  {
   "cell_type": "code",
   "execution_count": 8,
   "metadata": {
    "id": "_pwTN86YzVPj"
   },
   "outputs": [],
   "source": [
    "# Create and run a data processing Pipeline\n",
    "from pyspark.ml import Pipeline\n",
    "data_prep_pipeline = Pipeline(stages=[convert_review_output_to_numbers, tokenizer, stopremove, hashingTF, idf, clean_up])"
   ]
  },
  {
   "cell_type": "code",
   "execution_count": 9,
   "metadata": {
    "colab": {
     "base_uri": "https://localhost:8080/"
    },
    "id": "as1ctTNS0Nff",
    "outputId": "6d63b763-18a0-4524-c83a-61e1e4233cd1"
   },
   "outputs": [
    {
     "name": "stdout",
     "output_type": "stream",
     "text": [
      "+-----+--------------------+\n",
      "|label|            features|\n",
      "+-----+--------------------+\n",
      "|  1.0|(262145,[2437,302...|\n",
      "|  0.0|(262145,[4714,514...|\n",
      "|  0.0|(262145,[22346,23...|\n",
      "|  1.0|(262145,[1797,230...|\n",
      "|  0.0|(262145,[14870,20...|\n",
      "|  0.0|(262145,[9781,304...|\n",
      "|  1.0|(262145,[21641,34...|\n",
      "|  0.0|(262145,[25789,43...|\n",
      "|  0.0|(262145,[22815,31...|\n",
      "|  0.0|(262145,[2437,216...|\n",
      "|  0.0|(262145,[9129,181...|\n",
      "|  0.0|(262145,[1696,383...|\n",
      "|  1.0|(262145,[1729,216...|\n",
      "|  0.0|(262145,[15370,23...|\n",
      "|  0.0|(262145,[6957,304...|\n",
      "|  0.0|(262145,[5765,218...|\n",
      "|  0.0|(262145,[3280,110...|\n",
      "|  0.0|(262145,[329,9129...|\n",
      "|  0.0|(262145,[11941,17...|\n",
      "|  0.0|(262145,[17435,21...|\n",
      "+-----+--------------------+\n",
      "only showing top 20 rows\n",
      "\n"
     ]
    }
   ],
   "source": [
    "# Fit and transform the pipeline\n",
    "cleaner = data_prep_pipeline.fit(data_df)\n",
    "cleaned = cleaner.transform(data_df)\n",
    "\n",
    "# Show \"Combined_Review\" and resulting features\n",
    "cleaned.select(['label', 'features']).show()"
   ]
  },
  {
   "cell_type": "code",
   "execution_count": 10,
   "metadata": {
    "id": "8Qe1rrGv0Nkn"
   },
   "outputs": [],
   "source": [
    "# Break data down into a training set and a testing set\n",
    "training, testing = cleaned.randomSplit([0.7, 0.3], 21)"
   ]
  },
  {
   "cell_type": "code",
   "execution_count": 11,
   "metadata": {
    "id": "CtPLIwaa0Nnf"
   },
   "outputs": [],
   "source": [
    "from pyspark.ml.classification import NaiveBayes\n",
    "# Create a Naive Bayes model and fit training data\n",
    "nb = NaiveBayes()\n",
    "predictor = nb.fit(training)"
   ]
  },
  {
   "cell_type": "code",
   "execution_count": 12,
   "metadata": {
    "colab": {
     "base_uri": "https://localhost:8080/"
    },
    "id": "jHb4DHem0Np9",
    "outputId": "6c63cc49-bb6d-4bfe-ba19-14acabbb7ff0"
   },
   "outputs": [
    {
     "name": "stdout",
     "output_type": "stream",
     "text": [
      "+--------------------+------------------+------+-----+--------------------+--------------------+--------------------+--------------------+--------------------+--------------------+--------------------+----------+\n",
      "|              Review|Reviewer_Sentiment|length|label|          token_text|         stop_tokens|          hash_token|           idf_token|            features|       rawPrediction|         probability|prediction|\n",
      "+--------------------+------------------+------+-----+--------------------+--------------------+--------------------+--------------------+--------------------+--------------------+--------------------+----------+\n",
      "| A bit noisy You ...|          positive|   429|  0.0|[, a, bit, noisy,...|[, bit, noisy, he...|(262144,[9781,216...|(262144,[9781,216...|(262145,[9781,216...|[-2052.0902477667...|           [1.0,0.0]|       0.0|\n",
      "| A very well orga...|          positive|   123|  0.0|[, a, very, well,...|[, well, organise...|(262144,[6346,732...|(262144,[6346,732...|(262145,[6346,732...|[-380.01283307038...|[1.0,1.0363952057...|       0.0|\n",
      "| All the staff wh...|          positive|   120|  0.0|[, all, the, staf...|[, staff, friendl...|(262144,[59317,78...|(262144,[59317,78...|(262145,[59317,78...|[-305.84316493155...|[1.0,6.8642434982...|       0.0|\n",
      "| Arena hotel is l...|          positive|   538|  0.0|[, arena, hotel, ...|[, arena, hotel, ...|(262144,[6346,978...|(262144,[6346,978...|(262145,[6346,978...|[-2660.5810196057...|           [1.0,0.0]|       0.0|\n",
      "| Basically everyt...|          positive|   420|  0.0|[, basically, eve...|[, basically, eve...|(262144,[12035,22...|(262144,[12035,22...|(262145,[12035,22...|[-1662.1770490948...|           [1.0,0.0]|       0.0|\n",
      "| Bath wasn t clea...|          positive|    98|  0.0|[, bath, wasn, t,...|[, bath, wasn, cl...|(262144,[22346,44...|(262144,[22346,44...|(262145,[22346,44...|[-450.06736211503...|[1.0,1.0679020252...|       0.0|\n",
      "| Bathroom lightin...|          positive|   501|  0.0|[, bathroom, ligh...|[, bathroom, ligh...|(262144,[8408,125...|(262144,[8408,125...|(262145,[8408,125...|[-2265.3254286364...|           [1.0,0.0]|       0.0|\n",
      "| Bathroom smell T...|          negative|    64|  1.0|[, bathroom, smel...|[, bathroom, smel...|(262144,[21086,41...|(262144,[21086,41...|(262145,[21086,41...|[-288.98313880824...|[1.0,2.3605858904...|       0.0|\n",
      "| Bathrooms were t...|          positive|    61|  0.0|[, bathrooms, wer...|[, bathrooms, tin...|(262144,[54425,55...|(262144,[54425,55...|(262145,[54425,55...|[-307.04032940764...|[1.0,3.3234655257...|       0.0|\n",
      "| Beautiful hotel ...|          positive|    95|  0.0|[, beautiful, hot...|[, beautiful, hot...|(262144,[43756,69...|(262144,[43756,69...|(262145,[43756,69...|[-423.55187284140...|[1.0,4.4170689170...|       0.0|\n",
      "+--------------------+------------------+------+-----+--------------------+--------------------+--------------------+--------------------+--------------------+--------------------+--------------------+----------+\n",
      "only showing top 10 rows\n",
      "\n"
     ]
    }
   ],
   "source": [
    "# Transform the data with the testing data\n",
    "test_results = predictor.transform(testing)\n",
    "test_results.show(10)"
   ]
  },
  {
   "cell_type": "code",
   "execution_count": 13,
   "metadata": {
    "colab": {
     "base_uri": "https://localhost:8080/"
    },
    "id": "shc-i0sR0NxL",
    "outputId": "bde2bfee-67c8-46da-9a8a-4e49a8f5388d"
   },
   "outputs": [
    {
     "name": "stdout",
     "output_type": "stream",
     "text": [
      "Accuracy of model at predicting reviews was: 0.922946\n"
     ]
    }
   ],
   "source": [
    "# Use the Class Evaluator for a cleaner description\n",
    "from pyspark.ml.evaluation import MulticlassClassificationEvaluator\n",
    "\n",
    "acc_eval = MulticlassClassificationEvaluator()\n",
    "acc = acc_eval.evaluate(test_results)\n",
    "print(\"Accuracy of model at predicting reviews was: %f\" %acc)"
   ]
  },
  {
   "cell_type": "code",
   "execution_count": 13,
   "metadata": {
    "id": "s9Y6f72xxQ9p"
   },
   "outputs": [],
   "source": []
  }
 ],
 "metadata": {
  "colab": {
   "collapsed_sections": [],
   "name": "Step8_NLP_Attempt4_execution_positive_negative_review.ipynb",
   "provenance": [],
   "toc_visible": true
  },
  "kernelspec": {
   "display_name": "Python 3",
   "language": "python",
   "name": "python3"
  },
  "language_info": {
   "codemirror_mode": {
    "name": "ipython",
    "version": 3
   },
   "file_extension": ".py",
   "mimetype": "text/x-python",
   "name": "python",
   "nbconvert_exporter": "python",
   "pygments_lexer": "ipython3",
   "version": "3.7.7"
  }
 },
 "nbformat": 4,
 "nbformat_minor": 1
}
