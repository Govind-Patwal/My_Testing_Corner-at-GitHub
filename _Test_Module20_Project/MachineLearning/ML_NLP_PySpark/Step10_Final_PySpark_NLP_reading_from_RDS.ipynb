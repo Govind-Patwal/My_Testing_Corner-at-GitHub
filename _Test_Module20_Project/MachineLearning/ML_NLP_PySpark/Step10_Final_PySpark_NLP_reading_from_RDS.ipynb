{
 "cells": [
  {
   "cell_type": "markdown",
   "metadata": {
    "id": "ODYI86E6G0dU"
   },
   "source": [
    "# This file runs on Google Colab \n",
    "## The data input source is AWS RDS PostgresSQL \n",
    "### Running this file end-to-end can take 10-15 minutes"
   ]
  },
  {
   "cell_type": "code",
   "execution_count": 1,
   "metadata": {
    "colab": {
     "base_uri": "https://localhost:8080/"
    },
    "id": "CarnJEuzwP1B",
    "outputId": "c7a6628d-99a3-4c85-fe6f-933ba8bdf627"
   },
   "outputs": [
    {
     "name": "stdout",
     "output_type": "stream",
     "text": [
      "Hit:1 https://cloud.r-project.org/bin/linux/ubuntu bionic-cran40/ InRelease\n",
      "Ign:2 https://developer.download.nvidia.com/compute/cuda/repos/ubuntu1804/x86_64  InRelease\n",
      "Ign:3 https://developer.download.nvidia.com/compute/machine-learning/repos/ubuntu1804/x86_64  InRelease\n",
      "Hit:4 https://developer.download.nvidia.com/compute/cuda/repos/ubuntu1804/x86_64  Release\n",
      "Hit:5 https://developer.download.nvidia.com/compute/machine-learning/repos/ubuntu1804/x86_64  Release\n",
      "Hit:6 http://archive.ubuntu.com/ubuntu bionic InRelease\n",
      "Hit:7 http://security.ubuntu.com/ubuntu bionic-security InRelease\n",
      "Hit:8 http://ppa.launchpad.net/c2d4u.team/c2d4u4.0+/ubuntu bionic InRelease\n",
      "Hit:10 http://archive.ubuntu.com/ubuntu bionic-updates InRelease\n",
      "Hit:12 http://archive.ubuntu.com/ubuntu bionic-backports InRelease\n",
      "Hit:13 http://ppa.launchpad.net/graphics-drivers/ppa/ubuntu bionic InRelease\n",
      "Reading package lists... Done\n"
     ]
    }
   ],
   "source": [
    "import os\n",
    "# Find the latest version of spark 3.0  from http://www-us.apache.org/dist/spark/ and enter as the spark version\n",
    "# For example:\n",
    "# spark_version = 'spark-3.0.1'\n",
    "spark_version = 'spark-3.0.1'\n",
    "os.environ['SPARK_VERSION']=spark_version\n",
    "\n",
    "# Install Spark and Java\n",
    "!apt-get update\n",
    "!apt-get install openjdk-11-jdk-headless -qq > /dev/null\n",
    "!wget -q http://www-us.apache.org/dist/spark/$SPARK_VERSION/$SPARK_VERSION-bin-hadoop2.7.tgz\n",
    "!tar xf $SPARK_VERSION-bin-hadoop2.7.tgz\n",
    "!pip install -q findspark\n",
    "\n",
    "# Set Environment Variables\n",
    "import os\n",
    "os.environ[\"JAVA_HOME\"] = \"/usr/lib/jvm/java-11-openjdk-amd64\"\n",
    "os.environ[\"SPARK_HOME\"] = f\"/content/{spark_version}-bin-hadoop2.7\"\n",
    "\n",
    "# Start a SparkSession\n",
    "import findspark\n",
    "findspark.init()"
   ]
  },
  {
   "cell_type": "code",
   "execution_count": 2,
   "metadata": {
    "id": "lZilGKyDwUV_"
   },
   "outputs": [],
   "source": [
    "# Start Spark session\n",
    "from pyspark.sql import SparkSession\n",
    "spark = SparkSession.builder.appName(\"Hotel_Reviews_NLP_from_RDS\").getOrCreate()"
   ]
  },
  {
   "cell_type": "code",
   "execution_count": 3,
   "metadata": {
    "colab": {
     "base_uri": "https://localhost:8080/",
     "height": 504
    },
    "id": "FBrRnsEK1gI1",
    "outputId": "13e95873-fb3d-4957-c021-c677ef003a7d"
   },
   "outputs": [
    {
     "name": "stderr",
     "output_type": "stream",
     "text": [
      "/usr/local/lib/python3.6/dist-packages/psycopg2/__init__.py:144: UserWarning: The psycopg2 wheel package will be renamed from release 2.8; in order to keep installing from binary please use \"pip install psycopg2-binary\" instead. For details see: <http://initd.org/psycopg/docs/install.html#binary-install-from-pypi>.\n",
      "  \"\"\")\n"
     ]
    },
    {
     "data": {
      "text/html": [
       "<div>\n",
       "<style scoped>\n",
       "    .dataframe tbody tr th:only-of-type {\n",
       "        vertical-align: middle;\n",
       "    }\n",
       "\n",
       "    .dataframe tbody tr th {\n",
       "        vertical-align: top;\n",
       "    }\n",
       "\n",
       "    .dataframe thead th {\n",
       "        text-align: right;\n",
       "    }\n",
       "</style>\n",
       "<table border=\"1\" class=\"dataframe\">\n",
       "  <thead>\n",
       "    <tr style=\"text-align: right;\">\n",
       "      <th></th>\n",
       "      <th>review</th>\n",
       "      <th>reviewer_sentiment</th>\n",
       "    </tr>\n",
       "    <tr>\n",
       "      <th>review_id</th>\n",
       "      <th></th>\n",
       "      <th></th>\n",
       "    </tr>\n",
       "  </thead>\n",
       "  <tbody>\n",
       "    <tr>\n",
       "      <th>0</th>\n",
       "      <td>I am so angry that i made this post available...</td>\n",
       "      <td>negative</td>\n",
       "    </tr>\n",
       "    <tr>\n",
       "      <th>1</th>\n",
       "      <td>No real complaints the hotel was great great ...</td>\n",
       "      <td>positive</td>\n",
       "    </tr>\n",
       "    <tr>\n",
       "      <th>2</th>\n",
       "      <td>Rooms are nice but for elderly a bit difficul...</td>\n",
       "      <td>positive</td>\n",
       "    </tr>\n",
       "    <tr>\n",
       "      <th>3</th>\n",
       "      <td>My room was dirty and I was afraid to walk ba...</td>\n",
       "      <td>negative</td>\n",
       "    </tr>\n",
       "    <tr>\n",
       "      <th>4</th>\n",
       "      <td>You When I booked with your company on line y...</td>\n",
       "      <td>positive</td>\n",
       "    </tr>\n",
       "    <tr>\n",
       "      <th>...</th>\n",
       "      <td>...</td>\n",
       "      <td>...</td>\n",
       "    </tr>\n",
       "    <tr>\n",
       "      <th>512338</th>\n",
       "      <td>no trolly or staff to help you take the lugga...</td>\n",
       "      <td>positive</td>\n",
       "    </tr>\n",
       "    <tr>\n",
       "      <th>512339</th>\n",
       "      <td>The hotel looks like 3 but surely not 4  Brea...</td>\n",
       "      <td>positive</td>\n",
       "    </tr>\n",
       "    <tr>\n",
       "      <th>512340</th>\n",
       "      <td>The ac was useless It was a hot week in vienn...</td>\n",
       "      <td>negative</td>\n",
       "    </tr>\n",
       "    <tr>\n",
       "      <th>512341</th>\n",
       "      <td>The rooms are enormous and really comfortable...</td>\n",
       "      <td>positive</td>\n",
       "    </tr>\n",
       "    <tr>\n",
       "      <th>512342</th>\n",
       "      <td>I was in 3rd floor It didn t work Free Wife  ...</td>\n",
       "      <td>positive</td>\n",
       "    </tr>\n",
       "  </tbody>\n",
       "</table>\n",
       "<p>512343 rows × 2 columns</p>\n",
       "</div>"
      ],
      "text/plain": [
       "                                                      review reviewer_sentiment\n",
       "review_id                                                                      \n",
       "0           I am so angry that i made this post available...           negative\n",
       "1           No real complaints the hotel was great great ...           positive\n",
       "2           Rooms are nice but for elderly a bit difficul...           positive\n",
       "3           My room was dirty and I was afraid to walk ba...           negative\n",
       "4           You When I booked with your company on line y...           positive\n",
       "...                                                      ...                ...\n",
       "512338      no trolly or staff to help you take the lugga...           positive\n",
       "512339      The hotel looks like 3 but surely not 4  Brea...           positive\n",
       "512340      The ac was useless It was a hot week in vienn...           negative\n",
       "512341      The rooms are enormous and really comfortable...           positive\n",
       "512342      I was in 3rd floor It didn t work Free Wife  ...           positive\n",
       "\n",
       "[512343 rows x 2 columns]"
      ]
     },
     "execution_count": 3,
     "metadata": {
      "tags": []
     },
     "output_type": "execute_result"
    }
   ],
   "source": [
    "# Importing data from RDS (AWS)\n",
    "import psycopg2\n",
    "connection = psycopg2.connect(\n",
    "    host = 'sample-hotel-reviews.cfxm7dziqs2d.us-east-2.rds.amazonaws.com',\n",
    "    port = 5432,\n",
    "    user = 'postgres',\n",
    "    password = 'Postgres$123',\n",
    "    database = 'PySpark_NLP'\n",
    "    )\n",
    "cursor=connection.cursor()\n",
    "\n",
    "# using pandas to execute SQL queries\n",
    "import pandas as pd\n",
    "sql = \"\"\"\n",
    "SELECT *\n",
    "FROM public.\"db_for_nlp\"\n",
    "\"\"\"\n",
    "pandas_df = pd.read_sql(sql, con=connection, index_col='review_id')\n",
    "\n",
    "# Show DataFrame\n",
    "pandas_df"
   ]
  },
  {
   "cell_type": "code",
   "execution_count": 4,
   "metadata": {
    "colab": {
     "base_uri": "https://localhost:8080/"
    },
    "id": "xr9bgq0x3l1Y",
    "outputId": "9f002e15-760b-44a8-ed19-f37aeac860ef"
   },
   "outputs": [
    {
     "name": "stderr",
     "output_type": "stream",
     "text": [
      "/content/spark-3.0.1-bin-hadoop2.7/python/pyspark/sql/pandas/conversion.py:289: UserWarning: createDataFrame attempted Arrow optimization because 'spark.sql.execution.arrow.pyspark.enabled' is set to true; however, failed by the reason below:\n",
      "  PyArrow >= 0.15.1 must be installed; however, your version was 0.14.1.\n",
      "Attempting non-optimization as 'spark.sql.execution.arrow.pyspark.fallback.enabled' is set to true.\n",
      "  warnings.warn(msg)\n"
     ]
    },
    {
     "name": "stdout",
     "output_type": "stream",
     "text": [
      "+--------------------+------------------+\n",
      "|              review|reviewer_sentiment|\n",
      "+--------------------+------------------+\n",
      "| I am so angry th...|          negative|\n",
      "| No real complain...|          positive|\n",
      "| Rooms are nice b...|          positive|\n",
      "| My room was dirt...|          negative|\n",
      "| You When I booke...|          positive|\n",
      "| Backyard of the ...|          positive|\n",
      "| Cleaner did not ...|          negative|\n",
      "| Apart from the p...|          positive|\n",
      "| Even though the ...|          positive|\n",
      "| The aircondition...|          positive|\n",
      "| Nothing all grea...|          positive|\n",
      "| 6 30 AM started ...|          positive|\n",
      "| The floor in my ...|          negative|\n",
      "| This hotel is be...|          positive|\n",
      "| Rooms a bit smal...|          positive|\n",
      "| The staff in the...|          positive|\n",
      "| This hotel is aw...|          positive|\n",
      "| Very steep steps...|          positive|\n",
      "| We did not like ...|          positive|\n",
      "| Public areas are...|          positive|\n",
      "+--------------------+------------------+\n",
      "only showing top 20 rows\n",
      "\n"
     ]
    }
   ],
   "source": [
    "# converting PD dataframe to PySpark DataFrame\n",
    "\n",
    "import numpy as np\n",
    "import pandas as pd\n",
    "\n",
    "# Enable Arrow-based columnar data transfers\n",
    "spark.conf.set(\"spark.sql.execution.arrow.enabled\", \"true\")\n",
    "\n",
    "# Create a Spark DataFrame from a pandas DataFrame using Arrow\n",
    "df = spark.createDataFrame(pandas_df)\n",
    "df.show()"
   ]
  },
  {
   "cell_type": "code",
   "execution_count": 5,
   "metadata": {
    "id": "sx5ryO5Bwe94"
   },
   "outputs": [],
   "source": [
    "# Import functions\n",
    "from pyspark.ml.feature import Tokenizer, StopWordsRemover, HashingTF, IDF, StringIndexer"
   ]
  },
  {
   "cell_type": "code",
   "execution_count": 6,
   "metadata": {
    "colab": {
     "base_uri": "https://localhost:8080/"
    },
    "id": "2Pf42Ru-woQ0",
    "outputId": "ba98b8a3-6a5e-4751-8a4b-55bf2bffaec7"
   },
   "outputs": [
    {
     "name": "stdout",
     "output_type": "stream",
     "text": [
      "+--------------------+------------------+------+\n",
      "|              review|reviewer_sentiment|length|\n",
      "+--------------------+------------------+------+\n",
      "| I am so angry th...|          negative|  1913|\n",
      "| No real complain...|          positive|   611|\n",
      "| Rooms are nice b...|          positive|   301|\n",
      "| My room was dirt...|          negative|  1221|\n",
      "| You When I booke...|          positive|   774|\n",
      "| Backyard of the ...|          positive|   186|\n",
      "| Cleaner did not ...|          negative|   235|\n",
      "| Apart from the p...|          positive|   157|\n",
      "| Even though the ...|          positive|   162|\n",
      "| The aircondition...|          positive|   312|\n",
      "| Nothing all grea...|          positive|   568|\n",
      "| 6 30 AM started ...|          positive|   430|\n",
      "| The floor in my ...|          negative|   152|\n",
      "| This hotel is be...|          positive|   329|\n",
      "| Rooms a bit smal...|          positive|    56|\n",
      "| The staff in the...|          positive|   229|\n",
      "| This hotel is aw...|          positive|   413|\n",
      "| Very steep steps...|          positive|   270|\n",
      "| We did not like ...|          positive|   623|\n",
      "| Public areas are...|          positive|   166|\n",
      "+--------------------+------------------+------+\n",
      "only showing top 20 rows\n",
      "\n"
     ]
    }
   ],
   "source": [
    "from pyspark.sql.functions import length\n",
    "# Create a length column to be used as a future feature\n",
    "data_df = df.withColumn('length', length(df['Review']))\n",
    "data_df.show()"
   ]
  },
  {
   "cell_type": "code",
   "execution_count": 7,
   "metadata": {
    "id": "mnjC7sdrwyL0"
   },
   "outputs": [],
   "source": [
    "# Create all the features to the data set\n",
    "convert_review_output_to_numbers = StringIndexer(inputCol='reviewer_sentiment',outputCol='label')\n",
    "tokenizer = Tokenizer(inputCol=\"review\", outputCol=\"token_text\")\n",
    "stopremove = StopWordsRemover(inputCol='token_text',outputCol='stop_tokens')\n",
    "hashingTF = HashingTF(inputCol=\"stop_tokens\", outputCol='hash_token')\n",
    "idf = IDF(inputCol='hash_token', outputCol='idf_token')"
   ]
  },
  {
   "cell_type": "code",
   "execution_count": 8,
   "metadata": {
    "id": "StQhEWRw254y"
   },
   "outputs": [],
   "source": [
    "from pyspark.ml.feature import VectorAssembler\n",
    "from pyspark.ml.linalg import Vector\n",
    "# Create feature vectors\n",
    "clean_up = VectorAssembler(inputCols=['idf_token', 'length'], outputCol='features')"
   ]
  },
  {
   "cell_type": "code",
   "execution_count": 9,
   "metadata": {
    "id": "_pwTN86YzVPj"
   },
   "outputs": [],
   "source": [
    "# Create and run a data processing Pipeline\n",
    "from pyspark.ml import Pipeline\n",
    "data_prep_pipeline = Pipeline(stages=[convert_review_output_to_numbers, tokenizer, stopremove, hashingTF, idf, clean_up])"
   ]
  },
  {
   "cell_type": "code",
   "execution_count": 10,
   "metadata": {
    "colab": {
     "base_uri": "https://localhost:8080/"
    },
    "id": "as1ctTNS0Nff",
    "outputId": "daf9e8ca-fd71-4fb7-83b2-94a2ecadaf08"
   },
   "outputs": [
    {
     "name": "stdout",
     "output_type": "stream",
     "text": [
      "+-----+--------------------+\n",
      "|label|            features|\n",
      "+-----+--------------------+\n",
      "|  1.0|(262145,[2437,302...|\n",
      "|  0.0|(262145,[4714,514...|\n",
      "|  0.0|(262145,[22346,23...|\n",
      "|  1.0|(262145,[1797,230...|\n",
      "|  0.0|(262145,[14870,20...|\n",
      "|  0.0|(262145,[9781,304...|\n",
      "|  1.0|(262145,[21641,34...|\n",
      "|  0.0|(262145,[25789,43...|\n",
      "|  0.0|(262145,[22815,31...|\n",
      "|  0.0|(262145,[2437,216...|\n",
      "|  0.0|(262145,[9129,181...|\n",
      "|  0.0|(262145,[1696,383...|\n",
      "|  1.0|(262145,[1729,216...|\n",
      "|  0.0|(262145,[15370,23...|\n",
      "|  0.0|(262145,[22346,33...|\n",
      "|  0.0|(262145,[6957,304...|\n",
      "|  0.0|(262145,[5765,218...|\n",
      "|  0.0|(262145,[3280,110...|\n",
      "|  0.0|(262145,[329,9129...|\n",
      "|  0.0|(262145,[11941,17...|\n",
      "+-----+--------------------+\n",
      "only showing top 20 rows\n",
      "\n"
     ]
    }
   ],
   "source": [
    "# Fit and transform the pipeline\n",
    "cleaner = data_prep_pipeline.fit(data_df)\n",
    "cleaned = cleaner.transform(data_df)\n",
    "\n",
    "# Show \"Combined_Review\" and resulting features\n",
    "cleaned.select(['label', 'features']).show()"
   ]
  },
  {
   "cell_type": "code",
   "execution_count": 11,
   "metadata": {
    "id": "8Qe1rrGv0Nkn"
   },
   "outputs": [],
   "source": [
    "# Break data down into a training set and a testing set\n",
    "training, testing = cleaned.randomSplit([0.7, 0.3], 21)"
   ]
  },
  {
   "cell_type": "code",
   "execution_count": 12,
   "metadata": {
    "id": "CtPLIwaa0Nnf"
   },
   "outputs": [],
   "source": [
    "from pyspark.ml.classification import NaiveBayes\n",
    "# Create a Naive Bayes model and fit training data\n",
    "nb = NaiveBayes()\n",
    "predictor = nb.fit(training)"
   ]
  },
  {
   "cell_type": "code",
   "execution_count": 13,
   "metadata": {
    "colab": {
     "base_uri": "https://localhost:8080/"
    },
    "id": "jHb4DHem0Np9",
    "outputId": "bdee0ae2-f57e-44a5-d891-f24d0c7b5fe2"
   },
   "outputs": [
    {
     "name": "stdout",
     "output_type": "stream",
     "text": [
      "+--------------------+------------------+------+-----+--------------------+--------------------+--------------------+--------------------+--------------------+--------------------+--------------------+----------+\n",
      "|              review|reviewer_sentiment|length|label|          token_text|         stop_tokens|          hash_token|           idf_token|            features|       rawPrediction|         probability|prediction|\n",
      "+--------------------+------------------+------+-----+--------------------+--------------------+--------------------+--------------------+--------------------+--------------------+--------------------+----------+\n",
      "|                    |          positive|     1|  0.0|                  []|                  []|      (262144,[],[])|      (262144,[],[])|(262145,[262144],...|[-0.3992652917160...|[0.95933263647863...|       0.0|\n",
      "|                    |          positive|     1|  0.0|                  []|                  []|      (262144,[],[])|      (262144,[],[])|(262145,[262144],...|[-0.3992652917160...|[0.95933263647863...|       0.0|\n",
      "|                    |          positive|     1|  0.0|                  []|                  []|      (262144,[],[])|      (262144,[],[])|(262145,[262144],...|[-0.3992652917160...|[0.95933263647863...|       0.0|\n",
      "|                    |          positive|     2|  0.0|                  []|                  []|      (262144,[],[])|      (262144,[],[])|(262145,[262144],...|[-0.7542503059772...|[0.96182420031164...|       0.0|\n",
      "|                    |          positive|     2|  0.0|                  []|                  []|      (262144,[],[])|      (262144,[],[])|(262145,[262144],...|[-0.7542503059772...|[0.96182420031164...|       0.0|\n",
      "|                    |          positive|     2|  0.0|                  []|                  []|      (262144,[],[])|      (262144,[],[])|(262145,[262144],...|[-0.7542503059772...|[0.96182420031164...|       0.0|\n",
      "|                    |          positive|     2|  0.0|                  []|                  []|      (262144,[],[])|      (262144,[],[])|(262145,[262144],...|[-0.7542503059772...|[0.96182420031164...|       0.0|\n",
      "|                    |          positive|     2|  0.0|                  []|                  []|      (262144,[],[])|      (262144,[],[])|(262145,[262144],...|[-0.7542503059772...|[0.96182420031164...|       0.0|\n",
      "|                    |          positive|     2|  0.0|                  []|                  []|      (262144,[],[])|      (262144,[],[])|(262145,[262144],...|[-0.7542503059772...|[0.96182420031164...|       0.0|\n",
      "|  10 minutes walk...|          positive|   165|  0.0|[, , 10, minutes,...|[, , 10, minutes,...|(262144,[6018,223...|(262144,[6018,223...|(262145,[6018,223...|[-816.00451758198...|[1.0,1.6812996393...|       0.0|\n",
      "+--------------------+------------------+------+-----+--------------------+--------------------+--------------------+--------------------+--------------------+--------------------+--------------------+----------+\n",
      "only showing top 10 rows\n",
      "\n"
     ]
    }
   ],
   "source": [
    "# Transform the data with the testing data\n",
    "test_results = predictor.transform(testing)\n",
    "test_results.show(10)"
   ]
  },
  {
   "cell_type": "code",
   "execution_count": 14,
   "metadata": {
    "colab": {
     "base_uri": "https://localhost:8080/"
    },
    "id": "shc-i0sR0NxL",
    "outputId": "a08430ac-4d01-4abd-b180-065a32338b3e"
   },
   "outputs": [
    {
     "name": "stdout",
     "output_type": "stream",
     "text": [
      "Accuracy of model at predicting reviews was: 0.916450\n"
     ]
    }
   ],
   "source": [
    "# Use the Class Evaluator for a cleaner description\n",
    "from pyspark.ml.evaluation import MulticlassClassificationEvaluator\n",
    "\n",
    "acc_eval = MulticlassClassificationEvaluator()\n",
    "acc = acc_eval.evaluate(test_results)\n",
    "print(\"Accuracy of model at predicting reviews was: %f\" %acc)"
   ]
  },
  {
   "cell_type": "code",
   "execution_count": 14,
   "metadata": {
    "id": "s9Y6f72xxQ9p"
   },
   "outputs": [],
   "source": []
  }
 ],
 "metadata": {
  "colab": {
   "collapsed_sections": [],
   "name": "Step9_Final_NLP_reading_from_RDS.ipynb",
   "provenance": []
  },
  "kernelspec": {
   "display_name": "Python 3",
   "language": "python",
   "name": "python3"
  },
  "language_info": {
   "codemirror_mode": {
    "name": "ipython",
    "version": 3
   },
   "file_extension": ".py",
   "mimetype": "text/x-python",
   "name": "python",
   "nbconvert_exporter": "python",
   "pygments_lexer": "ipython3",
   "version": "3.7.7"
  }
 },
 "nbformat": 4,
 "nbformat_minor": 1
}
