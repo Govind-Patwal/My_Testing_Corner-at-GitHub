{
  "nbformat": 4,
  "nbformat_minor": 0,
  "metadata": {
    "colab": {
      "name": "Step8_NLP_Attempt4_execution_positive_negative_review.ipynb",
      "provenance": [],
      "collapsed_sections": [],
      "toc_visible": true
    },
    "kernelspec": {
      "display_name": "Python 3",
      "language": "python",
      "name": "python3"
    },
    "language_info": {
      "codemirror_mode": {
        "name": "ipython",
        "version": 3
      },
      "file_extension": ".py",
      "mimetype": "text/x-python",
      "name": "python",
      "nbconvert_exporter": "python",
      "pygments_lexer": "ipython3",
      "version": "3.7.7"
    }
  },
  "cells": [
    {
      "cell_type": "markdown",
      "metadata": {
        "id": "SIZfgdzXciMg"
      },
      "source": [
        "# This file runs best on ***Google Colab***\n",
        "## Before running this file, the Data Source file needs to be placed at the same level as this file\n",
        "\n",
        "### Data file name: hotel_reviews_for_NLP4_Positive_Negative_review_score.csv"
      ]
    },
    {
      "cell_type": "code",
      "metadata": {
        "id": "CarnJEuzwP1B",
        "outputId": "b7121637-9184-42cb-ded1-26163ee058b4",
        "colab": {
          "base_uri": "https://localhost:8080/"
        }
      },
      "source": [
        "import os\n",
        "# Find the latest version of spark 3.0  from http://www-us.apache.org/dist/spark/ and enter as the spark version\n",
        "# For example:\n",
        "# spark_version = 'spark-3.0.1'\n",
        "spark_version = 'spark-3.0.1'\n",
        "os.environ['SPARK_VERSION']=spark_version\n",
        "\n",
        "# Install Spark and Java\n",
        "!apt-get update\n",
        "!apt-get install openjdk-11-jdk-headless -qq > /dev/null\n",
        "!wget -q http://www-us.apache.org/dist/spark/$SPARK_VERSION/$SPARK_VERSION-bin-hadoop2.7.tgz\n",
        "!tar xf $SPARK_VERSION-bin-hadoop2.7.tgz\n",
        "!pip install -q findspark\n",
        "\n",
        "# Set Environment Variables\n",
        "import os\n",
        "os.environ[\"JAVA_HOME\"] = \"/usr/lib/jvm/java-11-openjdk-amd64\"\n",
        "os.environ[\"SPARK_HOME\"] = f\"/content/{spark_version}-bin-hadoop2.7\"\n",
        "\n",
        "# Start a SparkSession\n",
        "import findspark\n",
        "findspark.init()"
      ],
      "execution_count": 1,
      "outputs": [
        {
          "output_type": "stream",
          "text": [
            "\r0% [Working]\r            \rGet:1 http://security.ubuntu.com/ubuntu bionic-security InRelease [88.7 kB]\n",
            "\r0% [Connecting to archive.ubuntu.com (91.189.88.152)] [1 InRelease 14.2 kB/88.7\r0% [Waiting for headers] [Waiting for headers] [Waiting for headers] [Waiting f\r                                                                               \rGet:2 https://cloud.r-project.org/bin/linux/ubuntu bionic-cran40/ InRelease [3,626 B]\n",
            "Ign:3 https://developer.download.nvidia.com/compute/cuda/repos/ubuntu1804/x86_64  InRelease\n",
            "Hit:4 http://archive.ubuntu.com/ubuntu bionic InRelease\n",
            "Get:5 http://ppa.launchpad.net/c2d4u.team/c2d4u4.0+/ubuntu bionic InRelease [15.9 kB]\n",
            "Ign:6 https://developer.download.nvidia.com/compute/machine-learning/repos/ubuntu1804/x86_64  InRelease\n",
            "Get:7 https://developer.download.nvidia.com/compute/cuda/repos/ubuntu1804/x86_64  Release [697 B]\n",
            "Get:8 https://developer.download.nvidia.com/compute/machine-learning/repos/ubuntu1804/x86_64  Release [564 B]\n",
            "Get:9 https://developer.download.nvidia.com/compute/cuda/repos/ubuntu1804/x86_64  Release.gpg [836 B]\n",
            "Get:10 https://developer.download.nvidia.com/compute/machine-learning/repos/ubuntu1804/x86_64  Release.gpg [833 B]\n",
            "Get:11 http://archive.ubuntu.com/ubuntu bionic-updates InRelease [88.7 kB]\n",
            "Get:12 http://ppa.launchpad.net/graphics-drivers/ppa/ubuntu bionic InRelease [21.3 kB]\n",
            "Get:13 http://security.ubuntu.com/ubuntu bionic-security/main amd64 Packages [1,781 kB]\n",
            "Get:14 http://archive.ubuntu.com/ubuntu bionic-backports InRelease [74.6 kB]\n",
            "Get:15 http://security.ubuntu.com/ubuntu bionic-security/universe amd64 Packages [1,365 kB]\n",
            "Get:16 http://security.ubuntu.com/ubuntu bionic-security/restricted amd64 Packages [222 kB]\n",
            "Get:17 http://security.ubuntu.com/ubuntu bionic-security/multiverse amd64 Packages [15.8 kB]\n",
            "Ign:18 https://developer.download.nvidia.com/compute/cuda/repos/ubuntu1804/x86_64  Packages\n",
            "Get:18 https://developer.download.nvidia.com/compute/cuda/repos/ubuntu1804/x86_64  Packages [407 kB]\n",
            "Get:19 https://developer.download.nvidia.com/compute/machine-learning/repos/ubuntu1804/x86_64  Packages [58.5 kB]\n",
            "Get:20 http://ppa.launchpad.net/c2d4u.team/c2d4u4.0+/ubuntu bionic/main Sources [1,688 kB]\n",
            "Get:21 http://archive.ubuntu.com/ubuntu bionic-updates/restricted amd64 Packages [247 kB]\n",
            "Get:22 http://archive.ubuntu.com/ubuntu bionic-updates/main amd64 Packages [2,198 kB]\n",
            "Get:23 http://archive.ubuntu.com/ubuntu bionic-updates/universe amd64 Packages [2,129 kB]\n",
            "Get:24 http://archive.ubuntu.com/ubuntu bionic-updates/multiverse amd64 Packages [46.3 kB]\n",
            "Get:25 http://ppa.launchpad.net/c2d4u.team/c2d4u4.0+/ubuntu bionic/main amd64 Packages [864 kB]\n",
            "Get:26 http://ppa.launchpad.net/graphics-drivers/ppa/ubuntu bionic/main amd64 Packages [46.6 kB]\n",
            "Fetched 11.4 MB in 4s (3,002 kB/s)\n",
            "Reading package lists... Done\n"
          ],
          "name": "stdout"
        }
      ]
    },
    {
      "cell_type": "code",
      "metadata": {
        "id": "lZilGKyDwUV_"
      },
      "source": [
        "# Start Spark session\n",
        "from pyspark.sql import SparkSession\n",
        "spark = SparkSession.builder.appName(\"PySpark_NLP_Attempt4\").getOrCreate()"
      ],
      "execution_count": 2,
      "outputs": []
    },
    {
      "cell_type": "code",
      "metadata": {
        "id": "lOu9ay3cwZX9",
        "outputId": "1bca3613-145a-4403-975e-22ec09d3efec",
        "colab": {
          "base_uri": "https://localhost:8080/"
        }
      },
      "source": [
        "# Read in data \n",
        "from pyspark import SparkFiles\n",
        "file_path = \"hotel_reviews_for_NLP4_Positive_Negative_review_score.csv\"\n",
        "spark.sparkContext.addFile(file_path)\n",
        "df = spark.read.csv(SparkFiles.get(\"hotel_reviews_for_NLP4_Positive_Negative_review_score.csv\"), sep=\",\", header=True)\n",
        "\n",
        "# Show DataFrame\n",
        "df.show()"
      ],
      "execution_count": 3,
      "outputs": [
        {
          "output_type": "stream",
          "text": [
            "+--------------------+------------------+\n",
            "|              Review|Reviewer_Sentiment|\n",
            "+--------------------+------------------+\n",
            "| I am so angry th...|          negative|\n",
            "| No real complain...|          positive|\n",
            "| Rooms are nice b...|          positive|\n",
            "| My room was dirt...|          negative|\n",
            "| You When I booke...|          positive|\n",
            "| Backyard of the ...|          positive|\n",
            "| Cleaner did not ...|          negative|\n",
            "| Apart from the p...|          positive|\n",
            "| Even though the ...|          positive|\n",
            "| The aircondition...|          positive|\n",
            "| Nothing all grea...|          positive|\n",
            "| 6 30 AM started ...|          positive|\n",
            "| The floor in my ...|          negative|\n",
            "| This hotel is be...|          positive|\n",
            "| The staff in the...|          positive|\n",
            "| This hotel is aw...|          positive|\n",
            "| Very steep steps...|          positive|\n",
            "| We did not like ...|          positive|\n",
            "| Public areas are...|          positive|\n",
            "| We had issues wi...|          positive|\n",
            "+--------------------+------------------+\n",
            "only showing top 20 rows\n",
            "\n"
          ],
          "name": "stdout"
        }
      ]
    },
    {
      "cell_type": "code",
      "metadata": {
        "id": "sx5ryO5Bwe94"
      },
      "source": [
        "# Import functions\n",
        "from pyspark.ml.feature import Tokenizer, StopWordsRemover, HashingTF, IDF, StringIndexer"
      ],
      "execution_count": 4,
      "outputs": []
    },
    {
      "cell_type": "code",
      "metadata": {
        "id": "2Pf42Ru-woQ0",
        "outputId": "9de51efa-8d2d-4a67-f4a7-e015de5341bc",
        "colab": {
          "base_uri": "https://localhost:8080/"
        }
      },
      "source": [
        "from pyspark.sql.functions import length\n",
        "# Create a length column to be used as a future feature\n",
        "data_df = df.withColumn('length', length(df['Review']))\n",
        "data_df.show()"
      ],
      "execution_count": 5,
      "outputs": [
        {
          "output_type": "stream",
          "text": [
            "+--------------------+------------------+------+\n",
            "|              Review|Reviewer_Sentiment|length|\n",
            "+--------------------+------------------+------+\n",
            "| I am so angry th...|          negative|  1913|\n",
            "| No real complain...|          positive|   611|\n",
            "| Rooms are nice b...|          positive|   301|\n",
            "| My room was dirt...|          negative|  1221|\n",
            "| You When I booke...|          positive|   774|\n",
            "| Backyard of the ...|          positive|   186|\n",
            "| Cleaner did not ...|          negative|   235|\n",
            "| Apart from the p...|          positive|   157|\n",
            "| Even though the ...|          positive|   162|\n",
            "| The aircondition...|          positive|   312|\n",
            "| Nothing all grea...|          positive|   568|\n",
            "| 6 30 AM started ...|          positive|   430|\n",
            "| The floor in my ...|          negative|   152|\n",
            "| This hotel is be...|          positive|   329|\n",
            "| The staff in the...|          positive|   229|\n",
            "| This hotel is aw...|          positive|   413|\n",
            "| Very steep steps...|          positive|   270|\n",
            "| We did not like ...|          positive|   623|\n",
            "| Public areas are...|          positive|   166|\n",
            "| We had issues wi...|          positive|   620|\n",
            "+--------------------+------------------+------+\n",
            "only showing top 20 rows\n",
            "\n"
          ],
          "name": "stdout"
        }
      ]
    },
    {
      "cell_type": "code",
      "metadata": {
        "id": "mnjC7sdrwyL0"
      },
      "source": [
        "# Create all the features to the data set\n",
        "convert_review_output_to_numbers = StringIndexer(inputCol='Reviewer_Sentiment',outputCol='label')\n",
        "tokenizer = Tokenizer(inputCol=\"Review\", outputCol=\"token_text\")\n",
        "stopremove = StopWordsRemover(inputCol='token_text',outputCol='stop_tokens')\n",
        "hashingTF = HashingTF(inputCol=\"stop_tokens\", outputCol='hash_token')\n",
        "idf = IDF(inputCol='hash_token', outputCol='idf_token')"
      ],
      "execution_count": 6,
      "outputs": []
    },
    {
      "cell_type": "code",
      "metadata": {
        "id": "StQhEWRw254y"
      },
      "source": [
        "from pyspark.ml.feature import VectorAssembler\n",
        "from pyspark.ml.linalg import Vector\n",
        "# Create feature vectors\n",
        "clean_up = VectorAssembler(inputCols=['idf_token', 'length'], outputCol='features')"
      ],
      "execution_count": 7,
      "outputs": []
    },
    {
      "cell_type": "code",
      "metadata": {
        "id": "_pwTN86YzVPj"
      },
      "source": [
        "# Create and run a data processing Pipeline\n",
        "from pyspark.ml import Pipeline\n",
        "data_prep_pipeline = Pipeline(stages=[convert_review_output_to_numbers, tokenizer, stopremove, hashingTF, idf, clean_up])"
      ],
      "execution_count": 8,
      "outputs": []
    },
    {
      "cell_type": "code",
      "metadata": {
        "id": "as1ctTNS0Nff",
        "outputId": "1e87827c-0f80-457f-a39d-a43260dd28b9",
        "colab": {
          "base_uri": "https://localhost:8080/"
        }
      },
      "source": [
        "# Fit and transform the pipeline\n",
        "cleaner = data_prep_pipeline.fit(data_df)\n",
        "cleaned = cleaner.transform(data_df)\n",
        "\n",
        "# Show \"Combined_Review\" and resulting features\n",
        "cleaned.select(['label', 'features']).show()"
      ],
      "execution_count": 9,
      "outputs": [
        {
          "output_type": "stream",
          "text": [
            "+-----+--------------------+\n",
            "|label|            features|\n",
            "+-----+--------------------+\n",
            "|  1.0|(262145,[2437,302...|\n",
            "|  0.0|(262145,[4714,514...|\n",
            "|  0.0|(262145,[22346,23...|\n",
            "|  1.0|(262145,[1797,230...|\n",
            "|  0.0|(262145,[14870,20...|\n",
            "|  0.0|(262145,[9781,304...|\n",
            "|  1.0|(262145,[21641,34...|\n",
            "|  0.0|(262145,[25789,43...|\n",
            "|  0.0|(262145,[22815,31...|\n",
            "|  0.0|(262145,[2437,216...|\n",
            "|  0.0|(262145,[9129,181...|\n",
            "|  0.0|(262145,[1696,383...|\n",
            "|  1.0|(262145,[1729,216...|\n",
            "|  0.0|(262145,[15370,23...|\n",
            "|  0.0|(262145,[6957,304...|\n",
            "|  0.0|(262145,[5765,218...|\n",
            "|  0.0|(262145,[3280,110...|\n",
            "|  0.0|(262145,[329,9129...|\n",
            "|  0.0|(262145,[11941,17...|\n",
            "|  0.0|(262145,[17435,21...|\n",
            "+-----+--------------------+\n",
            "only showing top 20 rows\n",
            "\n"
          ],
          "name": "stdout"
        }
      ]
    },
    {
      "cell_type": "code",
      "metadata": {
        "id": "8Qe1rrGv0Nkn"
      },
      "source": [
        "# Break data down into a training set and a testing set\n",
        "training, testing = cleaned.randomSplit([0.7, 0.3], 21)"
      ],
      "execution_count": 10,
      "outputs": []
    },
    {
      "cell_type": "code",
      "metadata": {
        "id": "CtPLIwaa0Nnf"
      },
      "source": [
        "from pyspark.ml.classification import NaiveBayes\n",
        "# Create a Naive Bayes model and fit training data\n",
        "nb = NaiveBayes()\n",
        "predictor = nb.fit(training)"
      ],
      "execution_count": 11,
      "outputs": []
    },
    {
      "cell_type": "code",
      "metadata": {
        "id": "jHb4DHem0Np9",
        "outputId": "bcb833d5-58be-4282-c85f-e7fd5b99875c",
        "colab": {
          "base_uri": "https://localhost:8080/"
        }
      },
      "source": [
        "# Transform the data with the testing data\n",
        "test_results = predictor.transform(testing)\n",
        "test_results.show(10)"
      ],
      "execution_count": 12,
      "outputs": [
        {
          "output_type": "stream",
          "text": [
            "+------+------------------+------+-----+----------+-----------+--------------+--------------+--------------------+--------------------+--------------------+----------+\n",
            "|Review|Reviewer_Sentiment|length|label|token_text|stop_tokens|    hash_token|     idf_token|            features|       rawPrediction|         probability|prediction|\n",
            "+------+------------------+------+-----+----------+-----------+--------------+--------------+--------------------+--------------------+--------------------+----------+\n",
            "|      |          positive|     1|  0.0|        []|         []|(262144,[],[])|(262144,[],[])|(262145,[262144],...|[-0.3990577680405...|[0.95938220574599...|       0.0|\n",
            "|      |          positive|     1|  0.0|        []|         []|(262144,[],[])|(262144,[],[])|(262145,[262144],...|[-0.3990577680405...|[0.95938220574599...|       0.0|\n",
            "|      |          positive|     1|  0.0|        []|         []|(262144,[],[])|(262144,[],[])|(262145,[262144],...|[-0.3990577680405...|[0.95938220574599...|       0.0|\n",
            "|      |          positive|     2|  0.0|        []|         []|(262144,[],[])|(262144,[],[])|(262145,[262144],...|[-0.7538812023868...|[0.96187855663861...|       0.0|\n",
            "|      |          positive|     2|  0.0|        []|         []|(262144,[],[])|(262144,[],[])|(262145,[262144],...|[-0.7538812023868...|[0.96187855663861...|       0.0|\n",
            "|      |          positive|     2|  0.0|        []|         []|(262144,[],[])|(262144,[],[])|(262145,[262144],...|[-0.7538812023868...|[0.96187855663861...|       0.0|\n",
            "|      |          positive|     2|  0.0|        []|         []|(262144,[],[])|(262144,[],[])|(262145,[262144],...|[-0.7538812023868...|[0.96187855663861...|       0.0|\n",
            "|      |          positive|     2|  0.0|        []|         []|(262144,[],[])|(262144,[],[])|(262145,[262144],...|[-0.7538812023868...|[0.96187855663861...|       0.0|\n",
            "|      |          positive|     2|  0.0|        []|         []|(262144,[],[])|(262144,[],[])|(262145,[262144],...|[-0.7538812023868...|[0.96187855663861...|       0.0|\n",
            "|      |          positive|     2|  0.0|        []|         []|(262144,[],[])|(262144,[],[])|(262145,[262144],...|[-0.7538812023868...|[0.96187855663861...|       0.0|\n",
            "+------+------------------+------+-----+----------+-----------+--------------+--------------+--------------------+--------------------+--------------------+----------+\n",
            "only showing top 10 rows\n",
            "\n"
          ],
          "name": "stdout"
        }
      ]
    },
    {
      "cell_type": "code",
      "metadata": {
        "id": "shc-i0sR0NxL",
        "outputId": "6509fc9b-6c28-4ef5-84b0-8c6b61cb423a",
        "colab": {
          "base_uri": "https://localhost:8080/"
        }
      },
      "source": [
        "# Use the Class Evaluator for a cleaner description\n",
        "from pyspark.ml.evaluation import MulticlassClassificationEvaluator\n",
        "\n",
        "acc_eval = MulticlassClassificationEvaluator()\n",
        "acc = acc_eval.evaluate(test_results)\n",
        "print(\"Accuracy of model at predicting reviews was: %f\" %acc)"
      ],
      "execution_count": 13,
      "outputs": [
        {
          "output_type": "stream",
          "text": [
            "Accuracy of model at predicting reviews was: 0.915859\n"
          ],
          "name": "stdout"
        }
      ]
    },
    {
      "cell_type": "code",
      "metadata": {
        "id": "s9Y6f72xxQ9p"
      },
      "source": [
        ""
      ],
      "execution_count": 13,
      "outputs": []
    }
  ]
}