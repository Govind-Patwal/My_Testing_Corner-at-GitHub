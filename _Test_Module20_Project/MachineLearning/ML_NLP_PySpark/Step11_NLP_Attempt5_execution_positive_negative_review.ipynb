{
 "cells": [
  {
   "cell_type": "markdown",
   "metadata": {
    "id": "SIZfgdzXciMg"
   },
   "source": [
    "# This file runs best on ***Google Colab***\n",
    "## Before running this file, the Data Source file needs to be placed at the same level as this file\n",
    "\n",
    "### Data file name: PySpark_DataFile/hotel_reviews_for_NLP4_Positive_Negative_review_score.zip/hotel_reviews_for_NLP4_Positive_Negative_review_score.csv"
   ]
  },
  {
   "cell_type": "code",
   "execution_count": 1,
   "metadata": {
    "colab": {
     "base_uri": "https://localhost:8080/"
    },
    "id": "CarnJEuzwP1B",
    "outputId": "7ef0d8a4-9765-427e-fc89-f91000a0c54a"
   },
   "outputs": [
    {
     "name": "stdout",
     "output_type": "stream",
     "text": [
      "\r",
      "0% [Working]\r",
      "            \r",
      "Get:1 https://cloud.r-project.org/bin/linux/ubuntu bionic-cran40/ InRelease [3,626 B]\n",
      "Ign:2 https://developer.download.nvidia.com/compute/cuda/repos/ubuntu1804/x86_64  InRelease\n",
      "Ign:3 https://developer.download.nvidia.com/compute/machine-learning/repos/ubuntu1804/x86_64  InRelease\n",
      "Get:4 https://developer.download.nvidia.com/compute/cuda/repos/ubuntu1804/x86_64  Release [697 B]\n",
      "Hit:5 https://developer.download.nvidia.com/compute/machine-learning/repos/ubuntu1804/x86_64  Release\n",
      "Get:6 https://developer.download.nvidia.com/compute/cuda/repos/ubuntu1804/x86_64  Release.gpg [836 B]\n",
      "Get:7 http://ppa.launchpad.net/c2d4u.team/c2d4u4.0+/ubuntu bionic InRelease [15.9 kB]\n",
      "Hit:8 http://archive.ubuntu.com/ubuntu bionic InRelease\n",
      "Get:9 http://security.ubuntu.com/ubuntu bionic-security InRelease [88.7 kB]\n",
      "Get:11 http://archive.ubuntu.com/ubuntu bionic-updates InRelease [88.7 kB]\n",
      "Ign:12 https://developer.download.nvidia.com/compute/cuda/repos/ubuntu1804/x86_64  Packages\n",
      "Get:12 https://developer.download.nvidia.com/compute/cuda/repos/ubuntu1804/x86_64  Packages [442 kB]\n",
      "Hit:13 http://ppa.launchpad.net/graphics-drivers/ppa/ubuntu bionic InRelease\n",
      "Get:14 http://archive.ubuntu.com/ubuntu bionic-backports InRelease [74.6 kB]\n",
      "Get:15 http://security.ubuntu.com/ubuntu bionic-security/universe amd64 Packages [1,365 kB]\n",
      "Get:16 http://ppa.launchpad.net/c2d4u.team/c2d4u4.0+/ubuntu bionic/main Sources [1,688 kB]\n",
      "Get:17 http://archive.ubuntu.com/ubuntu bionic-updates/multiverse amd64 Packages [54.3 kB]\n",
      "Get:18 http://archive.ubuntu.com/ubuntu bionic-updates/universe amd64 Packages [2,130 kB]\n",
      "Get:19 http://security.ubuntu.com/ubuntu bionic-security/main amd64 Packages [1,781 kB]\n",
      "Get:20 http://archive.ubuntu.com/ubuntu bionic-updates/restricted amd64 Packages [252 kB]\n",
      "Get:21 http://archive.ubuntu.com/ubuntu bionic-updates/main amd64 Packages [2,208 kB]\n",
      "Get:22 http://ppa.launchpad.net/c2d4u.team/c2d4u4.0+/ubuntu bionic/main amd64 Packages [864 kB]\n",
      "Fetched 11.1 MB in 5s (2,054 kB/s)\n",
      "Reading package lists... Done\n"
     ]
    }
   ],
   "source": [
    "import os\n",
    "# Find the latest version of spark 3.0  from http://www-us.apache.org/dist/spark/ and enter as the spark version\n",
    "# For example:\n",
    "# spark_version = 'spark-3.0.1'\n",
    "spark_version = 'spark-3.0.1'\n",
    "os.environ['SPARK_VERSION']=spark_version\n",
    "\n",
    "# Install Spark and Java\n",
    "!apt-get update\n",
    "!apt-get install openjdk-11-jdk-headless -qq > /dev/null\n",
    "!wget -q http://www-us.apache.org/dist/spark/$SPARK_VERSION/$SPARK_VERSION-bin-hadoop2.7.tgz\n",
    "!tar xf $SPARK_VERSION-bin-hadoop2.7.tgz\n",
    "!pip install -q findspark\n",
    "\n",
    "# Set Environment Variables\n",
    "import os\n",
    "os.environ[\"JAVA_HOME\"] = \"/usr/lib/jvm/java-11-openjdk-amd64\"\n",
    "os.environ[\"SPARK_HOME\"] = f\"/content/{spark_version}-bin-hadoop2.7\"\n",
    "\n",
    "# Start a SparkSession\n",
    "import findspark\n",
    "findspark.init()"
   ]
  },
  {
   "cell_type": "code",
   "execution_count": 2,
   "metadata": {
    "id": "lZilGKyDwUV_"
   },
   "outputs": [],
   "source": [
    "# Start Spark session\n",
    "from pyspark.sql import SparkSession\n",
    "spark = SparkSession.builder.appName(\"PySpark_NLP_Attempt4\").getOrCreate()"
   ]
  },
  {
   "cell_type": "code",
   "execution_count": 3,
   "metadata": {
    "colab": {
     "base_uri": "https://localhost:8080/"
    },
    "id": "lOu9ay3cwZX9",
    "outputId": "6d109400-7434-4373-fa0e-519204de7545"
   },
   "outputs": [
    {
     "name": "stdout",
     "output_type": "stream",
     "text": [
      "+---------+--------------------+------------------+\n",
      "|Review_Id|              Review|Reviewer_Sentiment|\n",
      "+---------+--------------------+------------------+\n",
      "|        0| I am so angry th...|          negative|\n",
      "|        1| No real complain...|          positive|\n",
      "|        2| Rooms are nice b...|          positive|\n",
      "|        3| My room was dirt...|          negative|\n",
      "|        4| You When I booke...|          positive|\n",
      "|        5| Backyard of the ...|          positive|\n",
      "|        6| Cleaner did not ...|          negative|\n",
      "|        7| Apart from the p...|          positive|\n",
      "|        8| Even though the ...|          positive|\n",
      "|        9| The aircondition...|          positive|\n",
      "|       10| Nothing all grea...|          positive|\n",
      "|       11| 6 30 AM started ...|          positive|\n",
      "|       12| The floor in my ...|          negative|\n",
      "|       13| This hotel is be...|          positive|\n",
      "|       14| The staff in the...|          positive|\n",
      "|       15| This hotel is aw...|          positive|\n",
      "|       16| Very steep steps...|          positive|\n",
      "|       17| We did not like ...|          positive|\n",
      "|       18| Public areas are...|          positive|\n",
      "|       19| We had issues wi...|          positive|\n",
      "+---------+--------------------+------------------+\n",
      "only showing top 20 rows\n",
      "\n"
     ]
    }
   ],
   "source": [
    "# Read in data \n",
    "from pyspark import SparkFiles\n",
    "file_path = \"hotel_reviews_for_NLP4_Positive_Negative_review_score.csv\"\n",
    "spark.sparkContext.addFile(file_path)\n",
    "df = spark.read.csv(SparkFiles.get(\"hotel_reviews_for_NLP4_Positive_Negative_review_score.csv\"), sep=\",\", header=True)\n",
    "\n",
    "# Show DataFrame\n",
    "df.show()"
   ]
  },
  {
   "cell_type": "code",
   "execution_count": 4,
   "metadata": {
    "id": "sx5ryO5Bwe94"
   },
   "outputs": [],
   "source": [
    "# Import functions\n",
    "from pyspark.ml.feature import Tokenizer, StopWordsRemover, HashingTF, IDF, StringIndexer"
   ]
  },
  {
   "cell_type": "code",
   "execution_count": 5,
   "metadata": {
    "colab": {
     "base_uri": "https://localhost:8080/"
    },
    "id": "2Pf42Ru-woQ0",
    "outputId": "7926afc8-125f-471b-9488-c8e30c3c8ca7"
   },
   "outputs": [
    {
     "name": "stdout",
     "output_type": "stream",
     "text": [
      "+---------+--------------------+------------------+------+\n",
      "|Review_Id|              Review|Reviewer_Sentiment|length|\n",
      "+---------+--------------------+------------------+------+\n",
      "|        0| I am so angry th...|          negative|  1913|\n",
      "|        1| No real complain...|          positive|   611|\n",
      "|        2| Rooms are nice b...|          positive|   301|\n",
      "|        3| My room was dirt...|          negative|  1221|\n",
      "|        4| You When I booke...|          positive|   774|\n",
      "|        5| Backyard of the ...|          positive|   186|\n",
      "|        6| Cleaner did not ...|          negative|   235|\n",
      "|        7| Apart from the p...|          positive|   157|\n",
      "|        8| Even though the ...|          positive|   162|\n",
      "|        9| The aircondition...|          positive|   312|\n",
      "|       10| Nothing all grea...|          positive|   568|\n",
      "|       11| 6 30 AM started ...|          positive|   430|\n",
      "|       12| The floor in my ...|          negative|   152|\n",
      "|       13| This hotel is be...|          positive|   329|\n",
      "|       14| The staff in the...|          positive|   229|\n",
      "|       15| This hotel is aw...|          positive|   413|\n",
      "|       16| Very steep steps...|          positive|   270|\n",
      "|       17| We did not like ...|          positive|   623|\n",
      "|       18| Public areas are...|          positive|   166|\n",
      "|       19| We had issues wi...|          positive|   620|\n",
      "+---------+--------------------+------------------+------+\n",
      "only showing top 20 rows\n",
      "\n"
     ]
    }
   ],
   "source": [
    "from pyspark.sql.functions import length\n",
    "# Create a length column to be used as a future feature\n",
    "data_df = df.withColumn('length', length(df['Review']))\n",
    "data_df.show()"
   ]
  },
  {
   "cell_type": "code",
   "execution_count": 6,
   "metadata": {
    "id": "mnjC7sdrwyL0"
   },
   "outputs": [],
   "source": [
    "# Create all the features to the data set\n",
    "convert_review_output_to_numbers = StringIndexer(inputCol='Reviewer_Sentiment',outputCol='label')\n",
    "tokenizer = Tokenizer(inputCol=\"Review\", outputCol=\"token_text\")\n",
    "stopremove = StopWordsRemover(inputCol='token_text',outputCol='stop_tokens')\n",
    "hashingTF = HashingTF(inputCol=\"stop_tokens\", outputCol='hash_token')\n",
    "idf = IDF(inputCol='hash_token', outputCol='idf_token')"
   ]
  },
  {
   "cell_type": "code",
   "execution_count": 7,
   "metadata": {
    "id": "StQhEWRw254y"
   },
   "outputs": [],
   "source": [
    "from pyspark.ml.feature import VectorAssembler\n",
    "from pyspark.ml.linalg import Vector\n",
    "# Create feature vectors\n",
    "clean_up = VectorAssembler(inputCols=['idf_token', 'length'], outputCol='features')"
   ]
  },
  {
   "cell_type": "code",
   "execution_count": 8,
   "metadata": {
    "id": "_pwTN86YzVPj"
   },
   "outputs": [],
   "source": [
    "# Create and run a data processing Pipeline\n",
    "from pyspark.ml import Pipeline\n",
    "data_prep_pipeline = Pipeline(stages=[convert_review_output_to_numbers, tokenizer, stopremove, hashingTF, idf, clean_up])"
   ]
  },
  {
   "cell_type": "code",
   "execution_count": 9,
   "metadata": {
    "colab": {
     "base_uri": "https://localhost:8080/"
    },
    "id": "as1ctTNS0Nff",
    "outputId": "421db2f9-ea34-418d-ca90-55732706a0e2"
   },
   "outputs": [
    {
     "name": "stdout",
     "output_type": "stream",
     "text": [
      "+-----+--------------------+\n",
      "|label|            features|\n",
      "+-----+--------------------+\n",
      "|  1.0|(262145,[2437,302...|\n",
      "|  0.0|(262145,[4714,514...|\n",
      "|  0.0|(262145,[22346,23...|\n",
      "|  1.0|(262145,[1797,230...|\n",
      "|  0.0|(262145,[14870,20...|\n",
      "|  0.0|(262145,[9781,304...|\n",
      "|  1.0|(262145,[21641,34...|\n",
      "|  0.0|(262145,[25789,43...|\n",
      "|  0.0|(262145,[22815,31...|\n",
      "|  0.0|(262145,[2437,216...|\n",
      "|  0.0|(262145,[9129,181...|\n",
      "|  0.0|(262145,[1696,383...|\n",
      "|  1.0|(262145,[1729,216...|\n",
      "|  0.0|(262145,[15370,23...|\n",
      "|  0.0|(262145,[6957,304...|\n",
      "|  0.0|(262145,[5765,218...|\n",
      "|  0.0|(262145,[3280,110...|\n",
      "|  0.0|(262145,[329,9129...|\n",
      "|  0.0|(262145,[11941,17...|\n",
      "|  0.0|(262145,[17435,21...|\n",
      "+-----+--------------------+\n",
      "only showing top 20 rows\n",
      "\n"
     ]
    }
   ],
   "source": [
    "# Fit and transform the pipeline\n",
    "cleaner = data_prep_pipeline.fit(data_df)\n",
    "cleaned = cleaner.transform(data_df)\n",
    "\n",
    "# Show \"Combined_Review\" and resulting features\n",
    "cleaned.select(['label', 'features']).show()"
   ]
  },
  {
   "cell_type": "code",
   "execution_count": 10,
   "metadata": {
    "id": "8Qe1rrGv0Nkn"
   },
   "outputs": [],
   "source": [
    "# Break data down into a training set and a testing set\n",
    "training, testing = cleaned.randomSplit([0.7, 0.3], 21)"
   ]
  },
  {
   "cell_type": "code",
   "execution_count": 11,
   "metadata": {
    "id": "CtPLIwaa0Nnf"
   },
   "outputs": [],
   "source": [
    "from pyspark.ml.classification import NaiveBayes\n",
    "# Create a Naive Bayes model and fit training data\n",
    "nb = NaiveBayes()\n",
    "predictor = nb.fit(training)"
   ]
  },
  {
   "cell_type": "code",
   "execution_count": 12,
   "metadata": {
    "colab": {
     "base_uri": "https://localhost:8080/"
    },
    "id": "jHb4DHem0Np9",
    "outputId": "076c7cbc-5f95-4849-a44c-52d939c53625"
   },
   "outputs": [
    {
     "name": "stdout",
     "output_type": "stream",
     "text": [
      "+---------+--------------------+------------------+------+-----+--------------------+--------------------+--------------------+--------------------+--------------------+--------------------+--------------------+----------+\n",
      "|Review_Id|              Review|Reviewer_Sentiment|length|label|          token_text|         stop_tokens|          hash_token|           idf_token|            features|       rawPrediction|         probability|prediction|\n",
      "+---------+--------------------+------------------+------+-----+--------------------+--------------------+--------------------+--------------------+--------------------+--------------------+--------------------+----------+\n",
      "|     1000| A few more littl...|          positive|   242|  0.0|[, a, few, more, ...|[, little, milks,...|(262144,[21641,31...|(262144,[21641,31...|(262145,[21641,31...|[-904.61818913604...|[1.0,5.1317916312...|       0.0|\n",
      "|   100005|     Good breakfast |          positive|    16|  0.0| [, good, breakfast]| [, good, breakfast]|(262144,[113432,2...|(262144,[113432,2...|(262145,[113432,2...|[-24.878436542012...|[0.99859861643271...|       0.0|\n",
      "|   100014| The staff were r...|          positive|    98|  0.0|[, the, staff, we...|[, staff, really,...|(262144,[44864,73...|(262144,[44864,73...|(262145,[44864,73...|[-253.60787335016...|[0.99999999999999...|       0.0|\n",
      "|    10002| Rennovation on t...|          positive|   142|  0.0|[, rennovation, o...|[, rennovation, s...|(262144,[8538,133...|(262144,[8538,133...|(262145,[8538,133...|[-638.08805770715...|[0.99995792279376...|       0.0|\n",
      "|   100028| Loved everything...|          positive|    32|  0.0|[, loved, everyth...|[, loved, everyth...|(262144,[70998,12...|(262144,[70998,12...|(262145,[70998,12...|[-214.80405098332...|[0.99997422639204...|       0.0|\n",
      "|   100029| Cleanliness of t...|          negative|    91|  1.0|[, cleanliness, o...|[, cleanliness, r...|(262144,[23097,43...|(262144,[23097,43...|(262145,[23097,43...|[-335.84001363429...|[0.99999340957583...|       0.0|\n",
      "|   100030| Room size is so ...|          positive|    23|  0.0|[, room, size, is...|[, room, size, sm...|(262144,[33358,16...|(262144,[33358,16...|(262145,[33358,16...|[-55.654088850992...|[0.99770921167035...|       0.0|\n",
      "|   100031| Bathroom was sme...|          positive|    93|  0.0|[, bathroom, was,...|[, bathroom, smel...|(262144,[6807,248...|(262144,[6807,248...|(262145,[6807,248...|[-462.84306209371...|[0.39072279415170...|       1.0|\n",
      "|   100038|       Smelly toilet|          positive|    14|  0.0|  [, smelly, toilet]|  [, smelly, toilet]|(262144,[107615,1...|(262144,[107615,1...|(262145,[107615,1...|[-107.85787603436...|[1.74571424360935...|       1.0|\n",
      "|   100042| Staff were lovel...|          positive|   138|  0.0|[, staff, were, l...|[, staff, lovely,...|(262144,[991,2057...|(262144,[991,2057...|(262145,[991,2057...|[-538.35145875566...|[1.0,1.2618774723...|       0.0|\n",
      "+---------+--------------------+------------------+------+-----+--------------------+--------------------+--------------------+--------------------+--------------------+--------------------+--------------------+----------+\n",
      "only showing top 10 rows\n",
      "\n"
     ]
    }
   ],
   "source": [
    "# Transform the data with the testing data\n",
    "test_results = predictor.transform(testing)\n",
    "test_results.show(10)"
   ]
  },
  {
   "cell_type": "code",
   "execution_count": 13,
   "metadata": {
    "colab": {
     "base_uri": "https://localhost:8080/"
    },
    "id": "shc-i0sR0NxL",
    "outputId": "863ba44f-89e8-4a19-e333-89320fa83863"
   },
   "outputs": [
    {
     "name": "stdout",
     "output_type": "stream",
     "text": [
      "Accuracy of model at predicting reviews was: 0.915578\n"
     ]
    }
   ],
   "source": [
    "# Use the Class Evaluator for a cleaner description\n",
    "from pyspark.ml.evaluation import MulticlassClassificationEvaluator\n",
    "\n",
    "acc_eval = MulticlassClassificationEvaluator()\n",
    "acc = acc_eval.evaluate(test_results)\n",
    "print(\"Accuracy of model at predicting reviews was: %f\" %acc)"
   ]
  },
  {
   "cell_type": "code",
   "execution_count": 13,
   "metadata": {
    "id": "s9Y6f72xxQ9p"
   },
   "outputs": [],
   "source": []
  }
 ],
 "metadata": {
  "colab": {
   "collapsed_sections": [],
   "name": "Step8_NLP_Attempt4_execution_positive_negative_review.ipynb",
   "provenance": []
  },
  "kernelspec": {
   "display_name": "Python 3",
   "language": "python",
   "name": "python3"
  },
  "language_info": {
   "codemirror_mode": {
    "name": "ipython",
    "version": 3
   },
   "file_extension": ".py",
   "mimetype": "text/x-python",
   "name": "python",
   "nbconvert_exporter": "python",
   "pygments_lexer": "ipython3",
   "version": "3.7.7"
  }
 },
 "nbformat": 4,
 "nbformat_minor": 1
}
