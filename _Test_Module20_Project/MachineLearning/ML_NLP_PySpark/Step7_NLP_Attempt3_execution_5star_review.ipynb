{
 "cells": [
  {
   "cell_type": "markdown",
   "metadata": {
    "id": "SIZfgdzXciMg"
   },
   "source": [
    "# This file runs on ***Google Colab***\n",
    "## Before running this file, the Data Source file needs to be placed at the same level as this file\n",
    "\n",
    "### Data file name: PySpark_DataFile/hotel_reviews_for_NLP4_Star_Rating.zip/hotel_reviews_for_NLP4_Star_Rating.csv"
   ]
  },
  {
   "cell_type": "code",
   "execution_count": 1,
   "metadata": {
    "colab": {
     "base_uri": "https://localhost:8080/"
    },
    "id": "CarnJEuzwP1B",
    "outputId": "48d5dc42-f6ce-4ce4-d720-5f79165553b2"
   },
   "outputs": [
    {
     "name": "stdout",
     "output_type": "stream",
     "text": [
      "\r",
      "0% [Working]\r",
      "            \r",
      "Get:1 https://cloud.r-project.org/bin/linux/ubuntu bionic-cran40/ InRelease [3,626 B]\n",
      "Ign:2 https://developer.download.nvidia.com/compute/cuda/repos/ubuntu1804/x86_64  InRelease\n",
      "Ign:3 https://developer.download.nvidia.com/compute/machine-learning/repos/ubuntu1804/x86_64  InRelease\n",
      "Get:4 https://developer.download.nvidia.com/compute/cuda/repos/ubuntu1804/x86_64  Release [697 B]\n",
      "Hit:5 https://developer.download.nvidia.com/compute/machine-learning/repos/ubuntu1804/x86_64  Release\n",
      "Get:6 https://developer.download.nvidia.com/compute/cuda/repos/ubuntu1804/x86_64  Release.gpg [836 B]\n",
      "Get:7 http://ppa.launchpad.net/c2d4u.team/c2d4u4.0+/ubuntu bionic InRelease [15.9 kB]\n",
      "Get:8 http://security.ubuntu.com/ubuntu bionic-security InRelease [88.7 kB]\n",
      "Hit:10 http://archive.ubuntu.com/ubuntu bionic InRelease\n",
      "Get:11 http://archive.ubuntu.com/ubuntu bionic-updates InRelease [88.7 kB]\n",
      "Ign:12 https://developer.download.nvidia.com/compute/cuda/repos/ubuntu1804/x86_64  Packages\n",
      "Get:12 https://developer.download.nvidia.com/compute/cuda/repos/ubuntu1804/x86_64  Packages [443 kB]\n",
      "Get:13 http://ppa.launchpad.net/graphics-drivers/ppa/ubuntu bionic InRelease [21.3 kB]\n",
      "Get:14 http://security.ubuntu.com/ubuntu bionic-security/main amd64 Packages [1,781 kB]\n",
      "Get:15 http://archive.ubuntu.com/ubuntu bionic-backports InRelease [74.6 kB]\n",
      "Get:16 http://ppa.launchpad.net/c2d4u.team/c2d4u4.0+/ubuntu bionic/main Sources [1,690 kB]\n",
      "Get:17 http://archive.ubuntu.com/ubuntu bionic-updates/multiverse amd64 Packages [54.3 kB]\n",
      "Get:18 http://archive.ubuntu.com/ubuntu bionic-updates/restricted amd64 Packages [252 kB]\n",
      "Get:19 http://archive.ubuntu.com/ubuntu bionic-updates/universe amd64 Packages [2,131 kB]\n",
      "Get:20 http://security.ubuntu.com/ubuntu bionic-security/universe amd64 Packages [1,366 kB]\n",
      "Get:21 http://archive.ubuntu.com/ubuntu bionic-updates/main amd64 Packages [2,208 kB]\n",
      "Get:22 http://ppa.launchpad.net/c2d4u.team/c2d4u4.0+/ubuntu bionic/main amd64 Packages [865 kB]\n",
      "Get:23 http://ppa.launchpad.net/graphics-drivers/ppa/ubuntu bionic/main amd64 Packages [46.5 kB]\n",
      "Fetched 11.1 MB in 6s (1,737 kB/s)\n",
      "Reading package lists... Done\n"
     ]
    }
   ],
   "source": [
    "import os\n",
    "# Find the latest version of spark 3.0  from http://www-us.apache.org/dist/spark/ and enter as the spark version\n",
    "# For example:\n",
    "# spark_version = 'spark-3.0.1'\n",
    "spark_version = 'spark-3.0.1'\n",
    "os.environ['SPARK_VERSION']=spark_version\n",
    "\n",
    "# Install Spark and Java\n",
    "!apt-get update\n",
    "!apt-get install openjdk-11-jdk-headless -qq > /dev/null\n",
    "!wget -q http://www-us.apache.org/dist/spark/$SPARK_VERSION/$SPARK_VERSION-bin-hadoop2.7.tgz\n",
    "!tar xf $SPARK_VERSION-bin-hadoop2.7.tgz\n",
    "!pip install -q findspark\n",
    "\n",
    "# Set Environment Variables\n",
    "import os\n",
    "os.environ[\"JAVA_HOME\"] = \"/usr/lib/jvm/java-11-openjdk-amd64\"\n",
    "os.environ[\"SPARK_HOME\"] = f\"/content/{spark_version}-bin-hadoop2.7\"\n",
    "\n",
    "# Start a SparkSession\n",
    "import findspark\n",
    "findspark.init()"
   ]
  },
  {
   "cell_type": "code",
   "execution_count": 2,
   "metadata": {
    "id": "lZilGKyDwUV_"
   },
   "outputs": [],
   "source": [
    "# Start Spark session\n",
    "from pyspark.sql import SparkSession\n",
    "spark = SparkSession.builder.appName(\"PySpark_NLP_Attempt2a\").getOrCreate()"
   ]
  },
  {
   "cell_type": "code",
   "execution_count": 3,
   "metadata": {
    "colab": {
     "base_uri": "https://localhost:8080/"
    },
    "id": "lOu9ay3cwZX9",
    "outputId": "ed807e58-4eab-4726-c81b-7a7db525bbc1"
   },
   "outputs": [
    {
     "name": "stdout",
     "output_type": "stream",
     "text": [
      "+--------------------+-----------+\n",
      "|              Review|Star_Rating|\n",
      "+--------------------+-----------+\n",
      "| I am so angry th...|          2|\n",
      "| No real complain...|          4|\n",
      "| Rooms are nice b...|          4|\n",
      "| My room was dirt...|          2|\n",
      "| You When I booke...|          4|\n",
      "| Backyard of the ...|          4|\n",
      "| Cleaner did not ...|          3|\n",
      "| Apart from the p...|          5|\n",
      "| Even though the ...|          3|\n",
      "| The aircondition...|          4|\n",
      "| Nothing all grea...|          5|\n",
      "| 6 30 AM started ...|          3|\n",
      "| The floor in my ...|          3|\n",
      "| This hotel is be...|          5|\n",
      "| The staff in the...|          5|\n",
      "| This hotel is aw...|          5|\n",
      "| Very steep steps...|          3|\n",
      "| We did not like ...|          4|\n",
      "| Public areas are...|          4|\n",
      "| We had issues wi...|          4|\n",
      "+--------------------+-----------+\n",
      "only showing top 20 rows\n",
      "\n"
     ]
    }
   ],
   "source": [
    "# Read in data \n",
    "from pyspark import SparkFiles\n",
    "file_path = \"hotel_reviews_for_NLP4_Star_Rating.csv\"\n",
    "spark.sparkContext.addFile(file_path)\n",
    "df = spark.read.csv(SparkFiles.get(\"hotel_reviews_for_NLP4_Star_Rating.csv\"), sep=\",\", header=True)\n",
    "\n",
    "# Show DataFrame\n",
    "df.show()"
   ]
  },
  {
   "cell_type": "code",
   "execution_count": 4,
   "metadata": {
    "id": "sx5ryO5Bwe94"
   },
   "outputs": [],
   "source": [
    "# Import functions\n",
    "from pyspark.ml.feature import Tokenizer, StopWordsRemover, HashingTF, IDF, StringIndexer"
   ]
  },
  {
   "cell_type": "code",
   "execution_count": 5,
   "metadata": {
    "colab": {
     "base_uri": "https://localhost:8080/"
    },
    "id": "2Pf42Ru-woQ0",
    "outputId": "6b0f7171-1209-496d-e2d8-ed49ef13b4e7"
   },
   "outputs": [
    {
     "name": "stdout",
     "output_type": "stream",
     "text": [
      "+--------------------+-----------+------+\n",
      "|              Review|Star_Rating|length|\n",
      "+--------------------+-----------+------+\n",
      "| I am so angry th...|          2|  1913|\n",
      "| No real complain...|          4|   611|\n",
      "| Rooms are nice b...|          4|   301|\n",
      "| My room was dirt...|          2|  1221|\n",
      "| You When I booke...|          4|   774|\n",
      "| Backyard of the ...|          4|   186|\n",
      "| Cleaner did not ...|          3|   235|\n",
      "| Apart from the p...|          5|   157|\n",
      "| Even though the ...|          3|   162|\n",
      "| The aircondition...|          4|   312|\n",
      "| Nothing all grea...|          5|   568|\n",
      "| 6 30 AM started ...|          3|   430|\n",
      "| The floor in my ...|          3|   152|\n",
      "| This hotel is be...|          5|   329|\n",
      "| The staff in the...|          5|   229|\n",
      "| This hotel is aw...|          5|   413|\n",
      "| Very steep steps...|          3|   270|\n",
      "| We did not like ...|          4|   623|\n",
      "| Public areas are...|          4|   166|\n",
      "| We had issues wi...|          4|   620|\n",
      "+--------------------+-----------+------+\n",
      "only showing top 20 rows\n",
      "\n"
     ]
    }
   ],
   "source": [
    "from pyspark.sql.functions import length\n",
    "# Create a length column to be used as a future feature\n",
    "data_df = df.withColumn('length', length(df['Review']))\n",
    "data_df.show()"
   ]
  },
  {
   "cell_type": "code",
   "execution_count": 6,
   "metadata": {
    "id": "mnjC7sdrwyL0"
   },
   "outputs": [],
   "source": [
    "# Create all the features to the data set\n",
    "convert_review_output_to_numeric_labels = StringIndexer(inputCol='Star_Rating',outputCol='label')\n",
    "tokenizer = Tokenizer(inputCol=\"Review\", outputCol=\"token_text\")\n",
    "stopremove = StopWordsRemover(inputCol='token_text',outputCol='stop_tokens')\n",
    "hashingTF = HashingTF(inputCol=\"stop_tokens\", outputCol='hash_token')\n",
    "idf = IDF(inputCol='hash_token', outputCol='idf_token')"
   ]
  },
  {
   "cell_type": "code",
   "execution_count": 7,
   "metadata": {
    "id": "StQhEWRw254y"
   },
   "outputs": [],
   "source": [
    "from pyspark.ml.feature import VectorAssembler\n",
    "from pyspark.ml.linalg import Vector\n",
    "# Create feature vectors\n",
    "clean_up = VectorAssembler(inputCols=['idf_token', 'length'], outputCol='features')"
   ]
  },
  {
   "cell_type": "code",
   "execution_count": 8,
   "metadata": {
    "id": "_pwTN86YzVPj"
   },
   "outputs": [],
   "source": [
    "# Create and run a data processing Pipeline\n",
    "from pyspark.ml import Pipeline\n",
    "data_prep_pipeline = Pipeline(stages=[convert_review_output_to_numeric_labels, tokenizer, stopremove, hashingTF, idf, clean_up])"
   ]
  },
  {
   "cell_type": "code",
   "execution_count": 9,
   "metadata": {
    "colab": {
     "base_uri": "https://localhost:8080/"
    },
    "id": "as1ctTNS0Nff",
    "outputId": "e2b802a1-c419-4284-ddac-5b2dc5bb9abf"
   },
   "outputs": [
    {
     "name": "stdout",
     "output_type": "stream",
     "text": [
      "+-----+--------------------+\n",
      "|label|            features|\n",
      "+-----+--------------------+\n",
      "|  3.0|(262145,[2437,302...|\n",
      "|  1.0|(262145,[4714,514...|\n",
      "|  1.0|(262145,[22346,23...|\n",
      "|  3.0|(262145,[1797,230...|\n",
      "|  1.0|(262145,[14870,20...|\n",
      "|  1.0|(262145,[9781,304...|\n",
      "|  2.0|(262145,[21641,34...|\n",
      "|  0.0|(262145,[25789,43...|\n",
      "|  2.0|(262145,[22815,31...|\n",
      "|  1.0|(262145,[2437,216...|\n",
      "|  0.0|(262145,[9129,181...|\n",
      "|  2.0|(262145,[1696,383...|\n",
      "|  2.0|(262145,[1729,216...|\n",
      "|  0.0|(262145,[15370,23...|\n",
      "|  0.0|(262145,[6957,304...|\n",
      "|  0.0|(262145,[5765,218...|\n",
      "|  2.0|(262145,[3280,110...|\n",
      "|  1.0|(262145,[329,9129...|\n",
      "|  1.0|(262145,[11941,17...|\n",
      "|  1.0|(262145,[17435,21...|\n",
      "+-----+--------------------+\n",
      "only showing top 20 rows\n",
      "\n"
     ]
    }
   ],
   "source": [
    "# Fit and transform the pipeline\n",
    "cleaner = data_prep_pipeline.fit(data_df)\n",
    "cleaned = cleaner.transform(data_df)\n",
    "\n",
    "# Show \"Combined_Review\" and resulting features\n",
    "cleaned.select(['label', 'features']).show()"
   ]
  },
  {
   "cell_type": "code",
   "execution_count": 10,
   "metadata": {
    "id": "8Qe1rrGv0Nkn"
   },
   "outputs": [],
   "source": [
    "# Break data down into a training set and a testing set\n",
    "training, testing = cleaned.randomSplit([0.7, 0.3], 21)"
   ]
  },
  {
   "cell_type": "code",
   "execution_count": 11,
   "metadata": {
    "id": "CtPLIwaa0Nnf"
   },
   "outputs": [],
   "source": [
    "from pyspark.ml.classification import NaiveBayes\n",
    "# Create a Naive Bayes model and fit training data\n",
    "nb = NaiveBayes()\n",
    "predictor = nb.fit(training)"
   ]
  },
  {
   "cell_type": "code",
   "execution_count": 12,
   "metadata": {
    "colab": {
     "base_uri": "https://localhost:8080/"
    },
    "id": "jHb4DHem0Np9",
    "outputId": "76561145-13af-48e0-e55b-55408f67f015"
   },
   "outputs": [
    {
     "name": "stdout",
     "output_type": "stream",
     "text": [
      "+------+-----------+------+-----+----------+-----------+--------------+--------------+--------------------+--------------------+--------------------+----------+\n",
      "|Review|Star_Rating|length|label|token_text|stop_tokens|    hash_token|     idf_token|            features|       rawPrediction|         probability|prediction|\n",
      "+------+-----------+------+-----+----------+-----------+--------------+--------------+--------------------+--------------------+--------------------+----------+\n",
      "|      |          4|     1|  1.0|        []|         []|(262144,[],[])|(262144,[],[])|(262145,[262144],...|[-0.9122641906855...|[0.57719519675686...|       0.0|\n",
      "|      |          5|     1|  0.0|        []|         []|(262144,[],[])|(262144,[],[])|(262145,[262144],...|[-0.9122641906855...|[0.57719519675686...|       0.0|\n",
      "|      |          5|     1|  0.0|        []|         []|(262144,[],[])|(262144,[],[])|(262145,[262144],...|[-0.9122641906855...|[0.57719519675686...|       0.0|\n",
      "|      |          3|     2|  2.0|        []|         []|(262144,[],[])|(262144,[],[])|(262145,[262144],...|[-1.2614908340540...|[0.58455681869876...|       0.0|\n",
      "|      |          4|     2|  1.0|        []|         []|(262144,[],[])|(262144,[],[])|(262145,[262144],...|[-1.2614908340540...|[0.58455681869876...|       0.0|\n",
      "|      |          4|     2|  1.0|        []|         []|(262144,[],[])|(262144,[],[])|(262145,[262144],...|[-1.2614908340540...|[0.58455681869876...|       0.0|\n",
      "|      |          5|     2|  0.0|        []|         []|(262144,[],[])|(262144,[],[])|(262145,[262144],...|[-1.2614908340540...|[0.58455681869876...|       0.0|\n",
      "|      |          5|     2|  0.0|        []|         []|(262144,[],[])|(262144,[],[])|(262145,[262144],...|[-1.2614908340540...|[0.58455681869876...|       0.0|\n",
      "|      |          5|     2|  0.0|        []|         []|(262144,[],[])|(262144,[],[])|(262145,[262144],...|[-1.2614908340540...|[0.58455681869876...|       0.0|\n",
      "|      |          5|     2|  0.0|        []|         []|(262144,[],[])|(262144,[],[])|(262145,[262144],...|[-1.2614908340540...|[0.58455681869876...|       0.0|\n",
      "+------+-----------+------+-----+----------+-----------+--------------+--------------+--------------------+--------------------+--------------------+----------+\n",
      "only showing top 10 rows\n",
      "\n"
     ]
    }
   ],
   "source": [
    "# Transform the data with the testing data\n",
    "test_results = predictor.transform(testing)\n",
    "test_results.show(10)"
   ]
  },
  {
   "cell_type": "code",
   "execution_count": 13,
   "metadata": {
    "colab": {
     "base_uri": "https://localhost:8080/"
    },
    "id": "shc-i0sR0NxL",
    "outputId": "6efde90f-8a19-4c30-a6c4-0a03a98e8d4f"
   },
   "outputs": [
    {
     "name": "stdout",
     "output_type": "stream",
     "text": [
      "Accuracy of model at predicting reviews was: 0.612702\n"
     ]
    }
   ],
   "source": [
    "# Use the Class Evaluator for a cleaner description\n",
    "from pyspark.ml.evaluation import MulticlassClassificationEvaluator\n",
    "\n",
    "acc_eval = MulticlassClassificationEvaluator()\n",
    "acc = acc_eval.evaluate(test_results)\n",
    "print(\"Accuracy of model at predicting reviews was: %f\" %acc)"
   ]
  },
  {
   "cell_type": "code",
   "execution_count": 13,
   "metadata": {
    "id": "s9Y6f72xxQ9p"
   },
   "outputs": [],
   "source": []
  }
 ],
 "metadata": {
  "colab": {
   "collapsed_sections": [],
   "name": "Step5b_NLP_Attempt2a_execution_5star_review.ipynb",
   "provenance": [],
   "toc_visible": true
  },
  "kernelspec": {
   "display_name": "Python 3",
   "language": "python",
   "name": "python3"
  },
  "language_info": {
   "codemirror_mode": {
    "name": "ipython",
    "version": 3
   },
   "file_extension": ".py",
   "mimetype": "text/x-python",
   "name": "python",
   "nbconvert_exporter": "python",
   "pygments_lexer": "ipython3",
   "version": "3.7.7"
  }
 },
 "nbformat": 4,
 "nbformat_minor": 1
}
