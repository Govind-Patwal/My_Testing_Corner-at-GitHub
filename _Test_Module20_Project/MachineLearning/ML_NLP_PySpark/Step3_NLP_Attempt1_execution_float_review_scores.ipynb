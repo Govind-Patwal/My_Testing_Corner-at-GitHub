{
 "cells": [
  {
   "cell_type": "markdown",
   "metadata": {
    "id": "SIZfgdzXciMg"
   },
   "source": [
    "# This file runs on ***Google Colab***\n",
    "## Before running this file, the Data File needs to be placed at the same level as this file\n",
    "\n",
    "### Data file: PySpark_DataFile/data_ready_for_PySpark_NLP.zip/data_ready_for_PySpark_NLP.csv\n"
   ]
  },
  {
   "cell_type": "code",
   "execution_count": 1,
   "metadata": {
    "colab": {
     "base_uri": "https://localhost:8080/"
    },
    "id": "CarnJEuzwP1B",
    "outputId": "70766f50-da2a-4e63-bfe6-9ee709de2733"
   },
   "outputs": [
    {
     "name": "stdout",
     "output_type": "stream",
     "text": [
      "Get:1 https://cloud.r-project.org/bin/linux/ubuntu bionic-cran40/ InRelease [3,626 B]\n",
      "Ign:2 https://developer.download.nvidia.com/compute/cuda/repos/ubuntu1804/x86_64  InRelease\n",
      "Get:3 http://security.ubuntu.com/ubuntu bionic-security InRelease [88.7 kB]\n",
      "Ign:4 https://developer.download.nvidia.com/compute/machine-learning/repos/ubuntu1804/x86_64  InRelease\n",
      "Get:5 https://developer.download.nvidia.com/compute/cuda/repos/ubuntu1804/x86_64  Release [697 B]\n",
      "Get:6 https://developer.download.nvidia.com/compute/machine-learning/repos/ubuntu1804/x86_64  Release [564 B]\n",
      "Get:7 https://developer.download.nvidia.com/compute/cuda/repos/ubuntu1804/x86_64  Release.gpg [836 B]\n",
      "Get:8 https://developer.download.nvidia.com/compute/machine-learning/repos/ubuntu1804/x86_64  Release.gpg [833 B]\n",
      "Get:9 http://ppa.launchpad.net/c2d4u.team/c2d4u4.0+/ubuntu bionic InRelease [15.9 kB]\n",
      "Hit:10 http://archive.ubuntu.com/ubuntu bionic InRelease\n",
      "Get:11 http://archive.ubuntu.com/ubuntu bionic-updates InRelease [88.7 kB]\n",
      "Ign:12 https://developer.download.nvidia.com/compute/cuda/repos/ubuntu1804/x86_64  Packages\n",
      "Get:12 https://developer.download.nvidia.com/compute/cuda/repos/ubuntu1804/x86_64  Packages [407 kB]\n",
      "Get:13 https://developer.download.nvidia.com/compute/machine-learning/repos/ubuntu1804/x86_64  Packages [58.5 kB]\n",
      "Get:14 http://ppa.launchpad.net/graphics-drivers/ppa/ubuntu bionic InRelease [21.3 kB]\n",
      "Get:15 http://archive.ubuntu.com/ubuntu bionic-backports InRelease [74.6 kB]\n",
      "Get:16 http://security.ubuntu.com/ubuntu bionic-security/multiverse amd64 Packages [15.8 kB]\n",
      "Get:17 http://ppa.launchpad.net/c2d4u.team/c2d4u4.0+/ubuntu bionic/main Sources [1,688 kB]\n",
      "Get:18 http://security.ubuntu.com/ubuntu bionic-security/main amd64 Packages [1,781 kB]\n",
      "Get:19 http://archive.ubuntu.com/ubuntu bionic-updates/main amd64 Packages [2,198 kB]\n",
      "Get:20 http://security.ubuntu.com/ubuntu bionic-security/restricted amd64 Packages [222 kB]\n",
      "Get:21 http://security.ubuntu.com/ubuntu bionic-security/universe amd64 Packages [1,365 kB]\n",
      "Get:22 http://archive.ubuntu.com/ubuntu bionic-updates/restricted amd64 Packages [247 kB]\n",
      "Get:23 http://archive.ubuntu.com/ubuntu bionic-updates/universe amd64 Packages [2,129 kB]\n",
      "Get:24 http://archive.ubuntu.com/ubuntu bionic-updates/multiverse amd64 Packages [46.3 kB]\n",
      "Get:25 http://ppa.launchpad.net/c2d4u.team/c2d4u4.0+/ubuntu bionic/main amd64 Packages [864 kB]\n",
      "Get:26 http://ppa.launchpad.net/graphics-drivers/ppa/ubuntu bionic/main amd64 Packages [46.6 kB]\n",
      "Fetched 11.4 MB in 6s (1,763 kB/s)\n",
      "Reading package lists... Done\n"
     ]
    }
   ],
   "source": [
    "import os\n",
    "# Find the latest version of spark 3.0  from http://www-us.apache.org/dist/spark/ and enter as the spark version\n",
    "# For example:\n",
    "# spark_version = 'spark-3.0.1'\n",
    "spark_version = 'spark-3.0.1'\n",
    "os.environ['SPARK_VERSION']=spark_version\n",
    "\n",
    "# Install Spark and Java\n",
    "!apt-get update\n",
    "!apt-get install openjdk-11-jdk-headless -qq > /dev/null\n",
    "!wget -q http://www-us.apache.org/dist/spark/$SPARK_VERSION/$SPARK_VERSION-bin-hadoop2.7.tgz\n",
    "!tar xf $SPARK_VERSION-bin-hadoop2.7.tgz\n",
    "!pip install -q findspark\n",
    "\n",
    "# Set Environment Variables\n",
    "import os\n",
    "os.environ[\"JAVA_HOME\"] = \"/usr/lib/jvm/java-11-openjdk-amd64\"\n",
    "os.environ[\"SPARK_HOME\"] = f\"/content/{spark_version}-bin-hadoop2.7\"\n",
    "\n",
    "# Start a SparkSession\n",
    "import findspark\n",
    "findspark.init()"
   ]
  },
  {
   "cell_type": "code",
   "execution_count": 2,
   "metadata": {
    "id": "lZilGKyDwUV_"
   },
   "outputs": [],
   "source": [
    "# Start Spark session\n",
    "from pyspark.sql import SparkSession\n",
    "spark = SparkSession.builder.appName(\"PySpark_NLP_Attempt1\").getOrCreate()"
   ]
  },
  {
   "cell_type": "code",
   "execution_count": 3,
   "metadata": {
    "colab": {
     "base_uri": "https://localhost:8080/"
    },
    "id": "lOu9ay3cwZX9",
    "outputId": "4e946b8e-af0b-4f5c-b67c-ab79dcb3f440"
   },
   "outputs": [
    {
     "name": "stdout",
     "output_type": "stream",
     "text": [
      "+--------------------+--------------+\n",
      "|              Review|Reviewer_Score|\n",
      "+--------------------+--------------+\n",
      "| I am so angry th...|           2.9|\n",
      "| No real complain...|           7.5|\n",
      "| Rooms are nice b...|           7.1|\n",
      "| My room was dirt...|           3.8|\n",
      "| You When I booke...|           6.7|\n",
      "| Backyard of the ...|           6.7|\n",
      "| Cleaner did not ...|           4.6|\n",
      "| Apart from the p...|          10.0|\n",
      "| Even though the ...|           6.5|\n",
      "| The aircondition...|           7.9|\n",
      "| Nothing all grea...|          10.0|\n",
      "| 6 30 AM started ...|           5.8|\n",
      "| The floor in my ...|           4.6|\n",
      "| This hotel is be...|           9.2|\n",
      "| The staff in the...|           8.8|\n",
      "| This hotel is aw...|          10.0|\n",
      "| Very steep steps...|           6.3|\n",
      "| We did not like ...|           7.5|\n",
      "| Public areas are...|           7.1|\n",
      "| We had issues wi...|           7.5|\n",
      "+--------------------+--------------+\n",
      "only showing top 20 rows\n",
      "\n"
     ]
    }
   ],
   "source": [
    "# Read in data \n",
    "from pyspark import SparkFiles\n",
    "file_path = \"data_ready_for_PySpark_NLP.csv\"\n",
    "spark.sparkContext.addFile(file_path)\n",
    "df = spark.read.csv(SparkFiles.get(\"data_ready_for_PySpark_NLP.csv\"), sep=\",\", header=True)\n",
    "\n",
    "# Show DataFrame\n",
    "df.show()"
   ]
  },
  {
   "cell_type": "code",
   "execution_count": 4,
   "metadata": {
    "id": "sx5ryO5Bwe94"
   },
   "outputs": [],
   "source": [
    "# Import functions\n",
    "from pyspark.ml.feature import Tokenizer, StopWordsRemover, HashingTF, IDF, StringIndexer"
   ]
  },
  {
   "cell_type": "code",
   "execution_count": 5,
   "metadata": {
    "colab": {
     "base_uri": "https://localhost:8080/"
    },
    "id": "2Pf42Ru-woQ0",
    "outputId": "261426a0-387e-4a97-b0e9-80bce3575029"
   },
   "outputs": [
    {
     "name": "stdout",
     "output_type": "stream",
     "text": [
      "+--------------------+--------------+------+\n",
      "|              Review|Reviewer_Score|length|\n",
      "+--------------------+--------------+------+\n",
      "| I am so angry th...|           2.9|  1913|\n",
      "| No real complain...|           7.5|   611|\n",
      "| Rooms are nice b...|           7.1|   301|\n",
      "| My room was dirt...|           3.8|  1221|\n",
      "| You When I booke...|           6.7|   774|\n",
      "| Backyard of the ...|           6.7|   186|\n",
      "| Cleaner did not ...|           4.6|   235|\n",
      "| Apart from the p...|          10.0|   157|\n",
      "| Even though the ...|           6.5|   162|\n",
      "| The aircondition...|           7.9|   312|\n",
      "| Nothing all grea...|          10.0|   568|\n",
      "| 6 30 AM started ...|           5.8|   430|\n",
      "| The floor in my ...|           4.6|   152|\n",
      "| This hotel is be...|           9.2|   329|\n",
      "| The staff in the...|           8.8|   229|\n",
      "| This hotel is aw...|          10.0|   413|\n",
      "| Very steep steps...|           6.3|   270|\n",
      "| We did not like ...|           7.5|   623|\n",
      "| Public areas are...|           7.1|   166|\n",
      "| We had issues wi...|           7.5|   620|\n",
      "+--------------------+--------------+------+\n",
      "only showing top 20 rows\n",
      "\n"
     ]
    }
   ],
   "source": [
    "from pyspark.sql.functions import length\n",
    "# Create a length column to be used as a future feature\n",
    "data_df = df.withColumn('length', length(df['Review']))\n",
    "data_df.show()"
   ]
  },
  {
   "cell_type": "code",
   "execution_count": 6,
   "metadata": {
    "id": "mnjC7sdrwyL0"
   },
   "outputs": [],
   "source": [
    "# Create all the features to the data set\n",
    "convert_review_output_to_numbers = StringIndexer(inputCol='Reviewer_Score',outputCol='label')\n",
    "tokenizer = Tokenizer(inputCol=\"Review\", outputCol=\"token_text\")\n",
    "stopremove = StopWordsRemover(inputCol='token_text',outputCol='stop_tokens')\n",
    "hashingTF = HashingTF(inputCol=\"stop_tokens\", outputCol='hash_token')\n",
    "idf = IDF(inputCol='hash_token', outputCol='idf_token')"
   ]
  },
  {
   "cell_type": "code",
   "execution_count": 7,
   "metadata": {
    "id": "StQhEWRw254y"
   },
   "outputs": [],
   "source": [
    "from pyspark.ml.feature import VectorAssembler\n",
    "from pyspark.ml.linalg import Vector\n",
    "# Create feature vectors\n",
    "clean_up = VectorAssembler(inputCols=['idf_token', 'length'], outputCol='features')"
   ]
  },
  {
   "cell_type": "code",
   "execution_count": 8,
   "metadata": {
    "id": "_pwTN86YzVPj"
   },
   "outputs": [],
   "source": [
    "# Create and run a data processing Pipeline\n",
    "from pyspark.ml import Pipeline\n",
    "data_prep_pipeline = Pipeline(stages=[convert_review_output_to_numbers, tokenizer, stopremove, hashingTF, idf, clean_up])"
   ]
  },
  {
   "cell_type": "code",
   "execution_count": 9,
   "metadata": {
    "colab": {
     "base_uri": "https://localhost:8080/"
    },
    "id": "as1ctTNS0Nff",
    "outputId": "746b47a7-71e0-48f2-d64a-542a1a8bdc25"
   },
   "outputs": [
    {
     "name": "stdout",
     "output_type": "stream",
     "text": [
      "+-----+--------------------+\n",
      "|label|            features|\n",
      "+-----+--------------------+\n",
      "| 18.0|(262145,[2437,302...|\n",
      "|  5.0|(262145,[4714,514...|\n",
      "|  7.0|(262145,[22346,23...|\n",
      "| 15.0|(262145,[1797,230...|\n",
      "|  8.0|(262145,[14870,20...|\n",
      "|  8.0|(262145,[9781,304...|\n",
      "| 13.0|(262145,[21641,34...|\n",
      "|  0.0|(262145,[25789,43...|\n",
      "| 24.0|(262145,[22815,31...|\n",
      "|  6.0|(262145,[2437,216...|\n",
      "|  0.0|(262145,[9129,181...|\n",
      "| 10.0|(262145,[1696,383...|\n",
      "| 13.0|(262145,[1729,216...|\n",
      "|  2.0|(262145,[15370,23...|\n",
      "|  3.0|(262145,[6957,304...|\n",
      "|  0.0|(262145,[5765,218...|\n",
      "|  9.0|(262145,[3280,110...|\n",
      "|  5.0|(262145,[329,9129...|\n",
      "|  7.0|(262145,[11941,17...|\n",
      "|  5.0|(262145,[17435,21...|\n",
      "+-----+--------------------+\n",
      "only showing top 20 rows\n",
      "\n"
     ]
    }
   ],
   "source": [
    "# Fit and transform the pipeline\n",
    "cleaner = data_prep_pipeline.fit(data_df)\n",
    "cleaned = cleaner.transform(data_df)\n",
    "\n",
    "# Show \"Combined_Review\" and resulting features\n",
    "cleaned.select(['label', 'features']).show()"
   ]
  },
  {
   "cell_type": "code",
   "execution_count": 10,
   "metadata": {
    "id": "8Qe1rrGv0Nkn"
   },
   "outputs": [],
   "source": [
    "# Break data down into a training set and a testing set\n",
    "training, testing = cleaned.randomSplit([0.7, 0.3], 21)"
   ]
  },
  {
   "cell_type": "code",
   "execution_count": 11,
   "metadata": {
    "id": "CtPLIwaa0Nnf"
   },
   "outputs": [],
   "source": [
    "from pyspark.ml.classification import NaiveBayes\n",
    "# Create a Naive Bayes model and fit training data\n",
    "nb = NaiveBayes()\n",
    "predictor = nb.fit(training)"
   ]
  },
  {
   "cell_type": "code",
   "execution_count": 12,
   "metadata": {
    "colab": {
     "base_uri": "https://localhost:8080/"
    },
    "id": "jHb4DHem0Np9",
    "outputId": "6e9c1b22-ab46-47f3-dbc8-f79c420b93ef"
   },
   "outputs": [
    {
     "name": "stdout",
     "output_type": "stream",
     "text": [
      "+------+--------------+------+-----+----------+-----------+--------------+--------------+--------------------+--------------------+--------------------+----------+\n",
      "|Review|Reviewer_Score|length|label|token_text|stop_tokens|    hash_token|     idf_token|            features|       rawPrediction|         probability|prediction|\n",
      "+------+--------------+------+-----+----------+-----------+--------------+--------------+--------------------+--------------------+--------------------+----------+\n",
      "|      |          10.0|     1|  0.0|        []|         []|(262144,[],[])|(262144,[],[])|(262145,[262144],...|[-1.8425341189688...|[0.23608852129809...|       0.0|\n",
      "|      |           5.0|     1| 12.0|        []|         []|(262144,[],[])|(262144,[],[])|(262145,[262144],...|[-1.8425341189688...|[0.23608852129809...|       0.0|\n",
      "|      |           8.8|     1|  3.0|        []|         []|(262144,[],[])|(262144,[],[])|(262145,[262144],...|[-1.8425341189688...|[0.23608852129809...|       0.0|\n",
      "|      |          10.0|     2|  0.0|        []|         []|(262144,[],[])|(262144,[],[])|(262145,[262144],...|[-2.1951946759042...|[0.24541317399033...|       0.0|\n",
      "|      |           6.7|     2|  8.0|        []|         []|(262144,[],[])|(262144,[],[])|(262145,[262144],...|[-2.1951946759042...|[0.24541317399033...|       0.0|\n",
      "|      |           7.5|     2|  5.0|        []|         []|(262144,[],[])|(262144,[],[])|(262145,[262144],...|[-2.1951946759042...|[0.24541317399033...|       0.0|\n",
      "|      |           7.5|     2|  5.0|        []|         []|(262144,[],[])|(262144,[],[])|(262145,[262144],...|[-2.1951946759042...|[0.24541317399033...|       0.0|\n",
      "|      |           7.5|     2|  5.0|        []|         []|(262144,[],[])|(262144,[],[])|(262145,[262144],...|[-2.1951946759042...|[0.24541317399033...|       0.0|\n",
      "|      |           8.8|     2|  3.0|        []|         []|(262144,[],[])|(262144,[],[])|(262145,[262144],...|[-2.1951946759042...|[0.24541317399033...|       0.0|\n",
      "|      |           9.6|     2|  1.0|        []|         []|(262144,[],[])|(262144,[],[])|(262145,[262144],...|[-2.1951946759042...|[0.24541317399033...|       0.0|\n",
      "+------+--------------+------+-----+----------+-----------+--------------+--------------+--------------------+--------------------+--------------------+----------+\n",
      "only showing top 10 rows\n",
      "\n"
     ]
    }
   ],
   "source": [
    "# Transform the data with the testing data\n",
    "test_results = predictor.transform(testing)\n",
    "test_results.show(10)"
   ]
  },
  {
   "cell_type": "code",
   "execution_count": 13,
   "metadata": {
    "colab": {
     "base_uri": "https://localhost:8080/"
    },
    "id": "shc-i0sR0NxL",
    "outputId": "22d3af97-725c-44f5-f83e-6ed5a3604be4"
   },
   "outputs": [
    {
     "name": "stdout",
     "output_type": "stream",
     "text": [
      "Accuracy of model at predicting reviews was: 0.207723\n"
     ]
    }
   ],
   "source": [
    "# Use the Class Evaluator for a cleaner description\n",
    "from pyspark.ml.evaluation import MulticlassClassificationEvaluator\n",
    "\n",
    "acc_eval = MulticlassClassificationEvaluator()\n",
    "acc = acc_eval.evaluate(test_results)\n",
    "print(\"Accuracy of model at predicting reviews was: %f\" %acc)"
   ]
  },
  {
   "cell_type": "code",
   "execution_count": 13,
   "metadata": {
    "id": "s9Y6f72xxQ9p"
   },
   "outputs": [],
   "source": []
  }
 ],
 "metadata": {
  "colab": {
   "name": "Step2_NLP_Attempt1_execution_float_review_scores.ipynb",
   "provenance": []
  },
  "kernelspec": {
   "display_name": "Python 3",
   "language": "python",
   "name": "python3"
  },
  "language_info": {
   "codemirror_mode": {
    "name": "ipython",
    "version": 3
   },
   "file_extension": ".py",
   "mimetype": "text/x-python",
   "name": "python",
   "nbconvert_exporter": "python",
   "pygments_lexer": "ipython3",
   "version": "3.7.7"
  }
 },
 "nbformat": 4,
 "nbformat_minor": 1
}
