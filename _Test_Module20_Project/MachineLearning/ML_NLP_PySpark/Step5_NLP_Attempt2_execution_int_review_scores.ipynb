{
 "cells": [
  {
   "cell_type": "markdown",
   "metadata": {
    "id": "SIZfgdzXciMg"
   },
   "source": [
    "# This file runs on ***Google Colab***\n",
    "## Before running this file, the Data Source file needs to be placed at the same level as this file\n",
    "\n",
    "### Data file name: PySpark_DataFile/hotel_reviews_for_NLP2_int_review_score.zip/hotel_reviews_for_NLP2_int_review_score.csv"
   ]
  },
  {
   "cell_type": "code",
   "execution_count": 1,
   "metadata": {
    "colab": {
     "base_uri": "https://localhost:8080/"
    },
    "id": "CarnJEuzwP1B",
    "outputId": "080dbc5c-175b-4db2-b013-d58d421dfccc"
   },
   "outputs": [
    {
     "name": "stdout",
     "output_type": "stream",
     "text": [
      "\r",
      "0% [Working]\r",
      "            \r",
      "Hit:1 http://ppa.launchpad.net/c2d4u.team/c2d4u4.0+/ubuntu bionic InRelease\n",
      "\r",
      "0% [Connecting to archive.ubuntu.com (91.189.88.152)] [Connecting to security.u\r",
      "0% [1 InRelease gpgv 15.9 kB] [Waiting for headers] [Connecting to security.ubu\r",
      "                                                                               \r",
      "Hit:2 http://archive.ubuntu.com/ubuntu bionic InRelease\n",
      "\r",
      "0% [1 InRelease gpgv 15.9 kB] [Waiting for headers] [Connecting to security.ubu\r",
      "                                                                               \r",
      "Hit:3 http://ppa.launchpad.net/graphics-drivers/ppa/ubuntu bionic InRelease\n",
      "\r",
      "0% [1 InRelease gpgv 15.9 kB] [Waiting for headers] [Connecting to security.ubu\r",
      "                                                                               \r",
      "Hit:4 http://archive.ubuntu.com/ubuntu bionic-updates InRelease\n",
      "\r",
      "0% [1 InRelease gpgv 15.9 kB] [Waiting for headers] [Connecting to security.ubu\r",
      "                                                                               \r",
      "Hit:5 http://archive.ubuntu.com/ubuntu bionic-backports InRelease\n",
      "Hit:6 https://cloud.r-project.org/bin/linux/ubuntu bionic-cran40/ InRelease\n",
      "Hit:7 http://security.ubuntu.com/ubuntu bionic-security InRelease\n",
      "Ign:8 https://developer.download.nvidia.com/compute/cuda/repos/ubuntu1804/x86_64  InRelease\n",
      "Ign:9 https://developer.download.nvidia.com/compute/machine-learning/repos/ubuntu1804/x86_64  InRelease\n",
      "Hit:10 https://developer.download.nvidia.com/compute/cuda/repos/ubuntu1804/x86_64  Release\n",
      "Hit:11 https://developer.download.nvidia.com/compute/machine-learning/repos/ubuntu1804/x86_64  Release\n",
      "Reading package lists... Done\n"
     ]
    }
   ],
   "source": [
    "import os\n",
    "# Find the latest version of spark 3.0  from http://www-us.apache.org/dist/spark/ and enter as the spark version\n",
    "# For example:\n",
    "# spark_version = 'spark-3.0.1'\n",
    "spark_version = 'spark-3.0.1'\n",
    "os.environ['SPARK_VERSION']=spark_version\n",
    "\n",
    "# Install Spark and Java\n",
    "!apt-get update\n",
    "!apt-get install openjdk-11-jdk-headless -qq > /dev/null\n",
    "!wget -q http://www-us.apache.org/dist/spark/$SPARK_VERSION/$SPARK_VERSION-bin-hadoop2.7.tgz\n",
    "!tar xf $SPARK_VERSION-bin-hadoop2.7.tgz\n",
    "!pip install -q findspark\n",
    "\n",
    "# Set Environment Variables\n",
    "import os\n",
    "os.environ[\"JAVA_HOME\"] = \"/usr/lib/jvm/java-11-openjdk-amd64\"\n",
    "os.environ[\"SPARK_HOME\"] = f\"/content/{spark_version}-bin-hadoop2.7\"\n",
    "\n",
    "# Start a SparkSession\n",
    "import findspark\n",
    "findspark.init()"
   ]
  },
  {
   "cell_type": "code",
   "execution_count": 2,
   "metadata": {
    "id": "lZilGKyDwUV_"
   },
   "outputs": [],
   "source": [
    "# Start Spark session\n",
    "from pyspark.sql import SparkSession\n",
    "spark = SparkSession.builder.appName(\"PySpark_NLP_Attempt2\").getOrCreate()"
   ]
  },
  {
   "cell_type": "code",
   "execution_count": 3,
   "metadata": {
    "colab": {
     "base_uri": "https://localhost:8080/"
    },
    "id": "lOu9ay3cwZX9",
    "outputId": "9fe2727a-ba68-4186-d9b8-1c798ed362e2"
   },
   "outputs": [
    {
     "name": "stdout",
     "output_type": "stream",
     "text": [
      "+--------------------+------------------+\n",
      "|              Review|Reviewer_Score_Int|\n",
      "+--------------------+------------------+\n",
      "| I am so angry th...|                 3|\n",
      "| No real complain...|                 8|\n",
      "| Rooms are nice b...|                 7|\n",
      "| My room was dirt...|                 4|\n",
      "| You When I booke...|                 7|\n",
      "| Backyard of the ...|                 7|\n",
      "| Cleaner did not ...|                 5|\n",
      "| Apart from the p...|                10|\n",
      "| Even though the ...|                 6|\n",
      "| The aircondition...|                 8|\n",
      "| Nothing all grea...|                10|\n",
      "| 6 30 AM started ...|                 6|\n",
      "| The floor in my ...|                 5|\n",
      "| This hotel is be...|                 9|\n",
      "| The staff in the...|                 9|\n",
      "| This hotel is aw...|                10|\n",
      "| Very steep steps...|                 6|\n",
      "| We did not like ...|                 8|\n",
      "| Public areas are...|                 7|\n",
      "| We had issues wi...|                 8|\n",
      "+--------------------+------------------+\n",
      "only showing top 20 rows\n",
      "\n"
     ]
    }
   ],
   "source": [
    "# Read in data \n",
    "from pyspark import SparkFiles\n",
    "file_path = \"hotel_reviews_for_NLP2_int_review_score.csv\"\n",
    "spark.sparkContext.addFile(file_path)\n",
    "df = spark.read.csv(SparkFiles.get(\"hotel_reviews_for_NLP2_int_review_score.csv\"), sep=\",\", header=True)\n",
    "\n",
    "# Show DataFrame\n",
    "df.show()"
   ]
  },
  {
   "cell_type": "code",
   "execution_count": 4,
   "metadata": {
    "id": "sx5ryO5Bwe94"
   },
   "outputs": [],
   "source": [
    "# Import functions\n",
    "from pyspark.ml.feature import Tokenizer, StopWordsRemover, HashingTF, IDF, StringIndexer"
   ]
  },
  {
   "cell_type": "code",
   "execution_count": 5,
   "metadata": {
    "colab": {
     "base_uri": "https://localhost:8080/"
    },
    "id": "2Pf42Ru-woQ0",
    "outputId": "ced6971e-4fcd-4f66-cc4f-46c939b876c5"
   },
   "outputs": [
    {
     "name": "stdout",
     "output_type": "stream",
     "text": [
      "+--------------------+------------------+------+\n",
      "|              Review|Reviewer_Score_Int|length|\n",
      "+--------------------+------------------+------+\n",
      "| I am so angry th...|                 3|  1913|\n",
      "| No real complain...|                 8|   611|\n",
      "| Rooms are nice b...|                 7|   301|\n",
      "| My room was dirt...|                 4|  1221|\n",
      "| You When I booke...|                 7|   774|\n",
      "| Backyard of the ...|                 7|   186|\n",
      "| Cleaner did not ...|                 5|   235|\n",
      "| Apart from the p...|                10|   157|\n",
      "| Even though the ...|                 6|   162|\n",
      "| The aircondition...|                 8|   312|\n",
      "| Nothing all grea...|                10|   568|\n",
      "| 6 30 AM started ...|                 6|   430|\n",
      "| The floor in my ...|                 5|   152|\n",
      "| This hotel is be...|                 9|   329|\n",
      "| The staff in the...|                 9|   229|\n",
      "| This hotel is aw...|                10|   413|\n",
      "| Very steep steps...|                 6|   270|\n",
      "| We did not like ...|                 8|   623|\n",
      "| Public areas are...|                 7|   166|\n",
      "| We had issues wi...|                 8|   620|\n",
      "+--------------------+------------------+------+\n",
      "only showing top 20 rows\n",
      "\n"
     ]
    }
   ],
   "source": [
    "from pyspark.sql.functions import length\n",
    "# Create a length column to be used as a future feature\n",
    "data_df = df.withColumn('length', length(df['Review']))\n",
    "data_df.show()"
   ]
  },
  {
   "cell_type": "code",
   "execution_count": 6,
   "metadata": {
    "id": "mnjC7sdrwyL0"
   },
   "outputs": [],
   "source": [
    "# Create all the features to the data set\n",
    "convert_review_output_to_numbers = StringIndexer(inputCol='Reviewer_Score_Int',outputCol='label')\n",
    "tokenizer = Tokenizer(inputCol=\"Review\", outputCol=\"token_text\")\n",
    "stopremove = StopWordsRemover(inputCol='token_text',outputCol='stop_tokens')\n",
    "hashingTF = HashingTF(inputCol=\"stop_tokens\", outputCol='hash_token')\n",
    "idf = IDF(inputCol='hash_token', outputCol='idf_token')"
   ]
  },
  {
   "cell_type": "code",
   "execution_count": 7,
   "metadata": {
    "id": "StQhEWRw254y"
   },
   "outputs": [],
   "source": [
    "from pyspark.ml.feature import VectorAssembler\n",
    "from pyspark.ml.linalg import Vector\n",
    "# Create feature vectors\n",
    "clean_up = VectorAssembler(inputCols=['idf_token', 'length'], outputCol='features')"
   ]
  },
  {
   "cell_type": "code",
   "execution_count": 8,
   "metadata": {
    "id": "_pwTN86YzVPj"
   },
   "outputs": [],
   "source": [
    "# Create and run a data processing Pipeline\n",
    "from pyspark.ml import Pipeline\n",
    "data_prep_pipeline = Pipeline(stages=[convert_review_output_to_numbers, tokenizer, stopremove, hashingTF, idf, clean_up])"
   ]
  },
  {
   "cell_type": "code",
   "execution_count": 9,
   "metadata": {
    "colab": {
     "base_uri": "https://localhost:8080/"
    },
    "id": "as1ctTNS0Nff",
    "outputId": "fe4103b8-3522-4da4-ede4-cc383895fa23"
   },
   "outputs": [
    {
     "name": "stdout",
     "output_type": "stream",
     "text": [
      "+-----+--------------------+\n",
      "|label|            features|\n",
      "+-----+--------------------+\n",
      "|  7.0|(262145,[2437,302...|\n",
      "|  1.0|(262145,[4714,514...|\n",
      "|  3.0|(262145,[22346,23...|\n",
      "|  6.0|(262145,[1797,230...|\n",
      "|  3.0|(262145,[14870,20...|\n",
      "|  3.0|(262145,[9781,304...|\n",
      "|  5.0|(262145,[21641,34...|\n",
      "|  0.0|(262145,[25789,43...|\n",
      "|  4.0|(262145,[22815,31...|\n",
      "|  1.0|(262145,[2437,216...|\n",
      "|  0.0|(262145,[9129,181...|\n",
      "|  4.0|(262145,[1696,383...|\n",
      "|  5.0|(262145,[1729,216...|\n",
      "|  2.0|(262145,[15370,23...|\n",
      "|  2.0|(262145,[6957,304...|\n",
      "|  0.0|(262145,[5765,218...|\n",
      "|  4.0|(262145,[3280,110...|\n",
      "|  1.0|(262145,[329,9129...|\n",
      "|  3.0|(262145,[11941,17...|\n",
      "|  1.0|(262145,[17435,21...|\n",
      "+-----+--------------------+\n",
      "only showing top 20 rows\n",
      "\n"
     ]
    }
   ],
   "source": [
    "# Fit and transform the pipeline\n",
    "cleaner = data_prep_pipeline.fit(data_df)\n",
    "cleaned = cleaner.transform(data_df)\n",
    "\n",
    "# Show \"Combined_Review\" and resulting features\n",
    "cleaned.select(['label', 'features']).show()"
   ]
  },
  {
   "cell_type": "code",
   "execution_count": 10,
   "metadata": {
    "id": "8Qe1rrGv0Nkn"
   },
   "outputs": [],
   "source": [
    "# Break data down into a training set and a testing set\n",
    "training, testing = cleaned.randomSplit([0.7, 0.3], 21)"
   ]
  },
  {
   "cell_type": "code",
   "execution_count": 11,
   "metadata": {
    "id": "CtPLIwaa0Nnf"
   },
   "outputs": [],
   "source": [
    "from pyspark.ml.classification import NaiveBayes\n",
    "# Create a Naive Bayes model and fit training data\n",
    "nb = NaiveBayes()\n",
    "predictor = nb.fit(training)"
   ]
  },
  {
   "cell_type": "code",
   "execution_count": 12,
   "metadata": {
    "colab": {
     "base_uri": "https://localhost:8080/"
    },
    "id": "jHb4DHem0Np9",
    "outputId": "3f891037-b992-4524-aaf7-48f2043bb9ca"
   },
   "outputs": [
    {
     "name": "stdout",
     "output_type": "stream",
     "text": [
      "+------+------------------+------+-----+----------+-----------+--------------+--------------+--------------------+--------------------+--------------------+----------+\n",
      "|Review|Reviewer_Score_Int|length|label|token_text|stop_tokens|    hash_token|     idf_token|            features|       rawPrediction|         probability|prediction|\n",
      "+------+------------------+------+-----+----------+-----------+--------------+--------------+--------------------+--------------------+--------------------+----------+\n",
      "|      |                10|     1|  0.0|        []|         []|(262144,[],[])|(262144,[],[])|(262145,[262144],...|[-1.3583605013690...|[0.37266863366912...|       0.0|\n",
      "|      |                10|     1|  0.0|        []|         []|(262144,[],[])|(262144,[],[])|(262145,[262144],...|[-1.3583605013690...|[0.37266863366912...|       0.0|\n",
      "|      |                 8|     1|  1.0|        []|         []|(262144,[],[])|(262144,[],[])|(262145,[262144],...|[-1.3583605013690...|[0.37266863366912...|       0.0|\n",
      "|      |                10|     2|  0.0|        []|         []|(262144,[],[])|(262144,[],[])|(262145,[262144],...|[-1.7075621083146...|[0.38053033785352...|       0.0|\n",
      "|      |                 6|     2|  4.0|        []|         []|(262144,[],[])|(262144,[],[])|(262145,[262144],...|[-1.7075621083146...|[0.38053033785352...|       0.0|\n",
      "|      |                 7|     2|  3.0|        []|         []|(262144,[],[])|(262144,[],[])|(262145,[262144],...|[-1.7075621083146...|[0.38053033785352...|       0.0|\n",
      "|      |                 8|     2|  1.0|        []|         []|(262144,[],[])|(262144,[],[])|(262145,[262144],...|[-1.7075621083146...|[0.38053033785352...|       0.0|\n",
      "|      |                 8|     2|  1.0|        []|         []|(262144,[],[])|(262144,[],[])|(262145,[262144],...|[-1.7075621083146...|[0.38053033785352...|       0.0|\n",
      "|      |                 8|     2|  1.0|        []|         []|(262144,[],[])|(262144,[],[])|(262145,[262144],...|[-1.7075621083146...|[0.38053033785352...|       0.0|\n",
      "|      |                 9|     2|  2.0|        []|         []|(262144,[],[])|(262144,[],[])|(262145,[262144],...|[-1.7075621083146...|[0.38053033785352...|       0.0|\n",
      "+------+------------------+------+-----+----------+-----------+--------------+--------------+--------------------+--------------------+--------------------+----------+\n",
      "only showing top 10 rows\n",
      "\n"
     ]
    }
   ],
   "source": [
    "# Transform the data with the testing data\n",
    "test_results = predictor.transform(testing)\n",
    "test_results.show(10)"
   ]
  },
  {
   "cell_type": "code",
   "execution_count": 13,
   "metadata": {
    "colab": {
     "base_uri": "https://localhost:8080/"
    },
    "id": "shc-i0sR0NxL",
    "outputId": "6f9dd62f-096a-4413-8da6-5c156e80e5dc"
   },
   "outputs": [
    {
     "name": "stdout",
     "output_type": "stream",
     "text": [
      "Accuracy of model at predicting reviews was: 0.396209\n"
     ]
    }
   ],
   "source": [
    "# Use the Class Evaluator for a cleaner description\n",
    "from pyspark.ml.evaluation import MulticlassClassificationEvaluator\n",
    "\n",
    "acc_eval = MulticlassClassificationEvaluator()\n",
    "acc = acc_eval.evaluate(test_results)\n",
    "print(\"Accuracy of model at predicting reviews was: %f\" %acc)"
   ]
  },
  {
   "cell_type": "code",
   "execution_count": 13,
   "metadata": {
    "id": "s9Y6f72xxQ9p"
   },
   "outputs": [],
   "source": []
  }
 ],
 "metadata": {
  "colab": {
   "collapsed_sections": [],
   "name": "Step4_NLP_Attempt2_execution_int_review_scores.ipynb",
   "provenance": [],
   "toc_visible": true
  },
  "kernelspec": {
   "display_name": "Python 3",
   "language": "python",
   "name": "python3"
  },
  "language_info": {
   "codemirror_mode": {
    "name": "ipython",
    "version": 3
   },
   "file_extension": ".py",
   "mimetype": "text/x-python",
   "name": "python",
   "nbconvert_exporter": "python",
   "pygments_lexer": "ipython3",
   "version": "3.7.7"
  }
 },
 "nbformat": 4,
 "nbformat_minor": 1
}
