{
 "cells": [
  {
   "cell_type": "markdown",
   "metadata": {
    "id": "SIZfgdzXciMg"
   },
   "source": [
    "# This file runs on ***Google Colab***\n",
    "## Before running this file, the Data File needs to be placed at the same level as this file\n",
    "\n",
    "### Data file: ../PySpark_DataFile/hotel_reviews_for_NLP2_int_review_score.zip/hotel_reviews_for_NLP2_int_review_score.csv\n"
   ]
  },
  {
   "cell_type": "code",
   "execution_count": 11,
   "metadata": {
    "id": "CarnJEuzwP1B"
   },
   "outputs": [],
   "source": [
    "# Import our dependencies\n",
    "import tensorflow as tf\n",
    "import tensorflow_hub as hub\n",
    "import matplotlib.pyplot as plt\n",
    "import pandas as pd\n",
    "import numpy as np\n",
    "from sklearn.model_selection import train_test_split\n",
    "from sklearn.preprocessing import LabelEncoder\n",
    "from sklearn.preprocessing import StandardScaler,OneHotEncoder"
   ]
  },
  {
   "cell_type": "code",
   "execution_count": 12,
   "metadata": {
    "colab": {
     "base_uri": "https://localhost:8080/",
     "height": 419
    },
    "id": "lZilGKyDwUV_",
    "outputId": "76837655-664e-424f-f5b1-6fd70b579238"
   },
   "outputs": [
    {
     "data": {
      "text/html": [
       "<div>\n",
       "<style scoped>\n",
       "    .dataframe tbody tr th:only-of-type {\n",
       "        vertical-align: middle;\n",
       "    }\n",
       "\n",
       "    .dataframe tbody tr th {\n",
       "        vertical-align: top;\n",
       "    }\n",
       "\n",
       "    .dataframe thead th {\n",
       "        text-align: right;\n",
       "    }\n",
       "</style>\n",
       "<table border=\"1\" class=\"dataframe\">\n",
       "  <thead>\n",
       "    <tr style=\"text-align: right;\">\n",
       "      <th></th>\n",
       "      <th>Review</th>\n",
       "      <th>Reviewer_Score_Int</th>\n",
       "    </tr>\n",
       "  </thead>\n",
       "  <tbody>\n",
       "    <tr>\n",
       "      <th>0</th>\n",
       "      <td>I am so angry that i made this post available...</td>\n",
       "      <td>3</td>\n",
       "    </tr>\n",
       "    <tr>\n",
       "      <th>1</th>\n",
       "      <td>No real complaints the hotel was great great ...</td>\n",
       "      <td>8</td>\n",
       "    </tr>\n",
       "    <tr>\n",
       "      <th>2</th>\n",
       "      <td>Rooms are nice but for elderly a bit difficul...</td>\n",
       "      <td>7</td>\n",
       "    </tr>\n",
       "    <tr>\n",
       "      <th>3</th>\n",
       "      <td>My room was dirty and I was afraid to walk ba...</td>\n",
       "      <td>4</td>\n",
       "    </tr>\n",
       "    <tr>\n",
       "      <th>4</th>\n",
       "      <td>You When I booked with your company on line y...</td>\n",
       "      <td>7</td>\n",
       "    </tr>\n",
       "    <tr>\n",
       "      <th>...</th>\n",
       "      <td>...</td>\n",
       "      <td>...</td>\n",
       "    </tr>\n",
       "    <tr>\n",
       "      <th>512338</th>\n",
       "      <td>no trolly or staff to help you take the lugga...</td>\n",
       "      <td>7</td>\n",
       "    </tr>\n",
       "    <tr>\n",
       "      <th>512339</th>\n",
       "      <td>The hotel looks like 3 but surely not 4  Brea...</td>\n",
       "      <td>6</td>\n",
       "    </tr>\n",
       "    <tr>\n",
       "      <th>512340</th>\n",
       "      <td>The ac was useless It was a hot week in vienn...</td>\n",
       "      <td>2</td>\n",
       "    </tr>\n",
       "    <tr>\n",
       "      <th>512341</th>\n",
       "      <td>The rooms are enormous and really comfortable...</td>\n",
       "      <td>9</td>\n",
       "    </tr>\n",
       "    <tr>\n",
       "      <th>512342</th>\n",
       "      <td>I was in 3rd floor It didn t work Free Wife  ...</td>\n",
       "      <td>8</td>\n",
       "    </tr>\n",
       "  </tbody>\n",
       "</table>\n",
       "<p>512343 rows × 2 columns</p>\n",
       "</div>"
      ],
      "text/plain": [
       "                                                   Review  Reviewer_Score_Int\n",
       "0        I am so angry that i made this post available...                   3\n",
       "1        No real complaints the hotel was great great ...                   8\n",
       "2        Rooms are nice but for elderly a bit difficul...                   7\n",
       "3        My room was dirty and I was afraid to walk ba...                   4\n",
       "4        You When I booked with your company on line y...                   7\n",
       "...                                                   ...                 ...\n",
       "512338   no trolly or staff to help you take the lugga...                   7\n",
       "512339   The hotel looks like 3 but surely not 4  Brea...                   6\n",
       "512340   The ac was useless It was a hot week in vienn...                   2\n",
       "512341   The rooms are enormous and really comfortable...                   9\n",
       "512342   I was in 3rd floor It didn t work Free Wife  ...                   8\n",
       "\n",
       "[512343 rows x 2 columns]"
      ]
     },
     "execution_count": 12,
     "metadata": {
      "tags": []
     },
     "output_type": "execute_result"
    }
   ],
   "source": [
    "# Reading data into a pandas DataFrame\n",
    "df = pd.read_csv('hotel_reviews_for_NLP2_int_review_score.csv')\n",
    "df"
   ]
  },
  {
   "cell_type": "code",
   "execution_count": 13,
   "metadata": {
    "id": "s9Y6f72xxQ9p"
   },
   "outputs": [],
   "source": [
    "# Split our preprocessed data into our features/input and target/output arrays\n",
    "y = df['Reviewer_Score_Int'].values\n",
    "X = df.drop(['Reviewer_Score_Int'],1).values\n",
    "\n",
    "# Split the preprocessed data into a training and testing dataset\n",
    "X_train, X_test, y_train, y_test = train_test_split(X, y, random_state=1)"
   ]
  },
  {
   "cell_type": "code",
   "execution_count": 14,
   "metadata": {
    "colab": {
     "base_uri": "https://localhost:8080/"
    },
    "id": "NEPPBSv0kN0H",
    "outputId": "62abad1b-40d2-4d6c-a450-fed5020925c9"
   },
   "outputs": [
    {
     "name": "stdout",
     "output_type": "stream",
     "text": [
      "Model: \"sequential_1\"\n",
      "_________________________________________________________________\n",
      "Layer (type)                 Output Shape              Param #   \n",
      "=================================================================\n",
      "keras_layer_1 (KerasLayer)   (None, 20)                400020    \n",
      "_________________________________________________________________\n",
      "dense_2 (Dense)              (None, 3)                 63        \n",
      "_________________________________________________________________\n",
      "dense_3 (Dense)              (None, 1)                 4         \n",
      "=================================================================\n",
      "Total params: 400,087\n",
      "Trainable params: 400,087\n",
      "Non-trainable params: 0\n",
      "_________________________________________________________________\n"
     ]
    }
   ],
   "source": [
    "# Compile, Train and Evaluate the Model\n",
    "model = \"https://tfhub.dev/google/tf2-preview/gnews-swivel-20dim/1\"\n",
    "hub_layer = hub.KerasLayer(model, output_shape=[8], input_shape=[], dtype=tf.string, trainable=True)\n",
    "model = tf.keras.Sequential()\n",
    "\n",
    "# First hidden layer\n",
    "model.add(hub_layer)\n",
    "\n",
    "# Second hidden layer\n",
    "model.add(tf.keras.layers.Dense(units=3, activation='relu'))\n",
    "\n",
    "# Output layer\n",
    "model.add(tf.keras.layers.Dense(units=1, activation='sigmoid'))\n",
    "\n",
    "# Check the structure of the model\n",
    "model.summary()"
   ]
  },
  {
   "cell_type": "code",
   "execution_count": 15,
   "metadata": {
    "id": "yZN9_BgWkO-B"
   },
   "outputs": [],
   "source": [
    "# compile the model\n",
    "model.compile(optimizer='adam',\n",
    "              loss=tf.losses.BinaryCrossentropy(from_logits=True),\n",
    "              metrics=[tf.metrics.BinaryAccuracy(threshold=0.0, name='accuracy')])"
   ]
  },
  {
   "cell_type": "code",
   "execution_count": 16,
   "metadata": {
    "colab": {
     "base_uri": "https://localhost:8080/"
    },
    "id": "cchGwoAukR6J",
    "outputId": "f01bea3e-9aec-4cf9-b262-0c990f3dab9a"
   },
   "outputs": [
    {
     "name": "stdout",
     "output_type": "stream",
     "text": [
      "Epoch 1/10\n",
      "12009/12009 [==============================] - 118s 10ms/step - loss: -6.6121 - accuracy: 0.0000e+00\n",
      "Epoch 2/10\n",
      "12009/12009 [==============================] - 116s 10ms/step - loss: -7.1455 - accuracy: 0.0000e+00\n",
      "Epoch 3/10\n",
      "12009/12009 [==============================] - 117s 10ms/step - loss: -7.1455 - accuracy: 0.0000e+00\n",
      "Epoch 4/10\n",
      "12009/12009 [==============================] - 120s 10ms/step - loss: -7.1455 - accuracy: 0.0000e+00\n",
      "Epoch 5/10\n",
      "12009/12009 [==============================] - 118s 10ms/step - loss: -7.1455 - accuracy: 0.0000e+00\n",
      "Epoch 6/10\n",
      "12009/12009 [==============================] - 124s 10ms/step - loss: -7.1455 - accuracy: 0.0000e+00\n",
      "Epoch 7/10\n",
      "12009/12009 [==============================] - 123s 10ms/step - loss: -7.1455 - accuracy: 0.0000e+00\n",
      "Epoch 8/10\n",
      "12009/12009 [==============================] - 123s 10ms/step - loss: -7.1455 - accuracy: 0.0000e+00\n",
      "Epoch 9/10\n",
      "12009/12009 [==============================] - 125s 10ms/step - loss: -7.1455 - accuracy: 0.0000e+00\n",
      "Epoch 10/10\n",
      "12009/12009 [==============================] - 117s 10ms/step - loss: -7.1455 - accuracy: 0.0000e+00\n"
     ]
    }
   ],
   "source": [
    "# Fit/Train the model\n",
    "fit_model = model.fit(X_train, y_train, epochs=10)"
   ]
  },
  {
   "cell_type": "code",
   "execution_count": 17,
   "metadata": {
    "colab": {
     "base_uri": "https://localhost:8080/",
     "height": 282
    },
    "id": "q0_LjdiOkUji",
    "outputId": "53f96a7a-f8d2-4525-cf47-8544aa04078b"
   },
   "outputs": [
    {
     "data": {
      "text/plain": [
       "<matplotlib.axes._subplots.AxesSubplot at 0x7f2afce97fd0>"
      ]
     },
     "execution_count": 17,
     "metadata": {
      "tags": []
     },
     "output_type": "execute_result"
    },
    {
     "data": {
      "image/png": "[encoded data removed]",
      "text/plain": [
       "<Figure size 432x288 with 1 Axes>"
      ]
     },
     "metadata": {
      "needs_background": "light",
      "tags": []
     },
     "output_type": "display_data"
    }
   ],
   "source": [
    "# Create a DataFrame containing training history\n",
    "history_df = pd.DataFrame(fit_model.history, index=range(1,len(fit_model.history[\"loss\"])+1))\n",
    "\n",
    "# Plot the loss\n",
    "history_df.plot(y=\"loss\")"
   ]
  },
  {
   "cell_type": "code",
   "execution_count": 18,
   "metadata": {
    "colab": {
     "base_uri": "https://localhost:8080/",
     "height": 282
    },
    "id": "mWFZ-HcpkZQk",
    "outputId": "9a1464fd-86c6-473a-f66d-59fd3790c288"
   },
   "outputs": [
    {
     "data": {
      "text/plain": [
       "<matplotlib.axes._subplots.AxesSubplot at 0x7f2af45610b8>"
      ]
     },
     "execution_count": 18,
     "metadata": {
      "tags": []
     },
     "output_type": "execute_result"
    },
    {
     "data": {
      "image/png": "[encoded data removed]",
      "text/plain": [
       "<Figure size 432x288 with 1 Axes>"
      ]
     },
     "metadata": {
      "needs_background": "light",
      "tags": []
     },
     "output_type": "display_data"
    }
   ],
   "source": [
    "# Plot the accuracy\n",
    "history_df.plot(y=\"accuracy\")"
   ]
  },
  {
   "cell_type": "code",
   "execution_count": 19,
   "metadata": {
    "colab": {
     "base_uri": "https://localhost:8080/"
    },
    "id": "lZkEeYYIkbkQ",
    "outputId": "346c9c74-1db5-4190-b426-d6994ef510ec"
   },
   "outputs": [
    {
     "name": "stdout",
     "output_type": "stream",
     "text": [
      "4003/4003 - 8s - loss: -7.1453e+00 - accuracy: 0.0000e+00\n",
      "Loss: -7.1452765464782715, Accuracy: 0.0\n"
     ]
    }
   ],
   "source": [
    "# Test/Evaluate the model using the test data\n",
    "model_loss, model_accuracy = model.evaluate(X_test,y_test,verbose=2)\n",
    "print(f\"Loss: {model_loss}, Accuracy: {model_accuracy}\")"
   ]
  },
  {
   "cell_type": "code",
   "execution_count": 20,
   "metadata": {
    "id": "UrU_8Rlbkdsv"
   },
   "outputs": [],
   "source": [
    "# Export our model to HDF5 file\n",
    "model.save(\"SavedModel2_NLP_DL_Review_in_Integer_Format.h5\")"
   ]
  },
  {
   "cell_type": "code",
   "execution_count": null,
   "metadata": {
    "id": "nzmrKdZZ8qRZ"
   },
   "outputs": [],
   "source": []
  }
 ],
 "metadata": {
  "colab": {
   "name": "NLP_DL_Review_in_int_format.ipynb",
   "provenance": []
  },
  "kernelspec": {
   "display_name": "Python 3",
   "language": "python",
   "name": "python3"
  },
  "language_info": {
   "codemirror_mode": {
    "name": "ipython",
    "version": 3
   },
   "file_extension": ".py",
   "mimetype": "text/x-python",
   "name": "python",
   "nbconvert_exporter": "python",
   "pygments_lexer": "ipython3",
   "version": "3.7.7"
  }
 },
 "nbformat": 4,
 "nbformat_minor": 1
}
