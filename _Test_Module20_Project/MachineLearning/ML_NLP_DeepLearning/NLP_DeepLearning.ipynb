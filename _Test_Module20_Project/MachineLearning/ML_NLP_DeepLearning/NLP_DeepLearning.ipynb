{
 "cells": [
  {
   "cell_type": "code",
   "execution_count": 14,
   "metadata": {},
   "outputs": [
    {
     "name": "stdout",
     "output_type": "stream",
     "text": [
      "Requirement already satisfied: tensorflow_hub in c:\\users\\16474\\anaconda3\\envs\\pythondata\\lib\\site-packages (0.10.0)\n",
      "Requirement already satisfied: numpy>=1.12.0 in c:\\users\\16474\\anaconda3\\envs\\pythondata\\lib\\site-packages (from tensorflow_hub) (1.17.0)\n",
      "Requirement already satisfied: protobuf>=3.8.0 in c:\\users\\16474\\anaconda3\\envs\\pythondata\\lib\\site-packages (from tensorflow_hub) (3.13.0)\n",
      "Requirement already satisfied: six>=1.9 in c:\\users\\16474\\anaconda3\\envs\\pythondata\\lib\\site-packages (from protobuf>=3.8.0->tensorflow_hub) (1.15.0)\n",
      "Requirement already satisfied: setuptools in c:\\users\\16474\\anaconda3\\envs\\pythondata\\lib\\site-packages (from protobuf>=3.8.0->tensorflow_hub) (49.2.0.post20200714)\n"
     ]
    }
   ],
   "source": [
    "!pip install tensorflow_hub"
   ]
  },
  {
   "cell_type": "code",
   "execution_count": 16,
   "metadata": {},
   "outputs": [
    {
     "ename": "ModuleNotFoundError",
     "evalue": "No module named 'tensorflow_hub'",
     "output_type": "error",
     "traceback": [
      "\u001b[1;31m---------------------------------------------------------------------------\u001b[0m",
      "\u001b[1;31mModuleNotFoundError\u001b[0m                       Traceback (most recent call last)",
      "\u001b[1;32m<ipython-input-16-9f1f5f5bba6c>\u001b[0m in \u001b[0;36m<module>\u001b[1;34m\u001b[0m\n\u001b[0;32m      4\u001b[0m \u001b[1;32mimport\u001b[0m \u001b[0mpandas\u001b[0m \u001b[1;32mas\u001b[0m \u001b[0mpd\u001b[0m\u001b[1;33m\u001b[0m\u001b[1;33m\u001b[0m\u001b[0m\n\u001b[0;32m      5\u001b[0m \u001b[1;32mimport\u001b[0m \u001b[0mtensorflow\u001b[0m \u001b[1;32mas\u001b[0m \u001b[0mtf\u001b[0m\u001b[1;33m\u001b[0m\u001b[1;33m\u001b[0m\u001b[0m\n\u001b[1;32m----> 6\u001b[1;33m \u001b[1;32mimport\u001b[0m \u001b[0mtensorflow_hub\u001b[0m\u001b[1;33m\u001b[0m\u001b[1;33m\u001b[0m\u001b[0m\n\u001b[0m\u001b[0;32m      7\u001b[0m \u001b[1;32mimport\u001b[0m \u001b[0mzipfile\u001b[0m \u001b[1;32mas\u001b[0m \u001b[0mzf\u001b[0m\u001b[1;33m\u001b[0m\u001b[1;33m\u001b[0m\u001b[0m\n\u001b[0;32m      8\u001b[0m \u001b[1;32mimport\u001b[0m \u001b[0mnumpy\u001b[0m \u001b[1;32mas\u001b[0m \u001b[0mnp\u001b[0m\u001b[1;33m\u001b[0m\u001b[1;33m\u001b[0m\u001b[0m\n",
      "\u001b[1;31mModuleNotFoundError\u001b[0m: No module named 'tensorflow_hub'"
     ]
    }
   ],
   "source": [
    "# Import our dependencies\n",
    "from sklearn.model_selection import train_test_split\n",
    "from sklearn.preprocessing import StandardScaler,OneHotEncoder\n",
    "import pandas as pd\n",
    "import tensorflow as tf\n",
    "import tensorflow_hub\n",
    "import zipfile as zf\n",
    "import numpy as np"
   ]
  },
  {
   "cell_type": "code",
   "execution_count": 4,
   "metadata": {},
   "outputs": [
    {
     "data": {
      "text/html": [
       "<div>\n",
       "<style scoped>\n",
       "    .dataframe tbody tr th:only-of-type {\n",
       "        vertical-align: middle;\n",
       "    }\n",
       "\n",
       "    .dataframe tbody tr th {\n",
       "        vertical-align: top;\n",
       "    }\n",
       "\n",
       "    .dataframe thead th {\n",
       "        text-align: right;\n",
       "    }\n",
       "</style>\n",
       "<table border=\"1\" class=\"dataframe\">\n",
       "  <thead>\n",
       "    <tr style=\"text-align: right;\">\n",
       "      <th></th>\n",
       "      <th>Review</th>\n",
       "      <th>Reviewer_Score</th>\n",
       "    </tr>\n",
       "  </thead>\n",
       "  <tbody>\n",
       "    <tr>\n",
       "      <th>0</th>\n",
       "      <td>I am so angry that i made this post available...</td>\n",
       "      <td>2.9</td>\n",
       "    </tr>\n",
       "    <tr>\n",
       "      <th>1</th>\n",
       "      <td>No real complaints the hotel was great great ...</td>\n",
       "      <td>7.5</td>\n",
       "    </tr>\n",
       "    <tr>\n",
       "      <th>2</th>\n",
       "      <td>Rooms are nice but for elderly a bit difficul...</td>\n",
       "      <td>7.1</td>\n",
       "    </tr>\n",
       "    <tr>\n",
       "      <th>3</th>\n",
       "      <td>My room was dirty and I was afraid to walk ba...</td>\n",
       "      <td>3.8</td>\n",
       "    </tr>\n",
       "    <tr>\n",
       "      <th>4</th>\n",
       "      <td>You When I booked with your company on line y...</td>\n",
       "      <td>6.7</td>\n",
       "    </tr>\n",
       "    <tr>\n",
       "      <th>...</th>\n",
       "      <td>...</td>\n",
       "      <td>...</td>\n",
       "    </tr>\n",
       "    <tr>\n",
       "      <th>512465</th>\n",
       "      <td>no trolly or staff to help you take the lugga...</td>\n",
       "      <td>7.0</td>\n",
       "    </tr>\n",
       "    <tr>\n",
       "      <th>512466</th>\n",
       "      <td>The hotel looks like 3 but surely not 4  Brea...</td>\n",
       "      <td>5.8</td>\n",
       "    </tr>\n",
       "    <tr>\n",
       "      <th>512467</th>\n",
       "      <td>The ac was useless It was a hot week in vienn...</td>\n",
       "      <td>2.5</td>\n",
       "    </tr>\n",
       "    <tr>\n",
       "      <th>512468</th>\n",
       "      <td>The rooms are enormous and really comfortable...</td>\n",
       "      <td>8.8</td>\n",
       "    </tr>\n",
       "    <tr>\n",
       "      <th>512469</th>\n",
       "      <td>I was in 3rd floor It didn t work Free Wife  ...</td>\n",
       "      <td>8.3</td>\n",
       "    </tr>\n",
       "  </tbody>\n",
       "</table>\n",
       "<p>512470 rows × 2 columns</p>\n",
       "</div>"
      ],
      "text/plain": [
       "                                                   Review  Reviewer_Score\n",
       "0        I am so angry that i made this post available...             2.9\n",
       "1        No real complaints the hotel was great great ...             7.5\n",
       "2        Rooms are nice but for elderly a bit difficul...             7.1\n",
       "3        My room was dirty and I was afraid to walk ba...             3.8\n",
       "4        You When I booked with your company on line y...             6.7\n",
       "...                                                   ...             ...\n",
       "512465   no trolly or staff to help you take the lugga...             7.0\n",
       "512466   The hotel looks like 3 but surely not 4  Brea...             5.8\n",
       "512467   The ac was useless It was a hot week in vienn...             2.5\n",
       "512468   The rooms are enormous and really comfortable...             8.8\n",
       "512469   I was in 3rd floor It didn t work Free Wife  ...             8.3\n",
       "\n",
       "[512470 rows x 2 columns]"
      ]
     },
     "execution_count": 4,
     "metadata": {},
     "output_type": "execute_result"
    }
   ],
   "source": [
    "# import table\n",
    "zip_file = zf.ZipFile('../ML_NLP_PySpark/PySpark_DataFile/hotel_reviews_for_PySpark_preprocessing.zip') \n",
    "hotel_reviews = pd.read_csv(zip_file.open('hotel_reviews_for_PySpark_preprocessing.csv'))\n",
    "hotel_reviews"
   ]
  },
  {
   "cell_type": "code",
   "execution_count": 5,
   "metadata": {},
   "outputs": [
    {
     "ename": "SyntaxError",
     "evalue": "invalid syntax (<ipython-input-5-75fb9cc85d2a>, line 1)",
     "output_type": "error",
     "traceback": [
      "\u001b[1;36m  File \u001b[1;32m\"<ipython-input-5-75fb9cc85d2a>\"\u001b[1;36m, line \u001b[1;32m1\u001b[0m\n\u001b[1;33m    train_data, test_data = (hotel_reviews, split=[\"train\", \"test\"],\u001b[0m\n\u001b[1;37m                                                 ^\u001b[0m\n\u001b[1;31mSyntaxError\u001b[0m\u001b[1;31m:\u001b[0m invalid syntax\n"
     ]
    }
   ],
   "source": [
    "# train_data, test_data = (hotel_reviews, split=[\"train\", \"test\"], \n",
    "#                                   batch_size=-1, as_supervised=True)\n",
    "\n",
    "# train_examples, train_labels = tfds.as_numpy(train_data)\n",
    "# test_examples, test_labels = tfds.as_numpy(test_data)"
   ]
  },
  {
   "cell_type": "code",
   "execution_count": 9,
   "metadata": {},
   "outputs": [],
   "source": [
    "# Split our preprocessed data into our features and target arrays\n",
    "y = hotel_reviews[\"Reviewer_Score\"].values\n",
    "X = hotel_reviews.drop([\"Reviewer_Score\"],1).values\n",
    "\n",
    "# Split the preprocessed data into a training and testing dataset\n",
    "X_train, X_test, y_train, y_test = train_test_split(X, y, random_state=1)"
   ]
  },
  {
   "cell_type": "code",
   "execution_count": 10,
   "metadata": {},
   "outputs": [
    {
     "data": {
      "text/plain": [
       "array([[' Large housekeeping trolleys and bags of linen left in corridors when checking in at 3pm No flannel left in bathroom  Beautiful building very carefully decorated with taste and sensitivity '],\n",
       "       [' The room is very small for such a high value You feel yourself as if you are in a cupboard You cannot even find a place to put your belongings  The staff is good Room service is fast and facilities in the room is good '],\n",
       "       [' Very thin old windows which don t prevent any noise from street to come into the room Horrific loud and impossible to sleep on the night because of first floor street located room Should do something about install a modern windows  Great clean rooms get a free upgrade because the TV in the booked room was not working and they was not able to fix it Good color choice great location friendly and helpful staff '],\n",
       "       [' It is expensive and it seems ridiculous the breakfast isn t included in the price If it had been we would have been more likely to have tried dinner there too Also you only receive complementary water the first night It is probably not that suitable for new couples as there is minimal privacy between the bedroom and bathroom  This is a very stylish hotel and the rooms are very comfortable The beds are excellent and the black out curtains work very well I slept really well here '],\n",
       "       [' The Spa is very in excessable for anyone on crutches Really love the hotel breakfast is just fabulous food staff chef waitresses so friendly '],\n",
       "       [' Did not make my stay less enjoyable however with the hotel being in the centre on Friday and Saturday nights it did get a little noisy outside and sound carried to the room Perhaps different windows would solve this problem  The location was excellent in the centre of the city close to central station tram and metro Very clean rooms comfy bed'],\n",
       "       [' Although we had a superior room it was rather small with very small windows one of which did not properly close so the street noise was disturbing almost throughout entire night TV was extremely small Towels that I left on the floor were not changed just hanged up again Coffee at the breakfast was very bad quality  Reception was very friendly and helpful Bed and pillows comfortable Location is ok and we were lucky finding a place in front of the hotel to park our car '],\n",
       "       [' Again luxury at an ideal location Luxury'],\n",
       "       [' The shower was very poor and the lift was super noisy we were in the room next to the lift  The rooms are a great size Coffee lounge is a fantastic extra '],\n",
       "       [' This was one of the best hotel choices I ever made Staring with the exceptionally warm greeting superb room accommodation heavenly comfortable bed relaxing rain shower I would book this hotel again and again and again']],\n",
       "      dtype=object)"
      ]
     },
     "execution_count": 10,
     "metadata": {},
     "output_type": "execute_result"
    }
   ],
   "source": [
    "# printing the first 10 Training feature/input values ...also called train_examples\n",
    "X_train[:10]"
   ]
  },
  {
   "cell_type": "code",
   "execution_count": 11,
   "metadata": {},
   "outputs": [
    {
     "data": {
      "text/plain": [
       "array([ 8.8,  5.8,  7.5,  7.9, 10. ,  8.8,  6.7, 10. ,  8.8, 10. ])"
      ]
     },
     "execution_count": 11,
     "metadata": {},
     "output_type": "execute_result"
    }
   ],
   "source": [
    "# printing the first 10 Training Target/output values...also called train_labels\n",
    "y_train[:10]"
   ]
  },
  {
   "cell_type": "code",
   "execution_count": 12,
   "metadata": {},
   "outputs": [
    {
     "ename": "NameError",
     "evalue": "name 'hub' is not defined",
     "output_type": "error",
     "traceback": [
      "\u001b[1;31m---------------------------------------------------------------------------\u001b[0m",
      "\u001b[1;31mNameError\u001b[0m                                 Traceback (most recent call last)",
      "\u001b[1;32m<ipython-input-12-18648dec6da0>\u001b[0m in \u001b[0;36m<module>\u001b[1;34m\u001b[0m\n\u001b[0;32m      1\u001b[0m \u001b[0mmodel\u001b[0m \u001b[1;33m=\u001b[0m \u001b[1;34m\"https://tfhub.dev/google/tf2-preview/gnews-swivel-20dim/1\"\u001b[0m\u001b[1;33m\u001b[0m\u001b[1;33m\u001b[0m\u001b[0m\n\u001b[1;32m----> 2\u001b[1;33m hub_layer = hub.KerasLayer(model, output_shape=[20], input_shape=[], \n\u001b[0m\u001b[0;32m      3\u001b[0m                            dtype=tf.string, trainable=True)\n\u001b[0;32m      4\u001b[0m \u001b[0mhub_layer\u001b[0m\u001b[1;33m(\u001b[0m\u001b[0mX_train\u001b[0m\u001b[1;33m[\u001b[0m\u001b[1;33m:\u001b[0m\u001b[1;36m3\u001b[0m\u001b[1;33m]\u001b[0m\u001b[1;33m)\u001b[0m\u001b[1;33m\u001b[0m\u001b[1;33m\u001b[0m\u001b[0m\n",
      "\u001b[1;31mNameError\u001b[0m: name 'hub' is not defined"
     ]
    }
   ],
   "source": [
    "model = \"https://tfhub.dev/google/tf2-preview/gnews-swivel-20dim/1\"\n",
    "hub_layer = hub.KerasLayer(model, output_shape=[20], input_shape=[], \n",
    "                           dtype=tf.string, trainable=True)\n",
    "hub_layer(X_train[:3])"
   ]
  },
  {
   "cell_type": "code",
   "execution_count": null,
   "metadata": {},
   "outputs": [],
   "source": []
  }
 ],
 "metadata": {
  "kernelspec": {
   "display_name": "mlenv",
   "language": "python",
   "name": "mlenv"
  },
  "language_info": {
   "codemirror_mode": {
    "name": "ipython",
    "version": 3
   },
   "file_extension": ".py",
   "mimetype": "text/x-python",
   "name": "python",
   "nbconvert_exporter": "python",
   "pygments_lexer": "ipython3",
   "version": "3.7.7"
  }
 },
 "nbformat": 4,
 "nbformat_minor": 4
}
