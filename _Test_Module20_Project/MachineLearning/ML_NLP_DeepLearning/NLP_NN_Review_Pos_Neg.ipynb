{
 "cells": [
  {
   "cell_type": "markdown",
   "metadata": {
    "id": "WUVAUnPdzovR"
   },
   "source": [
    "# This file runs on Google Colab\n",
    "## Running this file can take 20-25 minutes"
   ]
  },
  {
   "cell_type": "code",
   "execution_count": 1,
   "metadata": {
    "id": "pPNh1h0WB6Vw"
   },
   "outputs": [],
   "source": [
    "# Import our dependencies\n",
    "import tensorflow as tf\n",
    "import tensorflow_hub as hub\n",
    "import matplotlib.pyplot as plt\n",
    "import pandas as pd\n",
    "import numpy as np\n",
    "from sklearn.model_selection import train_test_split\n",
    "from sklearn.preprocessing import LabelEncoder\n",
    "from sklearn.preprocessing import StandardScaler,OneHotEncoder"
   ]
  },
  {
   "cell_type": "code",
   "execution_count": 2,
   "metadata": {
    "colab": {
     "base_uri": "https://localhost:8080/",
     "height": 504
    },
    "id": "aM0IAEaDCCkg",
    "outputId": "1095fedc-5051-48dd-ba30-3b686c05ad61"
   },
   "outputs": [
    {
     "name": "stderr",
     "output_type": "stream",
     "text": [
      "/usr/local/lib/python3.6/dist-packages/psycopg2/__init__.py:144: UserWarning: The psycopg2 wheel package will be renamed from release 2.8; in order to keep installing from binary please use \"pip install psycopg2-binary\" instead. For details see: <http://initd.org/psycopg/docs/install.html#binary-install-from-pypi>.\n",
      "  \"\"\")\n"
     ]
    },
    {
     "data": {
      "text/html": [
       "<div>\n",
       "<style scoped>\n",
       "    .dataframe tbody tr th:only-of-type {\n",
       "        vertical-align: middle;\n",
       "    }\n",
       "\n",
       "    .dataframe tbody tr th {\n",
       "        vertical-align: top;\n",
       "    }\n",
       "\n",
       "    .dataframe thead th {\n",
       "        text-align: right;\n",
       "    }\n",
       "</style>\n",
       "<table border=\"1\" class=\"dataframe\">\n",
       "  <thead>\n",
       "    <tr style=\"text-align: right;\">\n",
       "      <th></th>\n",
       "      <th>review</th>\n",
       "      <th>reviewer_sentiment</th>\n",
       "    </tr>\n",
       "    <tr>\n",
       "      <th>review_id</th>\n",
       "      <th></th>\n",
       "      <th></th>\n",
       "    </tr>\n",
       "  </thead>\n",
       "  <tbody>\n",
       "    <tr>\n",
       "      <th>0</th>\n",
       "      <td>I am so angry that i made this post available...</td>\n",
       "      <td>negative</td>\n",
       "    </tr>\n",
       "    <tr>\n",
       "      <th>1</th>\n",
       "      <td>No real complaints the hotel was great great ...</td>\n",
       "      <td>positive</td>\n",
       "    </tr>\n",
       "    <tr>\n",
       "      <th>2</th>\n",
       "      <td>Rooms are nice but for elderly a bit difficul...</td>\n",
       "      <td>positive</td>\n",
       "    </tr>\n",
       "    <tr>\n",
       "      <th>3</th>\n",
       "      <td>My room was dirty and I was afraid to walk ba...</td>\n",
       "      <td>negative</td>\n",
       "    </tr>\n",
       "    <tr>\n",
       "      <th>4</th>\n",
       "      <td>You When I booked with your company on line y...</td>\n",
       "      <td>positive</td>\n",
       "    </tr>\n",
       "    <tr>\n",
       "      <th>...</th>\n",
       "      <td>...</td>\n",
       "      <td>...</td>\n",
       "    </tr>\n",
       "    <tr>\n",
       "      <th>512338</th>\n",
       "      <td>no trolly or staff to help you take the lugga...</td>\n",
       "      <td>positive</td>\n",
       "    </tr>\n",
       "    <tr>\n",
       "      <th>512339</th>\n",
       "      <td>The hotel looks like 3 but surely not 4  Brea...</td>\n",
       "      <td>positive</td>\n",
       "    </tr>\n",
       "    <tr>\n",
       "      <th>512340</th>\n",
       "      <td>The ac was useless It was a hot week in vienn...</td>\n",
       "      <td>negative</td>\n",
       "    </tr>\n",
       "    <tr>\n",
       "      <th>512341</th>\n",
       "      <td>The rooms are enormous and really comfortable...</td>\n",
       "      <td>positive</td>\n",
       "    </tr>\n",
       "    <tr>\n",
       "      <th>512342</th>\n",
       "      <td>I was in 3rd floor It didn t work Free Wife  ...</td>\n",
       "      <td>positive</td>\n",
       "    </tr>\n",
       "  </tbody>\n",
       "</table>\n",
       "<p>512343 rows × 2 columns</p>\n",
       "</div>"
      ],
      "text/plain": [
       "                                                      review reviewer_sentiment\n",
       "review_id                                                                      \n",
       "0           I am so angry that i made this post available...           negative\n",
       "1           No real complaints the hotel was great great ...           positive\n",
       "2           Rooms are nice but for elderly a bit difficul...           positive\n",
       "3           My room was dirty and I was afraid to walk ba...           negative\n",
       "4           You When I booked with your company on line y...           positive\n",
       "...                                                      ...                ...\n",
       "512338      no trolly or staff to help you take the lugga...           positive\n",
       "512339      The hotel looks like 3 but surely not 4  Brea...           positive\n",
       "512340      The ac was useless It was a hot week in vienn...           negative\n",
       "512341      The rooms are enormous and really comfortable...           positive\n",
       "512342      I was in 3rd floor It didn t work Free Wife  ...           positive\n",
       "\n",
       "[512343 rows x 2 columns]"
      ]
     },
     "execution_count": 2,
     "metadata": {
      "tags": []
     },
     "output_type": "execute_result"
    }
   ],
   "source": [
    "# Importing data from RDS (AWS)\n",
    "import psycopg2\n",
    "connection = psycopg2.connect(\n",
    "    host = 'sample-hotel-reviews.cfxm7dziqs2d.us-east-2.rds.amazonaws.com',\n",
    "    port = 5432,\n",
    "    user = 'postgres',\n",
    "    password = 'Postgres$123',\n",
    "    database = 'PySpark_NLP'\n",
    "    )\n",
    "cursor=connection.cursor()\n",
    "\n",
    "# using pandas to execute SQL queries\n",
    "import pandas as pd\n",
    "sql = \"\"\"\n",
    "SELECT *\n",
    "FROM public.\"db_for_nlp\"\n",
    "\"\"\"\n",
    "df = pd.read_sql(sql, con=connection, index_col='review_id')\n",
    "\n",
    "# Show DataFrame\n",
    "df"
   ]
  },
  {
   "cell_type": "code",
   "execution_count": 3,
   "metadata": {
    "colab": {
     "base_uri": "https://localhost:8080/",
     "height": 450
    },
    "id": "Mj1E4ci1sPws",
    "outputId": "919a471b-93de-479c-de7c-911304072728"
   },
   "outputs": [
    {
     "data": {
      "text/html": [
       "<div>\n",
       "<style scoped>\n",
       "    .dataframe tbody tr th:only-of-type {\n",
       "        vertical-align: middle;\n",
       "    }\n",
       "\n",
       "    .dataframe tbody tr th {\n",
       "        vertical-align: top;\n",
       "    }\n",
       "\n",
       "    .dataframe thead th {\n",
       "        text-align: right;\n",
       "    }\n",
       "</style>\n",
       "<table border=\"1\" class=\"dataframe\">\n",
       "  <thead>\n",
       "    <tr style=\"text-align: right;\">\n",
       "      <th></th>\n",
       "      <th>review</th>\n",
       "      <th>reviewer_sentiment</th>\n",
       "    </tr>\n",
       "    <tr>\n",
       "      <th>review_id</th>\n",
       "      <th></th>\n",
       "      <th></th>\n",
       "    </tr>\n",
       "  </thead>\n",
       "  <tbody>\n",
       "    <tr>\n",
       "      <th>0</th>\n",
       "      <td>I am so angry that i made this post available...</td>\n",
       "      <td>0</td>\n",
       "    </tr>\n",
       "    <tr>\n",
       "      <th>1</th>\n",
       "      <td>No real complaints the hotel was great great ...</td>\n",
       "      <td>1</td>\n",
       "    </tr>\n",
       "    <tr>\n",
       "      <th>2</th>\n",
       "      <td>Rooms are nice but for elderly a bit difficul...</td>\n",
       "      <td>1</td>\n",
       "    </tr>\n",
       "    <tr>\n",
       "      <th>3</th>\n",
       "      <td>My room was dirty and I was afraid to walk ba...</td>\n",
       "      <td>0</td>\n",
       "    </tr>\n",
       "    <tr>\n",
       "      <th>4</th>\n",
       "      <td>You When I booked with your company on line y...</td>\n",
       "      <td>1</td>\n",
       "    </tr>\n",
       "    <tr>\n",
       "      <th>...</th>\n",
       "      <td>...</td>\n",
       "      <td>...</td>\n",
       "    </tr>\n",
       "    <tr>\n",
       "      <th>512338</th>\n",
       "      <td>no trolly or staff to help you take the lugga...</td>\n",
       "      <td>1</td>\n",
       "    </tr>\n",
       "    <tr>\n",
       "      <th>512339</th>\n",
       "      <td>The hotel looks like 3 but surely not 4  Brea...</td>\n",
       "      <td>1</td>\n",
       "    </tr>\n",
       "    <tr>\n",
       "      <th>512340</th>\n",
       "      <td>The ac was useless It was a hot week in vienn...</td>\n",
       "      <td>0</td>\n",
       "    </tr>\n",
       "    <tr>\n",
       "      <th>512341</th>\n",
       "      <td>The rooms are enormous and really comfortable...</td>\n",
       "      <td>1</td>\n",
       "    </tr>\n",
       "    <tr>\n",
       "      <th>512342</th>\n",
       "      <td>I was in 3rd floor It didn t work Free Wife  ...</td>\n",
       "      <td>1</td>\n",
       "    </tr>\n",
       "  </tbody>\n",
       "</table>\n",
       "<p>512343 rows × 2 columns</p>\n",
       "</div>"
      ],
      "text/plain": [
       "                                                      review  reviewer_sentiment\n",
       "review_id                                                                       \n",
       "0           I am so angry that i made this post available...                   0\n",
       "1           No real complaints the hotel was great great ...                   1\n",
       "2           Rooms are nice but for elderly a bit difficul...                   1\n",
       "3           My room was dirty and I was afraid to walk ba...                   0\n",
       "4           You When I booked with your company on line y...                   1\n",
       "...                                                      ...                 ...\n",
       "512338      no trolly or staff to help you take the lugga...                   1\n",
       "512339      The hotel looks like 3 but surely not 4  Brea...                   1\n",
       "512340      The ac was useless It was a hot week in vienn...                   0\n",
       "512341      The rooms are enormous and really comfortable...                   1\n",
       "512342      I was in 3rd floor It didn t work Free Wife  ...                   1\n",
       "\n",
       "[512343 rows x 2 columns]"
      ]
     },
     "execution_count": 3,
     "metadata": {
      "tags": []
     },
     "output_type": "execute_result"
    }
   ],
   "source": [
    "# Encoding 'reviewer_sentiment'\n",
    "le = LabelEncoder()\n",
    "df['reviewer_sentiment'] = le.fit_transform(df['reviewer_sentiment'])\n",
    "df"
   ]
  },
  {
   "cell_type": "code",
   "execution_count": 4,
   "metadata": {
    "id": "cbPXGxfaCYV4"
   },
   "outputs": [],
   "source": [
    "# Split our preprocessed data into our features/input and target/output arrays\n",
    "y = df['reviewer_sentiment'].values\n",
    "X = df.drop(['reviewer_sentiment'],1).values\n",
    "\n",
    "# Split the preprocessed data into a training and testing dataset\n",
    "X_train, X_test, y_train, y_test = train_test_split(X, y, random_state=1)"
   ]
  },
  {
   "cell_type": "code",
   "execution_count": 5,
   "metadata": {
    "colab": {
     "base_uri": "https://localhost:8080/"
    },
    "id": "8xWHZyFMC6C4",
    "outputId": "a625b2f2-8a95-4982-bd05-b9eb23fd14ce"
   },
   "outputs": [
    {
     "name": "stdout",
     "output_type": "stream",
     "text": [
      "Model: \"sequential\"\n",
      "_________________________________________________________________\n",
      "Layer (type)                 Output Shape              Param #   \n",
      "=================================================================\n",
      "keras_layer (KerasLayer)     (None, 20)                400020    \n",
      "_________________________________________________________________\n",
      "dense (Dense)                (None, 1)                 21        \n",
      "=================================================================\n",
      "Total params: 400,041\n",
      "Trainable params: 400,041\n",
      "Non-trainable params: 0\n",
      "_________________________________________________________________\n"
     ]
    }
   ],
   "source": [
    "# Compile, Train and Evaluate the Model\n",
    "model = \"https://tfhub.dev/google/tf2-preview/gnews-swivel-20dim/1\"\n",
    "hub_layer = hub.KerasLayer(model, output_shape=[8], input_shape=[], dtype=tf.string, trainable=True)\n",
    "model = tf.keras.Sequential()\n",
    "\n",
    "# First hidden layer\n",
    "model.add(hub_layer)\n",
    "\n",
    "# Output layer\n",
    "model.add(tf.keras.layers.Dense(units=1, activation='sigmoid'))\n",
    "\n",
    "# Check the structure of the model\n",
    "model.summary()"
   ]
  },
  {
   "cell_type": "code",
   "execution_count": 6,
   "metadata": {
    "id": "4ukgq2aPoOTG"
   },
   "outputs": [],
   "source": [
    "# compile the model\n",
    "model.compile(optimizer='adam',\n",
    "              loss=tf.losses.BinaryCrossentropy(from_logits=True),\n",
    "              metrics=[tf.metrics.BinaryAccuracy(threshold=0.0, name='accuracy')])"
   ]
  },
  {
   "cell_type": "code",
   "execution_count": 7,
   "metadata": {
    "colab": {
     "base_uri": "https://localhost:8080/"
    },
    "id": "fkdvD8Y0Lylc",
    "outputId": "99057b95-a14f-4e84-da65-21d13b03ab7f"
   },
   "outputs": [
    {
     "name": "stdout",
     "output_type": "stream",
     "text": [
      "Epoch 1/10\n",
      "12009/12009 [==============================] - 111s 9ms/step - loss: 0.3572 - accuracy: 0.9569\n",
      "Epoch 2/10\n",
      "12009/12009 [==============================] - 111s 9ms/step - loss: 0.3563 - accuracy: 0.9569\n",
      "Epoch 3/10\n",
      "12009/12009 [==============================] - 112s 9ms/step - loss: 0.3563 - accuracy: 0.9569\n",
      "Epoch 4/10\n",
      "12009/12009 [==============================] - 115s 10ms/step - loss: 0.3563 - accuracy: 0.9569\n",
      "Epoch 5/10\n",
      "12009/12009 [==============================] - 115s 10ms/step - loss: 0.3563 - accuracy: 0.9569\n",
      "Epoch 6/10\n",
      "12009/12009 [==============================] - 110s 9ms/step - loss: 0.3562 - accuracy: 0.9569\n",
      "Epoch 7/10\n",
      "12009/12009 [==============================] - 110s 9ms/step - loss: 0.3560 - accuracy: 0.9569\n",
      "Epoch 8/10\n",
      "12009/12009 [==============================] - 109s 9ms/step - loss: 0.3551 - accuracy: 0.9569\n",
      "Epoch 9/10\n",
      "12009/12009 [==============================] - 110s 9ms/step - loss: 0.3537 - accuracy: 0.9569\n",
      "Epoch 10/10\n",
      "12009/12009 [==============================] - 117s 10ms/step - loss: 0.3525 - accuracy: 0.9569\n"
     ]
    }
   ],
   "source": [
    "# Fit/Train the model\n",
    "fit_model = model.fit(X_train, y_train, epochs=10)"
   ]
  },
  {
   "cell_type": "code",
   "execution_count": 8,
   "metadata": {
    "colab": {
     "base_uri": "https://localhost:8080/",
     "height": 282
    },
    "id": "Gsx8ghgc5M6R",
    "outputId": "5b9f05d6-6093-4da4-c4cf-b60a1ff3920e"
   },
   "outputs": [
    {
     "data": {
      "text/plain": [
       "<matplotlib.axes._subplots.AxesSubplot at 0x7f4578c5f2b0>"
      ]
     },
     "execution_count": 8,
     "metadata": {
      "tags": []
     },
     "output_type": "execute_result"
    },
    {
     "data": {
      "image/png": "[encoded data removed]",
      "text/plain": [
       "<Figure size 432x288 with 1 Axes>"
      ]
     },
     "metadata": {
      "needs_background": "light",
      "tags": []
     },
     "output_type": "display_data"
    }
   ],
   "source": [
    "# Create a DataFrame containing training history\n",
    "history_df = pd.DataFrame(fit_model.history, index=range(1,len(fit_model.history[\"loss\"])+1))\n",
    "\n",
    "# Plot the accuracy\n",
    "history_df.plot(y=\"accuracy\")"
   ]
  },
  {
   "cell_type": "code",
   "execution_count": 9,
   "metadata": {
    "colab": {
     "base_uri": "https://localhost:8080/",
     "height": 282
    },
    "id": "j-Ywd81I5k_a",
    "outputId": "c89c288a-9bfd-4232-be2a-92233d3d6aaf"
   },
   "outputs": [
    {
     "data": {
      "text/plain": [
       "<matplotlib.axes._subplots.AxesSubplot at 0x7f457bee5278>"
      ]
     },
     "execution_count": 9,
     "metadata": {
      "tags": []
     },
     "output_type": "execute_result"
    },
    {
     "data": {
      "image/png": "[encoded data removed]",
      "text/plain": [
       "<Figure size 432x288 with 1 Axes>"
      ]
     },
     "metadata": {
      "needs_background": "light",
      "tags": []
     },
     "output_type": "display_data"
    }
   ],
   "source": [
    "# Plot the loss\n",
    "history_df.plot(y=\"loss\")"
   ]
  },
  {
   "cell_type": "code",
   "execution_count": 10,
   "metadata": {
    "colab": {
     "base_uri": "https://localhost:8080/"
    },
    "id": "pL_-V7JBm8h1",
    "outputId": "189d7985-c65c-4a60-bafc-8b8f2fa850e8"
   },
   "outputs": [
    {
     "name": "stdout",
     "output_type": "stream",
     "text": [
      "4003/4003 - 8s - loss: 0.3534 - accuracy: 0.9565\n",
      "Loss: 0.35344988107681274, Accuracy: 0.9564589262008667\n"
     ]
    }
   ],
   "source": [
    "# Test/Evaluate the model using the test data\n",
    "model_loss, model_accuracy = model.evaluate(X_test,y_test,verbose=2)\n",
    "print(f\"Loss: {model_loss}, Accuracy: {model_accuracy}\")"
   ]
  },
  {
   "cell_type": "code",
   "execution_count": 11,
   "metadata": {
    "id": "B3dqPpheqFVO"
   },
   "outputs": [],
   "source": [
    "# Export our model to HDF5 file\n",
    "model.save(\"NLP_Using_NN_1Layer.h5\")"
   ]
  }
 ],
 "metadata": {
  "colab": {
   "collapsed_sections": [],
   "name": "NLP_Using_NN_1Layer.ipynb",
   "provenance": [],
   "toc_visible": true
  },
  "kernelspec": {
   "display_name": "Python 3",
   "language": "python",
   "name": "python3"
  },
  "language_info": {
   "codemirror_mode": {
    "name": "ipython",
    "version": 3
   },
   "file_extension": ".py",
   "mimetype": "text/x-python",
   "name": "python",
   "nbconvert_exporter": "python",
   "pygments_lexer": "ipython3",
   "version": "3.7.7"
  }
 },
 "nbformat": 4,
 "nbformat_minor": 1
}
