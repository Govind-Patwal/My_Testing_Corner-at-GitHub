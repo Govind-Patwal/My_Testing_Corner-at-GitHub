{
 "cells": [
  {
   "cell_type": "markdown",
   "metadata": {
    "id": "SIZfgdzXciMg"
   },
   "source": [
    "# This file runs on ***Google Colab***\n",
    "## Before running this file, the Data File needs to be placed at the same level as this file\n",
    "\n",
    "### Data file: ../PySpark_DataFile/data_ready_for_PySpark_NLP.zip/data_ready_for_PySpark_NLP.csv\n"
   ]
  },
  {
   "cell_type": "code",
   "execution_count": 1,
   "metadata": {
    "id": "CarnJEuzwP1B"
   },
   "outputs": [],
   "source": [
    "# Import our dependencies\n",
    "import tensorflow as tf\n",
    "import tensorflow_hub as hub\n",
    "import matplotlib.pyplot as plt\n",
    "import pandas as pd\n",
    "import numpy as np\n",
    "from sklearn.model_selection import train_test_split\n",
    "from sklearn.preprocessing import LabelEncoder\n",
    "from sklearn.preprocessing import StandardScaler,OneHotEncoder"
   ]
  },
  {
   "cell_type": "code",
   "execution_count": 2,
   "metadata": {
    "colab": {
     "base_uri": "https://localhost:8080/",
     "height": 419
    },
    "id": "lZilGKyDwUV_",
    "outputId": "af916d6e-3099-4713-9246-54e1deb0dffb"
   },
   "outputs": [
    {
     "data": {
      "text/html": [
       "<div>\n",
       "<style scoped>\n",
       "    .dataframe tbody tr th:only-of-type {\n",
       "        vertical-align: middle;\n",
       "    }\n",
       "\n",
       "    .dataframe tbody tr th {\n",
       "        vertical-align: top;\n",
       "    }\n",
       "\n",
       "    .dataframe thead th {\n",
       "        text-align: right;\n",
       "    }\n",
       "</style>\n",
       "<table border=\"1\" class=\"dataframe\">\n",
       "  <thead>\n",
       "    <tr style=\"text-align: right;\">\n",
       "      <th></th>\n",
       "      <th>Review</th>\n",
       "      <th>Reviewer_Score</th>\n",
       "    </tr>\n",
       "  </thead>\n",
       "  <tbody>\n",
       "    <tr>\n",
       "      <th>0</th>\n",
       "      <td>I am so angry that i made this post available...</td>\n",
       "      <td>2.9</td>\n",
       "    </tr>\n",
       "    <tr>\n",
       "      <th>1</th>\n",
       "      <td>No real complaints the hotel was great great ...</td>\n",
       "      <td>7.5</td>\n",
       "    </tr>\n",
       "    <tr>\n",
       "      <th>2</th>\n",
       "      <td>Rooms are nice but for elderly a bit difficul...</td>\n",
       "      <td>7.1</td>\n",
       "    </tr>\n",
       "    <tr>\n",
       "      <th>3</th>\n",
       "      <td>My room was dirty and I was afraid to walk ba...</td>\n",
       "      <td>3.8</td>\n",
       "    </tr>\n",
       "    <tr>\n",
       "      <th>4</th>\n",
       "      <td>You When I booked with your company on line y...</td>\n",
       "      <td>6.7</td>\n",
       "    </tr>\n",
       "    <tr>\n",
       "      <th>...</th>\n",
       "      <td>...</td>\n",
       "      <td>...</td>\n",
       "    </tr>\n",
       "    <tr>\n",
       "      <th>512338</th>\n",
       "      <td>no trolly or staff to help you take the lugga...</td>\n",
       "      <td>7.0</td>\n",
       "    </tr>\n",
       "    <tr>\n",
       "      <th>512339</th>\n",
       "      <td>The hotel looks like 3 but surely not 4  Brea...</td>\n",
       "      <td>5.8</td>\n",
       "    </tr>\n",
       "    <tr>\n",
       "      <th>512340</th>\n",
       "      <td>The ac was useless It was a hot week in vienn...</td>\n",
       "      <td>2.5</td>\n",
       "    </tr>\n",
       "    <tr>\n",
       "      <th>512341</th>\n",
       "      <td>The rooms are enormous and really comfortable...</td>\n",
       "      <td>8.8</td>\n",
       "    </tr>\n",
       "    <tr>\n",
       "      <th>512342</th>\n",
       "      <td>I was in 3rd floor It didn t work Free Wife  ...</td>\n",
       "      <td>8.3</td>\n",
       "    </tr>\n",
       "  </tbody>\n",
       "</table>\n",
       "<p>512343 rows × 2 columns</p>\n",
       "</div>"
      ],
      "text/plain": [
       "                                                   Review  Reviewer_Score\n",
       "0        I am so angry that i made this post available...             2.9\n",
       "1        No real complaints the hotel was great great ...             7.5\n",
       "2        Rooms are nice but for elderly a bit difficul...             7.1\n",
       "3        My room was dirty and I was afraid to walk ba...             3.8\n",
       "4        You When I booked with your company on line y...             6.7\n",
       "...                                                   ...             ...\n",
       "512338   no trolly or staff to help you take the lugga...             7.0\n",
       "512339   The hotel looks like 3 but surely not 4  Brea...             5.8\n",
       "512340   The ac was useless It was a hot week in vienn...             2.5\n",
       "512341   The rooms are enormous and really comfortable...             8.8\n",
       "512342   I was in 3rd floor It didn t work Free Wife  ...             8.3\n",
       "\n",
       "[512343 rows x 2 columns]"
      ]
     },
     "execution_count": 2,
     "metadata": {
      "tags": []
     },
     "output_type": "execute_result"
    }
   ],
   "source": [
    "# Reading data into a pandas DataFrame\n",
    "df = pd.read_csv('data_ready_for_PySpark_NLP.csv')\n",
    "df"
   ]
  },
  {
   "cell_type": "code",
   "execution_count": 3,
   "metadata": {
    "id": "s9Y6f72xxQ9p"
   },
   "outputs": [],
   "source": [
    "# Split our preprocessed data into our features/input and target/output arrays\n",
    "y = df['Reviewer_Score'].values\n",
    "X = df.drop(['Reviewer_Score'],1).values\n",
    "\n",
    "# Split the preprocessed data into a training and testing dataset\n",
    "X_train, X_test, y_train, y_test = train_test_split(X, y, random_state=1)"
   ]
  },
  {
   "cell_type": "code",
   "execution_count": 4,
   "metadata": {
    "colab": {
     "base_uri": "https://localhost:8080/"
    },
    "id": "NEPPBSv0kN0H",
    "outputId": "7334e442-43f4-4638-fd56-e35da835f068"
   },
   "outputs": [
    {
     "name": "stdout",
     "output_type": "stream",
     "text": [
      "Model: \"sequential\"\n",
      "_________________________________________________________________\n",
      "Layer (type)                 Output Shape              Param #   \n",
      "=================================================================\n",
      "keras_layer (KerasLayer)     (None, 20)                400020    \n",
      "_________________________________________________________________\n",
      "dense (Dense)                (None, 3)                 63        \n",
      "_________________________________________________________________\n",
      "dense_1 (Dense)              (None, 1)                 4         \n",
      "=================================================================\n",
      "Total params: 400,087\n",
      "Trainable params: 400,087\n",
      "Non-trainable params: 0\n",
      "_________________________________________________________________\n"
     ]
    }
   ],
   "source": [
    "# Compile, Train and Evaluate the Model\n",
    "model = \"https://tfhub.dev/google/tf2-preview/gnews-swivel-20dim/1\"\n",
    "hub_layer = hub.KerasLayer(model, output_shape=[8], input_shape=[], dtype=tf.string, trainable=True)\n",
    "model = tf.keras.Sequential()\n",
    "\n",
    "# First hidden layer\n",
    "model.add(hub_layer)\n",
    "\n",
    "# Second hidden layer\n",
    "model.add(tf.keras.layers.Dense(units=3, activation='relu'))\n",
    "\n",
    "# Output layer\n",
    "model.add(tf.keras.layers.Dense(units=1, activation='sigmoid'))\n",
    "\n",
    "# Check the structure of the model\n",
    "model.summary()"
   ]
  },
  {
   "cell_type": "code",
   "execution_count": 5,
   "metadata": {
    "id": "yZN9_BgWkO-B"
   },
   "outputs": [],
   "source": [
    "# compile the model\n",
    "model.compile(optimizer='adam',\n",
    "              loss=tf.losses.BinaryCrossentropy(from_logits=True),\n",
    "              metrics=[tf.metrics.BinaryAccuracy(threshold=0.0, name='accuracy')])"
   ]
  },
  {
   "cell_type": "code",
   "execution_count": 6,
   "metadata": {
    "colab": {
     "base_uri": "https://localhost:8080/"
    },
    "id": "cchGwoAukR6J",
    "outputId": "7a9a326c-0686-4f98-e060-b563dd153c90"
   },
   "outputs": [
    {
     "name": "stdout",
     "output_type": "stream",
     "text": [
      "Epoch 1/10\n",
      "12009/12009 [==============================] - 134s 11ms/step - loss: -7.0715 - accuracy: 0.0000e+00\n",
      "Epoch 2/10\n",
      "12009/12009 [==============================] - 135s 11ms/step - loss: -7.0823 - accuracy: 0.0000e+00\n",
      "Epoch 3/10\n",
      "12009/12009 [==============================] - 135s 11ms/step - loss: -7.0823 - accuracy: 0.0000e+00\n",
      "Epoch 4/10\n",
      "12009/12009 [==============================] - 134s 11ms/step - loss: -7.0823 - accuracy: 0.0000e+00\n",
      "Epoch 5/10\n",
      "12009/12009 [==============================] - 134s 11ms/step - loss: -7.0823 - accuracy: 0.0000e+00\n",
      "Epoch 6/10\n",
      "12009/12009 [==============================] - 133s 11ms/step - loss: -7.0823 - accuracy: 0.0000e+00\n",
      "Epoch 7/10\n",
      "12009/12009 [==============================] - 132s 11ms/step - loss: -7.0823 - accuracy: 0.0000e+00\n",
      "Epoch 8/10\n",
      "12009/12009 [==============================] - 134s 11ms/step - loss: -7.0823 - accuracy: 0.0000e+00\n",
      "Epoch 9/10\n",
      "12009/12009 [==============================] - 134s 11ms/step - loss: -7.0823 - accuracy: 0.0000e+00\n",
      "Epoch 10/10\n",
      "12009/12009 [==============================] - 134s 11ms/step - loss: -7.0823 - accuracy: 0.0000e+00\n"
     ]
    }
   ],
   "source": [
    "# Fit/Train the model\n",
    "fit_model = model.fit(X_train, y_train, epochs=10)"
   ]
  },
  {
   "cell_type": "code",
   "execution_count": 7,
   "metadata": {
    "colab": {
     "base_uri": "https://localhost:8080/",
     "height": 282
    },
    "id": "q0_LjdiOkUji",
    "outputId": "1b624609-c508-43cc-9ace-81fe9708e3e2"
   },
   "outputs": [
    {
     "data": {
      "text/plain": [
       "<matplotlib.axes._subplots.AxesSubplot at 0x7f2afaf3a2b0>"
      ]
     },
     "execution_count": 7,
     "metadata": {
      "tags": []
     },
     "output_type": "execute_result"
    },
    {
     "data": {
      "image/png": "[encoded data removed]",
      "text/plain": [
       "<Figure size 432x288 with 1 Axes>"
      ]
     },
     "metadata": {
      "needs_background": "light",
      "tags": []
     },
     "output_type": "display_data"
    }
   ],
   "source": [
    "# Create a DataFrame containing training history\n",
    "history_df = pd.DataFrame(fit_model.history, index=range(1,len(fit_model.history[\"loss\"])+1))\n",
    "\n",
    "# Plot the loss\n",
    "history_df.plot(y=\"loss\")"
   ]
  },
  {
   "cell_type": "code",
   "execution_count": 8,
   "metadata": {
    "colab": {
     "base_uri": "https://localhost:8080/",
     "height": 282
    },
    "id": "mWFZ-HcpkZQk",
    "outputId": "343320e4-a5a4-4b6d-a9c5-56324e8e87cf"
   },
   "outputs": [
    {
     "data": {
      "text/plain": [
       "<matplotlib.axes._subplots.AxesSubplot at 0x7f2afcf126a0>"
      ]
     },
     "execution_count": 8,
     "metadata": {
      "tags": []
     },
     "output_type": "execute_result"
    },
    {
     "data": {
      "image/png": "[encoded data removed]",
      "text/plain": [
       "<Figure size 432x288 with 1 Axes>"
      ]
     },
     "metadata": {
      "needs_background": "light",
      "tags": []
     },
     "output_type": "display_data"
    }
   ],
   "source": [
    "# Plot the accuracy\n",
    "history_df.plot(y=\"accuracy\")"
   ]
  },
  {
   "cell_type": "code",
   "execution_count": 9,
   "metadata": {
    "colab": {
     "base_uri": "https://localhost:8080/"
    },
    "id": "lZkEeYYIkbkQ",
    "outputId": "37a07c9d-7cbf-4480-a13c-34df9cbbf942"
   },
   "outputs": [
    {
     "name": "stdout",
     "output_type": "stream",
     "text": [
      "4003/4003 - 8s - loss: -7.0830e+00 - accuracy: 0.0000e+00\n",
      "Loss: -7.083003997802734, Accuracy: 0.0\n"
     ]
    }
   ],
   "source": [
    "# Test/Evaluate the model using the test data\n",
    "model_loss, model_accuracy = model.evaluate(X_test,y_test,verbose=2)\n",
    "print(f\"Loss: {model_loss}, Accuracy: {model_accuracy}\")"
   ]
  },
  {
   "cell_type": "code",
   "execution_count": 10,
   "metadata": {
    "id": "UrU_8Rlbkdsv"
   },
   "outputs": [],
   "source": [
    "# Export our model to HDF5 file\n",
    "model.save(\"SavedModel1_NLP_DL_Review_in_Decimal_Format.h5\")"
   ]
  }
 ],
 "metadata": {
  "colab": {
   "name": "NLP_DL_Review_in_decimal_format.ipynb",
   "provenance": []
  },
  "kernelspec": {
   "display_name": "Python 3",
   "language": "python",
   "name": "python3"
  },
  "language_info": {
   "codemirror_mode": {
    "name": "ipython",
    "version": 3
   },
   "file_extension": ".py",
   "mimetype": "text/x-python",
   "name": "python",
   "nbconvert_exporter": "python",
   "pygments_lexer": "ipython3",
   "version": "3.7.7"
  }
 },
 "nbformat": 4,
 "nbformat_minor": 1
}
