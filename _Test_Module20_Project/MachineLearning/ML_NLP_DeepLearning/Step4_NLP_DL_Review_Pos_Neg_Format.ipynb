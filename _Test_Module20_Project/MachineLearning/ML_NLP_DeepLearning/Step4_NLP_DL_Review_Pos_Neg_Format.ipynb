{
 "cells": [
  {
   "cell_type": "markdown",
   "metadata": {
    "id": "WUVAUnPdzovR"
   },
   "source": [
    "# This file runs on Google Colab\n",
    "## Data is imported from Amazon RDS PostgreSQL Database\n",
    "### Running this file can take 20-25 minutes"
   ]
  },
  {
   "cell_type": "code",
   "execution_count": 1,
   "metadata": {
    "id": "pPNh1h0WB6Vw"
   },
   "outputs": [],
   "source": [
    "# Import our dependencies\n",
    "import tensorflow as tf\n",
    "import tensorflow_hub as hub\n",
    "import matplotlib.pyplot as plt\n",
    "import pandas as pd\n",
    "import numpy as np\n",
    "from sklearn.model_selection import train_test_split\n",
    "from sklearn.preprocessing import LabelEncoder\n",
    "from sklearn.preprocessing import StandardScaler,OneHotEncoder"
   ]
  },
  {
   "cell_type": "code",
   "execution_count": 2,
   "metadata": {
    "colab": {
     "base_uri": "https://localhost:8080/",
     "height": 504
    },
    "id": "aM0IAEaDCCkg",
    "outputId": "fef3f96b-fa5f-4181-b604-3848d5a6c8b6"
   },
   "outputs": [
    {
     "name": "stderr",
     "output_type": "stream",
     "text": [
      "/usr/local/lib/python3.6/dist-packages/psycopg2/__init__.py:144: UserWarning: The psycopg2 wheel package will be renamed from release 2.8; in order to keep installing from binary please use \"pip install psycopg2-binary\" instead. For details see: <http://initd.org/psycopg/docs/install.html#binary-install-from-pypi>.\n",
      "  \"\"\")\n"
     ]
    },
    {
     "data": {
      "text/html": [
       "<div>\n",
       "<style scoped>\n",
       "    .dataframe tbody tr th:only-of-type {\n",
       "        vertical-align: middle;\n",
       "    }\n",
       "\n",
       "    .dataframe tbody tr th {\n",
       "        vertical-align: top;\n",
       "    }\n",
       "\n",
       "    .dataframe thead th {\n",
       "        text-align: right;\n",
       "    }\n",
       "</style>\n",
       "<table border=\"1\" class=\"dataframe\">\n",
       "  <thead>\n",
       "    <tr style=\"text-align: right;\">\n",
       "      <th></th>\n",
       "      <th>review</th>\n",
       "      <th>reviewer_sentiment</th>\n",
       "    </tr>\n",
       "    <tr>\n",
       "      <th>review_id</th>\n",
       "      <th></th>\n",
       "      <th></th>\n",
       "    </tr>\n",
       "  </thead>\n",
       "  <tbody>\n",
       "    <tr>\n",
       "      <th>0</th>\n",
       "      <td>I am so angry that i made this post available...</td>\n",
       "      <td>negative</td>\n",
       "    </tr>\n",
       "    <tr>\n",
       "      <th>1</th>\n",
       "      <td>No real complaints the hotel was great great ...</td>\n",
       "      <td>positive</td>\n",
       "    </tr>\n",
       "    <tr>\n",
       "      <th>2</th>\n",
       "      <td>Rooms are nice but for elderly a bit difficul...</td>\n",
       "      <td>positive</td>\n",
       "    </tr>\n",
       "    <tr>\n",
       "      <th>3</th>\n",
       "      <td>My room was dirty and I was afraid to walk ba...</td>\n",
       "      <td>negative</td>\n",
       "    </tr>\n",
       "    <tr>\n",
       "      <th>4</th>\n",
       "      <td>You When I booked with your company on line y...</td>\n",
       "      <td>positive</td>\n",
       "    </tr>\n",
       "    <tr>\n",
       "      <th>...</th>\n",
       "      <td>...</td>\n",
       "      <td>...</td>\n",
       "    </tr>\n",
       "    <tr>\n",
       "      <th>512338</th>\n",
       "      <td>no trolly or staff to help you take the lugga...</td>\n",
       "      <td>positive</td>\n",
       "    </tr>\n",
       "    <tr>\n",
       "      <th>512339</th>\n",
       "      <td>The hotel looks like 3 but surely not 4  Brea...</td>\n",
       "      <td>positive</td>\n",
       "    </tr>\n",
       "    <tr>\n",
       "      <th>512340</th>\n",
       "      <td>The ac was useless It was a hot week in vienn...</td>\n",
       "      <td>negative</td>\n",
       "    </tr>\n",
       "    <tr>\n",
       "      <th>512341</th>\n",
       "      <td>The rooms are enormous and really comfortable...</td>\n",
       "      <td>positive</td>\n",
       "    </tr>\n",
       "    <tr>\n",
       "      <th>512342</th>\n",
       "      <td>I was in 3rd floor It didn t work Free Wife  ...</td>\n",
       "      <td>positive</td>\n",
       "    </tr>\n",
       "  </tbody>\n",
       "</table>\n",
       "<p>512343 rows × 2 columns</p>\n",
       "</div>"
      ],
      "text/plain": [
       "                                                      review reviewer_sentiment\n",
       "review_id                                                                      \n",
       "0           I am so angry that i made this post available...           negative\n",
       "1           No real complaints the hotel was great great ...           positive\n",
       "2           Rooms are nice but for elderly a bit difficul...           positive\n",
       "3           My room was dirty and I was afraid to walk ba...           negative\n",
       "4           You When I booked with your company on line y...           positive\n",
       "...                                                      ...                ...\n",
       "512338      no trolly or staff to help you take the lugga...           positive\n",
       "512339      The hotel looks like 3 but surely not 4  Brea...           positive\n",
       "512340      The ac was useless It was a hot week in vienn...           negative\n",
       "512341      The rooms are enormous and really comfortable...           positive\n",
       "512342      I was in 3rd floor It didn t work Free Wife  ...           positive\n",
       "\n",
       "[512343 rows x 2 columns]"
      ]
     },
     "execution_count": 2,
     "metadata": {
      "tags": []
     },
     "output_type": "execute_result"
    }
   ],
   "source": [
    "# Importing data from RDS (AWS)\n",
    "import psycopg2\n",
    "connection = psycopg2.connect(\n",
    "    host = 'sample-hotel-reviews.cfxm7dziqs2d.us-east-2.rds.amazonaws.com',\n",
    "    port = 5432,\n",
    "    user = 'postgres',\n",
    "    password = 'Postgres$123',\n",
    "    database = 'PySpark_NLP'\n",
    "    )\n",
    "cursor=connection.cursor()\n",
    "\n",
    "# using pandas to execute SQL queries\n",
    "import pandas as pd\n",
    "sql = \"\"\"\n",
    "SELECT *\n",
    "FROM public.\"db_for_nlp\"\n",
    "\"\"\"\n",
    "df = pd.read_sql(sql, con=connection, index_col='review_id')\n",
    "\n",
    "# Show DataFrame\n",
    "df"
   ]
  },
  {
   "cell_type": "code",
   "execution_count": 3,
   "metadata": {
    "colab": {
     "base_uri": "https://localhost:8080/",
     "height": 450
    },
    "id": "Mj1E4ci1sPws",
    "outputId": "436a6c86-d779-4b5b-8259-ea58af51fdc2"
   },
   "outputs": [
    {
     "data": {
      "text/html": [
       "<div>\n",
       "<style scoped>\n",
       "    .dataframe tbody tr th:only-of-type {\n",
       "        vertical-align: middle;\n",
       "    }\n",
       "\n",
       "    .dataframe tbody tr th {\n",
       "        vertical-align: top;\n",
       "    }\n",
       "\n",
       "    .dataframe thead th {\n",
       "        text-align: right;\n",
       "    }\n",
       "</style>\n",
       "<table border=\"1\" class=\"dataframe\">\n",
       "  <thead>\n",
       "    <tr style=\"text-align: right;\">\n",
       "      <th></th>\n",
       "      <th>review</th>\n",
       "      <th>reviewer_sentiment</th>\n",
       "    </tr>\n",
       "    <tr>\n",
       "      <th>review_id</th>\n",
       "      <th></th>\n",
       "      <th></th>\n",
       "    </tr>\n",
       "  </thead>\n",
       "  <tbody>\n",
       "    <tr>\n",
       "      <th>0</th>\n",
       "      <td>I am so angry that i made this post available...</td>\n",
       "      <td>0</td>\n",
       "    </tr>\n",
       "    <tr>\n",
       "      <th>1</th>\n",
       "      <td>No real complaints the hotel was great great ...</td>\n",
       "      <td>1</td>\n",
       "    </tr>\n",
       "    <tr>\n",
       "      <th>2</th>\n",
       "      <td>Rooms are nice but for elderly a bit difficul...</td>\n",
       "      <td>1</td>\n",
       "    </tr>\n",
       "    <tr>\n",
       "      <th>3</th>\n",
       "      <td>My room was dirty and I was afraid to walk ba...</td>\n",
       "      <td>0</td>\n",
       "    </tr>\n",
       "    <tr>\n",
       "      <th>4</th>\n",
       "      <td>You When I booked with your company on line y...</td>\n",
       "      <td>1</td>\n",
       "    </tr>\n",
       "    <tr>\n",
       "      <th>...</th>\n",
       "      <td>...</td>\n",
       "      <td>...</td>\n",
       "    </tr>\n",
       "    <tr>\n",
       "      <th>512338</th>\n",
       "      <td>no trolly or staff to help you take the lugga...</td>\n",
       "      <td>1</td>\n",
       "    </tr>\n",
       "    <tr>\n",
       "      <th>512339</th>\n",
       "      <td>The hotel looks like 3 but surely not 4  Brea...</td>\n",
       "      <td>1</td>\n",
       "    </tr>\n",
       "    <tr>\n",
       "      <th>512340</th>\n",
       "      <td>The ac was useless It was a hot week in vienn...</td>\n",
       "      <td>0</td>\n",
       "    </tr>\n",
       "    <tr>\n",
       "      <th>512341</th>\n",
       "      <td>The rooms are enormous and really comfortable...</td>\n",
       "      <td>1</td>\n",
       "    </tr>\n",
       "    <tr>\n",
       "      <th>512342</th>\n",
       "      <td>I was in 3rd floor It didn t work Free Wife  ...</td>\n",
       "      <td>1</td>\n",
       "    </tr>\n",
       "  </tbody>\n",
       "</table>\n",
       "<p>512343 rows × 2 columns</p>\n",
       "</div>"
      ],
      "text/plain": [
       "                                                      review  reviewer_sentiment\n",
       "review_id                                                                       \n",
       "0           I am so angry that i made this post available...                   0\n",
       "1           No real complaints the hotel was great great ...                   1\n",
       "2           Rooms are nice but for elderly a bit difficul...                   1\n",
       "3           My room was dirty and I was afraid to walk ba...                   0\n",
       "4           You When I booked with your company on line y...                   1\n",
       "...                                                      ...                 ...\n",
       "512338      no trolly or staff to help you take the lugga...                   1\n",
       "512339      The hotel looks like 3 but surely not 4  Brea...                   1\n",
       "512340      The ac was useless It was a hot week in vienn...                   0\n",
       "512341      The rooms are enormous and really comfortable...                   1\n",
       "512342      I was in 3rd floor It didn t work Free Wife  ...                   1\n",
       "\n",
       "[512343 rows x 2 columns]"
      ]
     },
     "execution_count": 3,
     "metadata": {
      "tags": []
     },
     "output_type": "execute_result"
    }
   ],
   "source": [
    "# Encoding 'reviewer_sentiment'\n",
    "le = LabelEncoder()\n",
    "df['reviewer_sentiment'] = le.fit_transform(df['reviewer_sentiment'])\n",
    "df"
   ]
  },
  {
   "cell_type": "code",
   "execution_count": 4,
   "metadata": {
    "id": "cbPXGxfaCYV4"
   },
   "outputs": [],
   "source": [
    "# Split our preprocessed data into our features/input and target/output arrays\n",
    "y = df['reviewer_sentiment'].values\n",
    "X = df.drop(['reviewer_sentiment'],1).values\n",
    "\n",
    "# Split the preprocessed data into a training and testing dataset\n",
    "X_train, X_test, y_train, y_test = train_test_split(X, y, random_state=1)"
   ]
  },
  {
   "cell_type": "code",
   "execution_count": 5,
   "metadata": {
    "colab": {
     "base_uri": "https://localhost:8080/"
    },
    "id": "8xWHZyFMC6C4",
    "outputId": "3627c607-1a78-476d-bacf-c087147c4cde"
   },
   "outputs": [
    {
     "name": "stdout",
     "output_type": "stream",
     "text": [
      "Model: \"sequential\"\n",
      "_________________________________________________________________\n",
      "Layer (type)                 Output Shape              Param #   \n",
      "=================================================================\n",
      "keras_layer (KerasLayer)     (None, 20)                400020    \n",
      "_________________________________________________________________\n",
      "dense (Dense)                (None, 3)                 63        \n",
      "_________________________________________________________________\n",
      "dense_1 (Dense)              (None, 1)                 4         \n",
      "=================================================================\n",
      "Total params: 400,087\n",
      "Trainable params: 400,087\n",
      "Non-trainable params: 0\n",
      "_________________________________________________________________\n"
     ]
    }
   ],
   "source": [
    "# Compile, Train and Evaluate the Model\n",
    "model = \"https://tfhub.dev/google/tf2-preview/gnews-swivel-20dim/1\"\n",
    "hub_layer = hub.KerasLayer(model, output_shape=[8], input_shape=[], dtype=tf.string, trainable=True)\n",
    "model = tf.keras.Sequential()\n",
    "\n",
    "# First hidden layer\n",
    "model.add(hub_layer)\n",
    "\n",
    "# Second hidden layer\n",
    "model.add(tf.keras.layers.Dense(units=3, activation='relu'))\n",
    "\n",
    "# Output layer\n",
    "model.add(tf.keras.layers.Dense(units=1, activation='sigmoid'))\n",
    "\n",
    "# Check the structure of the model\n",
    "model.summary()"
   ]
  },
  {
   "cell_type": "code",
   "execution_count": 6,
   "metadata": {
    "id": "4ukgq2aPoOTG"
   },
   "outputs": [],
   "source": [
    "# compile the model\n",
    "model.compile(optimizer='adam',\n",
    "              loss=tf.losses.BinaryCrossentropy(from_logits=True),\n",
    "              metrics=[tf.metrics.BinaryAccuracy(threshold=0.0, name='accuracy')])"
   ]
  },
  {
   "cell_type": "code",
   "execution_count": 7,
   "metadata": {
    "colab": {
     "base_uri": "https://localhost:8080/"
    },
    "id": "fkdvD8Y0Lylc",
    "outputId": "9b7cf4fe-7c16-4823-e56c-51fdcfa8e7c5"
   },
   "outputs": [
    {
     "name": "stdout",
     "output_type": "stream",
     "text": [
      "Epoch 1/10\n",
      "12009/12009 [==============================] - 112s 9ms/step - loss: 0.3575 - accuracy: 0.9569\n",
      "Epoch 2/10\n",
      "12009/12009 [==============================] - 119s 10ms/step - loss: 0.3563 - accuracy: 0.9569\n",
      "Epoch 3/10\n",
      "12009/12009 [==============================] - 112s 9ms/step - loss: 0.3563 - accuracy: 0.9569\n",
      "Epoch 4/10\n",
      "12009/12009 [==============================] - 112s 9ms/step - loss: 0.3563 - accuracy: 0.9569\n",
      "Epoch 5/10\n",
      "12009/12009 [==============================] - 111s 9ms/step - loss: 0.3559 - accuracy: 0.9569\n",
      "Epoch 6/10\n",
      "12009/12009 [==============================] - 112s 9ms/step - loss: 0.3540 - accuracy: 0.9569\n",
      "Epoch 7/10\n",
      "12009/12009 [==============================] - 111s 9ms/step - loss: 0.3519 - accuracy: 0.9569\n",
      "Epoch 8/10\n",
      "12009/12009 [==============================] - 117s 10ms/step - loss: 0.3509 - accuracy: 0.9569\n",
      "Epoch 9/10\n",
      "12009/12009 [==============================] - 112s 9ms/step - loss: 0.3503 - accuracy: 0.9569\n",
      "Epoch 10/10\n",
      "12009/12009 [==============================] - 114s 10ms/step - loss: 0.3497 - accuracy: 0.9569\n"
     ]
    }
   ],
   "source": [
    "# Fit/Train the model\n",
    "fit_model = model.fit(X_train, y_train, epochs=10)"
   ]
  },
  {
   "cell_type": "code",
   "execution_count": 8,
   "metadata": {
    "colab": {
     "base_uri": "https://localhost:8080/",
     "height": 282
    },
    "id": "Gsx8ghgc5M6R",
    "outputId": "7811bdc7-d384-47ca-f423-9e8aaa6bdb68"
   },
   "outputs": [
    {
     "data": {
      "text/plain": [
       "<matplotlib.axes._subplots.AxesSubplot at 0x7ffaa75dd9b0>"
      ]
     },
     "execution_count": 8,
     "metadata": {
      "tags": []
     },
     "output_type": "execute_result"
    },
    {
     "data": {
      "image/png": "[encoded data removed]",
      "text/plain": [
       "<Figure size 432x288 with 1 Axes>"
      ]
     },
     "metadata": {
      "needs_background": "light",
      "tags": []
     },
     "output_type": "display_data"
    }
   ],
   "source": [
    "# Create a DataFrame containing training history\n",
    "history_df = pd.DataFrame(fit_model.history, index=range(1,len(fit_model.history[\"loss\"])+1))\n",
    "\n",
    "# Plot the loss\n",
    "history_df.plot(y=\"loss\")"
   ]
  },
  {
   "cell_type": "code",
   "execution_count": 9,
   "metadata": {
    "colab": {
     "base_uri": "https://localhost:8080/",
     "height": 282
    },
    "id": "j-Ywd81I5k_a",
    "outputId": "b6043261-7e5c-4d21-e944-d274c3a66854"
   },
   "outputs": [
    {
     "data": {
      "text/plain": [
       "<matplotlib.axes._subplots.AxesSubplot at 0x7ffab3670470>"
      ]
     },
     "execution_count": 9,
     "metadata": {
      "tags": []
     },
     "output_type": "execute_result"
    },
    {
     "data": {
      "image/png": "[encoded data removed]",
      "text/plain": [
       "<Figure size 432x288 with 1 Axes>"
      ]
     },
     "metadata": {
      "needs_background": "light",
      "tags": []
     },
     "output_type": "display_data"
    }
   ],
   "source": [
    "# Plot the accuracy\n",
    "history_df.plot(y=\"accuracy\")"
   ]
  },
  {
   "cell_type": "code",
   "execution_count": 10,
   "metadata": {
    "colab": {
     "base_uri": "https://localhost:8080/"
    },
    "id": "pL_-V7JBm8h1",
    "outputId": "2cbaec8f-2b77-43d7-f800-1e9692422f51"
   },
   "outputs": [
    {
     "name": "stdout",
     "output_type": "stream",
     "text": [
      "4003/4003 - 8s - loss: 0.3523 - accuracy: 0.9565\n",
      "Loss: 0.3522561192512512, Accuracy: 0.9564589262008667\n"
     ]
    }
   ],
   "source": [
    "# Test/Evaluate the model using the test data\n",
    "model_loss, model_accuracy = model.evaluate(X_test,y_test,verbose=2)\n",
    "print(f\"Loss: {model_loss}, Accuracy: {model_accuracy}\")"
   ]
  },
  {
   "cell_type": "code",
   "execution_count": 11,
   "metadata": {
    "id": "B3dqPpheqFVO"
   },
   "outputs": [],
   "source": [
    "# Export our model to HDF5 file\n",
    "model.save(\"SavedModel4_NLP_DL_Review_Pos_Neg_Format.h5\")"
   ]
  }
 ],
 "metadata": {
  "colab": {
   "collapsed_sections": [],
   "name": "WorkingNLP_DL.ipynb",
   "provenance": [],
   "toc_visible": true
  },
  "kernelspec": {
   "display_name": "mlenv",
   "language": "python",
   "name": "mlenv"
  },
  "language_info": {
   "codemirror_mode": {
    "name": "ipython",
    "version": 3
   },
   "file_extension": ".py",
   "mimetype": "text/x-python",
   "name": "python",
   "nbconvert_exporter": "python",
   "pygments_lexer": "ipython3",
   "version": "3.7.7"
  }
 },
 "nbformat": 4,
 "nbformat_minor": 1
}
