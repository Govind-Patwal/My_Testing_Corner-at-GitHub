{
  "nbformat": 4,
  "nbformat_minor": 0,
  "metadata": {
    "colab": {
      "name": "Testing_the_model_with_user_input.ipynb",
      "provenance": [],
      "collapsed_sections": []
    },
    "kernelspec": {
      "display_name": "Python 3",
      "language": "python",
      "name": "python3"
    },
    "language_info": {
      "codemirror_mode": {
        "name": "ipython",
        "version": 3
      },
      "file_extension": ".py",
      "mimetype": "text/x-python",
      "name": "python",
      "nbconvert_exporter": "python",
      "pygments_lexer": "ipython3",
      "version": "3.7.7"
    }
  },
  "cells": [
    {
      "cell_type": "markdown",
      "metadata": {
        "id": "WUVAUnPdzovR"
      },
      "source": [
        "# This files runs on ***Google Colab*** \n",
        "\n",
        "## It loads a saved model and gets an user input and predicts the outcome\n",
        "\n",
        "### Before running this file, the Saved Model file needs to be placed at the same level as this file\n",
        "\n",
        "### Saved Model File: SavedModel4_NLP_DL_Review_Pos_Neg_Format.h5\n"
      ]
    },
    {
      "cell_type": "code",
      "metadata": {
        "id": "7QBXgY3Tf7qS"
      },
      "source": [
        "# Import our dependencies\n",
        "import tensorflow as tf\n",
        "import tensorflow_hub as hub\n",
        "import matplotlib.pyplot as plt\n",
        "import pandas as pd\n",
        "import numpy as np\n",
        "from sklearn.model_selection import train_test_split\n",
        "from sklearn.preprocessing import LabelEncoder\n",
        "from sklearn.preprocessing import StandardScaler,OneHotEncoder"
      ],
      "execution_count": 1,
      "outputs": []
    },
    {
      "cell_type": "code",
      "metadata": {
        "colab": {
          "base_uri": "https://localhost:8080/"
        },
        "id": "Ly-jbx-MhIyn",
        "outputId": "b737b6c8-e2d4-4d99-982e-33ce60636098"
      },
      "source": [
        "# Load the model\n",
        "model = tf.keras.models.load_model('SavedModel4_NLP_DL_Review_Pos_Neg_Format.h5',custom_objects={'KerasLayer':hub.KerasLayer})\n",
        "model.summary()"
      ],
      "execution_count": 2,
      "outputs": [
        {
          "output_type": "stream",
          "text": [
            "Model: \"sequential\"\n",
            "_________________________________________________________________\n",
            "Layer (type)                 Output Shape              Param #   \n",
            "=================================================================\n",
            "keras_layer (KerasLayer)     (None, 20)                400020    \n",
            "_________________________________________________________________\n",
            "dense (Dense)                (None, 3)                 63        \n",
            "_________________________________________________________________\n",
            "dense_1 (Dense)              (None, 1)                 4         \n",
            "=================================================================\n",
            "Total params: 400,087\n",
            "Trainable params: 400,087\n",
            "Non-trainable params: 0\n",
            "_________________________________________________________________\n"
          ],
          "name": "stdout"
        }
      ]
    },
    {
      "cell_type": "code",
      "metadata": {
        "id": "OrrA5gcHX7q4"
      },
      "source": [
        "# Declare a list\n",
        "test = []"
      ],
      "execution_count": 3,
      "outputs": []
    },
    {
      "cell_type": "code",
      "metadata": {
        "id": "-s8UElpSZk2c"
      },
      "source": [
        "def review_test(want_to_enter_review):\n",
        "  if want_to_enter_review == 'n':\n",
        "    print(\"\\n\")\n",
        "    print(\"Thank You!\")\n",
        "  elif want_to_enter_review == 'y':\n",
        "\n",
        "    # get an input from the user\n",
        "    temp = input(\"Enter your review (10 words or more): \")\n",
        "    print(\"-----------------------------------------------------------------------------------\")\n",
        "\n",
        "    # add it to the list\n",
        "    test.append(temp)\n",
        "\n",
        "    # ask if the user wants to enter another input\n",
        "    want_to_enter_review = input(\"Do you want to enter one more review? (y/n): \")\n",
        "    review_test(want_to_enter_review)\n",
        "\n",
        "  else:\n",
        "    print(\"\\n\")\n",
        "    print('You did not enter a Yes or a No, please enter y or n:')\n",
        "    want_to_enter_review = input(\"Do you want to enter one more review? (y/n): \")\n",
        "    review_test(want_to_enter_review)"
      ],
      "execution_count": 4,
      "outputs": []
    },
    {
      "cell_type": "code",
      "metadata": {
        "colab": {
          "base_uri": "https://localhost:8080/"
        },
        "id": "S9-oq_0ut4qp",
        "outputId": "66fb06e0-3da7-4a88-ccf4-3c702d843ec3"
      },
      "source": [
        "want_to_enter_review = input(\"Do you want to test a review? (y/n): \")\n",
        "review_test(want_to_enter_review)"
      ],
      "execution_count": 5,
      "outputs": [
        {
          "output_type": "stream",
          "text": [
            "Do you want to test a review? (y/n): y\n",
            "Enter your review (10 words or more): nice hotel, nice location, good people\n",
            "------------------------------------------------------------\n",
            "Do you want to enter one more review? (y/n): y\n",
            "Enter your review (10 words or more): loved the food, and music\n",
            "------------------------------------------------------------\n",
            "Do you want to enter one more review? (y/n): y\n",
            "Enter your review (10 words or more): bad location, very noisy, food not good\n",
            "------------------------------------------------------------\n",
            "Do you want to enter one more review? (y/n): y\n",
            "Enter your review (10 words or more): good wine, good dine, good rooms, good music, good furniture\n",
            "------------------------------------------------------------\n",
            "Do you want to enter one more review? (y/n): adfd\n",
            "\n",
            "\n",
            "You did not enter a Yes or a No, please enter y or n:\n",
            "Do you want to enter one more review? (y/n): y\n",
            "Enter your review (10 words or more): avoid the place at all costs, rip-off\n",
            "------------------------------------------------------------\n",
            "Do you want to enter one more review? (y/n): y\n",
            "Enter your review (10 words or more): very good deal, very happy with the stay, highly recommend\n",
            "------------------------------------------------------------\n",
            "Do you want to enter one more review? (y/n): y\n",
            "Enter your review (10 words or more): do not recommend at all, not upto the expectations, will never go there again\n",
            "------------------------------------------------------------\n",
            "Do you want to enter one more review? (y/n): adada\n",
            "\n",
            "\n",
            "You did not enter a Yes or a No, please enter y or n:\n",
            "Do you want to enter one more review? (y/n): y\n",
            "Enter your review (10 words or more): there were a lot of people disturbing us, my kids did not like the hotel, no toys to play with\n",
            "------------------------------------------------------------\n",
            "Do you want to enter one more review? (y/n): n\n",
            "\n",
            "\n",
            "Thank You!\n"
          ],
          "name": "stdout"
        }
      ]
    },
    {
      "cell_type": "code",
      "metadata": {
        "id": "IODAgfqum4tA"
      },
      "source": [
        "# Declaring a new variable\n",
        "prediction = model.predict(test).round()  \n",
        "prediction = prediction.tolist()"
      ],
      "execution_count": 6,
      "outputs": []
    },
    {
      "cell_type": "code",
      "metadata": {
        "colab": {
          "base_uri": "https://localhost:8080/",
          "height": 284
        },
        "id": "1qXLPKsFviWl",
        "outputId": "d3d5698b-bb3d-4c57-c916-8c5840ee45e2"
      },
      "source": [
        "# outputting the predicted output\n",
        "\n",
        "# creating a new df1 'review'\n",
        "df1 = pd.DataFrame(test, columns=['review'])\n",
        "# creating a new df2 'predicted_output'\n",
        "df2 = pd.DataFrame(prediction, columns=['predicted_output'])\n",
        "\n",
        "# joining the 2 dataframes\n",
        "df = df1.join(df2)\n",
        "\n",
        "# creating a new column 'sentiment'\n",
        "df.loc[df['predicted_output'] == 0.0, 'sentiment'] = 'negative'\n",
        "df.loc[df['predicted_output'] == 1.0, 'sentiment'] = 'positive'\n",
        "df"
      ],
      "execution_count": 7,
      "outputs": [
        {
          "output_type": "execute_result",
          "data": {
            "text/html": [
              "<div>\n",
              "<style scoped>\n",
              "    .dataframe tbody tr th:only-of-type {\n",
              "        vertical-align: middle;\n",
              "    }\n",
              "\n",
              "    .dataframe tbody tr th {\n",
              "        vertical-align: top;\n",
              "    }\n",
              "\n",
              "    .dataframe thead th {\n",
              "        text-align: right;\n",
              "    }\n",
              "</style>\n",
              "<table border=\"1\" class=\"dataframe\">\n",
              "  <thead>\n",
              "    <tr style=\"text-align: right;\">\n",
              "      <th></th>\n",
              "      <th>review</th>\n",
              "      <th>predicted_output</th>\n",
              "      <th>sentiment</th>\n",
              "    </tr>\n",
              "  </thead>\n",
              "  <tbody>\n",
              "    <tr>\n",
              "      <th>0</th>\n",
              "      <td>nice hotel, nice location, good people</td>\n",
              "      <td>1.0</td>\n",
              "      <td>positive</td>\n",
              "    </tr>\n",
              "    <tr>\n",
              "      <th>1</th>\n",
              "      <td>loved the food, and music</td>\n",
              "      <td>1.0</td>\n",
              "      <td>positive</td>\n",
              "    </tr>\n",
              "    <tr>\n",
              "      <th>2</th>\n",
              "      <td>bad location, very noisy, food not good</td>\n",
              "      <td>1.0</td>\n",
              "      <td>positive</td>\n",
              "    </tr>\n",
              "    <tr>\n",
              "      <th>3</th>\n",
              "      <td>good wine, good dine, good rooms, good music, ...</td>\n",
              "      <td>1.0</td>\n",
              "      <td>positive</td>\n",
              "    </tr>\n",
              "    <tr>\n",
              "      <th>4</th>\n",
              "      <td>avoid the place at all costs, rip-off</td>\n",
              "      <td>0.0</td>\n",
              "      <td>negative</td>\n",
              "    </tr>\n",
              "    <tr>\n",
              "      <th>5</th>\n",
              "      <td>very good deal, very happy with the stay, high...</td>\n",
              "      <td>1.0</td>\n",
              "      <td>positive</td>\n",
              "    </tr>\n",
              "    <tr>\n",
              "      <th>6</th>\n",
              "      <td>do not recommend at all, not upto the expectat...</td>\n",
              "      <td>0.0</td>\n",
              "      <td>negative</td>\n",
              "    </tr>\n",
              "    <tr>\n",
              "      <th>7</th>\n",
              "      <td>there were a lot of people disturbing us, my k...</td>\n",
              "      <td>1.0</td>\n",
              "      <td>positive</td>\n",
              "    </tr>\n",
              "  </tbody>\n",
              "</table>\n",
              "</div>"
            ],
            "text/plain": [
              "                                              review  ...  sentiment\n",
              "0             nice hotel, nice location, good people  ...   positive\n",
              "1                          loved the food, and music  ...   positive\n",
              "2            bad location, very noisy, food not good  ...   positive\n",
              "3  good wine, good dine, good rooms, good music, ...  ...   positive\n",
              "4              avoid the place at all costs, rip-off  ...   negative\n",
              "5  very good deal, very happy with the stay, high...  ...   positive\n",
              "6  do not recommend at all, not upto the expectat...  ...   negative\n",
              "7  there were a lot of people disturbing us, my k...  ...   positive\n",
              "\n",
              "[8 rows x 3 columns]"
            ]
          },
          "metadata": {
            "tags": []
          },
          "execution_count": 7
        }
      ]
    },
    {
      "cell_type": "code",
      "metadata": {
        "id": "8p8ypA6x40P3"
      },
      "source": [
        ""
      ],
      "execution_count": 7,
      "outputs": []
    }
  ]
}