{
  "nbformat": 4,
  "nbformat_minor": 0,
  "metadata": {
    "colab": {
      "name": "Step2_NLP_DL_Review_in_5Star_Format.ipynb",
      "provenance": []
    },
    "kernelspec": {
      "display_name": "Python 3",
      "language": "python",
      "name": "python3"
    },
    "language_info": {
      "codemirror_mode": {
        "name": "ipython",
        "version": 3
      },
      "file_extension": ".py",
      "mimetype": "text/x-python",
      "name": "python",
      "nbconvert_exporter": "python",
      "pygments_lexer": "ipython3",
      "version": "3.7.7"
    }
  },
  "cells": [
    {
      "cell_type": "markdown",
      "metadata": {
        "id": "SIZfgdzXciMg"
      },
      "source": [
        "# This file runs on ***Google Colab***\n",
        "## Before running this file, the Data File needs to be placed at the same level as this file\n",
        "\n",
        "### Data file: ../PySpark_DataFile/hotel_reviews_for_NLP2_int_review_score.zip/hotel_reviews_for_NLP2_int_review_score.csv\n"
      ]
    },
    {
      "cell_type": "code",
      "metadata": {
        "id": "CarnJEuzwP1B"
      },
      "source": [
        "# Import our dependencies\n",
        "import tensorflow as tf\n",
        "import tensorflow_hub as hub\n",
        "import matplotlib.pyplot as plt\n",
        "import pandas as pd\n",
        "import numpy as np\n",
        "from sklearn.model_selection import train_test_split\n",
        "from sklearn.preprocessing import LabelEncoder\n",
        "from sklearn.preprocessing import StandardScaler,OneHotEncoder"
      ],
      "execution_count": 1,
      "outputs": []
    },
    {
      "cell_type": "code",
      "metadata": {
        "colab": {
          "base_uri": "https://localhost:8080/",
          "height": 419
        },
        "id": "lZilGKyDwUV_",
        "outputId": "ad6a2634-4efc-4bf9-dbcd-1b4da5c04463"
      },
      "source": [
        "# Reading data into a pandas DataFrame\n",
        "df = pd.read_csv('hotel_reviews_for_NLP4_Star_Rating.csv')\n",
        "df"
      ],
      "execution_count": 2,
      "outputs": [
        {
          "output_type": "execute_result",
          "data": {
            "text/html": [
              "<div>\n",
              "<style scoped>\n",
              "    .dataframe tbody tr th:only-of-type {\n",
              "        vertical-align: middle;\n",
              "    }\n",
              "\n",
              "    .dataframe tbody tr th {\n",
              "        vertical-align: top;\n",
              "    }\n",
              "\n",
              "    .dataframe thead th {\n",
              "        text-align: right;\n",
              "    }\n",
              "</style>\n",
              "<table border=\"1\" class=\"dataframe\">\n",
              "  <thead>\n",
              "    <tr style=\"text-align: right;\">\n",
              "      <th></th>\n",
              "      <th>Review</th>\n",
              "      <th>Star_Rating</th>\n",
              "    </tr>\n",
              "  </thead>\n",
              "  <tbody>\n",
              "    <tr>\n",
              "      <th>0</th>\n",
              "      <td>I am so angry that i made this post available...</td>\n",
              "      <td>2</td>\n",
              "    </tr>\n",
              "    <tr>\n",
              "      <th>1</th>\n",
              "      <td>No real complaints the hotel was great great ...</td>\n",
              "      <td>4</td>\n",
              "    </tr>\n",
              "    <tr>\n",
              "      <th>2</th>\n",
              "      <td>Rooms are nice but for elderly a bit difficul...</td>\n",
              "      <td>4</td>\n",
              "    </tr>\n",
              "    <tr>\n",
              "      <th>3</th>\n",
              "      <td>My room was dirty and I was afraid to walk ba...</td>\n",
              "      <td>2</td>\n",
              "    </tr>\n",
              "    <tr>\n",
              "      <th>4</th>\n",
              "      <td>You When I booked with your company on line y...</td>\n",
              "      <td>4</td>\n",
              "    </tr>\n",
              "    <tr>\n",
              "      <th>...</th>\n",
              "      <td>...</td>\n",
              "      <td>...</td>\n",
              "    </tr>\n",
              "    <tr>\n",
              "      <th>512338</th>\n",
              "      <td>no trolly or staff to help you take the lugga...</td>\n",
              "      <td>4</td>\n",
              "    </tr>\n",
              "    <tr>\n",
              "      <th>512339</th>\n",
              "      <td>The hotel looks like 3 but surely not 4  Brea...</td>\n",
              "      <td>3</td>\n",
              "    </tr>\n",
              "    <tr>\n",
              "      <th>512340</th>\n",
              "      <td>The ac was useless It was a hot week in vienn...</td>\n",
              "      <td>1</td>\n",
              "    </tr>\n",
              "    <tr>\n",
              "      <th>512341</th>\n",
              "      <td>The rooms are enormous and really comfortable...</td>\n",
              "      <td>5</td>\n",
              "    </tr>\n",
              "    <tr>\n",
              "      <th>512342</th>\n",
              "      <td>I was in 3rd floor It didn t work Free Wife  ...</td>\n",
              "      <td>4</td>\n",
              "    </tr>\n",
              "  </tbody>\n",
              "</table>\n",
              "<p>512343 rows × 2 columns</p>\n",
              "</div>"
            ],
            "text/plain": [
              "                                                   Review  Star_Rating\n",
              "0        I am so angry that i made this post available...            2\n",
              "1        No real complaints the hotel was great great ...            4\n",
              "2        Rooms are nice but for elderly a bit difficul...            4\n",
              "3        My room was dirty and I was afraid to walk ba...            2\n",
              "4        You When I booked with your company on line y...            4\n",
              "...                                                   ...          ...\n",
              "512338   no trolly or staff to help you take the lugga...            4\n",
              "512339   The hotel looks like 3 but surely not 4  Brea...            3\n",
              "512340   The ac was useless It was a hot week in vienn...            1\n",
              "512341   The rooms are enormous and really comfortable...            5\n",
              "512342   I was in 3rd floor It didn t work Free Wife  ...            4\n",
              "\n",
              "[512343 rows x 2 columns]"
            ]
          },
          "metadata": {
            "tags": []
          },
          "execution_count": 2
        }
      ]
    },
    {
      "cell_type": "code",
      "metadata": {
        "id": "s9Y6f72xxQ9p"
      },
      "source": [
        "# Split our preprocessed data into our features/input and target/output arrays\n",
        "y = df['Star_Rating'].values\n",
        "X = df.drop(['Star_Rating'],1).values\n",
        "\n",
        "# Split the preprocessed data into a training and testing dataset\n",
        "X_train, X_test, y_train, y_test = train_test_split(X, y, random_state=1)"
      ],
      "execution_count": 3,
      "outputs": []
    },
    {
      "cell_type": "code",
      "metadata": {
        "colab": {
          "base_uri": "https://localhost:8080/"
        },
        "id": "NEPPBSv0kN0H",
        "outputId": "0551c2bb-ed9c-4200-816d-aa4761df2eea"
      },
      "source": [
        "# Compile, Train and Evaluate the Model\n",
        "model = \"https://tfhub.dev/google/tf2-preview/gnews-swivel-20dim/1\"\n",
        "hub_layer = hub.KerasLayer(model, output_shape=[8], input_shape=[], dtype=tf.string, trainable=True)\n",
        "model = tf.keras.Sequential()\n",
        "\n",
        "# First hidden layer\n",
        "model.add(hub_layer)\n",
        "\n",
        "# Second hidden layer\n",
        "model.add(tf.keras.layers.Dense(units=3, activation='relu'))\n",
        "\n",
        "# Output layer\n",
        "model.add(tf.keras.layers.Dense(units=1, activation='sigmoid'))\n",
        "\n",
        "# Check the structure of the model\n",
        "model.summary()"
      ],
      "execution_count": 4,
      "outputs": [
        {
          "output_type": "stream",
          "text": [
            "Model: \"sequential\"\n",
            "_________________________________________________________________\n",
            "Layer (type)                 Output Shape              Param #   \n",
            "=================================================================\n",
            "keras_layer (KerasLayer)     (None, 20)                400020    \n",
            "_________________________________________________________________\n",
            "dense (Dense)                (None, 3)                 63        \n",
            "_________________________________________________________________\n",
            "dense_1 (Dense)              (None, 1)                 4         \n",
            "=================================================================\n",
            "Total params: 400,087\n",
            "Trainable params: 400,087\n",
            "Non-trainable params: 0\n",
            "_________________________________________________________________\n"
          ],
          "name": "stdout"
        }
      ]
    },
    {
      "cell_type": "code",
      "metadata": {
        "id": "yZN9_BgWkO-B"
      },
      "source": [
        "# compile the model\n",
        "model.compile(optimizer='adam',\n",
        "              loss=tf.losses.BinaryCrossentropy(from_logits=True),\n",
        "              metrics=[tf.metrics.BinaryAccuracy(threshold=0.0, name='accuracy')])"
      ],
      "execution_count": 5,
      "outputs": []
    },
    {
      "cell_type": "code",
      "metadata": {
        "colab": {
          "base_uri": "https://localhost:8080/"
        },
        "id": "cchGwoAukR6J",
        "outputId": "a7640716-f8a9-4fc6-c874-630f00a33f1c"
      },
      "source": [
        "# Fit/Train the model\n",
        "fit_model = model.fit(X_train, y_train, epochs=10)"
      ],
      "execution_count": 10,
      "outputs": [
        {
          "output_type": "stream",
          "text": [
            "Epoch 1/10\n",
            "12009/12009 [==============================] - 116s 10ms/step - loss: -3.0891 - accuracy: 0.0042\n",
            "Epoch 2/10\n",
            "12009/12009 [==============================] - 108s 9ms/step - loss: -3.0891 - accuracy: 0.0042\n",
            "Epoch 3/10\n",
            "12009/12009 [==============================] - 109s 9ms/step - loss: -3.0891 - accuracy: 0.0042\n",
            "Epoch 4/10\n",
            "12009/12009 [==============================] - 110s 9ms/step - loss: -3.0891 - accuracy: 0.0042\n",
            "Epoch 5/10\n",
            "12009/12009 [==============================] - 109s 9ms/step - loss: -3.0891 - accuracy: 0.0042\n",
            "Epoch 6/10\n",
            "12009/12009 [==============================] - 108s 9ms/step - loss: -3.0891 - accuracy: 0.0042\n",
            "Epoch 7/10\n",
            "12009/12009 [==============================] - 108s 9ms/step - loss: -3.0891 - accuracy: 0.0042\n",
            "Epoch 8/10\n",
            "12009/12009 [==============================] - 108s 9ms/step - loss: -3.0891 - accuracy: 0.0042\n",
            "Epoch 9/10\n",
            "12009/12009 [==============================] - 105s 9ms/step - loss: -3.0891 - accuracy: 0.0042\n",
            "Epoch 10/10\n",
            "12009/12009 [==============================] - 108s 9ms/step - loss: -3.0891 - accuracy: 0.0042\n"
          ],
          "name": "stdout"
        }
      ]
    },
    {
      "cell_type": "code",
      "metadata": {
        "colab": {
          "base_uri": "https://localhost:8080/",
          "height": 293
        },
        "id": "q0_LjdiOkUji",
        "outputId": "614f2fb2-1be5-4431-8aa4-49a43e5d3d12"
      },
      "source": [
        "# Create a DataFrame containing training history\n",
        "history_df = pd.DataFrame(fit_model.history, index=range(1,len(fit_model.history[\"loss\"])+1))\n",
        "\n",
        "# Plot the loss\n",
        "history_df.plot(y=\"loss\")"
      ],
      "execution_count": 11,
      "outputs": [
        {
          "output_type": "execute_result",
          "data": {
            "text/plain": [
              "<matplotlib.axes._subplots.AxesSubplot at 0x7f09d0dfc6a0>"
            ]
          },
          "metadata": {
            "tags": []
          },
          "execution_count": 11
        },
        {
          "output_type": "display_data",
          "data": {
            "image/png": "[encoded data removed]",
            "text/plain": [
              "<Figure size 432x288 with 1 Axes>"
            ]
          },
          "metadata": {
            "tags": [],
            "needs_background": "light"
          }
        }
      ]
    },
    {
      "cell_type": "code",
      "metadata": {
        "colab": {
          "base_uri": "https://localhost:8080/",
          "height": 282
        },
        "id": "mWFZ-HcpkZQk",
        "outputId": "6adbe3af-2db5-4b3a-d8fe-7983078bb896"
      },
      "source": [
        "# Plot the accuracy\n",
        "history_df.plot(y=\"accuracy\")"
      ],
      "execution_count": 12,
      "outputs": [
        {
          "output_type": "execute_result",
          "data": {
            "text/plain": [
              "<matplotlib.axes._subplots.AxesSubplot at 0x7f09d1690710>"
            ]
          },
          "metadata": {
            "tags": []
          },
          "execution_count": 12
        },
        {
          "output_type": "display_data",
          "data": {
            "image/png": "[encoded data removed]",
            "text/plain": [
              "<Figure size 432x288 with 1 Axes>"
            ]
          },
          "metadata": {
            "tags": [],
            "needs_background": "light"
          }
        }
      ]
    },
    {
      "cell_type": "code",
      "metadata": {
        "colab": {
          "base_uri": "https://localhost:8080/"
        },
        "id": "lZkEeYYIkbkQ",
        "outputId": "ea1e190d-f3f9-4b5e-ae87-ee02c58e6ccd"
      },
      "source": [
        "# Test/Evaluate the model using the test data\n",
        "model_loss, model_accuracy = model.evaluate(X_test,y_test,verbose=2)\n",
        "print(f\"Loss: {model_loss}, Accuracy: {model_accuracy}\")"
      ],
      "execution_count": 13,
      "outputs": [
        {
          "output_type": "stream",
          "text": [
            "4003/4003 - 8s - loss: -3.0885e+00 - accuracy: 0.0043\n",
            "Loss: -3.088472843170166, Accuracy: 0.004325218964368105\n"
          ],
          "name": "stdout"
        }
      ]
    },
    {
      "cell_type": "code",
      "metadata": {
        "id": "UrU_8Rlbkdsv"
      },
      "source": [
        "# Export our model to HDF5 file\n",
        "model.save(\"SavedModel2_NLP_DL_Review_in_Star_Rating_Format.h5\")"
      ],
      "execution_count": 14,
      "outputs": []
    },
    {
      "cell_type": "code",
      "metadata": {
        "id": "nzmrKdZZ8qRZ"
      },
      "source": [
        "\n"
      ],
      "execution_count": null,
      "outputs": []
    },
    {
      "cell_type": "code",
      "metadata": {
        "id": "KtasgzBsbS6q"
      },
      "source": [
        "from IPython.display import display, Javascript\n",
        "from google.colab.output import eval_js\n",
        "from base64 import b64decode\n",
        "\n",
        "def take_photo(filename='photo.jpg', quality=0.8):\n",
        "  js = Javascript('''\n",
        "    async function takePhoto(quality) {\n",
        "      const div = document.createElement('div');\n",
        "      const capture = document.createElement('button');\n",
        "      capture.textContent = 'Capture';\n",
        "      div.appendChild(capture);\n",
        "\n",
        "      const video = document.createElement('video');\n",
        "      video.style.display = 'block';\n",
        "      const stream = await navigator.mediaDevices.getUserMedia({video: true});\n",
        "\n",
        "      document.body.appendChild(div);\n",
        "      div.appendChild(video);\n",
        "      video.srcObject = stream;\n",
        "      await video.play();\n",
        "\n",
        "      // Resize the output to fit the video element.\n",
        "      google.colab.output.setIframeHeight(document.documentElement.scrollHeight, true);\n",
        "\n",
        "      // Wait for Capture to be clicked.\n",
        "      await new Promise((resolve) => capture.onclick = resolve);\n",
        "\n",
        "      const canvas = document.createElement('canvas');\n",
        "      canvas.width = video.videoWidth;\n",
        "      canvas.height = video.videoHeight;\n",
        "      canvas.getContext('2d').drawImage(video, 0, 0);\n",
        "      stream.getVideoTracks()[0].stop();\n",
        "      div.remove();\n",
        "      return canvas.toDataURL('image/jpeg', quality);\n",
        "    }\n",
        "    ''')\n",
        "  display(js)\n",
        "  data = eval_js('takePhoto({})'.format(quality))\n",
        "  binary = b64decode(data.split(',')[1])\n",
        "  with open(filename, 'wb') as f:\n",
        "    f.write(binary)\n",
        "  return filename"
      ],
      "execution_count": null,
      "outputs": []
    },
    {
      "cell_type": "code",
      "metadata": {
        "id": "Jn6YFyIVbS6r"
      },
      "source": [
        "from IPython.display import Image\n",
        "try:\n",
        "  filename = take_photo()\n",
        "  print('Saved to {}'.format(filename))\n",
        "  \n",
        "  # Show the image which was just taken.\n",
        "  display(Image(filename))\n",
        "except Exception as err:\n",
        "  # Errors will be thrown if the user does not have a webcam or if they do not\n",
        "  # grant the page permission to access it.\n",
        "  print(str(err))"
      ],
      "execution_count": null,
      "outputs": []
    }
  ]
}