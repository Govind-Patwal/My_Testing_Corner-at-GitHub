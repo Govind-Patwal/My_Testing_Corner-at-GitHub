{
 "cells": [
  {
   "cell_type": "code",
   "execution_count": 1,
   "metadata": {},
   "outputs": [],
   "source": [
    "import PIL\n",
    "import pandas"
   ]
  },
  {
   "cell_type": "code",
   "execution_count": 2,
   "metadata": {},
   "outputs": [
    {
     "data": {
      "text/plain": [
       "'8.0.1'"
      ]
     },
     "execution_count": 2,
     "metadata": {},
     "output_type": "execute_result"
    }
   ],
   "source": [
    "PIL.__version__\n"
   ]
  },
  {
   "cell_type": "code",
   "execution_count": 3,
   "metadata": {},
   "outputs": [
    {
     "name": "stdout",
     "output_type": "stream",
     "text": [
      "Help on package PIL:\n",
      "\n",
      "NAME\n",
      "    PIL - Pillow (Fork of the Python Imaging Library)\n",
      "\n",
      "DESCRIPTION\n",
      "    Pillow is the friendly PIL fork by Alex Clark and Contributors.\n",
      "        https://github.com/python-pillow/Pillow/\n",
      "    \n",
      "    Pillow is forked from PIL 1.1.7.\n",
      "    \n",
      "    PIL is the Python Imaging Library by Fredrik Lundh and Contributors.\n",
      "    Copyright (c) 1999 by Secret Labs AB.\n",
      "    \n",
      "    Use PIL.__version__ for this Pillow version.\n",
      "    \n",
      "    ;-)\n",
      "\n",
      "PACKAGE CONTENTS\n",
      "    BdfFontFile\n",
      "    BlpImagePlugin\n",
      "    BmpImagePlugin\n",
      "    BufrStubImagePlugin\n",
      "    ContainerIO\n",
      "    CurImagePlugin\n",
      "    DcxImagePlugin\n",
      "    DdsImagePlugin\n",
      "    EpsImagePlugin\n",
      "    ExifTags\n",
      "    FitsStubImagePlugin\n",
      "    FliImagePlugin\n",
      "    FontFile\n",
      "    FpxImagePlugin\n",
      "    FtexImagePlugin\n",
      "    GbrImagePlugin\n",
      "    GdImageFile\n",
      "    GifImagePlugin\n",
      "    GimpGradientFile\n",
      "    GimpPaletteFile\n",
      "    GribStubImagePlugin\n",
      "    Hdf5StubImagePlugin\n",
      "    IcnsImagePlugin\n",
      "    IcoImagePlugin\n",
      "    ImImagePlugin\n",
      "    Image\n",
      "    ImageChops\n",
      "    ImageCms\n",
      "    ImageColor\n",
      "    ImageDraw\n",
      "    ImageDraw2\n",
      "    ImageEnhance\n",
      "    ImageFile\n",
      "    ImageFilter\n",
      "    ImageFont\n",
      "    ImageGrab\n",
      "    ImageMath\n",
      "    ImageMode\n",
      "    ImageMorph\n",
      "    ImageOps\n",
      "    ImagePalette\n",
      "    ImagePath\n",
      "    ImageQt\n",
      "    ImageSequence\n",
      "    ImageShow\n",
      "    ImageStat\n",
      "    ImageTk\n",
      "    ImageTransform\n",
      "    ImageWin\n",
      "    ImtImagePlugin\n",
      "    IptcImagePlugin\n",
      "    Jpeg2KImagePlugin\n",
      "    JpegImagePlugin\n",
      "    JpegPresets\n",
      "    McIdasImagePlugin\n",
      "    MicImagePlugin\n",
      "    MpegImagePlugin\n",
      "    MpoImagePlugin\n",
      "    MspImagePlugin\n",
      "    PSDraw\n",
      "    PaletteFile\n",
      "    PalmImagePlugin\n",
      "    PcdImagePlugin\n",
      "    PcfFontFile\n",
      "    PcxImagePlugin\n",
      "    PdfImagePlugin\n",
      "    PdfParser\n",
      "    PixarImagePlugin\n",
      "    PngImagePlugin\n",
      "    PpmImagePlugin\n",
      "    PsdImagePlugin\n",
      "    PyAccess\n",
      "    SgiImagePlugin\n",
      "    SpiderImagePlugin\n",
      "    SunImagePlugin\n",
      "    TarIO\n",
      "    TgaImagePlugin\n",
      "    TiffImagePlugin\n",
      "    TiffTags\n",
      "    WalImageFile\n",
      "    WebPImagePlugin\n",
      "    WmfImagePlugin\n",
      "    XVThumbImagePlugin\n",
      "    XbmImagePlugin\n",
      "    XpmImagePlugin\n",
      "    __main__\n",
      "    _binary\n",
      "    _imaging\n",
      "    _imagingft\n",
      "    _imagingmath\n",
      "    _imagingmorph\n",
      "    _imagingtk\n",
      "    _tkinter_finder\n",
      "    _util\n",
      "    _version\n",
      "    features\n",
      "\n",
      "CLASSES\n",
      "    builtins.OSError(builtins.Exception)\n",
      "        UnidentifiedImageError\n",
      "    \n",
      "    class UnidentifiedImageError(builtins.OSError)\n",
      "     |  Raised in :py:meth:`PIL.Image.open` if an image cannot be opened and identified.\n",
      "     |  \n",
      "     |  Method resolution order:\n",
      "     |      UnidentifiedImageError\n",
      "     |      builtins.OSError\n",
      "     |      builtins.Exception\n",
      "     |      builtins.BaseException\n",
      "     |      builtins.object\n",
      "     |  \n",
      "     |  Data descriptors defined here:\n",
      "     |  \n",
      "     |  __weakref__\n",
      "     |      list of weak references to the object (if defined)\n",
      "     |  \n",
      "     |  ----------------------------------------------------------------------\n",
      "     |  Methods inherited from builtins.OSError:\n",
      "     |  \n",
      "     |  __init__(self, /, *args, **kwargs)\n",
      "     |      Initialize self.  See help(type(self)) for accurate signature.\n",
      "     |  \n",
      "     |  __reduce__(...)\n",
      "     |      Helper for pickle.\n",
      "     |  \n",
      "     |  __str__(self, /)\n",
      "     |      Return str(self).\n",
      "     |  \n",
      "     |  ----------------------------------------------------------------------\n",
      "     |  Static methods inherited from builtins.OSError:\n",
      "     |  \n",
      "     |  __new__(*args, **kwargs) from builtins.type\n",
      "     |      Create and return a new object.  See help(type) for accurate signature.\n",
      "     |  \n",
      "     |  ----------------------------------------------------------------------\n",
      "     |  Data descriptors inherited from builtins.OSError:\n",
      "     |  \n",
      "     |  characters_written\n",
      "     |  \n",
      "     |  errno\n",
      "     |      POSIX exception code\n",
      "     |  \n",
      "     |  filename\n",
      "     |      exception filename\n",
      "     |  \n",
      "     |  filename2\n",
      "     |      second exception filename\n",
      "     |  \n",
      "     |  strerror\n",
      "     |      exception strerror\n",
      "     |  \n",
      "     |  winerror\n",
      "     |      Win32 exception code\n",
      "     |  \n",
      "     |  ----------------------------------------------------------------------\n",
      "     |  Methods inherited from builtins.BaseException:\n",
      "     |  \n",
      "     |  __delattr__(self, name, /)\n",
      "     |      Implement delattr(self, name).\n",
      "     |  \n",
      "     |  __getattribute__(self, name, /)\n",
      "     |      Return getattr(self, name).\n",
      "     |  \n",
      "     |  __repr__(self, /)\n",
      "     |      Return repr(self).\n",
      "     |  \n",
      "     |  __setattr__(self, name, value, /)\n",
      "     |      Implement setattr(self, name, value).\n",
      "     |  \n",
      "     |  __setstate__(...)\n",
      "     |  \n",
      "     |  with_traceback(...)\n",
      "     |      Exception.with_traceback(tb) --\n",
      "     |      set self.__traceback__ to tb and return self.\n",
      "     |  \n",
      "     |  ----------------------------------------------------------------------\n",
      "     |  Data descriptors inherited from builtins.BaseException:\n",
      "     |  \n",
      "     |  __cause__\n",
      "     |      exception cause\n",
      "     |  \n",
      "     |  __context__\n",
      "     |      exception context\n",
      "     |  \n",
      "     |  __dict__\n",
      "     |  \n",
      "     |  __suppress_context__\n",
      "     |  \n",
      "     |  __traceback__\n",
      "     |  \n",
      "     |  args\n",
      "\n",
      "FUNCTIONS\n",
      "    __getattr__(name)\n",
      "\n",
      "VERSION\n",
      "    8.0.1\n",
      "\n",
      "FILE\n",
      "    c:\\users\\16474\\anaconda3\\envs\\pythondata\\lib\\site-packages\\pil\\__init__.py\n",
      "\n",
      "\n"
     ]
    }
   ],
   "source": [
    "help(PIL)"
   ]
  },
  {
   "cell_type": "code",
   "execution_count": null,
   "metadata": {},
   "outputs": [],
   "source": []
  },
  {
   "cell_type": "code",
   "execution_count": 4,
   "metadata": {},
   "outputs": [
    {
     "data": {
      "text/plain": [
       "['UnidentifiedImageError',\n",
       " '__builtins__',\n",
       " '__cached__',\n",
       " '__doc__',\n",
       " '__file__',\n",
       " '__getattr__',\n",
       " '__loader__',\n",
       " '__name__',\n",
       " '__package__',\n",
       " '__path__',\n",
       " '__spec__',\n",
       " '__version__',\n",
       " '_plugins',\n",
       " '_raise_version_warning',\n",
       " 'sys',\n",
       " 'warnings']"
      ]
     },
     "execution_count": 4,
     "metadata": {},
     "output_type": "execute_result"
    }
   ],
   "source": [
    "dir(PIL)"
   ]
  },
  {
   "cell_type": "code",
   "execution_count": null,
   "metadata": {},
   "outputs": [],
   "source": []
  },
  {
   "cell_type": "code",
   "execution_count": 5,
   "metadata": {},
   "outputs": [
    {
     "ename": "NameError",
     "evalue": "name 'image' is not defined",
     "output_type": "error",
     "traceback": [
      "\u001b[1;31m---------------------------------------------------------------------------\u001b[0m",
      "\u001b[1;31mNameError\u001b[0m                                 Traceback (most recent call last)",
      "\u001b[1;32m<ipython-input-5-99ea23497b16>\u001b[0m in \u001b[0;36m<module>\u001b[1;34m\u001b[0m\n\u001b[1;32m----> 1\u001b[1;33m \u001b[0mhelp\u001b[0m\u001b[1;33m(\u001b[0m\u001b[0mimage\u001b[0m\u001b[1;33m.\u001b[0m\u001b[0mcrop\u001b[0m\u001b[1;33m)\u001b[0m\u001b[1;33m\u001b[0m\u001b[1;33m\u001b[0m\u001b[0m\n\u001b[0m",
      "\u001b[1;31mNameError\u001b[0m: name 'image' is not defined"
     ]
    }
   ],
   "source": [
    "# help(image.crop)"
   ]
  },
  {
   "cell_type": "code",
   "execution_count": null,
   "metadata": {},
   "outputs": [],
   "source": [
    "help(image.copy)"
   ]
  },
  {
   "cell_type": "code",
   "execution_count": null,
   "metadata": {},
   "outputs": [],
   "source": [
    "help(Image.open)"
   ]
  },
  {
   "cell_type": "code",
   "execution_count": null,
   "metadata": {},
   "outputs": [],
   "source": [
    "filepath = 'GSP_HM_2011.png'\n",
    "image = Image.open(filepath)\n",
    "print(image)"
   ]
  },
  {
   "cell_type": "code",
   "execution_count": null,
   "metadata": {},
   "outputs": [],
   "source": [
    "import inspect\n",
    "print('The type of the image is' + str(type(image)))\n",
    "inspect.getmro(type(image))"
   ]
  },
  {
   "cell_type": "code",
   "execution_count": null,
   "metadata": {},
   "outputs": [],
   "source": [
    "image.show()"
   ]
  },
  {
   "cell_type": "code",
   "execution_count": null,
   "metadata": {},
   "outputs": [],
   "source": [
    "from IPython.display import display\n",
    "display(image)"
   ]
  },
  {
   "cell_type": "code",
   "execution_count": null,
   "metadata": {},
   "outputs": [],
   "source": [
    "help(image.copy)"
   ]
  },
  {
   "cell_type": "code",
   "execution_count": null,
   "metadata": {},
   "outputs": [],
   "source": [
    "help(image.save)"
   ]
  },
  {
   "cell_type": "code",
   "execution_count": null,
   "metadata": {},
   "outputs": [],
   "source": [
    "image.save('GSP_HM_changed_to_jpeg.jpeg')\n",
    "image=Image.open('GSP_HM_changed_to_jpeg.jpeg')\n",
    "import inspect\n",
    "inspect.getmro(type(image))\n",
    "image.show()"
   ]
  },
  {
   "cell_type": "code",
   "execution_count": null,
   "metadata": {},
   "outputs": [],
   "source": [
    "from IPython.display import display\n",
    "display(image)                 "
   ]
  },
  {
   "cell_type": "code",
   "execution_count": null,
   "metadata": {},
   "outputs": [],
   "source": [
    "from PIL import ImageFilter\n",
    "help(ImageFilter)"
   ]
  },
  {
   "cell_type": "code",
   "execution_count": null,
   "metadata": {},
   "outputs": [],
   "source": [
    "imgage=image.convert('RGB')\n",
    "blurred_image = image.filter(PIL.ImageFilter.BLUR)\n",
    "display(blurred_image)"
   ]
  },
  {
   "cell_type": "code",
   "execution_count": null,
   "metadata": {},
   "outputs": [],
   "source": [
    "print('{}x{}'.format(image.width, image.height))"
   ]
  },
  {
   "cell_type": "code",
   "execution_count": null,
   "metadata": {},
   "outputs": [],
   "source": [
    "help(image.crop)"
   ]
  },
  {
   "cell_type": "code",
   "execution_count": null,
   "metadata": {},
   "outputs": [],
   "source": [
    "display(image.crop((50,0,200,400)))"
   ]
  },
  {
   "cell_type": "code",
   "execution_count": null,
   "metadata": {},
   "outputs": [],
   "source": [
    "from PIL import ImageDraw\n",
    "drawing_object=ImageDraw.Draw(image)\n",
    "drawing_object.rectangle((50,0,200,400), fill = None, outline='red')\n",
    "display(image)"
   ]
  },
  {
   "cell_type": "code",
   "execution_count": null,
   "metadata": {},
   "outputs": [],
   "source": [
    "# First, lets import all of the library functions we need\n",
    "import PIL\n",
    "from PIL import Image\n",
    "from IPython.display import display\n",
    "\n",
    "# And lets load the image we were working, and we can just convert it to RGB inline\n",
    "filepath=\"GSP_HM_2011.png\"\n",
    "image=Image.open(filepath).convert('RGB')\n",
    "\n",
    "display(image)"
   ]
  },
  {
   "cell_type": "code",
   "execution_count": null,
   "metadata": {},
   "outputs": [],
   "source": [
    "from PIL import ImageEnhance\n",
    "enhancer=ImageEnhance.Brightness(image)\n",
    "images=[]\n",
    "for i in range(10):\n",
    "    # We'll divide i by ten to get the decimal value we want, and append it to the images list\n",
    "    # we actually call the brightness routine by calling the enhance() function. Remember, you can dig into\n",
    "    # details of this using the help() function, or by consulting web docs\n",
    "    images.append(enhancer.enhance(i/10))\n",
    "# We can see the result here is a list of ten PIL.Image.Image objects. Jupyter nicely prints out the value\n",
    "# of python objects nested in lists\n",
    "print(images)"
   ]
  },
  {
   "cell_type": "code",
   "execution_count": null,
   "metadata": {},
   "outputs": [],
   "source": [
    "help(PIL.Image.new)"
   ]
  },
  {
   "cell_type": "code",
   "execution_count": null,
   "metadata": {},
   "outputs": [],
   "source": [
    "first_iamge = image[0]"
   ]
  },
  {
   "cell_type": "code",
   "execution_count": null,
   "metadata": {},
   "outputs": [],
   "source": [
    "help(PIL.ImageDraw )"
   ]
  },
  {
   "cell_type": "code",
   "execution_count": null,
   "metadata": {},
   "outputs": [],
   "source": [
    "help(PIL.ImageEnhance.Color)"
   ]
  },
  {
   "cell_type": "code",
   "execution_count": null,
   "metadata": {},
   "outputs": [],
   "source": [
    "from PIL import ImageDraw, ImageFont\n",
    "\n",
    "# creating a copy of the original image\n",
    "image_temp = image.copy()\n",
    "\n",
    "# list for the new images\n",
    "images_new = []\n",
    "\n",
    "########### TOP ROW ###########\n",
    "\n",
    "draw = ImageDraw.Draw(image_temp)\n",
    "draw.rectangle(((0, 420), (800, 450)), fill=\"black\")\n",
    "draw.text((5, 435), \"channel 0 intensity 0.1\", font_size=30)\n",
    "r,g,b = image_temp.split()\n",
    "r = r.point(lambda x:x * 0.1)\n",
    "images_new.append(Image.merge('RGB', (r,g,b))  )\n",
    "\n",
    "draw = ImageDraw.Draw(image_temp)\n",
    "draw.rectangle(((0, 425), (800, 450)), fill=\"black\")\n",
    "draw.text((5, 435), \"channel 0 intensity 0.5\")\n",
    "r,g,b = image_temp.split()\n",
    "r = r.point(lambda x:x * 0.5)\n",
    "images_new.append(Image.merge('RGB', (r,g,b))  )\n",
    "\n",
    "draw = ImageDraw.Draw(image_temp)\n",
    "draw.rectangle(((0, 425), (800, 450)), fill=\"black\")\n",
    "draw.text((5, 435), \"channel 0 intensity 0.9\")\n",
    "r,g,b = image_temp.split()\n",
    "r = r.point(lambda x:x * 0.9)\n",
    "images_new.append(Image.merge('RGB', (r,g,b))  )\n",
    "\n",
    "########### MID ROW ###########\n",
    "\n",
    "draw = ImageDraw.Draw(image_temp)\n",
    "draw.rectangle(((0, 425), (800, 450)), fill=\"black\")\n",
    "draw.text((5, 435), \"channel 1 intensity 0.1\")\n",
    "r,g,b = image_temp.split()\n",
    "g = r.point(lambda x:x * 0.1)\n",
    "images_new.append(Image.merge('RGB', (r,g,b))  )\n",
    "\n",
    "draw = ImageDraw.Draw(image_temp)\n",
    "draw.rectangle(((0, 425), (800, 450)), fill=\"black\")\n",
    "draw.text((5, 435), \"channel 1 intensity 0.5\")\n",
    "r,g,b = image_temp.split()\n",
    "g = r.point(lambda x:x * 0.5)\n",
    "images_new.append(Image.merge('RGB', (r,g,b))  )\n",
    "\n",
    "draw = ImageDraw.Draw(image_temp)\n",
    "draw.rectangle(((0, 425), (800, 450)), fill=\"black\")\n",
    "draw.text((5, 435), \"channel 1 intensity 0.9\")\n",
    "r,g,b = image_temp.split()\n",
    "g = r.point(lambda x:x * 0.9)\n",
    "images_new.append(Image.merge('RGB', (r,g,b))  )\n",
    "\n",
    "########### BOTTOM ROW ###########\n",
    "\n",
    "draw = ImageDraw.Draw(image_temp)\n",
    "draw.rectangle(((0, 425), (800, 450)), fill=\"black\")\n",
    "draw.text((5, 435), \"channel 2 intensity 0.1\")\n",
    "r,g,b = image_temp.split()\n",
    "b = r.point(lambda x:x * 0.1)\n",
    "images_new.append(Image.merge('RGB', (r,g,b))  )\n",
    "\n",
    "draw = ImageDraw.Draw(image_temp)\n",
    "draw.rectangle(((0, 425), (800, 450)), fill=\"black\")\n",
    "draw.text((5, 435), \"channel 2 intensity 0.5\")\n",
    "r,g,b = image_temp.split()\n",
    "b = r.point(lambda x:x * 0.5)\n",
    "images_new.append(Image.merge('RGB', (r,g,b))  )\n",
    "\n",
    "draw = ImageDraw.Draw(image_temp)\n",
    "draw.rectangle(((0, 425), (800, 450)), fill=\"black\")\n",
    "draw.text((5, 435), \"channel 2 intensity 0.9\")\n",
    "r,g,b = image_temp.split()\n",
    "b = r.point(lambda x:x * 0.9)\n",
    "images_new.append(Image.merge('RGB', (r,g,b))  )"
   ]
  },
  {
   "cell_type": "code",
   "execution_count": null,
   "metadata": {},
   "outputs": [],
   "source": [
    "# create a contact sheet from different brightnesses\n",
    "first_images_new=images_new[0]\n",
    "contact_sheet_new=PIL.Image.new(first_images_new.mode, (first_images_new.width*3,first_images_new.height*3))\n",
    "x=0\n",
    "y=0\n",
    "\n",
    "for img in images_new:\n",
    "    # Lets paste the current image into the contact sheet\n",
    "    contact_sheet_new.paste(img, (x, y) )\n",
    "    # Now we update our X position. If it is going to be the width of the image, then we set it to 0\n",
    "    # and update Y as well to point to the next \"line\" of the contact sheet.\n",
    "    if x+first_images_new.width == contact_sheet_new.width:\n",
    "        x=0\n",
    "        y=y+first_images_new.height\n",
    "    else:\n",
    "        x=x+first_images_new.width\n",
    "\n",
    "# resize and display the contact sheet\n",
    "contact_sheet_new = contact_sheet_new.resize((int(contact_sheet_new.width/2),int(contact_sheet_new.height/2) ))\n",
    "display(contact_sheet_new)\n"
   ]
  },
  {
   "cell_type": "code",
   "execution_count": null,
   "metadata": {},
   "outputs": [],
   "source": []
  },
  {
   "cell_type": "code",
   "execution_count": null,
   "metadata": {},
   "outputs": [],
   "source": [
    "######################################\n",
    "##########################################\n",
    "import PIL\n",
    "from PIL import Image\n",
    "#from PIL import ImageEnhance\n",
    "from PIL import ImageDraw\n",
    "from PIL import ImageFont\n",
    "\n",
    "# read image and convert to RGB\n",
    "image=Image.open(\"readonly/msi_recruitment.gif\")\n",
    "image=image.convert('RGB')\n",
    "\n",
    "width, height = image.size\n",
    "\n",
    "newImage = PIL.Image.new(image.mode, (width, (height + 50)))\n",
    "newImage.paste(image, (0, 0))\n",
    "\n",
    "def writeText(c, inten, image):\n",
    "    text = \"channel {} intensity {}\".format(chan, inten)\n",
    "    font = ImageFont.truetype(r'readonly/fanwood-webfont.ttf', 45)\n",
    "    txt = ImageDraw.Draw(image)\n",
    "    txt.text((5,460),text, fill = 'white', font=font, align = \"left\")\n",
    "    \n",
    "def setInt(inten, image, color):\n",
    "    newImg = PIL.Image.new(image.mode, (newImage.width, newImage.height))\n",
    "    for row in range (height):\n",
    "        for col in range(width):\n",
    "            pix = image.getpixel((col,row))\n",
    "            if color == 0:\n",
    "                newImg.putpixel((col,row),(int(pix[0]*inten),pix[1],pix[2]))\n",
    "            elif color ==1:\n",
    "                newImg.putpixel((col, row), (pix[0],int(pix[1]*inten),pix[2]))    \n",
    "            elif color == 2:\n",
    "                newImg.putpixel((col, row), (pix[0],pix[1],int(pix[2]*inten))) \n",
    "    return newImg\n",
    "\n",
    "#create channel & intensity\n",
    "channel = [0,1,2]\n",
    "intensity = [0.1,0.5,0.9]\n",
    "\n",
    "images = [ ]\n",
    "\n",
    "for chan in channel:\n",
    "    for i in intensity:\n",
    "        images.append(setInt(i, newImage, chan))\n",
    "        writeText(chan, i, images[-1])\n",
    "\n",
    "\n",
    "contact_sheet=PIL.Image.new(newImage.mode, (newImage.width*3,newImage.height*3))\n",
    "x=0\n",
    "y=0\n",
    "\n",
    "for img in images:\n",
    "    # Lets paste the current image into the contact sheet\n",
    "    contact_sheet.paste(img, (x, y) )\n",
    "    # Now we update our X position. If it is going to be the width of the image, then we set it to 0\n",
    "    # and update Y as well to point to the next \"line\" of the contact sheet.\n",
    "    if x+newImage.width == contact_sheet.width:\n",
    "        x=0\n",
    "        y=y+newImage.height\n",
    "    else:\n",
    "        x=x+newImage.width\n",
    "\n",
    "# resize and display the contact sheet\n",
    "contact_sheet = contact_sheet.resize((int(contact_sheet.width/2),int(contact_sheet.height/2) ))\n",
    "display(contact_sheet)"
   ]
  },
  {
   "cell_type": "code",
   "execution_count": null,
   "metadata": {},
   "outputs": [],
   "source": []
  }
 ],
 "metadata": {
  "kernelspec": {
   "display_name": "Python 3",
   "language": "python",
   "name": "python3"
  },
  "language_info": {
   "codemirror_mode": {
    "name": "ipython",
    "version": 3
   },
   "file_extension": ".py",
   "mimetype": "text/x-python",
   "name": "python",
   "nbconvert_exporter": "python",
   "pygments_lexer": "ipython3",
   "version": "3.7.9"
  }
 },
 "nbformat": 4,
 "nbformat_minor": 4
}
