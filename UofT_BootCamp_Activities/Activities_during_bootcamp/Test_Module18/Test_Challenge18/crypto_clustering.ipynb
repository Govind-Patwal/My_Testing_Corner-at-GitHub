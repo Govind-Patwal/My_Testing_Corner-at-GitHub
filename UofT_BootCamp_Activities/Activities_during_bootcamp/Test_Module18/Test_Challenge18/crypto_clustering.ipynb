{
 "cells": [
  {
   "cell_type": "markdown",
   "metadata": {},
   "source": [
    "# Clustering Crypto"
   ]
  },
  {
   "cell_type": "code",
   "execution_count": 3,
   "metadata": {},
   "outputs": [
    {
     "name": "stderr",
     "output_type": "stream",
     "text": [
      "Traceback (most recent call last):\n",
      "  File \"C:\\Users\\govind_patwal\\Anaconda3\\envs\\PythonData\\Scripts\\pip-script.py\", line 6, in <module>\n",
      "    from pip._internal.cli.main import main\n",
      "  File \"C:\\Users\\govind_patwal\\Anaconda3\\envs\\PythonData\\lib\\site-packages\\pip\\_internal\\cli\\main.py\", line 10, in <module>\n",
      "    from pip._internal.cli.autocompletion import autocomplete\n",
      "  File \"C:\\Users\\govind_patwal\\Anaconda3\\envs\\PythonData\\lib\\site-packages\\pip\\_internal\\cli\\autocompletion.py\", line 9, in <module>\n",
      "    from pip._internal.cli.main_parser import create_main_parser\n",
      "  File \"C:\\Users\\govind_patwal\\Anaconda3\\envs\\PythonData\\lib\\site-packages\\pip\\_internal\\cli\\main_parser.py\", line 7, in <module>\n",
      "    from pip._internal.cli import cmdoptions\n",
      "  File \"C:\\Users\\govind_patwal\\Anaconda3\\envs\\PythonData\\lib\\site-packages\\pip\\_internal\\cli\\cmdoptions.py\", line 24, in <module>\n",
      "    from pip._internal.cli.progress_bars import BAR_TYPES\n",
      "  File \"C:\\Users\\govind_patwal\\Anaconda3\\envs\\PythonData\\lib\\site-packages\\pip\\_internal\\cli\\progress_bars.py\", line 12, in <module>\n",
      "    from pip._internal.utils.logging import get_indentation\n",
      "  File \"C:\\Users\\govind_patwal\\Anaconda3\\envs\\PythonData\\lib\\site-packages\\pip\\_internal\\utils\\logging.py\", line 18, in <module>\n",
      "    from pip._internal.utils.misc import ensure_dir\n",
      "  File \"C:\\Users\\govind_patwal\\Anaconda3\\envs\\PythonData\\lib\\site-packages\\pip\\_internal\\utils\\misc.py\", line 20, in <module>\n",
      "    from pip._vendor import pkg_resources\n",
      "  File \"C:\\Users\\govind_patwal\\Anaconda3\\envs\\PythonData\\lib\\site-packages\\pip\\_vendor\\pkg_resources\\__init__.py\", line 3251, in <module>\n",
      "    @_call_aside\n",
      "  File \"C:\\Users\\govind_patwal\\Anaconda3\\envs\\PythonData\\lib\\site-packages\\pip\\_vendor\\pkg_resources\\__init__.py\", line 3235, in _call_aside\n",
      "    f(*args, **kwargs)\n",
      "  File \"C:\\Users\\govind_patwal\\Anaconda3\\envs\\PythonData\\lib\\site-packages\\pip\\_vendor\\pkg_resources\\__init__.py\", line 3264, in _initialize_master_working_set\n",
      "    working_set = WorkingSet._build_master()\n",
      "  File \"C:\\Users\\govind_patwal\\Anaconda3\\envs\\PythonData\\lib\\site-packages\\pip\\_vendor\\pkg_resources\\__init__.py\", line 574, in _build_master\n",
      "    ws = cls()\n",
      "  File \"C:\\Users\\govind_patwal\\Anaconda3\\envs\\PythonData\\lib\\site-packages\\pip\\_vendor\\pkg_resources\\__init__.py\", line 567, in __init__\n",
      "    self.add_entry(entry)\n",
      "  File \"C:\\Users\\govind_patwal\\Anaconda3\\envs\\PythonData\\lib\\site-packages\\pip\\_vendor\\pkg_resources\\__init__.py\", line 623, in add_entry\n",
      "    for dist in find_distributions(entry, True):\n",
      "  File \"C:\\Users\\govind_patwal\\Anaconda3\\envs\\PythonData\\lib\\site-packages\\pip\\_vendor\\pkg_resources\\__init__.py\", line 2065, in find_on_path\n",
      "    for dist in factory(fullpath):\n",
      "  File \"C:\\Users\\govind_patwal\\Anaconda3\\envs\\PythonData\\lib\\site-packages\\pip\\_vendor\\pkg_resources\\__init__.py\", line 2135, in distributions_from_metadata\n",
      "    root, entry, metadata, precedence=DEVELOP_DIST,\n",
      "  File \"C:\\Users\\govind_patwal\\Anaconda3\\envs\\PythonData\\lib\\site-packages\\pip\\_vendor\\pkg_resources\\__init__.py\", line 2592, in from_location\n",
      "    py_version=py_version, platform=platform, **kw\n",
      "  File \"C:\\Users\\govind_patwal\\Anaconda3\\envs\\PythonData\\lib\\site-packages\\pip\\_vendor\\pkg_resources\\__init__.py\", line 2994, in _reload_version\n",
      "    md_version = self._get_version()\n",
      "  File \"C:\\Users\\govind_patwal\\Anaconda3\\envs\\PythonData\\lib\\site-packages\\pip\\_vendor\\pkg_resources\\__init__.py\", line 2772, in _get_version\n",
      "    version = _version_from_file(lines)\n",
      "  File \"C:\\Users\\govind_patwal\\Anaconda3\\envs\\PythonData\\lib\\site-packages\\pip\\_vendor\\pkg_resources\\__init__.py\", line 2556, in _version_from_file\n",
      "    line = next(iter(version_lines), '')\n",
      "  File \"C:\\Users\\govind_patwal\\Anaconda3\\envs\\PythonData\\lib\\site-packages\\pip\\_vendor\\pkg_resources\\__init__.py\", line 2767, in _get_metadata\n",
      "    for line in self.get_metadata_lines(name):\n",
      "  File \"C:\\Users\\govind_patwal\\Anaconda3\\envs\\PythonData\\lib\\site-packages\\pip\\_vendor\\pkg_resources\\__init__.py\", line 1432, in get_metadata_lines\n"
     ]
    },
    {
     "ename": "ModuleNotFoundError",
     "evalue": "No module named 'hvplot'",
     "output_type": "error",
     "traceback": [
      "\u001b[1;31m---------------------------------------------------------------------------\u001b[0m",
      "\u001b[1;31mModuleNotFoundError\u001b[0m                       Traceback (most recent call last)",
      "\u001b[1;32m<ipython-input-3-f9284d61e79e>\u001b[0m in \u001b[0;36m<module>\u001b[1;34m\u001b[0m\n\u001b[0;32m      2\u001b[0m \u001b[1;32mimport\u001b[0m \u001b[0mpandas\u001b[0m \u001b[1;32mas\u001b[0m \u001b[0mpd\u001b[0m\u001b[1;33m\u001b[0m\u001b[1;33m\u001b[0m\u001b[0m\n\u001b[0;32m      3\u001b[0m \u001b[0mget_ipython\u001b[0m\u001b[1;33m(\u001b[0m\u001b[1;33m)\u001b[0m\u001b[1;33m.\u001b[0m\u001b[0msystem\u001b[0m\u001b[1;33m(\u001b[0m\u001b[1;34m'pip install hvplot'\u001b[0m\u001b[1;33m)\u001b[0m\u001b[1;33m\u001b[0m\u001b[1;33m\u001b[0m\u001b[0m\n\u001b[1;32m----> 4\u001b[1;33m \u001b[1;32mimport\u001b[0m \u001b[0mhvplot\u001b[0m\u001b[1;33m.\u001b[0m\u001b[0mpandas\u001b[0m\u001b[1;33m\u001b[0m\u001b[1;33m\u001b[0m\u001b[0m\n\u001b[0m\u001b[0;32m      5\u001b[0m \u001b[1;32mfrom\u001b[0m \u001b[0mpath\u001b[0m \u001b[1;32mimport\u001b[0m \u001b[0mPath\u001b[0m\u001b[1;33m\u001b[0m\u001b[1;33m\u001b[0m\u001b[0m\n\u001b[0;32m      6\u001b[0m \u001b[1;32mimport\u001b[0m \u001b[0mplotly\u001b[0m\u001b[1;33m.\u001b[0m\u001b[0mexpress\u001b[0m \u001b[1;32mas\u001b[0m \u001b[0mpx\u001b[0m\u001b[1;33m\u001b[0m\u001b[1;33m\u001b[0m\u001b[0m\n",
      "\u001b[1;31mModuleNotFoundError\u001b[0m: No module named 'hvplot'"
     ]
    },
    {
     "name": "stderr",
     "output_type": "stream",
     "text": [
      "    return yield_lines(self.get_metadata(name))\n",
      "  File \"C:\\Users\\govind_patwal\\Anaconda3\\envs\\PythonData\\lib\\site-packages\\pip\\_vendor\\pkg_resources\\__init__.py\", line 1424, in get_metadata\n",
      "    return value.decode('utf-8')\n",
      "UnicodeDecodeError: 'utf-8' codec can't decode byte 0xa3 in position 9840: invalid start byte in PKG-INFO file at path: c:\\users\\govind_patwal\\anaconda3\\envs\\pythondata\\lib\\site-packages\\holoviews-1.13.4-py3.7.egg-info\\PKG-INFO\n"
     ]
    }
   ],
   "source": [
    "# Initial imports\n",
    "import pandas as pd\n",
    "!pip install hvplot\n",
    "import hvplot.pandas\n",
    "from path import Path\n",
    "import plotly.express as px\n",
    "from sklearn.preprocessing import StandardScaler, MinMaxScaler\n",
    "from sklearn.decomposition import PCA\n",
    "from sklearn.cluster import KMeans\n"
   ]
  },
  {
   "cell_type": "markdown",
   "metadata": {},
   "source": [
    "### Deliverable 1: Preprocessing the Data for PCA"
   ]
  },
  {
   "cell_type": "code",
   "execution_count": null,
   "metadata": {},
   "outputs": [],
   "source": [
    "# Load the crypto_data.csv dataset.\n",
    "path_of_file_to_read = 'crypto_data.csv'\n",
    "crypto_df = pd.read_csv(path_of_file_to_read, index_col=0)\n",
    "crypto_df"
   ]
  },
  {
   "cell_type": "code",
   "execution_count": null,
   "metadata": {},
   "outputs": [],
   "source": [
    "# Keep all the cryptocurrencies that are being traded.\n",
    "crypto_df = crypto_df.loc[(crypto_df['IsTrading'] == True)]\n",
    "crypto_df"
   ]
  },
  {
   "cell_type": "code",
   "execution_count": null,
   "metadata": {},
   "outputs": [],
   "source": [
    "# Keep all the cryptocurrencies that have a working algorithm.\n",
    "crypto_df = crypto_df.loc[(crypto_df['Algorithm'] != 'NaN') | (crypto_df['Algorithm'] != '') ]\n",
    "crypto_df"
   ]
  },
  {
   "cell_type": "code",
   "execution_count": null,
   "metadata": {},
   "outputs": [],
   "source": [
    "# Remove the \"IsTrading\" column. \n",
    "crypto_df = crypto_df.drop(['IsTrading'], axis=1)\n",
    "crypto_df"
   ]
  },
  {
   "cell_type": "code",
   "execution_count": null,
   "metadata": {},
   "outputs": [],
   "source": [
    "# Remove rows that have at least 1 null value.\n",
    "crypto_df = crypto_df.dropna()\n",
    "crypto_df"
   ]
  },
  {
   "cell_type": "code",
   "execution_count": null,
   "metadata": {},
   "outputs": [],
   "source": [
    "# Keep the rows where coins are mined.\n",
    "crypto_df = crypto_df.loc[(crypto_df['TotalCoinsMined'] > 0)]\n",
    "crypto_df"
   ]
  },
  {
   "cell_type": "code",
   "execution_count": null,
   "metadata": {},
   "outputs": [],
   "source": [
    "# Create a new DataFrame that holds only the cryptocurrencies names.\n",
    "currencies_names_df = crypto_df[[\"CoinName\"]]\n",
    "currencies_names_df"
   ]
  },
  {
   "cell_type": "code",
   "execution_count": null,
   "metadata": {},
   "outputs": [],
   "source": [
    "# Drop the 'CoinName' column since it's not going to be used on the clustering algorithm.\n",
    "crypto_df = crypto_df.drop(['CoinName'], axis=1)\n",
    "crypto_df"
   ]
  },
  {
   "cell_type": "code",
   "execution_count": null,
   "metadata": {},
   "outputs": [],
   "source": [
    "# Use get_dummies() to create variables for text features.\n",
    "X = pd.get_dummies(crypto_df, columns = ['Algorithm','ProofType'])\n",
    "X"
   ]
  },
  {
   "cell_type": "code",
   "execution_count": null,
   "metadata": {},
   "outputs": [],
   "source": [
    "# Standardize the data with StandardScaler().\n",
    "X = StandardScaler().fit_transform(X)\n",
    "X"
   ]
  },
  {
   "cell_type": "markdown",
   "metadata": {},
   "source": [
    "### Deliverable 2: Reducing Data Dimensions Using PCA"
   ]
  },
  {
   "cell_type": "code",
   "execution_count": null,
   "metadata": {},
   "outputs": [],
   "source": [
    "# Using PCA to reduce dimension to three principal components.\n",
    "pca = PCA(n_components=3)\n",
    "crypto_pca = pca.fit_transform(X)\n",
    "crypto_pca"
   ]
  },
  {
   "cell_type": "code",
   "execution_count": null,
   "metadata": {},
   "outputs": [],
   "source": [
    "# Create a DataFrame with the three principal components.\n",
    "pcs_df = pd.DataFrame(\n",
    "    data=crypto_pca,columns=[\"PC 1\", \"PC 2\", \"PC 3\"], index = crypto_df.index\n",
    ")\n",
    "pcs_df"
   ]
  },
  {
   "cell_type": "markdown",
   "metadata": {},
   "source": [
    "### Deliverable 3: Clustering Crytocurrencies Using K-Means\n",
    "\n",
    "#### Finding the Best Value for `k` Using the Elbow Curve"
   ]
  },
  {
   "cell_type": "code",
   "execution_count": null,
   "metadata": {},
   "outputs": [],
   "source": [
    "# Create an elbow curve to find the best value for K.\n",
    "inertia = []\n",
    "k = list(range(1, 11))\n",
    "\n",
    "# Calculate the inertia for the range of K values\n",
    "for i in k:\n",
    "    km = KMeans(n_clusters=i, random_state=0)\n",
    "    km.fit(pcs_df)\n",
    "    inertia.append(km.inertia_)\n",
    "\n",
    "# Create the elbow curve\n",
    "elbow_data = {\"k\": k, \"inertia\": inertia}\n",
    "df_elbow = pd.DataFrame(elbow_data)\n",
    "df_elbow.hvplot.line(x=\"k\", y=\"inertia\", xticks=k, title=\"Elbow Curve\")\n"
   ]
  },
  {
   "cell_type": "markdown",
   "metadata": {},
   "source": [
    "Running K-Means with `k=4`"
   ]
  },
  {
   "cell_type": "code",
   "execution_count": null,
   "metadata": {},
   "outputs": [],
   "source": [
    "# Initialize the K-Means model.\n",
    "model = KMeans(n_clusters=4, random_state=0)\n",
    "\n",
    "# Fit the model\n",
    "model.fit(pcs_df)\n",
    "\n",
    "# Predict clusters\n",
    "predictions = model.predict(pcs_df)\n",
    "predictions"
   ]
  },
  {
   "cell_type": "code",
   "execution_count": null,
   "metadata": {},
   "outputs": [],
   "source": [
    "# Create a new DataFrame including predicted clusters and cryptocurrencies features.\n",
    "# Concatentate the crypto_df and pcs_df DataFrames on the same columns.\n",
    "clustered_df = pd.concat([crypto_df,pcs_df], axis=1)\n",
    "\n",
    "#  Add a new column, \"CoinName\" to the clustered_df DataFrame that holds the names of the cryptocurrencies. \n",
    "clustered_df['CoinName'] = currencies_names_df[\"CoinName\"]\n",
    "\n",
    "#  Add a new column, \"Class\" to the clustered_df DataFrame that holds the predictions.\n",
    "clustered_df[\"Class\"] = model.labels_\n",
    "\n",
    "# Print the shape of the clustered_df\n",
    "print(clustered_df.shape)\n",
    "clustered_df.head(10)"
   ]
  },
  {
   "cell_type": "markdown",
   "metadata": {},
   "source": [
    "### Deliverable 4: Visualizing Cryptocurrencies Results\n",
    "\n",
    "#### 3D-Scatter with Clusters"
   ]
  },
  {
   "cell_type": "code",
   "execution_count": null,
   "metadata": {},
   "outputs": [],
   "source": [
    "# Creating a 3D-Scatter with the PCA data and the clusters\n",
    "fig = px.scatter_3d(\n",
    "    clustered_df,\n",
    "    x=\"PC 1\",\n",
    "    y=\"PC 2\",\n",
    "    z=\"PC 3\",\n",
    "    title=\"3D Scatter for K = 4\",\n",
    "    color=\"Class\",\n",
    "    symbol=\"Class\",\n",
    "    width=800,\n",
    "    hover_name=\"CoinName\",\n",
    "    hover_data=[\"Algorithm\"],\n",
    ")\n",
    "fig.update_layout(legend=dict(x=0, y=1))\n",
    "fig.show()\n"
   ]
  },
  {
   "cell_type": "code",
   "execution_count": null,
   "metadata": {},
   "outputs": [],
   "source": [
    "# Create a table with tradable cryptocurrencies.\n",
    "clustered_df.hvplot.table(columns=['CoinName', 'Algorithm', 'ProofType', 'TotalCoinSupply', 'TotalCoinsMined', 'Class'], sortable=True, selectable=True)"
   ]
  },
  {
   "cell_type": "code",
   "execution_count": null,
   "metadata": {},
   "outputs": [],
   "source": [
    "# Print the total number of tradable cryptocurrencies.\n",
    "Dataframe_length = len(clustered_df)\n",
    "print(f'There are {Dataframe_length} tradable cryptocurrencies.')"
   ]
  },
  {
   "cell_type": "code",
   "execution_count": null,
   "metadata": {},
   "outputs": [],
   "source": [
    "# Scaling data to create the scatter plot with tradable cryptocurrencies.\n",
    "clustered_df_scaled = MinMaxScaler().fit_transform(clustered_df[[\"TotalCoinSupply\", \"TotalCoinsMined\"]])\n",
    "clustered_df_scaled"
   ]
  },
  {
   "cell_type": "code",
   "execution_count": null,
   "metadata": {},
   "outputs": [],
   "source": [
    "# Create a new DataFrame that has the scaled data with the clustered_df DataFrame index.\n",
    "plot_df = pd.DataFrame(data=clustered_df_scaled, columns=[\"TotalCoinSupply\", \"TotalCoinsMined\"], index = clustered_df.index)\n",
    "\n",
    "# Add the \"CoinName\" column from the clustered_df DataFrame to the new DataFrame.\n",
    "plot_df[\"CoinName\"] = clustered_df[\"CoinName\"]\n",
    "\n",
    "# Add the \"Class\" column from the clustered_df DataFrame to the new DataFrame. \n",
    "plot_df[\"Class\"] = clustered_df[\"Class\"]\n",
    "\n",
    "plot_df.head(10)"
   ]
  },
  {
   "cell_type": "code",
   "execution_count": null,
   "metadata": {},
   "outputs": [],
   "source": [
    "# Create a hvplot.scatter plot using x=\"TotalCoinsMined\" and y=\"TotalCoinSupply\".\n",
    "plot_df.hvplot.scatter(\n",
    "    x=\"TotalCoinsMined\",\n",
    "    y=\"TotalCoinSupply\",\n",
    "    hover_cols=[\"CoinName\"],\n",
    "    by=\"Class\",\n",
    ")"
   ]
  },
  {
   "cell_type": "code",
   "execution_count": null,
   "metadata": {},
   "outputs": [],
   "source": []
  }
 ],
 "metadata": {
  "file_extension": ".py",
  "kernelspec": {
   "display_name": "mlenv",
   "language": "python",
   "name": "mlenv"
  },
  "language_info": {
   "codemirror_mode": {
    "name": "ipython",
    "version": 3
   },
   "file_extension": ".py",
   "mimetype": "text/x-python",
   "name": "python",
   "nbconvert_exporter": "python",
   "pygments_lexer": "ipython3",
   "version": "3.7.7"
  },
  "latex_envs": {
   "LaTeX_envs_menu_present": true,
   "autoclose": false,
   "autocomplete": true,
   "bibliofile": "biblio.bib",
   "cite_by": "apalike",
   "current_citInitial": 1,
   "eqLabelWithNumbers": true,
   "eqNumInitial": 1,
   "hotkeys": {
    "equation": "Ctrl-E",
    "itemize": "Ctrl-I"
   },
   "labels_anchors": false,
   "latex_user_defs": false,
   "report_style_numbering": false,
   "user_envs_cfg": false
  },
  "mimetype": "text/x-python",
  "name": "python",
  "npconvert_exporter": "python",
  "pygments_lexer": "ipython3",
  "version": 3
 },
 "nbformat": 4,
 "nbformat_minor": 2
}
