{
 "cells": [
  {
   "cell_type": "code",
   "execution_count": 1,
   "metadata": {},
   "outputs": [
    {
     "name": "stderr",
     "output_type": "stream",
     "text": [
      "C:\\Users\\16474\\anaconda3\\envs\\PythonData\\lib\\site-packages\\tensorflow\\python\\framework\\dtypes.py:516: FutureWarning: Passing (type, 1) or '1type' as a synonym of type is deprecated; in a future version of numpy, it will be understood as (type, (1,)) / '(1,)type'.\n",
      "  _np_qint8 = np.dtype([(\"qint8\", np.int8, 1)])\n",
      "C:\\Users\\16474\\anaconda3\\envs\\PythonData\\lib\\site-packages\\tensorflow\\python\\framework\\dtypes.py:517: FutureWarning: Passing (type, 1) or '1type' as a synonym of type is deprecated; in a future version of numpy, it will be understood as (type, (1,)) / '(1,)type'.\n",
      "  _np_quint8 = np.dtype([(\"quint8\", np.uint8, 1)])\n",
      "C:\\Users\\16474\\anaconda3\\envs\\PythonData\\lib\\site-packages\\tensorflow\\python\\framework\\dtypes.py:518: FutureWarning: Passing (type, 1) or '1type' as a synonym of type is deprecated; in a future version of numpy, it will be understood as (type, (1,)) / '(1,)type'.\n",
      "  _np_qint16 = np.dtype([(\"qint16\", np.int16, 1)])\n",
      "C:\\Users\\16474\\anaconda3\\envs\\PythonData\\lib\\site-packages\\tensorflow\\python\\framework\\dtypes.py:519: FutureWarning: Passing (type, 1) or '1type' as a synonym of type is deprecated; in a future version of numpy, it will be understood as (type, (1,)) / '(1,)type'.\n",
      "  _np_quint16 = np.dtype([(\"quint16\", np.uint16, 1)])\n",
      "C:\\Users\\16474\\anaconda3\\envs\\PythonData\\lib\\site-packages\\tensorflow\\python\\framework\\dtypes.py:520: FutureWarning: Passing (type, 1) or '1type' as a synonym of type is deprecated; in a future version of numpy, it will be understood as (type, (1,)) / '(1,)type'.\n",
      "  _np_qint32 = np.dtype([(\"qint32\", np.int32, 1)])\n",
      "C:\\Users\\16474\\anaconda3\\envs\\PythonData\\lib\\site-packages\\tensorflow\\python\\framework\\dtypes.py:525: FutureWarning: Passing (type, 1) or '1type' as a synonym of type is deprecated; in a future version of numpy, it will be understood as (type, (1,)) / '(1,)type'.\n",
      "  np_resource = np.dtype([(\"resource\", np.ubyte, 1)])\n",
      "C:\\Users\\16474\\anaconda3\\envs\\PythonData\\lib\\site-packages\\tensorboard\\compat\\tensorflow_stub\\dtypes.py:541: FutureWarning: Passing (type, 1) or '1type' as a synonym of type is deprecated; in a future version of numpy, it will be understood as (type, (1,)) / '(1,)type'.\n",
      "  _np_qint8 = np.dtype([(\"qint8\", np.int8, 1)])\n",
      "C:\\Users\\16474\\anaconda3\\envs\\PythonData\\lib\\site-packages\\tensorboard\\compat\\tensorflow_stub\\dtypes.py:542: FutureWarning: Passing (type, 1) or '1type' as a synonym of type is deprecated; in a future version of numpy, it will be understood as (type, (1,)) / '(1,)type'.\n",
      "  _np_quint8 = np.dtype([(\"quint8\", np.uint8, 1)])\n",
      "C:\\Users\\16474\\anaconda3\\envs\\PythonData\\lib\\site-packages\\tensorboard\\compat\\tensorflow_stub\\dtypes.py:543: FutureWarning: Passing (type, 1) or '1type' as a synonym of type is deprecated; in a future version of numpy, it will be understood as (type, (1,)) / '(1,)type'.\n",
      "  _np_qint16 = np.dtype([(\"qint16\", np.int16, 1)])\n",
      "C:\\Users\\16474\\anaconda3\\envs\\PythonData\\lib\\site-packages\\tensorboard\\compat\\tensorflow_stub\\dtypes.py:544: FutureWarning: Passing (type, 1) or '1type' as a synonym of type is deprecated; in a future version of numpy, it will be understood as (type, (1,)) / '(1,)type'.\n",
      "  _np_quint16 = np.dtype([(\"quint16\", np.uint16, 1)])\n",
      "C:\\Users\\16474\\anaconda3\\envs\\PythonData\\lib\\site-packages\\tensorboard\\compat\\tensorflow_stub\\dtypes.py:545: FutureWarning: Passing (type, 1) or '1type' as a synonym of type is deprecated; in a future version of numpy, it will be understood as (type, (1,)) / '(1,)type'.\n",
      "  _np_qint32 = np.dtype([(\"qint32\", np.int32, 1)])\n",
      "C:\\Users\\16474\\anaconda3\\envs\\PythonData\\lib\\site-packages\\tensorboard\\compat\\tensorflow_stub\\dtypes.py:550: FutureWarning: Passing (type, 1) or '1type' as a synonym of type is deprecated; in a future version of numpy, it will be understood as (type, (1,)) / '(1,)type'.\n",
      "  np_resource = np.dtype([(\"resource\", np.ubyte, 1)])\n"
     ]
    }
   ],
   "source": [
    "# Import our dependencies\n",
    "import pandas as pd\n",
    "import matplotlib as plt\n",
    "from sklearn.datasets import make_blobs\n",
    "import sklearn as skl\n",
    "import tensorflow as tf"
   ]
  },
  {
   "cell_type": "code",
   "execution_count": 2,
   "metadata": {},
   "outputs": [
    {
     "data": {
      "text/plain": [
       "<matplotlib.axes._subplots.AxesSubplot at 0x15b16ac6848>"
      ]
     },
     "execution_count": 2,
     "metadata": {},
     "output_type": "execute_result"
    },
    {
     "data": {
      "image/png": "[encoded data removed]",
      "text/plain": [
       "<Figure size 432x288 with 2 Axes>"
      ]
     },
     "metadata": {
      "needs_background": "light"
     },
     "output_type": "display_data"
    }
   ],
   "source": [
    "# Generate dummy dataset\n",
    "X, y = make_blobs(n_samples=1000, centers=2, n_features=2, random_state=78)\n",
    "\n",
    "# Creating a DataFrame with the dummy data\n",
    "df = pd.DataFrame(X, columns=[\"Feature 1\", \"Feature 2\"])\n",
    "df[\"Target\"] = y\n",
    "\n",
    "# Plotting the dummy data\n",
    "df.plot.scatter(x=\"Feature 1\", y=\"Feature 2\", c=\"Target\", colormap=\"winter\")\n"
   ]
  },
  {
   "cell_type": "code",
   "execution_count": 3,
   "metadata": {},
   "outputs": [],
   "source": [
    "# Use sklearn to split dataset\n",
    "from sklearn.model_selection import train_test_split\n",
    "X_train, X_test, y_train, y_test = train_test_split(X, y, random_state=78)"
   ]
  },
  {
   "cell_type": "code",
   "execution_count": 4,
   "metadata": {},
   "outputs": [],
   "source": [
    "# Create scaler instance\n",
    "X_scaler = skl.preprocessing.StandardScaler()\n",
    "\n",
    "# Fit the scaler\n",
    "X_scaler.fit(X_train)\n",
    "\n",
    "# Scale the data\n",
    "X_train_scaled = X_scaler.transform(X_train)\n",
    "X_test_scaled = X_scaler.transform(X_test)"
   ]
  },
  {
   "cell_type": "code",
   "execution_count": 5,
   "metadata": {},
   "outputs": [],
   "source": [
    "# Create the Keras Sequential model\n",
    "nn_model = tf.keras.models.Sequential()"
   ]
  },
  {
   "cell_type": "code",
   "execution_count": 6,
   "metadata": {},
   "outputs": [
    {
     "name": "stdout",
     "output_type": "stream",
     "text": [
      "WARNING:tensorflow:From C:\\Users\\16474\\anaconda3\\envs\\PythonData\\lib\\site-packages\\tensorflow\\python\\ops\\init_ops.py:1251: calling VarianceScaling.__init__ (from tensorflow.python.ops.init_ops) with dtype is deprecated and will be removed in a future version.\n",
      "Instructions for updating:\n",
      "Call initializer instance with the dtype argument instead of passing it to the constructor\n"
     ]
    }
   ],
   "source": [
    "# Add our first Dense layer, including the input layer\n",
    "nn_model.add(tf.keras.layers.Dense(units=1, activation=\"relu\", input_dim=2))"
   ]
  },
  {
   "cell_type": "code",
   "execution_count": 7,
   "metadata": {},
   "outputs": [],
   "source": [
    "# Add the output layer that uses a probability activation function\n",
    "nn_model.add(tf.keras.layers.Dense(units=1, activation=\"sigmoid\"))"
   ]
  },
  {
   "cell_type": "code",
   "execution_count": 8,
   "metadata": {},
   "outputs": [
    {
     "name": "stdout",
     "output_type": "stream",
     "text": [
      "Model: \"sequential\"\n",
      "_________________________________________________________________\n",
      "Layer (type)                 Output Shape              Param #   \n",
      "=================================================================\n",
      "dense (Dense)                (None, 1)                 3         \n",
      "_________________________________________________________________\n",
      "dense_1 (Dense)              (None, 1)                 2         \n",
      "=================================================================\n",
      "Total params: 5\n",
      "Trainable params: 5\n",
      "Non-trainable params: 0\n",
      "_________________________________________________________________\n"
     ]
    }
   ],
   "source": [
    "# Check the structure of the Sequential model\n",
    "nn_model.summary()"
   ]
  },
  {
   "cell_type": "code",
   "execution_count": 9,
   "metadata": {},
   "outputs": [
    {
     "name": "stdout",
     "output_type": "stream",
     "text": [
      "WARNING:tensorflow:From C:\\Users\\16474\\anaconda3\\envs\\PythonData\\lib\\site-packages\\tensorflow\\python\\ops\\nn_impl.py:180: add_dispatch_support.<locals>.wrapper (from tensorflow.python.ops.array_ops) is deprecated and will be removed in a future version.\n",
      "Instructions for updating:\n",
      "Use tf.where in 2.0, which has the same broadcast rule as np.where\n"
     ]
    }
   ],
   "source": [
    "# Compile the Sequential model together and customize metrics\n",
    "nn_model.compile(loss=\"binary_crossentropy\", optimizer=\"adam\", metrics=[\"accuracy\"])"
   ]
  },
  {
   "cell_type": "code",
   "execution_count": 10,
   "metadata": {},
   "outputs": [
    {
     "name": "stdout",
     "output_type": "stream",
     "text": [
      "Epoch 1/100\n",
      "750/750 [==============================] - 0s 458us/sample - loss: 0.5273 - acc: 0.9960\n",
      "Epoch 2/100\n",
      "750/750 [==============================] - 0s 63us/sample - loss: 0.5150 - acc: 0.9960\n",
      "Epoch 3/100\n",
      "750/750 [==============================] - 0s 64us/sample - loss: 0.5027 - acc: 0.9960\n",
      "Epoch 4/100\n",
      "750/750 [==============================] - 0s 73us/sample - loss: 0.4904 - acc: 0.9960\n",
      "Epoch 5/100\n",
      "750/750 [==============================] - 0s 66us/sample - loss: 0.4782 - acc: 0.9960\n",
      "Epoch 6/100\n",
      "750/750 [==============================] - 0s 83us/sample - loss: 0.4661 - acc: 0.9960\n",
      "Epoch 7/100\n",
      "750/750 [==============================] - 0s 93us/sample - loss: 0.4542 - acc: 0.9960\n",
      "Epoch 8/100\n",
      "750/750 [==============================] - 0s 94us/sample - loss: 0.4426 - acc: 0.9960\n",
      "Epoch 9/100\n",
      "750/750 [==============================] - 0s 101us/sample - loss: 0.4312 - acc: 0.9960\n",
      "Epoch 10/100\n",
      "750/750 [==============================] - 0s 66us/sample - loss: 0.4200 - acc: 0.9960\n",
      "Epoch 11/100\n",
      "750/750 [==============================] - 0s 57us/sample - loss: 0.4091 - acc: 0.9960\n",
      "Epoch 12/100\n",
      "750/750 [==============================] - 0s 64us/sample - loss: 0.3985 - acc: 0.9960\n",
      "Epoch 13/100\n",
      "750/750 [==============================] - 0s 84us/sample - loss: 0.3883 - acc: 0.9960\n",
      "Epoch 14/100\n",
      "750/750 [==============================] - 0s 105us/sample - loss: 0.3783 - acc: 0.9960\n",
      "Epoch 15/100\n",
      "750/750 [==============================] - 0s 70us/sample - loss: 0.3686 - acc: 0.9960\n",
      "Epoch 16/100\n",
      "750/750 [==============================] - 0s 53us/sample - loss: 0.3592 - acc: 0.9960\n",
      "Epoch 17/100\n",
      "750/750 [==============================] - 0s 58us/sample - loss: 0.3501 - acc: 0.9960\n",
      "Epoch 18/100\n",
      "750/750 [==============================] - 0s 72us/sample - loss: 0.3414 - acc: 0.9960\n",
      "Epoch 19/100\n",
      "750/750 [==============================] - 0s 84us/sample - loss: 0.3329 - acc: 0.9960\n",
      "Epoch 20/100\n",
      "750/750 [==============================] - 0s 98us/sample - loss: 0.3247 - acc: 0.9960\n",
      "Epoch 21/100\n",
      "750/750 [==============================] - 0s 60us/sample - loss: 0.3167 - acc: 0.9960\n",
      "Epoch 22/100\n",
      "750/750 [==============================] - 0s 57us/sample - loss: 0.3091 - acc: 0.9960\n",
      "Epoch 23/100\n",
      "750/750 [==============================] - 0s 78us/sample - loss: 0.3017 - acc: 0.9960\n",
      "Epoch 24/100\n",
      "750/750 [==============================] - 0s 81us/sample - loss: 0.2945 - acc: 0.9960\n",
      "Epoch 25/100\n",
      "750/750 [==============================] - 0s 88us/sample - loss: 0.2876 - acc: 0.9960\n",
      "Epoch 26/100\n",
      "750/750 [==============================] - 0s 82us/sample - loss: 0.2809 - acc: 0.9960\n",
      "Epoch 27/100\n",
      "750/750 [==============================] - 0s 80us/sample - loss: 0.2744 - acc: 0.9960\n",
      "Epoch 28/100\n",
      "750/750 [==============================] - 0s 106us/sample - loss: 0.2682 - acc: 0.9960\n",
      "Epoch 29/100\n",
      "750/750 [==============================] - 0s 92us/sample - loss: 0.2621 - acc: 0.9960\n",
      "Epoch 30/100\n",
      "750/750 [==============================] - 0s 69us/sample - loss: 0.2562 - acc: 0.9960\n",
      "Epoch 31/100\n",
      "750/750 [==============================] - 0s 66us/sample - loss: 0.2505 - acc: 0.9960\n",
      "Epoch 32/100\n",
      "750/750 [==============================] - 0s 64us/sample - loss: 0.2450 - acc: 0.9960\n",
      "Epoch 33/100\n",
      "750/750 [==============================] - 0s 89us/sample - loss: 0.2397 - acc: 0.9960\n",
      "Epoch 34/100\n",
      "750/750 [==============================] - 0s 82us/sample - loss: 0.2345 - acc: 0.9960\n",
      "Epoch 35/100\n",
      "750/750 [==============================] - 0s 65us/sample - loss: 0.2295 - acc: 0.9973\n",
      "Epoch 36/100\n",
      "750/750 [==============================] - 0s 62us/sample - loss: 0.2246 - acc: 0.9973\n",
      "Epoch 37/100\n",
      "750/750 [==============================] - 0s 62us/sample - loss: 0.2198 - acc: 0.9987\n",
      "Epoch 38/100\n",
      "750/750 [==============================] - 0s 81us/sample - loss: 0.2152 - acc: 1.0000\n",
      "Epoch 39/100\n",
      "750/750 [==============================] - 0s 96us/sample - loss: 0.2107 - acc: 1.0000\n",
      "Epoch 40/100\n",
      "750/750 [==============================] - 0s 72us/sample - loss: 0.2064 - acc: 1.0000\n",
      "Epoch 41/100\n",
      "750/750 [==============================] - 0s 70us/sample - loss: 0.2021 - acc: 1.0000\n",
      "Epoch 42/100\n",
      "750/750 [==============================] - 0s 99us/sample - loss: 0.1980 - acc: 1.0000\n",
      "Epoch 43/100\n",
      "750/750 [==============================] - 0s 97us/sample - loss: 0.1940 - acc: 1.0000\n",
      "Epoch 44/100\n",
      "750/750 [==============================] - 0s 84us/sample - loss: 0.1901 - acc: 1.0000\n",
      "Epoch 45/100\n",
      "750/750 [==============================] - 0s 89us/sample - loss: 0.1863 - acc: 1.0000\n",
      "Epoch 46/100\n",
      "750/750 [==============================] - 0s 80us/sample - loss: 0.1826 - acc: 1.0000\n",
      "Epoch 47/100\n",
      "750/750 [==============================] - 0s 97us/sample - loss: 0.1791 - acc: 1.0000\n",
      "Epoch 48/100\n",
      "750/750 [==============================] - 0s 89us/sample - loss: 0.1755 - acc: 1.0000\n",
      "Epoch 49/100\n",
      "750/750 [==============================] - 0s 64us/sample - loss: 0.1722 - acc: 1.0000\n",
      "Epoch 50/100\n",
      "750/750 [==============================] - 0s 68us/sample - loss: 0.1688 - acc: 1.0000\n",
      "Epoch 51/100\n",
      "750/750 [==============================] - 0s 90us/sample - loss: 0.1656 - acc: 1.0000\n",
      "Epoch 52/100\n",
      "750/750 [==============================] - 0s 90us/sample - loss: 0.1624 - acc: 1.0000\n",
      "Epoch 53/100\n",
      "750/750 [==============================] - 0s 82us/sample - loss: 0.1594 - acc: 1.0000\n",
      "Epoch 54/100\n",
      "750/750 [==============================] - 0s 78us/sample - loss: 0.1564 - acc: 1.0000\n",
      "Epoch 55/100\n",
      "750/750 [==============================] - 0s 78us/sample - loss: 0.1535 - acc: 1.0000\n",
      "Epoch 56/100\n",
      "750/750 [==============================] - 0s 53us/sample - loss: 0.1506 - acc: 1.0000\n",
      "Epoch 57/100\n",
      "750/750 [==============================] - 0s 67us/sample - loss: 0.1478 - acc: 1.0000\n",
      "Epoch 58/100\n",
      "750/750 [==============================] - 0s 70us/sample - loss: 0.1451 - acc: 1.0000\n",
      "Epoch 59/100\n",
      "750/750 [==============================] - 0s 83us/sample - loss: 0.1425 - acc: 1.0000\n",
      "Epoch 60/100\n",
      "750/750 [==============================] - 0s 77us/sample - loss: 0.1399 - acc: 1.0000\n",
      "Epoch 61/100\n",
      "750/750 [==============================] - 0s 80us/sample - loss: 0.1374 - acc: 1.0000\n",
      "Epoch 62/100\n",
      "750/750 [==============================] - 0s 65us/sample - loss: 0.1350 - acc: 1.0000\n",
      "Epoch 63/100\n",
      "750/750 [==============================] - 0s 72us/sample - loss: 0.1326 - acc: 1.0000\n",
      "Epoch 64/100\n",
      "750/750 [==============================] - 0s 53us/sample - loss: 0.1303 - acc: 1.0000\n",
      "Epoch 65/100\n",
      "750/750 [==============================] - 0s 68us/sample - loss: 0.1280 - acc: 1.0000\n",
      "Epoch 66/100\n",
      "750/750 [==============================] - 0s 66us/sample - loss: 0.1258 - acc: 1.0000\n",
      "Epoch 67/100\n",
      "750/750 [==============================] - 0s 69us/sample - loss: 0.1236 - acc: 1.0000\n",
      "Epoch 68/100\n",
      "750/750 [==============================] - 0s 59us/sample - loss: 0.1215 - acc: 1.0000\n",
      "Epoch 69/100\n",
      "750/750 [==============================] - 0s 57us/sample - loss: 0.1194 - acc: 1.0000\n",
      "Epoch 70/100\n",
      "750/750 [==============================] - 0s 57us/sample - loss: 0.1174 - acc: 1.0000\n",
      "Epoch 71/100\n",
      "750/750 [==============================] - 0s 65us/sample - loss: 0.1154 - acc: 1.0000\n",
      "Epoch 72/100\n",
      "750/750 [==============================] - 0s 64us/sample - loss: 0.1134 - acc: 1.0000\n",
      "Epoch 73/100\n",
      "750/750 [==============================] - 0s 56us/sample - loss: 0.1115 - acc: 1.0000\n",
      "Epoch 74/100\n",
      "750/750 [==============================] - 0s 61us/sample - loss: 0.1097 - acc: 1.0000\n",
      "Epoch 75/100\n",
      "750/750 [==============================] - 0s 65us/sample - loss: 0.1079 - acc: 1.0000\n",
      "Epoch 76/100\n",
      "750/750 [==============================] - 0s 55us/sample - loss: 0.1061 - acc: 1.0000\n",
      "Epoch 77/100\n",
      "750/750 [==============================] - 0s 57us/sample - loss: 0.1043 - acc: 1.0000\n",
      "Epoch 78/100\n",
      "750/750 [==============================] - 0s 84us/sample - loss: 0.1026 - acc: 1.0000\n",
      "Epoch 79/100\n",
      "750/750 [==============================] - 0s 86us/sample - loss: 0.1010 - acc: 1.0000\n",
      "Epoch 80/100\n",
      "750/750 [==============================] - 0s 82us/sample - loss: 0.0993 - acc: 1.0000\n",
      "Epoch 81/100\n",
      "750/750 [==============================] - 0s 56us/sample - loss: 0.0977 - acc: 1.0000\n",
      "Epoch 82/100\n",
      "750/750 [==============================] - 0s 65us/sample - loss: 0.0962 - acc: 1.0000\n"
     ]
    },
    {
     "name": "stdout",
     "output_type": "stream",
     "text": [
      "Epoch 83/100\n",
      "750/750 [==============================] - 0s 54us/sample - loss: 0.0946 - acc: 1.0000\n",
      "Epoch 84/100\n",
      "750/750 [==============================] - 0s 60us/sample - loss: 0.0931 - acc: 1.0000\n",
      "Epoch 85/100\n",
      "750/750 [==============================] - 0s 70us/sample - loss: 0.0917 - acc: 1.0000\n",
      "Epoch 86/100\n",
      "750/750 [==============================] - 0s 78us/sample - loss: 0.0903 - acc: 1.0000\n",
      "Epoch 87/100\n",
      "750/750 [==============================] - 0s 67us/sample - loss: 0.0888 - acc: 1.0000\n",
      "Epoch 88/100\n",
      "750/750 [==============================] - 0s 69us/sample - loss: 0.0875 - acc: 1.0000\n",
      "Epoch 89/100\n",
      "750/750 [==============================] - 0s 58us/sample - loss: 0.0861 - acc: 1.0000\n",
      "Epoch 90/100\n",
      "750/750 [==============================] - 0s 59us/sample - loss: 0.0848 - acc: 1.0000\n",
      "Epoch 91/100\n",
      "750/750 [==============================] - 0s 55us/sample - loss: 0.0835 - acc: 1.0000\n",
      "Epoch 92/100\n",
      "750/750 [==============================] - 0s 58us/sample - loss: 0.0822 - acc: 1.0000\n",
      "Epoch 93/100\n",
      "750/750 [==============================] - 0s 66us/sample - loss: 0.0809 - acc: 1.0000\n",
      "Epoch 94/100\n",
      "750/750 [==============================] - 0s 57us/sample - loss: 0.0797 - acc: 1.0000\n",
      "Epoch 95/100\n",
      "750/750 [==============================] - 0s 59us/sample - loss: 0.0785 - acc: 1.0000\n",
      "Epoch 96/100\n",
      "750/750 [==============================] - 0s 60us/sample - loss: 0.0774 - acc: 1.0000\n",
      "Epoch 97/100\n",
      "750/750 [==============================] - 0s 57us/sample - loss: 0.0762 - acc: 1.0000\n",
      "Epoch 98/100\n",
      "750/750 [==============================] - 0s 58us/sample - loss: 0.0751 - acc: 1.0000\n",
      "Epoch 99/100\n",
      "750/750 [==============================] - 0s 64us/sample - loss: 0.0740 - acc: 1.0000\n",
      "Epoch 100/100\n",
      "750/750 [==============================] - 0s 57us/sample - loss: 0.0729 - acc: 1.0000\n"
     ]
    }
   ],
   "source": [
    "# Fit the model to the training data\n",
    "fit_model = nn_model.fit(X_train_scaled, y_train, epochs=100)"
   ]
  },
  {
   "cell_type": "code",
   "execution_count": 11,
   "metadata": {},
   "outputs": [
    {
     "data": {
      "text/plain": [
       "<matplotlib.axes._subplots.AxesSubplot at 0x15b17b336c8>"
      ]
     },
     "execution_count": 11,
     "metadata": {},
     "output_type": "execute_result"
    },
    {
     "data": {
      "image/png": "[encoded data removed]",
      "text/plain": [
       "<Figure size 432x288 with 1 Axes>"
      ]
     },
     "metadata": {
      "needs_background": "light"
     },
     "output_type": "display_data"
    }
   ],
   "source": [
    "# Create a DataFrame containing training history\n",
    "history_df = pd.DataFrame(fit_model.history, index=range(1,len(fit_model.history[\"loss\"])+1))\n",
    "\n",
    "# Plot the loss\n",
    "history_df.plot(y=\"loss\")"
   ]
  },
  {
   "cell_type": "code",
   "execution_count": 12,
   "metadata": {},
   "outputs": [
    {
     "data": {
      "text/plain": [
       "<matplotlib.axes._subplots.AxesSubplot at 0x15b1a0b7dc8>"
      ]
     },
     "execution_count": 12,
     "metadata": {},
     "output_type": "execute_result"
    },
    {
     "data": {
      "image/png": "[encoded data removed]",
      "text/plain": [
       "<Figure size 432x288 with 1 Axes>"
      ]
     },
     "metadata": {
      "needs_background": "light"
     },
     "output_type": "display_data"
    }
   ],
   "source": [
    "# Plot the accuracy\n",
    "history_df.plot(y=\"acc\")"
   ]
  },
  {
   "cell_type": "code",
   "execution_count": 13,
   "metadata": {},
   "outputs": [
    {
     "name": "stdout",
     "output_type": "stream",
     "text": [
      "250/250 - 0s - loss: 0.0678 - acc: 1.0000\n",
      "Loss: 0.06779825693368911, Accuracy: 1.0\n"
     ]
    }
   ],
   "source": [
    "# Evaluate the model using the test data\n",
    "model_loss, model_accuracy = nn_model.evaluate(X_test_scaled,y_test,verbose=2)\n",
    "print(f\"Loss: {model_loss}, Accuracy: {model_accuracy}\")"
   ]
  },
  {
   "cell_type": "code",
   "execution_count": 14,
   "metadata": {},
   "outputs": [
    {
     "data": {
      "text/plain": [
       "array([[0],\n",
       "       [1],\n",
       "       [0],\n",
       "       [1],\n",
       "       [0],\n",
       "       [0],\n",
       "       [1],\n",
       "       [1],\n",
       "       [1],\n",
       "       [0]])"
      ]
     },
     "execution_count": 14,
     "metadata": {},
     "output_type": "execute_result"
    }
   ],
   "source": [
    "# Predict the classification of a new set of blob data\n",
    "new_X, new_Y = make_blobs(n_samples=10, centers=2, n_features=2, random_state=78)\n",
    "new_X_scaled = X_scaler.transform(new_X)\n",
    "nn_model.predict_classes(new_X_scaled)"
   ]
  },
  {
   "cell_type": "code",
   "execution_count": null,
   "metadata": {},
   "outputs": [],
   "source": []
  }
 ],
 "metadata": {
  "kernelspec": {
   "display_name": "Python 3",
   "language": "python",
   "name": "python3"
  },
  "language_info": {
   "codemirror_mode": {
    "name": "ipython",
    "version": 3
   },
   "file_extension": ".py",
   "mimetype": "text/x-python",
   "name": "python",
   "nbconvert_exporter": "python",
   "pygments_lexer": "ipython3",
   "version": "3.7.7"
  }
 },
 "nbformat": 4,
 "nbformat_minor": 4
}
