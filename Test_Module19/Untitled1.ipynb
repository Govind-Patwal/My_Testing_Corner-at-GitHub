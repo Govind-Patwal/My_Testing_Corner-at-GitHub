{
 "cells": [
  {
   "cell_type": "code",
   "execution_count": 1,
   "metadata": {},
   "outputs": [
    {
     "name": "stderr",
     "output_type": "stream",
     "text": [
      "C:\\Users\\16474\\anaconda3\\envs\\PythonData\\lib\\site-packages\\tensorflow\\python\\framework\\dtypes.py:516: FutureWarning: Passing (type, 1) or '1type' as a synonym of type is deprecated; in a future version of numpy, it will be understood as (type, (1,)) / '(1,)type'.\n",
      "  _np_qint8 = np.dtype([(\"qint8\", np.int8, 1)])\n",
      "C:\\Users\\16474\\anaconda3\\envs\\PythonData\\lib\\site-packages\\tensorflow\\python\\framework\\dtypes.py:517: FutureWarning: Passing (type, 1) or '1type' as a synonym of type is deprecated; in a future version of numpy, it will be understood as (type, (1,)) / '(1,)type'.\n",
      "  _np_quint8 = np.dtype([(\"quint8\", np.uint8, 1)])\n",
      "C:\\Users\\16474\\anaconda3\\envs\\PythonData\\lib\\site-packages\\tensorflow\\python\\framework\\dtypes.py:518: FutureWarning: Passing (type, 1) or '1type' as a synonym of type is deprecated; in a future version of numpy, it will be understood as (type, (1,)) / '(1,)type'.\n",
      "  _np_qint16 = np.dtype([(\"qint16\", np.int16, 1)])\n",
      "C:\\Users\\16474\\anaconda3\\envs\\PythonData\\lib\\site-packages\\tensorflow\\python\\framework\\dtypes.py:519: FutureWarning: Passing (type, 1) or '1type' as a synonym of type is deprecated; in a future version of numpy, it will be understood as (type, (1,)) / '(1,)type'.\n",
      "  _np_quint16 = np.dtype([(\"quint16\", np.uint16, 1)])\n",
      "C:\\Users\\16474\\anaconda3\\envs\\PythonData\\lib\\site-packages\\tensorflow\\python\\framework\\dtypes.py:520: FutureWarning: Passing (type, 1) or '1type' as a synonym of type is deprecated; in a future version of numpy, it will be understood as (type, (1,)) / '(1,)type'.\n",
      "  _np_qint32 = np.dtype([(\"qint32\", np.int32, 1)])\n",
      "C:\\Users\\16474\\anaconda3\\envs\\PythonData\\lib\\site-packages\\tensorflow\\python\\framework\\dtypes.py:525: FutureWarning: Passing (type, 1) or '1type' as a synonym of type is deprecated; in a future version of numpy, it will be understood as (type, (1,)) / '(1,)type'.\n",
      "  np_resource = np.dtype([(\"resource\", np.ubyte, 1)])\n",
      "C:\\Users\\16474\\anaconda3\\envs\\PythonData\\lib\\site-packages\\tensorboard\\compat\\tensorflow_stub\\dtypes.py:541: FutureWarning: Passing (type, 1) or '1type' as a synonym of type is deprecated; in a future version of numpy, it will be understood as (type, (1,)) / '(1,)type'.\n",
      "  _np_qint8 = np.dtype([(\"qint8\", np.int8, 1)])\n",
      "C:\\Users\\16474\\anaconda3\\envs\\PythonData\\lib\\site-packages\\tensorboard\\compat\\tensorflow_stub\\dtypes.py:542: FutureWarning: Passing (type, 1) or '1type' as a synonym of type is deprecated; in a future version of numpy, it will be understood as (type, (1,)) / '(1,)type'.\n",
      "  _np_quint8 = np.dtype([(\"quint8\", np.uint8, 1)])\n",
      "C:\\Users\\16474\\anaconda3\\envs\\PythonData\\lib\\site-packages\\tensorboard\\compat\\tensorflow_stub\\dtypes.py:543: FutureWarning: Passing (type, 1) or '1type' as a synonym of type is deprecated; in a future version of numpy, it will be understood as (type, (1,)) / '(1,)type'.\n",
      "  _np_qint16 = np.dtype([(\"qint16\", np.int16, 1)])\n",
      "C:\\Users\\16474\\anaconda3\\envs\\PythonData\\lib\\site-packages\\tensorboard\\compat\\tensorflow_stub\\dtypes.py:544: FutureWarning: Passing (type, 1) or '1type' as a synonym of type is deprecated; in a future version of numpy, it will be understood as (type, (1,)) / '(1,)type'.\n",
      "  _np_quint16 = np.dtype([(\"quint16\", np.uint16, 1)])\n",
      "C:\\Users\\16474\\anaconda3\\envs\\PythonData\\lib\\site-packages\\tensorboard\\compat\\tensorflow_stub\\dtypes.py:545: FutureWarning: Passing (type, 1) or '1type' as a synonym of type is deprecated; in a future version of numpy, it will be understood as (type, (1,)) / '(1,)type'.\n",
      "  _np_qint32 = np.dtype([(\"qint32\", np.int32, 1)])\n",
      "C:\\Users\\16474\\anaconda3\\envs\\PythonData\\lib\\site-packages\\tensorboard\\compat\\tensorflow_stub\\dtypes.py:550: FutureWarning: Passing (type, 1) or '1type' as a synonym of type is deprecated; in a future version of numpy, it will be understood as (type, (1,)) / '(1,)type'.\n",
      "  np_resource = np.dtype([(\"resource\", np.ubyte, 1)])\n"
     ]
    }
   ],
   "source": [
    "# Import our dependencies\n",
    "import pandas as pd\n",
    "import matplotlib as plt\n",
    "from sklearn.datasets import make_blobs\n",
    "import sklearn as skl\n",
    "import tensorflow as tf"
   ]
  },
  {
   "cell_type": "code",
   "execution_count": 2,
   "metadata": {},
   "outputs": [
    {
     "data": {
      "text/plain": [
       "<matplotlib.axes._subplots.AxesSubplot at 0x1b7b4cd3708>"
      ]
     },
     "execution_count": 2,
     "metadata": {},
     "output_type": "execute_result"
    },
    {
     "data": {
      "image/png": "[encoded data removed]",
      "text/plain": [
       "<Figure size 432x288 with 2 Axes>"
      ]
     },
     "metadata": {
      "needs_background": "light"
     },
     "output_type": "display_data"
    }
   ],
   "source": [
    "# Generate dummy dataset\n",
    "X, y = make_blobs(n_samples=1000, centers=2, n_features=2, random_state=78)\n",
    "\n",
    "# Creating a DataFrame with the dummy data\n",
    "df = pd.DataFrame(X, columns=[\"Feature 1\", \"Feature 2\"])\n",
    "df[\"Target\"] = y\n",
    "\n",
    "# Plotting the dummy data\n",
    "df.plot.scatter(x=\"Feature 1\", y=\"Feature 2\", c=\"Target\", colormap=\"winter\")"
   ]
  },
  {
   "cell_type": "code",
   "execution_count": 3,
   "metadata": {},
   "outputs": [],
   "source": [
    "# Use sklearn to split dataset\n",
    "from sklearn.model_selection import train_test_split\n",
    "X_train, X_test, y_train, y_test = train_test_split(X, y, random_state=78)"
   ]
  },
  {
   "cell_type": "code",
   "execution_count": 4,
   "metadata": {},
   "outputs": [],
   "source": [
    "# Create scaler instance\n",
    "X_scaler = skl.preprocessing.StandardScaler()\n",
    "\n",
    "# Fit the scaler\n",
    "X_scaler.fit(X_train)\n",
    "\n",
    "# Scale the data\n",
    "X_train_scaled = X_scaler.transform(X_train)\n",
    "X_test_scaled = X_scaler.transform(X_test)"
   ]
  },
  {
   "cell_type": "code",
   "execution_count": 5,
   "metadata": {},
   "outputs": [],
   "source": [
    "# Create the Keras Sequential model\n",
    "nn_model = tf.keras.models.Sequential()"
   ]
  },
  {
   "cell_type": "code",
   "execution_count": 6,
   "metadata": {},
   "outputs": [
    {
     "name": "stdout",
     "output_type": "stream",
     "text": [
      "WARNING:tensorflow:From C:\\Users\\16474\\anaconda3\\envs\\PythonData\\lib\\site-packages\\tensorflow\\python\\ops\\init_ops.py:1251: calling VarianceScaling.__init__ (from tensorflow.python.ops.init_ops) with dtype is deprecated and will be removed in a future version.\n",
      "Instructions for updating:\n",
      "Call initializer instance with the dtype argument instead of passing it to the constructor\n"
     ]
    }
   ],
   "source": [
    "# Add our first Dense layer, including the input layer\n",
    "nn_model.add(tf.keras.layers.Dense(units=1, activation=\"relu\", input_dim=2))"
   ]
  },
  {
   "cell_type": "code",
   "execution_count": 7,
   "metadata": {},
   "outputs": [],
   "source": [
    "# Add the output layer that uses a probability activation function\n",
    "nn_model.add(tf.keras.layers.Dense(units=1, activation=\"sigmoid\"))"
   ]
  },
  {
   "cell_type": "code",
   "execution_count": 8,
   "metadata": {},
   "outputs": [
    {
     "name": "stdout",
     "output_type": "stream",
     "text": [
      "Model: \"sequential\"\n",
      "_________________________________________________________________\n",
      "Layer (type)                 Output Shape              Param #   \n",
      "=================================================================\n",
      "dense (Dense)                (None, 1)                 3         \n",
      "_________________________________________________________________\n",
      "dense_1 (Dense)              (None, 1)                 2         \n",
      "=================================================================\n",
      "Total params: 5\n",
      "Trainable params: 5\n",
      "Non-trainable params: 0\n",
      "_________________________________________________________________\n"
     ]
    }
   ],
   "source": [
    "# Check the structure of the Sequential model\n",
    "nn_model.summary()"
   ]
  },
  {
   "cell_type": "code",
   "execution_count": 9,
   "metadata": {},
   "outputs": [
    {
     "name": "stdout",
     "output_type": "stream",
     "text": [
      "WARNING:tensorflow:From C:\\Users\\16474\\anaconda3\\envs\\PythonData\\lib\\site-packages\\tensorflow\\python\\ops\\nn_impl.py:180: add_dispatch_support.<locals>.wrapper (from tensorflow.python.ops.array_ops) is deprecated and will be removed in a future version.\n",
      "Instructions for updating:\n",
      "Use tf.where in 2.0, which has the same broadcast rule as np.where\n"
     ]
    }
   ],
   "source": [
    "# Compile the Sequential model together and customize metrics\n",
    "nn_model.compile(loss=\"binary_crossentropy\", optimizer=\"adam\", metrics=[\"accuracy\"])"
   ]
  },
  {
   "cell_type": "code",
   "execution_count": 10,
   "metadata": {},
   "outputs": [
    {
     "name": "stdout",
     "output_type": "stream",
     "text": [
      "Epoch 1/100\n",
      "750/750 [==============================] - 0s 633us/sample - loss: 0.6781 - acc: 0.7547\n",
      "Epoch 2/100\n",
      "750/750 [==============================] - 0s 86us/sample - loss: 0.6736 - acc: 0.7707\n",
      "Epoch 3/100\n",
      "750/750 [==============================] - 0s 78us/sample - loss: 0.6682 - acc: 0.7880\n",
      "Epoch 4/100\n",
      "750/750 [==============================] - 0s 88us/sample - loss: 0.6620 - acc: 0.8120\n",
      "Epoch 5/100\n",
      "750/750 [==============================] - 0s 72us/sample - loss: 0.6545 - acc: 0.8387\n",
      "Epoch 6/100\n",
      "750/750 [==============================] - 0s 86us/sample - loss: 0.6457 - acc: 0.8600\n",
      "Epoch 7/100\n",
      "750/750 [==============================] - 0s 100us/sample - loss: 0.6356 - acc: 0.8947\n",
      "Epoch 8/100\n",
      "750/750 [==============================] - 0s 77us/sample - loss: 0.6240 - acc: 0.9187\n",
      "Epoch 9/100\n",
      "750/750 [==============================] - 0s 158us/sample - loss: 0.6112 - acc: 0.9413\n",
      "Epoch 10/100\n",
      "750/750 [==============================] - 0s 176us/sample - loss: 0.5972 - acc: 0.9587\n",
      "Epoch 11/100\n",
      "750/750 [==============================] - 0s 117us/sample - loss: 0.5823 - acc: 0.9693\n",
      "Epoch 12/100\n",
      "750/750 [==============================] - 0s 129us/sample - loss: 0.5669 - acc: 0.9773\n",
      "Epoch 13/100\n",
      "750/750 [==============================] - 0s 128us/sample - loss: 0.5510 - acc: 0.9840\n",
      "Epoch 14/100\n",
      "750/750 [==============================] - 0s 137us/sample - loss: 0.5348 - acc: 0.9893\n",
      "Epoch 15/100\n",
      "750/750 [==============================] - 0s 123us/sample - loss: 0.5185 - acc: 0.9907\n",
      "Epoch 16/100\n",
      "750/750 [==============================] - 0s 153us/sample - loss: 0.5020 - acc: 0.9960\n",
      "Epoch 17/100\n",
      "750/750 [==============================] - 0s 132us/sample - loss: 0.4857 - acc: 0.9960\n",
      "Epoch 18/100\n",
      "750/750 [==============================] - 0s 137us/sample - loss: 0.4694 - acc: 1.0000\n",
      "Epoch 19/100\n",
      "750/750 [==============================] - ETA: 0s - loss: 0.4531 - acc: 1.000 - 0s 159us/sample - loss: 0.4537 - acc: 1.0000\n",
      "Epoch 20/100\n",
      "750/750 [==============================] - 0s 139us/sample - loss: 0.4383 - acc: 1.0000\n",
      "Epoch 21/100\n",
      "750/750 [==============================] - 0s 223us/sample - loss: 0.4233 - acc: 1.0000\n",
      "Epoch 22/100\n",
      "750/750 [==============================] - 0s 137us/sample - loss: 0.4090 - acc: 1.0000\n",
      "Epoch 23/100\n",
      "750/750 [==============================] - 0s 135us/sample - loss: 0.3951 - acc: 1.0000\n",
      "Epoch 24/100\n",
      "750/750 [==============================] - 0s 135us/sample - loss: 0.3817 - acc: 1.0000\n",
      "Epoch 25/100\n",
      "750/750 [==============================] - 0s 160us/sample - loss: 0.3688 - acc: 1.0000\n",
      "Epoch 26/100\n",
      "750/750 [==============================] - 0s 121us/sample - loss: 0.3566 - acc: 1.0000\n",
      "Epoch 27/100\n",
      "750/750 [==============================] - 0s 215us/sample - loss: 0.3448 - acc: 1.0000\n",
      "Epoch 28/100\n",
      "750/750 [==============================] - 0s 160us/sample - loss: 0.3337 - acc: 1.0000\n",
      "Epoch 29/100\n",
      "750/750 [==============================] - 0s 156us/sample - loss: 0.3229 - acc: 1.0000\n",
      "Epoch 30/100\n",
      "750/750 [==============================] - 0s 128us/sample - loss: 0.3127 - acc: 1.0000\n",
      "Epoch 31/100\n",
      "750/750 [==============================] - 0s 134us/sample - loss: 0.3030 - acc: 1.0000\n",
      "Epoch 32/100\n",
      "750/750 [==============================] - 0s 125us/sample - loss: 0.2937 - acc: 1.0000\n",
      "Epoch 33/100\n",
      "750/750 [==============================] - 0s 139us/sample - loss: 0.2849 - acc: 1.0000\n",
      "Epoch 34/100\n",
      "750/750 [==============================] - 0s 116us/sample - loss: 0.2765 - acc: 1.0000\n",
      "Epoch 35/100\n",
      "750/750 [==============================] - 0s 116us/sample - loss: 0.2684 - acc: 1.0000\n",
      "Epoch 36/100\n",
      "750/750 [==============================] - 0s 115us/sample - loss: 0.2607 - acc: 1.0000\n",
      "Epoch 37/100\n",
      "750/750 [==============================] - 0s 159us/sample - loss: 0.2534 - acc: 1.0000s - loss: 0.2508 - acc: 1.00\n",
      "Epoch 38/100\n",
      "750/750 [==============================] - 0s 128us/sample - loss: 0.2464 - acc: 1.0000\n",
      "Epoch 39/100\n",
      "750/750 [==============================] - 0s 127us/sample - loss: 0.2398 - acc: 1.0000\n",
      "Epoch 40/100\n",
      "750/750 [==============================] - 0s 98us/sample - loss: 0.2334 - acc: 1.0000\n",
      "Epoch 41/100\n",
      "750/750 [==============================] - 0s 147us/sample - loss: 0.2272 - acc: 1.0000\n",
      "Epoch 42/100\n",
      "750/750 [==============================] - 0s 115us/sample - loss: 0.2214 - acc: 1.0000s - loss: 0.2253 - acc: 1.000\n",
      "Epoch 43/100\n",
      "750/750 [==============================] - 0s 121us/sample - loss: 0.2157 - acc: 1.0000\n",
      "Epoch 44/100\n",
      "750/750 [==============================] - 0s 116us/sample - loss: 0.2103 - acc: 1.0000\n",
      "Epoch 45/100\n",
      "750/750 [==============================] - 0s 132us/sample - loss: 0.2052 - acc: 1.0000\n",
      "Epoch 46/100\n",
      "750/750 [==============================] - 0s 157us/sample - loss: 0.2002 - acc: 1.0000\n",
      "Epoch 47/100\n",
      "750/750 [==============================] - 0s 103us/sample - loss: 0.1954 - acc: 1.0000\n",
      "Epoch 48/100\n",
      "750/750 [==============================] - 0s 142us/sample - loss: 0.1909 - acc: 1.0000\n",
      "Epoch 49/100\n",
      "750/750 [==============================] - 0s 118us/sample - loss: 0.1864 - acc: 1.0000\n",
      "Epoch 50/100\n",
      "750/750 [==============================] - 0s 126us/sample - loss: 0.1822 - acc: 1.0000\n",
      "Epoch 51/100\n",
      "750/750 [==============================] - 0s 106us/sample - loss: 0.1781 - acc: 1.0000\n",
      "Epoch 52/100\n",
      "750/750 [==============================] - 0s 100us/sample - loss: 0.1741 - acc: 1.0000\n",
      "Epoch 53/100\n",
      "750/750 [==============================] - 0s 115us/sample - loss: 0.1703 - acc: 1.0000\n",
      "Epoch 54/100\n",
      "750/750 [==============================] - 0s 97us/sample - loss: 0.1665 - acc: 1.0000\n",
      "Epoch 55/100\n",
      "750/750 [==============================] - 0s 140us/sample - loss: 0.1630 - acc: 1.0000\n",
      "Epoch 56/100\n",
      "750/750 [==============================] - 0s 113us/sample - loss: 0.1595 - acc: 1.0000\n",
      "Epoch 57/100\n",
      "750/750 [==============================] - 0s 136us/sample - loss: 0.1562 - acc: 1.0000\n",
      "Epoch 58/100\n",
      "750/750 [==============================] - 0s 102us/sample - loss: 0.1529 - acc: 1.0000\n",
      "Epoch 59/100\n",
      "750/750 [==============================] - 0s 100us/sample - loss: 0.1498 - acc: 1.0000\n",
      "Epoch 60/100\n",
      "750/750 [==============================] - 0s 115us/sample - loss: 0.1468 - acc: 1.0000\n",
      "Epoch 61/100\n",
      "750/750 [==============================] - 0s 102us/sample - loss: 0.1438 - acc: 1.0000\n",
      "Epoch 62/100\n",
      "750/750 [==============================] - 0s 120us/sample - loss: 0.1410 - acc: 1.0000\n",
      "Epoch 63/100\n",
      "750/750 [==============================] - 0s 108us/sample - loss: 0.1382 - acc: 1.0000\n",
      "Epoch 64/100\n",
      "750/750 [==============================] - 0s 105us/sample - loss: 0.1356 - acc: 1.0000\n",
      "Epoch 65/100\n",
      "750/750 [==============================] - 0s 110us/sample - loss: 0.1329 - acc: 1.0000\n",
      "Epoch 66/100\n",
      "750/750 [==============================] - 0s 137us/sample - loss: 0.1304 - acc: 1.0000\n",
      "Epoch 67/100\n",
      "750/750 [==============================] - 0s 96us/sample - loss: 0.1280 - acc: 1.0000\n",
      "Epoch 68/100\n",
      "750/750 [==============================] - 0s 117us/sample - loss: 0.1256 - acc: 1.0000\n",
      "Epoch 69/100\n",
      "750/750 [==============================] - 0s 105us/sample - loss: 0.1232 - acc: 1.0000\n",
      "Epoch 70/100\n",
      "750/750 [==============================] - 0s 125us/sample - loss: 0.1210 - acc: 1.0000\n",
      "Epoch 71/100\n",
      "750/750 [==============================] - 0s 164us/sample - loss: 0.1187 - acc: 1.0000\n",
      "Epoch 72/100\n",
      "750/750 [==============================] - 0s 89us/sample - loss: 0.1166 - acc: 1.0000\n",
      "Epoch 73/100\n",
      "750/750 [==============================] - 0s 117us/sample - loss: 0.1145 - acc: 1.0000\n",
      "Epoch 74/100\n",
      "750/750 [==============================] - 0s 104us/sample - loss: 0.1125 - acc: 1.0000\n",
      "Epoch 75/100\n",
      "750/750 [==============================] - 0s 128us/sample - loss: 0.1105 - acc: 1.0000\n",
      "Epoch 76/100\n",
      "750/750 [==============================] - 0s 110us/sample - loss: 0.1086 - acc: 1.0000\n",
      "Epoch 77/100\n",
      "750/750 [==============================] - 0s 140us/sample - loss: 0.1067 - acc: 1.0000\n",
      "Epoch 78/100\n",
      "750/750 [==============================] - 0s 126us/sample - loss: 0.1048 - acc: 1.0000\n",
      "Epoch 79/100\n",
      "750/750 [==============================] - 0s 108us/sample - loss: 0.1030 - acc: 1.0000\n",
      "Epoch 80/100\n",
      "750/750 [==============================] - 0s 115us/sample - loss: 0.1013 - acc: 1.0000\n",
      "Epoch 81/100\n"
     ]
    },
    {
     "name": "stdout",
     "output_type": "stream",
     "text": [
      "750/750 [==============================] - 0s 101us/sample - loss: 0.0995 - acc: 1.0000\n",
      "Epoch 82/100\n",
      "750/750 [==============================] - 0s 85us/sample - loss: 0.0979 - acc: 1.0000\n",
      "Epoch 83/100\n",
      "750/750 [==============================] - 0s 77us/sample - loss: 0.0962 - acc: 1.0000\n",
      "Epoch 84/100\n",
      "750/750 [==============================] - 0s 82us/sample - loss: 0.0946 - acc: 1.0000\n",
      "Epoch 85/100\n",
      "750/750 [==============================] - 0s 90us/sample - loss: 0.0931 - acc: 1.0000\n",
      "Epoch 86/100\n",
      "750/750 [==============================] - 0s 80us/sample - loss: 0.0916 - acc: 1.0000\n",
      "Epoch 87/100\n",
      "750/750 [==============================] - 0s 72us/sample - loss: 0.0901 - acc: 1.0000\n",
      "Epoch 88/100\n",
      "750/750 [==============================] - 0s 88us/sample - loss: 0.0886 - acc: 1.0000\n",
      "Epoch 89/100\n",
      "750/750 [==============================] - 0s 76us/sample - loss: 0.0872 - acc: 1.0000\n",
      "Epoch 90/100\n",
      "750/750 [==============================] - 0s 88us/sample - loss: 0.0858 - acc: 1.0000\n",
      "Epoch 91/100\n",
      "750/750 [==============================] - 0s 82us/sample - loss: 0.0845 - acc: 1.0000\n",
      "Epoch 92/100\n",
      "750/750 [==============================] - 0s 72us/sample - loss: 0.0832 - acc: 1.0000\n",
      "Epoch 93/100\n",
      "750/750 [==============================] - 0s 81us/sample - loss: 0.0819 - acc: 1.0000\n",
      "Epoch 94/100\n",
      "750/750 [==============================] - 0s 86us/sample - loss: 0.0806 - acc: 1.0000\n",
      "Epoch 95/100\n",
      "750/750 [==============================] - 0s 73us/sample - loss: 0.0793 - acc: 1.0000\n",
      "Epoch 96/100\n",
      "750/750 [==============================] - 0s 72us/sample - loss: 0.0781 - acc: 1.0000\n",
      "Epoch 97/100\n",
      "750/750 [==============================] - 0s 88us/sample - loss: 0.0769 - acc: 1.0000\n",
      "Epoch 98/100\n",
      "750/750 [==============================] - 0s 77us/sample - loss: 0.0757 - acc: 1.0000\n",
      "Epoch 99/100\n",
      "750/750 [==============================] - 0s 76us/sample - loss: 0.0746 - acc: 1.0000\n",
      "Epoch 100/100\n",
      "750/750 [==============================] - 0s 81us/sample - loss: 0.0735 - acc: 1.0000\n"
     ]
    }
   ],
   "source": [
    "# Fit the model to the training data\n",
    "fit_model = nn_model.fit(X_train_scaled, y_train, epochs=100)"
   ]
  },
  {
   "cell_type": "code",
   "execution_count": 11,
   "metadata": {},
   "outputs": [
    {
     "data": {
      "text/plain": [
       "<matplotlib.axes._subplots.AxesSubplot at 0x1b7b6e00c48>"
      ]
     },
     "execution_count": 11,
     "metadata": {},
     "output_type": "execute_result"
    },
    {
     "data": {
      "image/png": "[encoded data removed]",
      "text/plain": [
       "<Figure size 432x288 with 1 Axes>"
      ]
     },
     "metadata": {
      "needs_background": "light"
     },
     "output_type": "display_data"
    }
   ],
   "source": [
    "# Create a DataFrame containing training history\n",
    "history_df = pd.DataFrame(fit_model.history, index=range(1,len(fit_model.history[\"loss\"])+1))\n",
    "\n",
    "# Plot the loss\n",
    "history_df.plot(y=\"loss\")"
   ]
  },
  {
   "cell_type": "code",
   "execution_count": 12,
   "metadata": {},
   "outputs": [
    {
     "data": {
      "text/plain": [
       "<matplotlib.axes._subplots.AxesSubplot at 0x1b7b7e52748>"
      ]
     },
     "execution_count": 12,
     "metadata": {},
     "output_type": "execute_result"
    },
    {
     "data": {
      "image/png": "[encoded data removed]",
      "text/plain": [
       "<Figure size 432x288 with 1 Axes>"
      ]
     },
     "metadata": {
      "needs_background": "light"
     },
     "output_type": "display_data"
    }
   ],
   "source": [
    "# Plot the accuracy\n",
    "history_df.plot(y=\"acc\")"
   ]
  },
  {
   "cell_type": "code",
   "execution_count": 13,
   "metadata": {},
   "outputs": [
    {
     "name": "stdout",
     "output_type": "stream",
     "text": [
      "250/250 - 0s - loss: 0.0690 - acc: 1.0000\n",
      "Loss: 0.06899164009094239, Accuracy: 1.0\n"
     ]
    }
   ],
   "source": [
    "# Evaluate the model using the test data\n",
    "model_loss, model_accuracy = nn_model.evaluate(X_test_scaled,y_test,verbose=2)\n",
    "print(f\"Loss: {model_loss}, Accuracy: {model_accuracy}\")"
   ]
  },
  {
   "cell_type": "code",
   "execution_count": 14,
   "metadata": {},
   "outputs": [
    {
     "data": {
      "text/plain": [
       "array([[0],\n",
       "       [1],\n",
       "       [0],\n",
       "       [1],\n",
       "       [0],\n",
       "       [0],\n",
       "       [1],\n",
       "       [1],\n",
       "       [1],\n",
       "       [0]])"
      ]
     },
     "execution_count": 14,
     "metadata": {},
     "output_type": "execute_result"
    }
   ],
   "source": [
    "# Predict the classification of a new set of blob data\n",
    "new_X, new_Y = make_blobs(n_samples=10, centers=2, n_features=2, random_state=78)\n",
    "new_X_scaled = X_scaler.transform(new_X)\n",
    "nn_model.predict_classes(new_X_scaled)"
   ]
  },
  {
   "cell_type": "code",
   "execution_count": null,
   "metadata": {},
   "outputs": [],
   "source": []
  }
 ],
 "metadata": {
  "kernelspec": {
   "display_name": "Python 3",
   "language": "python",
   "name": "python3"
  },
  "language_info": {
   "codemirror_mode": {
    "name": "ipython",
    "version": 3
   },
   "file_extension": ".py",
   "mimetype": "text/x-python",
   "name": "python",
   "nbconvert_exporter": "python",
   "pygments_lexer": "ipython3",
   "version": "3.7.7"
  }
 },
 "nbformat": 4,
 "nbformat_minor": 4
}
