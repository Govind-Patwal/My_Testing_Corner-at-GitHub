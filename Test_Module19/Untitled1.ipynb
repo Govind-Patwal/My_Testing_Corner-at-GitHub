{
 "cells": [
  {
   "cell_type": "code",
   "execution_count": 1,
   "metadata": {},
   "outputs": [
    {
     "name": "stderr",
     "output_type": "stream",
     "text": [
      "C:\\Users\\16474\\anaconda3\\envs\\PythonData\\lib\\site-packages\\tensorflow\\python\\framework\\dtypes.py:516: FutureWarning: Passing (type, 1) or '1type' as a synonym of type is deprecated; in a future version of numpy, it will be understood as (type, (1,)) / '(1,)type'.\n",
      "  _np_qint8 = np.dtype([(\"qint8\", np.int8, 1)])\n",
      "C:\\Users\\16474\\anaconda3\\envs\\PythonData\\lib\\site-packages\\tensorflow\\python\\framework\\dtypes.py:517: FutureWarning: Passing (type, 1) or '1type' as a synonym of type is deprecated; in a future version of numpy, it will be understood as (type, (1,)) / '(1,)type'.\n",
      "  _np_quint8 = np.dtype([(\"quint8\", np.uint8, 1)])\n",
      "C:\\Users\\16474\\anaconda3\\envs\\PythonData\\lib\\site-packages\\tensorflow\\python\\framework\\dtypes.py:518: FutureWarning: Passing (type, 1) or '1type' as a synonym of type is deprecated; in a future version of numpy, it will be understood as (type, (1,)) / '(1,)type'.\n",
      "  _np_qint16 = np.dtype([(\"qint16\", np.int16, 1)])\n",
      "C:\\Users\\16474\\anaconda3\\envs\\PythonData\\lib\\site-packages\\tensorflow\\python\\framework\\dtypes.py:519: FutureWarning: Passing (type, 1) or '1type' as a synonym of type is deprecated; in a future version of numpy, it will be understood as (type, (1,)) / '(1,)type'.\n",
      "  _np_quint16 = np.dtype([(\"quint16\", np.uint16, 1)])\n",
      "C:\\Users\\16474\\anaconda3\\envs\\PythonData\\lib\\site-packages\\tensorflow\\python\\framework\\dtypes.py:520: FutureWarning: Passing (type, 1) or '1type' as a synonym of type is deprecated; in a future version of numpy, it will be understood as (type, (1,)) / '(1,)type'.\n",
      "  _np_qint32 = np.dtype([(\"qint32\", np.int32, 1)])\n",
      "C:\\Users\\16474\\anaconda3\\envs\\PythonData\\lib\\site-packages\\tensorflow\\python\\framework\\dtypes.py:525: FutureWarning: Passing (type, 1) or '1type' as a synonym of type is deprecated; in a future version of numpy, it will be understood as (type, (1,)) / '(1,)type'.\n",
      "  np_resource = np.dtype([(\"resource\", np.ubyte, 1)])\n",
      "C:\\Users\\16474\\anaconda3\\envs\\PythonData\\lib\\site-packages\\tensorboard\\compat\\tensorflow_stub\\dtypes.py:541: FutureWarning: Passing (type, 1) or '1type' as a synonym of type is deprecated; in a future version of numpy, it will be understood as (type, (1,)) / '(1,)type'.\n",
      "  _np_qint8 = np.dtype([(\"qint8\", np.int8, 1)])\n",
      "C:\\Users\\16474\\anaconda3\\envs\\PythonData\\lib\\site-packages\\tensorboard\\compat\\tensorflow_stub\\dtypes.py:542: FutureWarning: Passing (type, 1) or '1type' as a synonym of type is deprecated; in a future version of numpy, it will be understood as (type, (1,)) / '(1,)type'.\n",
      "  _np_quint8 = np.dtype([(\"quint8\", np.uint8, 1)])\n",
      "C:\\Users\\16474\\anaconda3\\envs\\PythonData\\lib\\site-packages\\tensorboard\\compat\\tensorflow_stub\\dtypes.py:543: FutureWarning: Passing (type, 1) or '1type' as a synonym of type is deprecated; in a future version of numpy, it will be understood as (type, (1,)) / '(1,)type'.\n",
      "  _np_qint16 = np.dtype([(\"qint16\", np.int16, 1)])\n",
      "C:\\Users\\16474\\anaconda3\\envs\\PythonData\\lib\\site-packages\\tensorboard\\compat\\tensorflow_stub\\dtypes.py:544: FutureWarning: Passing (type, 1) or '1type' as a synonym of type is deprecated; in a future version of numpy, it will be understood as (type, (1,)) / '(1,)type'.\n",
      "  _np_quint16 = np.dtype([(\"quint16\", np.uint16, 1)])\n",
      "C:\\Users\\16474\\anaconda3\\envs\\PythonData\\lib\\site-packages\\tensorboard\\compat\\tensorflow_stub\\dtypes.py:545: FutureWarning: Passing (type, 1) or '1type' as a synonym of type is deprecated; in a future version of numpy, it will be understood as (type, (1,)) / '(1,)type'.\n",
      "  _np_qint32 = np.dtype([(\"qint32\", np.int32, 1)])\n",
      "C:\\Users\\16474\\anaconda3\\envs\\PythonData\\lib\\site-packages\\tensorboard\\compat\\tensorflow_stub\\dtypes.py:550: FutureWarning: Passing (type, 1) or '1type' as a synonym of type is deprecated; in a future version of numpy, it will be understood as (type, (1,)) / '(1,)type'.\n",
      "  np_resource = np.dtype([(\"resource\", np.ubyte, 1)])\n"
     ]
    }
   ],
   "source": [
    "# Import our dependencies\n",
    "import pandas as pd\n",
    "import matplotlib as plt\n",
    "from sklearn.datasets import make_blobs\n",
    "import sklearn as skl\n",
    "import tensorflow as tf"
   ]
  },
  {
   "cell_type": "code",
   "execution_count": 2,
   "metadata": {},
   "outputs": [
    {
     "data": {
      "text/plain": [
       "<matplotlib.axes._subplots.AxesSubplot at 0x1b7b4cd3708>"
      ]
     },
     "execution_count": 2,
     "metadata": {},
     "output_type": "execute_result"
    },
    {
     "data": {
      "image/png": "[encoded data removed]",
      "text/plain": [
       "<Figure size 432x288 with 2 Axes>"
      ]
     },
     "metadata": {
      "needs_background": "light"
     },
     "output_type": "display_data"
    }
   ],
   "source": [
    "# Generate dummy dataset\n",
    "X, y = make_blobs(n_samples=1000, centers=2, n_features=2, random_state=78)\n",
    "\n",
    "# Creating a DataFrame with the dummy data\n",
    "df = pd.DataFrame(X, columns=[\"Feature 1\", \"Feature 2\"])\n",
    "df[\"Target\"] = y\n",
    "\n",
    "# Plotting the dummy data\n",
    "df.plot.scatter(x=\"Feature 1\", y=\"Feature 2\", c=\"Target\", colormap=\"winter\")"
   ]
  },
  {
   "cell_type": "code",
   "execution_count": 3,
   "metadata": {},
   "outputs": [],
   "source": [
    "# Use sklearn to split dataset\n",
    "from sklearn.model_selection import train_test_split\n",
    "X_train, X_test, y_train, y_test = train_test_split(X, y, random_state=78)"
   ]
  },
  {
   "cell_type": "code",
   "execution_count": 4,
   "metadata": {},
   "outputs": [],
   "source": [
    "# Create scaler instance\n",
    "X_scaler = skl.preprocessing.StandardScaler()\n",
    "\n",
    "# Fit the scaler\n",
    "X_scaler.fit(X_train)\n",
    "\n",
    "# Scale the data\n",
    "X_train_scaled = X_scaler.transform(X_train)\n",
    "X_test_scaled = X_scaler.transform(X_test)"
   ]
  },
  {
   "cell_type": "code",
   "execution_count": 5,
   "metadata": {},
   "outputs": [],
   "source": [
    "# Create the Keras Sequential model\n",
    "nn_model = tf.keras.models.Sequential()"
   ]
  },
  {
   "cell_type": "code",
   "execution_count": 6,
   "metadata": {},
   "outputs": [
    {
     "name": "stdout",
     "output_type": "stream",
     "text": [
      "WARNING:tensorflow:From C:\\Users\\16474\\anaconda3\\envs\\PythonData\\lib\\site-packages\\tensorflow\\python\\ops\\init_ops.py:1251: calling VarianceScaling.__init__ (from tensorflow.python.ops.init_ops) with dtype is deprecated and will be removed in a future version.\n",
      "Instructions for updating:\n",
      "Call initializer instance with the dtype argument instead of passing it to the constructor\n"
     ]
    }
   ],
   "source": [
    "# Add our first Dense layer, including the input layer\n",
    "nn_model.add(tf.keras.layers.Dense(units=1, activation=\"relu\", input_dim=2))"
   ]
  },
  {
   "cell_type": "code",
   "execution_count": 7,
   "metadata": {},
   "outputs": [],
   "source": [
    "# Add the output layer that uses a probability activation function\n",
    "nn_model.add(tf.keras.layers.Dense(units=1, activation=\"sigmoid\"))"
   ]
  },
  {
   "cell_type": "code",
   "execution_count": 8,
   "metadata": {},
   "outputs": [
    {
     "name": "stdout",
     "output_type": "stream",
     "text": [
      "Model: \"sequential\"\n",
      "_________________________________________________________________\n",
      "Layer (type)                 Output Shape              Param #   \n",
      "=================================================================\n",
      "dense (Dense)                (None, 1)                 3         \n",
      "_________________________________________________________________\n",
      "dense_1 (Dense)              (None, 1)                 2         \n",
      "=================================================================\n",
      "Total params: 5\n",
      "Trainable params: 5\n",
      "Non-trainable params: 0\n",
      "_________________________________________________________________\n"
     ]
    }
   ],
   "source": [
    "# Check the structure of the Sequential model\n",
    "nn_model.summary()"
   ]
  },
  {
   "cell_type": "code",
   "execution_count": 9,
   "metadata": {},
   "outputs": [
    {
     "name": "stdout",
     "output_type": "stream",
     "text": [
      "WARNING:tensorflow:From C:\\Users\\16474\\anaconda3\\envs\\PythonData\\lib\\site-packages\\tensorflow\\python\\ops\\nn_impl.py:180: add_dispatch_support.<locals>.wrapper (from tensorflow.python.ops.array_ops) is deprecated and will be removed in a future version.\n",
      "Instructions for updating:\n",
      "Use tf.where in 2.0, which has the same broadcast rule as np.where\n"
     ]
    }
   ],
   "source": [
    "# Compile the Sequential model together and customize metrics\n",
    "nn_model.compile(loss=\"binary_crossentropy\", optimizer=\"adam\", metrics=[\"accuracy\"])"
   ]
  },
  {
   "cell_type": "code",
   "execution_count": 10,
   "metadata": {},
   "outputs": [
    {
     "name": "stdout",
     "output_type": "stream",
     "text": [
      "Epoch 1/100\n",
      "750/750 [==============================] - 0s 633us/sample - loss: 0.6781 - acc: 0.7547\n",
      "Epoch 2/100\n",
      "750/750 [==============================] - 0s 86us/sample - loss: 0.6736 - acc: 0.7707\n",
      "Epoch 3/100\n",
      "750/750 [==============================] - 0s 78us/sample - loss: 0.6682 - acc: 0.7880\n",
      "Epoch 4/100\n",
      "750/750 [==============================] - 0s 88us/sample - loss: 0.6620 - acc: 0.8120\n",
      "Epoch 5/100\n",
      "750/750 [==============================] - 0s 72us/sample - loss: 0.6545 - acc: 0.8387\n",
      "Epoch 6/100\n",
      "750/750 [==============================] - 0s 86us/sample - loss: 0.6457 - acc: 0.8600\n",
      "Epoch 7/100\n",
      "750/750 [==============================] - 0s 100us/sample - loss: 0.6356 - acc: 0.8947\n",
      "Epoch 8/100\n",
      "750/750 [==============================] - 0s 77us/sample - loss: 0.6240 - acc: 0.9187\n",
      "Epoch 9/100\n",
      "750/750 [==============================] - 0s 158us/sample - loss: 0.6112 - acc: 0.9413\n",
      "Epoch 10/100\n",
      "750/750 [==============================] - 0s 176us/sample - loss: 0.5972 - acc: 0.9587\n",
      "Epoch 11/100\n",
      "750/750 [==============================] - 0s 117us/sample - loss: 0.5823 - acc: 0.9693\n",
      "Epoch 12/100\n",
      "750/750 [==============================] - 0s 129us/sample - loss: 0.5669 - acc: 0.9773\n",
      "Epoch 13/100\n",
      "750/750 [==============================] - 0s 128us/sample - loss: 0.5510 - acc: 0.9840\n",
      "Epoch 14/100\n",
      "750/750 [==============================] - 0s 137us/sample - loss: 0.5348 - acc: 0.9893\n",
      "Epoch 15/100\n",
      "750/750 [==============================] - 0s 123us/sample - loss: 0.5185 - acc: 0.9907\n",
      "Epoch 16/100\n",
      "750/750 [==============================] - 0s 153us/sample - loss: 0.5020 - acc: 0.9960\n",
      "Epoch 17/100\n",
      "750/750 [==============================] - 0s 132us/sample - loss: 0.4857 - acc: 0.9960\n",
      "Epoch 18/100\n",
      "750/750 [==============================] - 0s 137us/sample - loss: 0.4694 - acc: 1.0000\n",
      "Epoch 19/100\n",
      "750/750 [==============================] - ETA: 0s - loss: 0.4531 - acc: 1.000 - 0s 159us/sample - loss: 0.4537 - acc: 1.0000\n",
      "Epoch 20/100\n",
      "750/750 [==============================] - 0s 139us/sample - loss: 0.4383 - acc: 1.0000\n",
      "Epoch 21/100\n",
      "750/750 [==============================] - 0s 223us/sample - loss: 0.4233 - acc: 1.0000\n",
      "Epoch 22/100\n",
      "750/750 [==============================] - 0s 137us/sample - loss: 0.4090 - acc: 1.0000\n",
      "Epoch 23/100\n",
      "750/750 [==============================] - 0s 135us/sample - loss: 0.3951 - acc: 1.0000\n",
      "Epoch 24/100\n",
      "750/750 [==============================] - 0s 135us/sample - loss: 0.3817 - acc: 1.0000\n",
      "Epoch 25/100\n",
      "750/750 [==============================] - 0s 160us/sample - loss: 0.3688 - acc: 1.0000\n",
      "Epoch 26/100\n",
      "750/750 [==============================] - 0s 121us/sample - loss: 0.3566 - acc: 1.0000\n",
      "Epoch 27/100\n",
      "750/750 [==============================] - 0s 215us/sample - loss: 0.3448 - acc: 1.0000\n",
      "Epoch 28/100\n",
      "750/750 [==============================] - 0s 160us/sample - loss: 0.3337 - acc: 1.0000\n",
      "Epoch 29/100\n",
      "750/750 [==============================] - 0s 156us/sample - loss: 0.3229 - acc: 1.0000\n",
      "Epoch 30/100\n",
      "750/750 [==============================] - 0s 128us/sample - loss: 0.3127 - acc: 1.0000\n",
      "Epoch 31/100\n",
      "750/750 [==============================] - 0s 134us/sample - loss: 0.3030 - acc: 1.0000\n",
      "Epoch 32/100\n",
      "750/750 [==============================] - 0s 125us/sample - loss: 0.2937 - acc: 1.0000\n",
      "Epoch 33/100\n",
      "750/750 [==============================] - 0s 139us/sample - loss: 0.2849 - acc: 1.0000\n",
      "Epoch 34/100\n",
      "750/750 [==============================] - 0s 116us/sample - loss: 0.2765 - acc: 1.0000\n",
      "Epoch 35/100\n",
      "750/750 [==============================] - 0s 116us/sample - loss: 0.2684 - acc: 1.0000\n",
      "Epoch 36/100\n",
      "750/750 [==============================] - 0s 115us/sample - loss: 0.2607 - acc: 1.0000\n",
      "Epoch 37/100\n",
      "750/750 [==============================] - 0s 159us/sample - loss: 0.2534 - acc: 1.0000s - loss: 0.2508 - acc: 1.00\n",
      "Epoch 38/100\n",
      "750/750 [==============================] - 0s 128us/sample - loss: 0.2464 - acc: 1.0000\n",
      "Epoch 39/100\n",
      "750/750 [==============================] - 0s 127us/sample - loss: 0.2398 - acc: 1.0000\n",
      "Epoch 40/100\n",
      "750/750 [==============================] - 0s 98us/sample - loss: 0.2334 - acc: 1.0000\n",
      "Epoch 41/100\n",
      "750/750 [==============================] - 0s 147us/sample - loss: 0.2272 - acc: 1.0000\n",
      "Epoch 42/100\n",
      "750/750 [==============================] - 0s 115us/sample - loss: 0.2214 - acc: 1.0000s - loss: 0.2253 - acc: 1.000\n",
      "Epoch 43/100\n",
      "750/750 [==============================] - 0s 121us/sample - loss: 0.2157 - acc: 1.0000\n",
      "Epoch 44/100\n",
      "750/750 [==============================] - 0s 116us/sample - loss: 0.2103 - acc: 1.0000\n",
      "Epoch 45/100\n",
      "750/750 [==============================] - 0s 132us/sample - loss: 0.2052 - acc: 1.0000\n",
      "Epoch 46/100\n",
      "750/750 [==============================] - 0s 157us/sample - loss: 0.2002 - acc: 1.0000\n",
      "Epoch 47/100\n",
      "750/750 [==============================] - 0s 103us/sample - loss: 0.1954 - acc: 1.0000\n",
      "Epoch 48/100\n",
      "750/750 [==============================] - 0s 142us/sample - loss: 0.1909 - acc: 1.0000\n",
      "Epoch 49/100\n",
      "750/750 [==============================] - 0s 118us/sample - loss: 0.1864 - acc: 1.0000\n",
      "Epoch 50/100\n",
      "750/750 [==============================] - 0s 126us/sample - loss: 0.1822 - acc: 1.0000\n",
      "Epoch 51/100\n",
      "750/750 [==============================] - 0s 106us/sample - loss: 0.1781 - acc: 1.0000\n",
      "Epoch 52/100\n",
      "750/750 [==============================] - 0s 100us/sample - loss: 0.1741 - acc: 1.0000\n",
      "Epoch 53/100\n",
      "750/750 [==============================] - 0s 115us/sample - loss: 0.1703 - acc: 1.0000\n",
      "Epoch 54/100\n",
      "750/750 [==============================] - 0s 97us/sample - loss: 0.1665 - acc: 1.0000\n",
      "Epoch 55/100\n",
      "750/750 [==============================] - 0s 140us/sample - loss: 0.1630 - acc: 1.0000\n",
      "Epoch 56/100\n",
      "750/750 [==============================] - 0s 113us/sample - loss: 0.1595 - acc: 1.0000\n",
      "Epoch 57/100\n",
      "750/750 [==============================] - 0s 136us/sample - loss: 0.1562 - acc: 1.0000\n",
      "Epoch 58/100\n",
      "750/750 [==============================] - 0s 102us/sample - loss: 0.1529 - acc: 1.0000\n",
      "Epoch 59/100\n",
      "750/750 [==============================] - 0s 100us/sample - loss: 0.1498 - acc: 1.0000\n",
      "Epoch 60/100\n",
      "750/750 [==============================] - 0s 115us/sample - loss: 0.1468 - acc: 1.0000\n",
      "Epoch 61/100\n",
      "750/750 [==============================] - 0s 102us/sample - loss: 0.1438 - acc: 1.0000\n",
      "Epoch 62/100\n",
      "750/750 [==============================] - 0s 120us/sample - loss: 0.1410 - acc: 1.0000\n",
      "Epoch 63/100\n",
      "750/750 [==============================] - 0s 108us/sample - loss: 0.1382 - acc: 1.0000\n",
      "Epoch 64/100\n",
      "750/750 [==============================] - 0s 105us/sample - loss: 0.1356 - acc: 1.0000\n",
      "Epoch 65/100\n",
      "750/750 [==============================] - 0s 110us/sample - loss: 0.1329 - acc: 1.0000\n",
      "Epoch 66/100\n",
      "750/750 [==============================] - 0s 137us/sample - loss: 0.1304 - acc: 1.0000\n",
      "Epoch 67/100\n",
      "750/750 [==============================] - 0s 96us/sample - loss: 0.1280 - acc: 1.0000\n",
      "Epoch 68/100\n",
      "750/750 [==============================] - 0s 117us/sample - loss: 0.1256 - acc: 1.0000\n",
      "Epoch 69/100\n",
      "750/750 [==============================] - 0s 105us/sample - loss: 0.1232 - acc: 1.0000\n",
      "Epoch 70/100\n",
      "750/750 [==============================] - 0s 125us/sample - loss: 0.1210 - acc: 1.0000\n",
      "Epoch 71/100\n",
      "750/750 [==============================] - 0s 164us/sample - loss: 0.1187 - acc: 1.0000\n",
      "Epoch 72/100\n",
      "750/750 [==============================] - 0s 89us/sample - loss: 0.1166 - acc: 1.0000\n",
      "Epoch 73/100\n",
      "750/750 [==============================] - 0s 117us/sample - loss: 0.1145 - acc: 1.0000\n",
      "Epoch 74/100\n",
      "750/750 [==============================] - 0s 104us/sample - loss: 0.1125 - acc: 1.0000\n",
      "Epoch 75/100\n",
      "750/750 [==============================] - 0s 128us/sample - loss: 0.1105 - acc: 1.0000\n",
      "Epoch 76/100\n",
      "750/750 [==============================] - 0s 110us/sample - loss: 0.1086 - acc: 1.0000\n",
      "Epoch 77/100\n",
      "750/750 [==============================] - 0s 140us/sample - loss: 0.1067 - acc: 1.0000\n",
      "Epoch 78/100\n",
      "750/750 [==============================] - 0s 126us/sample - loss: 0.1048 - acc: 1.0000\n",
      "Epoch 79/100\n",
      "750/750 [==============================] - 0s 108us/sample - loss: 0.1030 - acc: 1.0000\n",
      "Epoch 80/100\n",
      "750/750 [==============================] - 0s 115us/sample - loss: 0.1013 - acc: 1.0000\n",
      "Epoch 81/100\n"
     ]
    },
    {
     "name": "stdout",
     "output_type": "stream",
     "text": [
      "750/750 [==============================] - 0s 101us/sample - loss: 0.0995 - acc: 1.0000\n",
      "Epoch 82/100\n",
      "750/750 [==============================] - 0s 85us/sample - loss: 0.0979 - acc: 1.0000\n",
      "Epoch 83/100\n",
      "750/750 [==============================] - 0s 77us/sample - loss: 0.0962 - acc: 1.0000\n",
      "Epoch 84/100\n",
      "750/750 [==============================] - 0s 82us/sample - loss: 0.0946 - acc: 1.0000\n",
      "Epoch 85/100\n",
      "750/750 [==============================] - 0s 90us/sample - loss: 0.0931 - acc: 1.0000\n",
      "Epoch 86/100\n",
      "750/750 [==============================] - 0s 80us/sample - loss: 0.0916 - acc: 1.0000\n",
      "Epoch 87/100\n",
      "750/750 [==============================] - 0s 72us/sample - loss: 0.0901 - acc: 1.0000\n",
      "Epoch 88/100\n",
      "750/750 [==============================] - 0s 88us/sample - loss: 0.0886 - acc: 1.0000\n",
      "Epoch 89/100\n",
      "750/750 [==============================] - 0s 76us/sample - loss: 0.0872 - acc: 1.0000\n",
      "Epoch 90/100\n",
      "750/750 [==============================] - 0s 88us/sample - loss: 0.0858 - acc: 1.0000\n",
      "Epoch 91/100\n",
      "750/750 [==============================] - 0s 82us/sample - loss: 0.0845 - acc: 1.0000\n",
      "Epoch 92/100\n",
      "750/750 [==============================] - 0s 72us/sample - loss: 0.0832 - acc: 1.0000\n",
      "Epoch 93/100\n",
      "750/750 [==============================] - 0s 81us/sample - loss: 0.0819 - acc: 1.0000\n",
      "Epoch 94/100\n",
      "750/750 [==============================] - 0s 86us/sample - loss: 0.0806 - acc: 1.0000\n",
      "Epoch 95/100\n",
      "750/750 [==============================] - 0s 73us/sample - loss: 0.0793 - acc: 1.0000\n",
      "Epoch 96/100\n",
      "750/750 [==============================] - 0s 72us/sample - loss: 0.0781 - acc: 1.0000\n",
      "Epoch 97/100\n",
      "750/750 [==============================] - 0s 88us/sample - loss: 0.0769 - acc: 1.0000\n",
      "Epoch 98/100\n",
      "750/750 [==============================] - 0s 77us/sample - loss: 0.0757 - acc: 1.0000\n",
      "Epoch 99/100\n",
      "750/750 [==============================] - 0s 76us/sample - loss: 0.0746 - acc: 1.0000\n",
      "Epoch 100/100\n",
      "750/750 [==============================] - 0s 81us/sample - loss: 0.0735 - acc: 1.0000\n"
     ]
    }
   ],
   "source": [
    "# Fit the model to the training data\n",
    "fit_model = nn_model.fit(X_train_scaled, y_train, epochs=100)"
   ]
  },
  {
   "cell_type": "code",
   "execution_count": 11,
   "metadata": {},
   "outputs": [
    {
     "data": {
      "text/plain": [
       "<matplotlib.axes._subplots.AxesSubplot at 0x1b7b6e00c48>"
      ]
     },
     "execution_count": 11,
     "metadata": {},
     "output_type": "execute_result"
    },
    {
     "data": {
      "image/png": "[encoded data removed]",
      "text/plain": [
       "<Figure size 432x288 with 1 Axes>"
      ]
     },
     "metadata": {
      "needs_background": "light"
     },
     "output_type": "display_data"
    }
   ],
   "source": [
    "# Create a DataFrame containing training history\n",
    "history_df = pd.DataFrame(fit_model.history, index=range(1,len(fit_model.history[\"loss\"])+1))\n",
    "\n",
    "# Plot the loss\n",
    "history_df.plot(y=\"loss\")"
   ]
  },
  {
   "cell_type": "code",
   "execution_count": 12,
   "metadata": {},
   "outputs": [
    {
     "data": {
      "text/plain": [
       "<matplotlib.axes._subplots.AxesSubplot at 0x1b7b7e52748>"
      ]
     },
     "execution_count": 12,
     "metadata": {},
     "output_type": "execute_result"
    },
    {
     "data": {
      "image/png": "[encoded data removed]",
      "text/plain": [
       "<Figure size 432x288 with 1 Axes>"
      ]
     },
     "metadata": {
      "needs_background": "light"
     },
     "output_type": "display_data"
    }
   ],
   "source": [
    "# Plot the accuracy\n",
    "history_df.plot(y=\"acc\")"
   ]
  },
  {
   "cell_type": "code",
   "execution_count": 13,
   "metadata": {},
   "outputs": [
    {
     "name": "stdout",
     "output_type": "stream",
     "text": [
      "250/250 - 0s - loss: 0.0690 - acc: 1.0000\n",
      "Loss: 0.06899164009094239, Accuracy: 1.0\n"
     ]
    }
   ],
   "source": [
    "# Evaluate the model using the test data\n",
    "model_loss, model_accuracy = nn_model.evaluate(X_test_scaled,y_test,verbose=2)\n",
    "print(f\"Loss: {model_loss}, Accuracy: {model_accuracy}\")"
   ]
  },
  {
   "cell_type": "code",
   "execution_count": 14,
   "metadata": {},
   "outputs": [
    {
     "data": {
      "text/plain": [
       "array([[0],\n",
       "       [1],\n",
       "       [0],\n",
       "       [1],\n",
       "       [0],\n",
       "       [0],\n",
       "       [1],\n",
       "       [1],\n",
       "       [1],\n",
       "       [0]])"
      ]
     },
     "execution_count": 14,
     "metadata": {},
     "output_type": "execute_result"
    }
   ],
   "source": [
    "# Predict the classification of a new set of blob data\n",
    "new_X, new_Y = make_blobs(n_samples=10, centers=2, n_features=2, random_state=78)\n",
    "new_X_scaled = X_scaler.transform(new_X)\n",
    "nn_model.predict_classes(new_X_scaled)"
   ]
  },
  {
   "cell_type": "markdown",
   "metadata": {},
   "source": [
    "# we'll generate some nonlinear moon-shaped data using Scikit-learn's make_moons method and visualize it using Pandas and Matplotlib\n"
   ]
  },
  {
   "cell_type": "code",
   "execution_count": 15,
   "metadata": {},
   "outputs": [
    {
     "data": {
      "text/plain": [
       "<matplotlib.axes._subplots.AxesSubplot at 0x1b7b7ed9288>"
      ]
     },
     "execution_count": 15,
     "metadata": {},
     "output_type": "execute_result"
    },
    {
     "data": {
      "image/png": "[encoded data removed]",
      "text/plain": [
       "<Figure size 432x288 with 2 Axes>"
      ]
     },
     "metadata": {
      "needs_background": "light"
     },
     "output_type": "display_data"
    }
   ],
   "source": [
    "from sklearn.datasets import make_moons\n",
    "\n",
    "# Creating dummy nonlinear data\n",
    "X_moons, y_moons = make_moons(n_samples=1000, noise=0.08, random_state=78)\n",
    "\n",
    "# Transforming y_moons to a vertical vector\n",
    "y_moons = y_moons.reshape(-1, 1)\n",
    "\n",
    "# Creating a DataFrame to plot the nonlinear dummy data\n",
    "df_moons = pd.DataFrame(X_moons, columns=[\"Feature 1\", \"Feature 2\"])\n",
    "df_moons[\"Target\"] = y_moons\n",
    "\n",
    "# Plot the nonlinear dummy data\n",
    "df_moons.plot.scatter(x=\"Feature 1\",y=\"Feature 2\", c=\"Target\",colormap=\"winter\")"
   ]
  },
  {
   "cell_type": "code",
   "execution_count": 16,
   "metadata": {},
   "outputs": [],
   "source": [
    "# Create training and testing sets\n",
    "X_moon_train, X_moon_test, y_moon_train, y_moon_test = train_test_split(\n",
    "    X_moons, y_moons, random_state=78\n",
    ")\n",
    "\n",
    "# Create the scaler instance\n",
    "X_moon_scaler = skl.preprocessing.StandardScaler()\n",
    "\n",
    "# Fit the scaler\n",
    "X_moon_scaler.fit(X_moon_train)\n",
    "\n",
    "# Scale the data\n",
    "X_moon_train_scaled = X_moon_scaler.transform(X_moon_train)\n",
    "X_moon_test_scaled = X_moon_scaler.transform(X_moon_test)"
   ]
  },
  {
   "cell_type": "code",
   "execution_count": 17,
   "metadata": {},
   "outputs": [
    {
     "name": "stdout",
     "output_type": "stream",
     "text": [
      "Epoch 1/100\n",
      "750/750 [==============================] - 0s 72us/sample - loss: 0.7487 - acc: 0.6400\n",
      "Epoch 2/100\n",
      "750/750 [==============================] - 0s 88us/sample - loss: 0.6805 - acc: 0.6600\n",
      "Epoch 3/100\n",
      "750/750 [==============================] - 0s 88us/sample - loss: 0.6291 - acc: 0.6707\n",
      "Epoch 4/100\n",
      "750/750 [==============================] - 0s 74us/sample - loss: 0.5946 - acc: 0.6827\n",
      "Epoch 5/100\n",
      "750/750 [==============================] - 0s 89us/sample - loss: 0.5667 - acc: 0.6933\n",
      "Epoch 6/100\n",
      "750/750 [==============================] - 0s 87us/sample - loss: 0.5460 - acc: 0.7013\n",
      "Epoch 7/100\n",
      "750/750 [==============================] - 0s 75us/sample - loss: 0.5286 - acc: 0.7080\n",
      "Epoch 8/100\n",
      "750/750 [==============================] - 0s 76us/sample - loss: 0.5139 - acc: 0.7107\n",
      "Epoch 9/100\n",
      "750/750 [==============================] - 0s 71us/sample - loss: 0.5015 - acc: 0.7200\n",
      "Epoch 10/100\n",
      "750/750 [==============================] - 0s 71us/sample - loss: 0.4905 - acc: 0.7267\n",
      "Epoch 11/100\n",
      "750/750 [==============================] - 0s 72us/sample - loss: 0.4807 - acc: 0.7360\n",
      "Epoch 12/100\n",
      "750/750 [==============================] - 0s 94us/sample - loss: 0.4717 - acc: 0.7400\n",
      "Epoch 13/100\n",
      "750/750 [==============================] - 0s 89us/sample - loss: 0.4635 - acc: 0.7440\n",
      "Epoch 14/100\n",
      "750/750 [==============================] - 0s 75us/sample - loss: 0.4562 - acc: 0.7520\n",
      "Epoch 15/100\n",
      "750/750 [==============================] - 0s 82us/sample - loss: 0.4491 - acc: 0.7533\n",
      "Epoch 16/100\n",
      "750/750 [==============================] - 0s 103us/sample - loss: 0.4424 - acc: 0.7547\n",
      "Epoch 17/100\n",
      "750/750 [==============================] - 0s 72us/sample - loss: 0.4361 - acc: 0.7587\n",
      "Epoch 18/100\n",
      "750/750 [==============================] - 0s 95us/sample - loss: 0.4300 - acc: 0.7587\n",
      "Epoch 19/100\n",
      "750/750 [==============================] - 0s 68us/sample - loss: 0.4245 - acc: 0.7627\n",
      "Epoch 20/100\n",
      "750/750 [==============================] - 0s 70us/sample - loss: 0.4189 - acc: 0.7667\n",
      "Epoch 21/100\n",
      "750/750 [==============================] - 0s 84us/sample - loss: 0.4136 - acc: 0.7733\n",
      "Epoch 22/100\n",
      "750/750 [==============================] - ETA: 0s - loss: 0.2892 - acc: 0.843 - 0s 60us/sample - loss: 0.4085 - acc: 0.7773\n",
      "Epoch 23/100\n",
      "750/750 [==============================] - 0s 79us/sample - loss: 0.4037 - acc: 0.7800\n",
      "Epoch 24/100\n",
      "750/750 [==============================] - 0s 89us/sample - loss: 0.3990 - acc: 0.7827\n",
      "Epoch 25/100\n",
      "750/750 [==============================] - 0s 99us/sample - loss: 0.3945 - acc: 0.7880\n",
      "Epoch 26/100\n",
      "750/750 [==============================] - 0s 89us/sample - loss: 0.3901 - acc: 0.7907\n",
      "Epoch 27/100\n",
      "750/750 [==============================] - 0s 108us/sample - loss: 0.3859 - acc: 0.7933\n",
      "Epoch 28/100\n",
      "750/750 [==============================] - 0s 72us/sample - loss: 0.3816 - acc: 0.7960\n",
      "Epoch 29/100\n",
      "750/750 [==============================] - 0s 78us/sample - loss: 0.3775 - acc: 0.7987\n",
      "Epoch 30/100\n",
      "750/750 [==============================] - 0s 64us/sample - loss: 0.3737 - acc: 0.8013\n",
      "Epoch 31/100\n",
      "750/750 [==============================] - 0s 103us/sample - loss: 0.3698 - acc: 0.8040\n",
      "Epoch 32/100\n",
      "750/750 [==============================] - 0s 83us/sample - loss: 0.3661 - acc: 0.8093\n",
      "Epoch 33/100\n",
      "750/750 [==============================] - 0s 67us/sample - loss: 0.3624 - acc: 0.8120\n",
      "Epoch 34/100\n",
      "750/750 [==============================] - 0s 83us/sample - loss: 0.3587 - acc: 0.8133\n",
      "Epoch 35/100\n",
      "750/750 [==============================] - 0s 86us/sample - loss: 0.3553 - acc: 0.8147\n",
      "Epoch 36/100\n",
      "750/750 [==============================] - 0s 79us/sample - loss: 0.3519 - acc: 0.8147\n",
      "Epoch 37/100\n",
      "750/750 [==============================] - 0s 78us/sample - loss: 0.3486 - acc: 0.8160\n",
      "Epoch 38/100\n",
      "750/750 [==============================] - 0s 67us/sample - loss: 0.3453 - acc: 0.8200\n",
      "Epoch 39/100\n",
      "750/750 [==============================] - 0s 86us/sample - loss: 0.3422 - acc: 0.8213\n",
      "Epoch 40/100\n",
      "750/750 [==============================] - 0s 81us/sample - loss: 0.3391 - acc: 0.8227\n",
      "Epoch 41/100\n",
      "750/750 [==============================] - 0s 83us/sample - loss: 0.3361 - acc: 0.8253\n",
      "Epoch 42/100\n",
      "750/750 [==============================] - 0s 71us/sample - loss: 0.3332 - acc: 0.8280\n",
      "Epoch 43/100\n",
      "750/750 [==============================] - 0s 75us/sample - loss: 0.3304 - acc: 0.8307\n",
      "Epoch 44/100\n",
      "750/750 [==============================] - 0s 59us/sample - loss: 0.3276 - acc: 0.8320\n",
      "Epoch 45/100\n",
      "750/750 [==============================] - 0s 66us/sample - loss: 0.3247 - acc: 0.8333\n",
      "Epoch 46/100\n",
      "750/750 [==============================] - 0s 80us/sample - loss: 0.3221 - acc: 0.8333\n",
      "Epoch 47/100\n",
      "750/750 [==============================] - 0s 87us/sample - loss: 0.3195 - acc: 0.8387\n",
      "Epoch 48/100\n",
      "750/750 [==============================] - 0s 63us/sample - loss: 0.3170 - acc: 0.8427\n",
      "Epoch 49/100\n",
      "750/750 [==============================] - 0s 84us/sample - loss: 0.3147 - acc: 0.8467\n",
      "Epoch 50/100\n",
      "750/750 [==============================] - 0s 78us/sample - loss: 0.3125 - acc: 0.8467\n",
      "Epoch 51/100\n",
      "750/750 [==============================] - 0s 68us/sample - loss: 0.3102 - acc: 0.8467\n",
      "Epoch 52/100\n",
      "750/750 [==============================] - 0s 67us/sample - loss: 0.3081 - acc: 0.8480\n",
      "Epoch 53/100\n",
      "750/750 [==============================] - 0s 67us/sample - loss: 0.3060 - acc: 0.8520\n",
      "Epoch 54/100\n",
      "750/750 [==============================] - 0s 60us/sample - loss: 0.3041 - acc: 0.8520\n",
      "Epoch 55/100\n",
      "750/750 [==============================] - 0s 67us/sample - loss: 0.3021 - acc: 0.8547\n",
      "Epoch 56/100\n",
      "750/750 [==============================] - 0s 67us/sample - loss: 0.3003 - acc: 0.8573\n",
      "Epoch 57/100\n",
      "750/750 [==============================] - 0s 67us/sample - loss: 0.2985 - acc: 0.8587\n",
      "Epoch 58/100\n",
      "750/750 [==============================] - 0s 71us/sample - loss: 0.2968 - acc: 0.8600\n",
      "Epoch 59/100\n",
      "750/750 [==============================] - 0s 65us/sample - loss: 0.2952 - acc: 0.8613\n",
      "Epoch 60/100\n",
      "750/750 [==============================] - 0s 85us/sample - loss: 0.2936 - acc: 0.8627\n",
      "Epoch 61/100\n",
      "750/750 [==============================] - 0s 91us/sample - loss: 0.2920 - acc: 0.8653\n",
      "Epoch 62/100\n",
      "750/750 [==============================] - 0s 66us/sample - loss: 0.2906 - acc: 0.8653\n",
      "Epoch 63/100\n",
      "750/750 [==============================] - 0s 90us/sample - loss: 0.2893 - acc: 0.8667\n",
      "Epoch 64/100\n",
      "750/750 [==============================] - 0s 68us/sample - loss: 0.2878 - acc: 0.8667\n",
      "Epoch 65/100\n",
      "750/750 [==============================] - 0s 83us/sample - loss: 0.2866 - acc: 0.8680\n",
      "Epoch 66/100\n",
      "750/750 [==============================] - 0s 74us/sample - loss: 0.2853 - acc: 0.8680\n",
      "Epoch 67/100\n",
      "750/750 [==============================] - 0s 85us/sample - loss: 0.2841 - acc: 0.8680\n",
      "Epoch 68/100\n",
      "750/750 [==============================] - 0s 76us/sample - loss: 0.2829 - acc: 0.8680\n",
      "Epoch 69/100\n",
      "750/750 [==============================] - 0s 67us/sample - loss: 0.2818 - acc: 0.8707\n",
      "Epoch 70/100\n",
      "750/750 [==============================] - 0s 67us/sample - loss: 0.2807 - acc: 0.8707\n",
      "Epoch 71/100\n",
      "750/750 [==============================] - 0s 65us/sample - loss: 0.2797 - acc: 0.8707\n",
      "Epoch 72/100\n",
      "750/750 [==============================] - 0s 74us/sample - loss: 0.2787 - acc: 0.8707\n",
      "Epoch 73/100\n",
      "750/750 [==============================] - 0s 81us/sample - loss: 0.2777 - acc: 0.8707\n",
      "Epoch 74/100\n",
      "750/750 [==============================] - 0s 74us/sample - loss: 0.2768 - acc: 0.8720\n",
      "Epoch 75/100\n",
      "750/750 [==============================] - 0s 77us/sample - loss: 0.2759 - acc: 0.8747\n",
      "Epoch 76/100\n",
      "750/750 [==============================] - 0s 69us/sample - loss: 0.2752 - acc: 0.8760\n",
      "Epoch 77/100\n",
      "750/750 [==============================] - 0s 67us/sample - loss: 0.2742 - acc: 0.8773\n",
      "Epoch 78/100\n",
      "750/750 [==============================] - 0s 67us/sample - loss: 0.2735 - acc: 0.8787\n",
      "Epoch 79/100\n",
      "750/750 [==============================] - 0s 67us/sample - loss: 0.2726 - acc: 0.8787\n",
      "Epoch 80/100\n",
      "750/750 [==============================] - 0s 64us/sample - loss: 0.2720 - acc: 0.8787\n",
      "Epoch 81/100\n",
      "750/750 [==============================] - 0s 86us/sample - loss: 0.2712 - acc: 0.8813\n",
      "Epoch 82/100\n"
     ]
    },
    {
     "name": "stdout",
     "output_type": "stream",
     "text": [
      "750/750 [==============================] - 0s 64us/sample - loss: 0.2705 - acc: 0.8827\n",
      "Epoch 83/100\n",
      "750/750 [==============================] - 0s 68us/sample - loss: 0.2699 - acc: 0.8840\n",
      "Epoch 84/100\n",
      "750/750 [==============================] - 0s 76us/sample - loss: 0.2692 - acc: 0.8840\n",
      "Epoch 85/100\n",
      "750/750 [==============================] - 0s 78us/sample - loss: 0.2687 - acc: 0.8853\n",
      "Epoch 86/100\n",
      "750/750 [==============================] - 0s 67us/sample - loss: 0.2681 - acc: 0.8867\n",
      "Epoch 87/100\n",
      "750/750 [==============================] - 0s 70us/sample - loss: 0.2676 - acc: 0.8880\n",
      "Epoch 88/100\n",
      "750/750 [==============================] - 0s 89us/sample - loss: 0.2670 - acc: 0.8893\n",
      "Epoch 89/100\n",
      "750/750 [==============================] - 0s 76us/sample - loss: 0.2665 - acc: 0.8907\n",
      "Epoch 90/100\n",
      "750/750 [==============================] - 0s 66us/sample - loss: 0.2660 - acc: 0.8907\n",
      "Epoch 91/100\n",
      "750/750 [==============================] - 0s 66us/sample - loss: 0.2656 - acc: 0.8907\n",
      "Epoch 92/100\n",
      "750/750 [==============================] - 0s 74us/sample - loss: 0.2652 - acc: 0.8920\n",
      "Epoch 93/100\n",
      "750/750 [==============================] - 0s 83us/sample - loss: 0.2646 - acc: 0.8920\n",
      "Epoch 94/100\n",
      "750/750 [==============================] - 0s 84us/sample - loss: 0.2642 - acc: 0.8920\n",
      "Epoch 95/100\n",
      "750/750 [==============================] - 0s 64us/sample - loss: 0.2638 - acc: 0.8920\n",
      "Epoch 96/100\n",
      "750/750 [==============================] - 0s 72us/sample - loss: 0.2634 - acc: 0.8920\n",
      "Epoch 97/100\n",
      "750/750 [==============================] - 0s 70us/sample - loss: 0.2631 - acc: 0.8933\n",
      "Epoch 98/100\n",
      "750/750 [==============================] - 0s 79us/sample - loss: 0.2627 - acc: 0.8920\n",
      "Epoch 99/100\n",
      "750/750 [==============================] - 0s 70us/sample - loss: 0.2623 - acc: 0.8933\n",
      "Epoch 100/100\n",
      "750/750 [==============================] - ETA: 0s - loss: 0.2768 - acc: 0.843 - 0s 67us/sample - loss: 0.2620 - acc: 0.8933\n"
     ]
    }
   ],
   "source": [
    "# Training the model with the nonlinear data\n",
    "model_moon = nn_model.fit(X_moon_train_scaled, y_moon_train, epochs=100, shuffle=True)"
   ]
  },
  {
   "cell_type": "code",
   "execution_count": 18,
   "metadata": {},
   "outputs": [
    {
     "data": {
      "text/plain": [
       "<matplotlib.axes._subplots.AxesSubplot at 0x1b7b8f6f188>"
      ]
     },
     "execution_count": 18,
     "metadata": {},
     "output_type": "execute_result"
    },
    {
     "data": {
      "image/png": "[encoded data removed]",
      "text/plain": [
       "<Figure size 432x288 with 1 Axes>"
      ]
     },
     "metadata": {
      "needs_background": "light"
     },
     "output_type": "display_data"
    }
   ],
   "source": [
    "# Create a DataFrame containing training history\n",
    "history_df = pd.DataFrame(model_moon.history, index=range(1,len(model_moon.history[\"loss\"])+1))\n",
    "\n",
    "# Plot the loss\n",
    "history_df.plot(y=\"loss\")"
   ]
  },
  {
   "cell_type": "code",
   "execution_count": 20,
   "metadata": {},
   "outputs": [
    {
     "data": {
      "text/plain": [
       "<matplotlib.axes._subplots.AxesSubplot at 0x1b7ba244c88>"
      ]
     },
     "execution_count": 20,
     "metadata": {},
     "output_type": "execute_result"
    },
    {
     "data": {
      "image/png": "[encoded data removed]",
      "text/plain": [
       "<Figure size 432x288 with 1 Axes>"
      ]
     },
     "metadata": {
      "needs_background": "light"
     },
     "output_type": "display_data"
    }
   ],
   "source": [
    "# Plot the loss\n",
    "history_df.plot(y=\"acc\")"
   ]
  },
  {
   "cell_type": "code",
   "execution_count": 22,
   "metadata": {},
   "outputs": [],
   "source": [
    "# Generate our new Sequential model\n",
    "new_model = tf.keras.models.Sequential()"
   ]
  },
  {
   "cell_type": "code",
   "execution_count": 23,
   "metadata": {},
   "outputs": [],
   "source": [
    "# Add the input and hidden layer\n",
    "number_inputs = 2\n",
    "number_hidden_nodes = 6\n",
    "\n",
    "new_model.add(tf.keras.layers.Dense(units=number_hidden_nodes, activation=\"relu\", input_dim=number_inputs))\n",
    "\n",
    "# Add the output layer that uses a probability activation function\n",
    "new_model.add(tf.keras.layers.Dense(units=1, activation=\"sigmoid\"))"
   ]
  },
  {
   "cell_type": "code",
   "execution_count": 24,
   "metadata": {},
   "outputs": [
    {
     "name": "stdout",
     "output_type": "stream",
     "text": [
      "Epoch 1/100\n",
      "750/750 [==============================] - 0s 661us/sample - loss: 0.6245 - acc: 0.5853\n",
      "Epoch 2/100\n",
      "750/750 [==============================] - 0s 103us/sample - loss: 0.5994 - acc: 0.6520\n",
      "Epoch 3/100\n",
      "750/750 [==============================] - 0s 91us/sample - loss: 0.5767 - acc: 0.7147\n",
      "Epoch 4/100\n",
      "750/750 [==============================] - 0s 79us/sample - loss: 0.5553 - acc: 0.7280\n",
      "Epoch 5/100\n",
      "750/750 [==============================] - 0s 85us/sample - loss: 0.5355 - acc: 0.7440\n",
      "Epoch 6/100\n",
      "750/750 [==============================] - 0s 85us/sample - loss: 0.5166 - acc: 0.7573\n",
      "Epoch 7/100\n",
      "750/750 [==============================] - 0s 86us/sample - loss: 0.4985 - acc: 0.7707\n",
      "Epoch 8/100\n",
      "750/750 [==============================] - 0s 105us/sample - loss: 0.4807 - acc: 0.7853\n",
      "Epoch 9/100\n",
      "750/750 [==============================] - 0s 89us/sample - loss: 0.4639 - acc: 0.8000\n",
      "Epoch 10/100\n",
      "750/750 [==============================] - 0s 74us/sample - loss: 0.4480 - acc: 0.8160\n",
      "Epoch 11/100\n",
      "750/750 [==============================] - 0s 94us/sample - loss: 0.4328 - acc: 0.8213\n",
      "Epoch 12/100\n",
      "750/750 [==============================] - 0s 74us/sample - loss: 0.4184 - acc: 0.8307\n",
      "Epoch 13/100\n",
      "750/750 [==============================] - 0s 95us/sample - loss: 0.4047 - acc: 0.8373\n",
      "Epoch 14/100\n",
      "750/750 [==============================] - 0s 80us/sample - loss: 0.3918 - acc: 0.8453\n",
      "Epoch 15/100\n",
      "750/750 [==============================] - 0s 89us/sample - loss: 0.3797 - acc: 0.8520\n",
      "Epoch 16/100\n",
      "750/750 [==============================] - 0s 84us/sample - loss: 0.3684 - acc: 0.8573\n",
      "Epoch 17/100\n",
      "750/750 [==============================] - 0s 72us/sample - loss: 0.3577 - acc: 0.8600\n",
      "Epoch 18/100\n",
      "750/750 [==============================] - 0s 118us/sample - loss: 0.3480 - acc: 0.8627\n",
      "Epoch 19/100\n",
      "750/750 [==============================] - 0s 100us/sample - loss: 0.3386 - acc: 0.8640\n",
      "Epoch 20/100\n",
      "750/750 [==============================] - 0s 82us/sample - loss: 0.3299 - acc: 0.8667\n",
      "Epoch 21/100\n",
      "750/750 [==============================] - 0s 88us/sample - loss: 0.3219 - acc: 0.8707\n",
      "Epoch 22/100\n",
      "750/750 [==============================] - 0s 115us/sample - loss: 0.3143 - acc: 0.8707\n",
      "Epoch 23/100\n",
      "750/750 [==============================] - 0s 109us/sample - loss: 0.3069 - acc: 0.8733\n",
      "Epoch 24/100\n",
      "750/750 [==============================] - 0s 80us/sample - loss: 0.3001 - acc: 0.8787\n",
      "Epoch 25/100\n",
      "750/750 [==============================] - 0s 87us/sample - loss: 0.2937 - acc: 0.8800\n",
      "Epoch 26/100\n",
      "750/750 [==============================] - 0s 94us/sample - loss: 0.2877 - acc: 0.8827\n",
      "Epoch 27/100\n",
      "750/750 [==============================] - 0s 68us/sample - loss: 0.2820 - acc: 0.8840\n",
      "Epoch 28/100\n",
      "750/750 [==============================] - 0s 90us/sample - loss: 0.2771 - acc: 0.8827\n",
      "Epoch 29/100\n",
      "750/750 [==============================] - 0s 90us/sample - loss: 0.2718 - acc: 0.8880\n",
      "Epoch 30/100\n",
      "750/750 [==============================] - 0s 135us/sample - loss: 0.2677 - acc: 0.8920\n",
      "Epoch 31/100\n",
      "750/750 [==============================] - 0s 68us/sample - loss: 0.2636 - acc: 0.8947\n",
      "Epoch 32/100\n",
      "750/750 [==============================] - 0s 88us/sample - loss: 0.2602 - acc: 0.8973\n",
      "Epoch 33/100\n",
      "750/750 [==============================] - 0s 82us/sample - loss: 0.2571 - acc: 0.9013\n",
      "Epoch 34/100\n",
      "750/750 [==============================] - 0s 114us/sample - loss: 0.2541 - acc: 0.9013\n",
      "Epoch 35/100\n",
      "750/750 [==============================] - 0s 104us/sample - loss: 0.2517 - acc: 0.9013\n",
      "Epoch 36/100\n",
      "750/750 [==============================] - 0s 90us/sample - loss: 0.2493 - acc: 0.9013\n",
      "Epoch 37/100\n",
      "750/750 [==============================] - 0s 86us/sample - loss: 0.2469 - acc: 0.9013\n",
      "Epoch 38/100\n",
      "750/750 [==============================] - 0s 88us/sample - loss: 0.2449 - acc: 0.9013\n",
      "Epoch 39/100\n",
      "750/750 [==============================] - 0s 98us/sample - loss: 0.2430 - acc: 0.9027\n",
      "Epoch 40/100\n",
      "750/750 [==============================] - 0s 87us/sample - loss: 0.2413 - acc: 0.9027\n",
      "Epoch 41/100\n",
      "750/750 [==============================] - 0s 104us/sample - loss: 0.2394 - acc: 0.9027\n",
      "Epoch 42/100\n",
      "750/750 [==============================] - 0s 96us/sample - loss: 0.2378 - acc: 0.9053\n",
      "Epoch 43/100\n",
      "750/750 [==============================] - 0s 89us/sample - loss: 0.2363 - acc: 0.9053\n",
      "Epoch 44/100\n",
      "750/750 [==============================] - 0s 81us/sample - loss: 0.2349 - acc: 0.9053\n",
      "Epoch 45/100\n",
      "750/750 [==============================] - 0s 94us/sample - loss: 0.2335 - acc: 0.9053\n",
      "Epoch 46/100\n",
      "750/750 [==============================] - 0s 91us/sample - loss: 0.2324 - acc: 0.9053\n",
      "Epoch 47/100\n",
      "750/750 [==============================] - 0s 92us/sample - loss: 0.2311 - acc: 0.9053\n",
      "Epoch 48/100\n",
      "750/750 [==============================] - 0s 88us/sample - loss: 0.2299 - acc: 0.9067\n",
      "Epoch 49/100\n",
      "750/750 [==============================] - 0s 101us/sample - loss: 0.2287 - acc: 0.9053\n",
      "Epoch 50/100\n",
      "750/750 [==============================] - 0s 100us/sample - loss: 0.2275 - acc: 0.9067\n",
      "Epoch 51/100\n",
      "750/750 [==============================] - 0s 82us/sample - loss: 0.2264 - acc: 0.9080\n",
      "Epoch 52/100\n",
      "750/750 [==============================] - 0s 84us/sample - loss: 0.2253 - acc: 0.9080\n",
      "Epoch 53/100\n",
      "750/750 [==============================] - 0s 91us/sample - loss: 0.2242 - acc: 0.9080\n",
      "Epoch 54/100\n",
      "750/750 [==============================] - 0s 77us/sample - loss: 0.2231 - acc: 0.9093\n",
      "Epoch 55/100\n",
      "750/750 [==============================] - 0s 96us/sample - loss: 0.2221 - acc: 0.9093\n",
      "Epoch 56/100\n",
      "750/750 [==============================] - 0s 91us/sample - loss: 0.2210 - acc: 0.9093\n",
      "Epoch 57/100\n",
      "750/750 [==============================] - 0s 94us/sample - loss: 0.2199 - acc: 0.9120\n",
      "Epoch 58/100\n",
      "750/750 [==============================] - 0s 75us/sample - loss: 0.2188 - acc: 0.9120\n",
      "Epoch 59/100\n",
      "750/750 [==============================] - 0s 101us/sample - loss: 0.2178 - acc: 0.9120\n",
      "Epoch 60/100\n",
      "750/750 [==============================] - 0s 84us/sample - loss: 0.2167 - acc: 0.9120\n",
      "Epoch 61/100\n",
      "750/750 [==============================] - 0s 87us/sample - loss: 0.2156 - acc: 0.9120\n",
      "Epoch 62/100\n",
      "750/750 [==============================] - 0s 102us/sample - loss: 0.2145 - acc: 0.9120\n",
      "Epoch 63/100\n",
      "750/750 [==============================] - 0s 107us/sample - loss: 0.2134 - acc: 0.9120\n",
      "Epoch 64/100\n",
      "750/750 [==============================] - 0s 121us/sample - loss: 0.2123 - acc: 0.9120\n",
      "Epoch 65/100\n",
      "750/750 [==============================] - 0s 124us/sample - loss: 0.2112 - acc: 0.9133\n",
      "Epoch 66/100\n",
      "750/750 [==============================] - 0s 110us/sample - loss: 0.2102 - acc: 0.9133\n",
      "Epoch 67/100\n",
      "750/750 [==============================] - 0s 95us/sample - loss: 0.2090 - acc: 0.9133\n",
      "Epoch 68/100\n",
      "750/750 [==============================] - 0s 93us/sample - loss: 0.2079 - acc: 0.9133\n",
      "Epoch 69/100\n",
      "750/750 [==============================] - 0s 117us/sample - loss: 0.2067 - acc: 0.9147\n",
      "Epoch 70/100\n",
      "750/750 [==============================] - 0s 145us/sample - loss: 0.2057 - acc: 0.9160s - loss: 0.2172 - acc: 0.900\n",
      "Epoch 71/100\n",
      "750/750 [==============================] - 0s 111us/sample - loss: 0.2044 - acc: 0.9160\n",
      "Epoch 72/100\n",
      "750/750 [==============================] - 0s 95us/sample - loss: 0.2033 - acc: 0.9160\n",
      "Epoch 73/100\n",
      "750/750 [==============================] - 0s 67us/sample - loss: 0.2021 - acc: 0.9160\n",
      "Epoch 74/100\n",
      "750/750 [==============================] - 0s 86us/sample - loss: 0.2010 - acc: 0.9173\n",
      "Epoch 75/100\n",
      "750/750 [==============================] - 0s 81us/sample - loss: 0.1996 - acc: 0.9187\n",
      "Epoch 76/100\n",
      "750/750 [==============================] - 0s 82us/sample - loss: 0.1983 - acc: 0.9187\n",
      "Epoch 77/100\n",
      "750/750 [==============================] - 0s 61us/sample - loss: 0.1972 - acc: 0.9187\n",
      "Epoch 78/100\n",
      "750/750 [==============================] - 0s 90us/sample - loss: 0.1960 - acc: 0.9187\n",
      "Epoch 79/100\n",
      "750/750 [==============================] - 0s 92us/sample - loss: 0.1946 - acc: 0.9187\n",
      "Epoch 80/100\n",
      "750/750 [==============================] - 0s 101us/sample - loss: 0.1933 - acc: 0.9187\n",
      "Epoch 81/100\n",
      "750/750 [==============================] - 0s 99us/sample - loss: 0.1921 - acc: 0.9187\n",
      "Epoch 82/100\n"
     ]
    },
    {
     "name": "stdout",
     "output_type": "stream",
     "text": [
      "750/750 [==============================] - 0s 81us/sample - loss: 0.1907 - acc: 0.9200\n",
      "Epoch 83/100\n",
      "750/750 [==============================] - 0s 88us/sample - loss: 0.1894 - acc: 0.9187\n",
      "Epoch 84/100\n",
      "750/750 [==============================] - 0s 81us/sample - loss: 0.1882 - acc: 0.9200\n",
      "Epoch 85/100\n",
      "750/750 [==============================] - 0s 84us/sample - loss: 0.1868 - acc: 0.9227\n",
      "Epoch 86/100\n",
      "750/750 [==============================] - 0s 94us/sample - loss: 0.1854 - acc: 0.9240\n",
      "Epoch 87/100\n",
      "750/750 [==============================] - 0s 85us/sample - loss: 0.1841 - acc: 0.9240\n",
      "Epoch 88/100\n",
      "750/750 [==============================] - 0s 89us/sample - loss: 0.1828 - acc: 0.9240\n",
      "Epoch 89/100\n",
      "750/750 [==============================] - 0s 70us/sample - loss: 0.1813 - acc: 0.9240\n",
      "Epoch 90/100\n",
      "750/750 [==============================] - 0s 82us/sample - loss: 0.1799 - acc: 0.9240\n",
      "Epoch 91/100\n",
      "750/750 [==============================] - 0s 82us/sample - loss: 0.1786 - acc: 0.9240\n",
      "Epoch 92/100\n",
      "750/750 [==============================] - 0s 84us/sample - loss: 0.1772 - acc: 0.9253\n",
      "Epoch 93/100\n",
      "750/750 [==============================] - 0s 82us/sample - loss: 0.1758 - acc: 0.9253\n",
      "Epoch 94/100\n",
      "750/750 [==============================] - 0s 86us/sample - loss: 0.1744 - acc: 0.9253\n",
      "Epoch 95/100\n",
      "750/750 [==============================] - 0s 85us/sample - loss: 0.1731 - acc: 0.9267\n",
      "Epoch 96/100\n",
      "750/750 [==============================] - 0s 84us/sample - loss: 0.1716 - acc: 0.9267\n",
      "Epoch 97/100\n",
      "750/750 [==============================] - 0s 85us/sample - loss: 0.1704 - acc: 0.9267\n",
      "Epoch 98/100\n",
      "750/750 [==============================] - 0s 86us/sample - loss: 0.1690 - acc: 0.9267\n",
      "Epoch 99/100\n",
      "750/750 [==============================] - 0s 67us/sample - loss: 0.1676 - acc: 0.9267\n",
      "Epoch 100/100\n",
      "750/750 [==============================] - 0s 70us/sample - loss: 0.1663 - acc: 0.9280\n"
     ]
    }
   ],
   "source": [
    "# Compile the Sequential model together and customize metrics\n",
    "new_model.compile(loss=\"binary_crossentropy\", optimizer=\"adam\", metrics=[\"accuracy\"])\n",
    "\n",
    "# Fit the model to the training data\n",
    "new_fit_model = new_model.fit(X_moon_train_scaled, y_moon_train, epochs=100, shuffle=True)"
   ]
  },
  {
   "cell_type": "code",
   "execution_count": null,
   "metadata": {},
   "outputs": [],
   "source": []
  }
 ],
 "metadata": {
  "kernelspec": {
   "display_name": "Python 3",
   "language": "python",
   "name": "python3"
  },
  "language_info": {
   "codemirror_mode": {
    "name": "ipython",
    "version": 3
   },
   "file_extension": ".py",
   "mimetype": "text/x-python",
   "name": "python",
   "nbconvert_exporter": "python",
   "pygments_lexer": "ipython3",
   "version": "3.7.7"
  }
 },
 "nbformat": 4,
 "nbformat_minor": 4
}
