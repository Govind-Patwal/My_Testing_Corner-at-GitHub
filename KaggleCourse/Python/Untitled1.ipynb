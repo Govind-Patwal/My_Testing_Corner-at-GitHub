{
 "cells": [
  {
   "cell_type": "code",
   "execution_count": 19,
   "metadata": {},
   "outputs": [],
   "source": [
    "list2 = 'the quick brown fox jumped over the lazy dog'"
   ]
  },
  {
   "cell_type": "code",
   "execution_count": 23,
   "metadata": {},
   "outputs": [
    {
     "data": {
      "text/plain": [
       "['Govind0',\n",
       " 'Govind1',\n",
       " 'Govind2',\n",
       " 'Govind3',\n",
       " 'Govind4',\n",
       " 'Govind5',\n",
       " 'Govind6',\n",
       " 'Govind7',\n",
       " 'Govind8',\n",
       " 'Govind9',\n",
       " 'Govind10',\n",
       " 'Govind11',\n",
       " 'Govind12',\n",
       " 'Govind13',\n",
       " 'Govind14',\n",
       " 'Govind15',\n",
       " 'Govind16',\n",
       " 'Govind17',\n",
       " 'Govind18',\n",
       " 'Govind19',\n",
       " 'Govind20',\n",
       " 'Govind21',\n",
       " 'Govind22',\n",
       " 'Govind23',\n",
       " 'Govind24',\n",
       " 'Govind25',\n",
       " 'Govind26',\n",
       " 'Govind27',\n",
       " 'Govind28',\n",
       " 'Govind29',\n",
       " 'Govind30',\n",
       " 'Govind31',\n",
       " 'Govind32',\n",
       " 'Govind33',\n",
       " 'Govind34',\n",
       " 'Govind35',\n",
       " 'Govind36',\n",
       " 'Govind37',\n",
       " 'Govind38',\n",
       " 'Govind39',\n",
       " 'Govind40',\n",
       " 'Govind41',\n",
       " 'Govind42']"
      ]
     },
     "execution_count": 23,
     "metadata": {},
     "output_type": "execute_result"
    }
   ],
   "source": [
    "while2 = []\n",
    "i=0\n",
    "while i < list2.index('g'):\n",
    "    while2.append(f'Govind{i}')\n",
    "    i += 1\n",
    "while2    "
   ]
  },
  {
   "cell_type": "code",
   "execution_count": 20,
   "metadata": {},
   "outputs": [
    {
     "data": {
      "text/plain": [
       "['t',\n",
       " 'h',\n",
       " 'e',\n",
       " ' ',\n",
       " 'q',\n",
       " 'u',\n",
       " 'i',\n",
       " 'c',\n",
       " 'k',\n",
       " ' ',\n",
       " 'b',\n",
       " 'r',\n",
       " 'o',\n",
       " 'w',\n",
       " 'n',\n",
       " ' ',\n",
       " 'f',\n",
       " 'o',\n",
       " 'x',\n",
       " ' ',\n",
       " 'j',\n",
       " 'u',\n",
       " 'm',\n",
       " 'p',\n",
       " 'e',\n",
       " 'd',\n",
       " ' ',\n",
       " 'o',\n",
       " 'v',\n",
       " 'e',\n",
       " 'r',\n",
       " ' ',\n",
       " 't',\n",
       " 'h',\n",
       " 'e',\n",
       " ' ',\n",
       " 'l',\n",
       " 'a',\n",
       " 'z',\n",
       " 'y',\n",
       " ' ',\n",
       " 'd',\n",
       " 'o',\n",
       " 'g']"
      ]
     },
     "execution_count": 20,
     "metadata": {},
     "output_type": "execute_result"
    }
   ],
   "source": [
    "list3=[]\n",
    "for i in list2:\n",
    "    list3.append(i)\n",
    "list3    "
   ]
  },
  {
   "cell_type": "code",
   "execution_count": 8,
   "metadata": {},
   "outputs": [],
   "source": [
    "# list comprehension = one of the strongest parts of Python = makes a list conscise"
   ]
  },
  {
   "cell_type": "code",
   "execution_count": 12,
   "metadata": {},
   "outputs": [
    {
     "data": {
      "text/plain": [
       "[0, 1, 4, 9, 16, 25, 36, 49, 64, 81]"
      ]
     },
     "execution_count": 12,
     "metadata": {},
     "output_type": "execute_result"
    }
   ],
   "source": [
    "squares = []\n",
    "for n in range(10):\n",
    "    squares.append(n*n)\n",
    "squares\n",
    "    "
   ]
  },
  {
   "cell_type": "code",
   "execution_count": 15,
   "metadata": {},
   "outputs": [
    {
     "data": {
      "text/plain": [
       "[0, 1, 4, 9, 16, 25, 36, 49, 64, 81]"
      ]
     },
     "execution_count": 15,
     "metadata": {},
     "output_type": "execute_result"
    }
   ],
   "source": [
    "squares1 =[n*n for n in range(10)]\n",
    "squares1"
   ]
  },
  {
   "cell_type": "code",
   "execution_count": 21,
   "metadata": {},
   "outputs": [
    {
     "data": {
      "text/plain": [
       "['t',\n",
       " 'h',\n",
       " 'e',\n",
       " ' ',\n",
       " 'q',\n",
       " 'u',\n",
       " 'i',\n",
       " 'c',\n",
       " 'k',\n",
       " ' ',\n",
       " 'b',\n",
       " 'r',\n",
       " 'o',\n",
       " 'w',\n",
       " 'n',\n",
       " ' ',\n",
       " 'f',\n",
       " 'o',\n",
       " 'x',\n",
       " ' ',\n",
       " 'j',\n",
       " 'u',\n",
       " 'm',\n",
       " 'p',\n",
       " 'e',\n",
       " 'd',\n",
       " ' ',\n",
       " 'o',\n",
       " 'v',\n",
       " 'e',\n",
       " 'r',\n",
       " ' ',\n",
       " 't',\n",
       " 'h',\n",
       " 'e',\n",
       " ' ',\n",
       " 'l',\n",
       " 'a',\n",
       " 'z',\n",
       " 'y',\n",
       " ' ',\n",
       " 'd',\n",
       " 'o',\n",
       " 'g']"
      ]
     },
     "execution_count": 21,
     "metadata": {},
     "output_type": "execute_result"
    }
   ],
   "source": [
    "list4 = [i for i in list2]\n",
    "list4"
   ]
  },
  {
   "cell_type": "code",
   "execution_count": 26,
   "metadata": {},
   "outputs": [
    {
     "ename": "SyntaxError",
     "evalue": "invalid syntax (<ipython-input-26-46ed29893134>, line 2)",
     "output_type": "error",
     "traceback": [
      "\u001b[1;36m  File \u001b[1;32m\"<ipython-input-26-46ed29893134>\"\u001b[1;36m, line \u001b[1;32m2\u001b[0m\n\u001b[1;33m    list5 = [i while i < list2.index('g'), i+=1)\u001b[0m\n\u001b[1;37m               ^\u001b[0m\n\u001b[1;31mSyntaxError\u001b[0m\u001b[1;31m:\u001b[0m invalid syntax\n"
     ]
    }
   ],
   "source": [
    "i = 0\n",
    "list5 = [i while i < list2.index('g'), i+=1)"
   ]
  },
  {
   "cell_type": "code",
   "execution_count": null,
   "metadata": {},
   "outputs": [],
   "source": []
  }
 ],
 "metadata": {
  "kernelspec": {
   "display_name": "Python 3",
   "language": "python",
   "name": "python3"
  },
  "language_info": {
   "codemirror_mode": {
    "name": "ipython",
    "version": 3
   },
   "file_extension": ".py",
   "mimetype": "text/x-python",
   "name": "python",
   "nbconvert_exporter": "python",
   "pygments_lexer": "ipython3",
   "version": "3.8.5"
  }
 },
 "nbformat": 4,
 "nbformat_minor": 4
}
