{
  "nbformat": 4,
  "nbformat_minor": 0,
  "metadata": {
    "kernelspec": {
      "display_name": "Python 3",
      "language": "python",
      "name": "python3"
    },
    "language_info": {
      "codemirror_mode": {
        "name": "ipython",
        "version": 3
      },
      "file_extension": ".py",
      "mimetype": "text/x-python",
      "name": "python",
      "nbconvert_exporter": "python",
      "pygments_lexer": "ipython3",
      "version": "3.7.7"
    },
    "colab": {
      "name": "NLP_testing.ipynb",
      "provenance": [],
      "collapsed_sections": []
    }
  },
  "cells": [
    {
      "cell_type": "code",
      "metadata": {
        "id": "TQYx0Y0he7rp",
        "outputId": "ee0d1e8f-b799-46bf-f60a-cb8c1f0e0eb3",
        "colab": {
          "base_uri": "https://localhost:8080/"
        }
      },
      "source": [
        "# Preparing for NLP\n",
        "\n",
        "import os\n",
        "\n",
        "# Find the latest version of spark 2.0  from http://www-us.apache.org/dist/spark/ and enter as the spark version\n",
        "# For example:\n",
        "# spark_version = 'spark-2.4.6'\n",
        "spark_version = 'spark-2.4.7'\n",
        "os.environ['SPARK_VERSION']=spark_version\n",
        "\n",
        "# Install Spark and Java\n",
        "!apt-get update\n",
        "!apt-get install openjdk-8-jdk-headless -qq > /dev/null\n",
        "!wget -q http://www-us.apache.org/dist/spark/$SPARK_VERSION/$SPARK_VERSION-bin-hadoop2.7.tgz\n",
        "!tar xf $SPARK_VERSION-bin-hadoop2.7.tgz\n",
        "!pip install -q findspark\n",
        "\n",
        "# Set Environment Variables\n",
        "os.environ[\"JAVA_HOME\"] = \"/usr/lib/jvm/java-8-openjdk-amd64\"\n",
        "os.environ[\"SPARK_HOME\"] = f\"/content/{spark_version}-bin-hadoop2.7\"\n",
        "\n",
        "# Start a SparkSession\n",
        "import findspark\n",
        "findspark.init()"
      ],
      "execution_count": 1,
      "outputs": [
        {
          "output_type": "stream",
          "text": [
            "Hit:1 https://cloud.r-project.org/bin/linux/ubuntu bionic-cran40/ InRelease\n",
            "Ign:2 https://developer.download.nvidia.com/compute/cuda/repos/ubuntu1804/x86_64  InRelease\n",
            "Ign:3 https://developer.download.nvidia.com/compute/machine-learning/repos/ubuntu1804/x86_64  InRelease\n",
            "Hit:4 https://developer.download.nvidia.com/compute/cuda/repos/ubuntu1804/x86_64  Release\n",
            "Hit:5 https://developer.download.nvidia.com/compute/machine-learning/repos/ubuntu1804/x86_64  Release\n",
            "Hit:6 http://archive.ubuntu.com/ubuntu bionic InRelease\n",
            "Hit:7 http://ppa.launchpad.net/c2d4u.team/c2d4u4.0+/ubuntu bionic InRelease\n",
            "Hit:8 http://security.ubuntu.com/ubuntu bionic-security InRelease\n",
            "Hit:11 http://archive.ubuntu.com/ubuntu bionic-updates InRelease\n",
            "Hit:12 http://archive.ubuntu.com/ubuntu bionic-backports InRelease\n",
            "Hit:13 http://ppa.launchpad.net/graphics-drivers/ppa/ubuntu bionic InRelease\n",
            "Reading package lists... Done\n"
          ],
          "name": "stdout"
        }
      ]
    },
    {
      "cell_type": "code",
      "metadata": {
        "id": "0ztZEK-Je7rv"
      },
      "source": [
        "# Start Spark session\n",
        "from pyspark.sql import SparkSession\n",
        "spark = SparkSession.builder.appName(\"DataFrameBasics\").getOrCreate()"
      ],
      "execution_count": 2,
      "outputs": []
    },
    {
      "cell_type": "code",
      "metadata": {
        "id": "NYJVmXLcosPE"
      },
      "source": [
        "from pyspark.ml.feature import HashingTF, IDF, Tokenizer, StopWordsRemover"
      ],
      "execution_count": 29,
      "outputs": []
    },
    {
      "cell_type": "code",
      "metadata": {
        "id": "EyyY1K8AftpP",
        "outputId": "0e04261c-478b-44af-b6e1-38582064976d",
        "colab": {
          "base_uri": "https://localhost:8080/"
        }
      },
      "source": [
        "# Read in data \n",
        "from pyspark import SparkFiles\n",
        "file_path = \"sample_table_for_NLP.csv\"\n",
        "spark.sparkContext.addFile(file_path)\n",
        "df = spark.read.csv(SparkFiles.get(\"sample_table_for_NLP.csv\"), sep=\",\", header=True)\n",
        "\n",
        "# Show DataFrame\n",
        "df.show()"
      ],
      "execution_count": 24,
      "outputs": [
        {
          "output_type": "stream",
          "text": [
            "+---+--------------------+----------------------------+-----------+-------------+-----------+--------------------+--------------------+---------------------------------+-----------------------+--------------------+---------------------------------+------------------------------------------+--------------+--------------------+-----------------+--------------------+\n",
            "| Id|       Hotel_Address|Additional_Number_of_Scoring|Review_Date|Average_Score| Hotel_Name|Reviewer_Nationality|     Negative_Review|Review_Total_Negative_Word_Counts|Total_Number_of_Reviews|     Positive_Review|Review_Total_Positive_Word_Counts|Total_Number_of_Reviews_Reviewer_Has_Given|Reviewer_Score|                Tags|days_since_review|     Combined_Review|\n",
            "+---+--------------------+----------------------------+-----------+-------------+-----------+--------------------+--------------------+---------------------------------+-----------------------+--------------------+---------------------------------+------------------------------------------+--------------+--------------------+-----------------+--------------------+\n",
            "|  0| s Gravesandestra...|                         194|   8/3/2017|          7.7|Hotel Arena|             Russia | I am so angry th...|                              397|                   1403| Only the park ou...|                               11|                                         7|           2.9|[' Leisure trip '...|           0 days| I am so angry th...|\n",
            "|  1| s Gravesandestra...|                         194|   8/3/2017|          7.7|Hotel Arena|            Ireland |                null|                                0|                   1403| No real complain...|                              105|                                         7|           7.5|[' Leisure trip '...|           0 days| No real complain...|\n",
            "|  2| s Gravesandestra...|                         194|  7/31/2017|          7.7|Hotel Arena|          Australia | Rooms are nice b...|                               42|                   1403| Location was goo...|                               21|                                         9|           7.1|[' Leisure trip '...|           3 days| Rooms are nice b...|\n",
            "|  3| s Gravesandestra...|                         194|  7/31/2017|          7.7|Hotel Arena|     United Kingdom | My room was dirt...|                              210|                   1403| Great location i...|                               26|                                         1|           3.8|[' Leisure trip '...|           3 days| My room was dirt...|\n",
            "|  4| s Gravesandestra...|                         194|  7/24/2017|          7.7|Hotel Arena|        New Zealand | You When I booke...|                              140|                   1403| Amazing location...|                                8|                                         3|           6.7|[' Leisure trip '...|          10 days| You When I booke...|\n",
            "|  5| s Gravesandestra...|                         194|  7/24/2017|          7.7|Hotel Arena|             Poland | Backyard of the ...|                               17|                   1403| Good restaurant ...|                               20|                                         1|           6.7|[' Leisure trip '...|          10 days| Backyard of the ...|\n",
            "|  6| s Gravesandestra...|                         194|  7/17/2017|          7.7|Hotel Arena|     United Kingdom | Cleaner did not ...|                               33|                   1403| The room is spac...|                               18|                                         6|           4.6|[' Leisure trip '...|          17 days| Cleaner did not ...|\n",
            "|  7| s Gravesandestra...|                         194|  7/17/2017|          7.7|Hotel Arena|     United Kingdom | Apart from the p...|                               11|                   1403| Good location Se...|                               19|                                         1|          10.0|[' Leisure trip '...|          17 days| Apart from the p...|\n",
            "|  8| s Gravesandestra...|                         194|   7/9/2017|          7.7|Hotel Arena|            Belgium | Even though the ...|                               34|                   1403|                null|                                0|                                         3|           6.5|[' Leisure trip '...|          25 days| Even though the ...|\n",
            "|  9| s Gravesandestra...|                         194|   7/8/2017|          7.7|Hotel Arena|             Norway | The aircondition...|                               15|                   1403| The room was big...|                               50|                                         1|           7.9|[' Leisure trip '...|          26 days| The aircondition...|\n",
            "| 10| s Gravesandestra...|                         194|   7/7/2017|          7.7|Hotel Arena|     United Kingdom |  Nothing all great |                                5|                   1403| Rooms were stunn...|                              101|                                         2|          10.0|[' Leisure trip '...|          27 days| Nothing all grea...|\n",
            "| 11| s Gravesandestra...|                         194|   7/6/2017|          7.7|Hotel Arena|             France | 6 30 AM started ...|                               75|                   1403| Style location r...|                                4|                                        12|           5.8|[' Business trip ...|          28 days| 6 30 AM started ...|\n",
            "| 12| s Gravesandestra...|                         194|   7/6/2017|          7.7|Hotel Arena|     United Kingdom | The floor in my ...|                               28|                   1403| Comfy bed good l...|                                6|                                         7|           4.6|[' Leisure trip '...|          28 days| The floor in my ...|\n",
            "| 13| s Gravesandestra...|                         194|   7/4/2017|          7.7|Hotel Arena|              Italy |                null|                                0|                   1403| This hotel is be...|                               59|                                         6|           9.2|[' Business trip ...|          30 days| This hotel is be...|\n",
            "| 14| s Gravesandestra...|                         194|   7/4/2017|          7.7|Hotel Arena|             Canada | The staff in the...|                               35|                   1403| It was very good...|                               15|                                         1|           8.8|[' Leisure trip '...|          30 days| The staff in the...|\n",
            "| 15| s Gravesandestra...|                         194|   7/3/2017|          7.7|Hotel Arena|              Italy |                null|                                0|                   1403| This hotel is aw...|                               82|                                        26|          10.0|[' Leisure trip '...|          31 days| This hotel is aw...|\n",
            "| 16| s Gravesandestra...|                         194|   7/3/2017|          7.7|Hotel Arena|     United Kingdom | Very steep steps...|                               38|                   1403| Great onsite caf...|                               14|                                         8|           6.3|[' Leisure trip '...|          31 days| Very steep steps...|\n",
            "| 17| s Gravesandestra...|                         194|  6/30/2017|          7.7|Hotel Arena|            Ireland | We did not like ...|                               59|                   1403| We loved the loc...|                               64|                                         2|           7.5|[' Leisure trip '...|          34 days| We did not like ...|\n",
            "| 18| s Gravesandestra...|                         194|  6/29/2017|          7.7|Hotel Arena|        Netherlands |                null|                                0|                   1403| Public areas are...|                               33|                                         4|           7.1|[' Business trip ...|          35 days| Public areas are...|\n",
            "| 19| s Gravesandestra...|                         194|  6/20/2017|          7.7|Hotel Arena|          Australia | We had issues wi...|                               73|                   1403| I liked the hote...|                               48|                                        16|           7.5|[' Leisure trip '...|          44 days| We had issues wi...|\n",
            "+---+--------------------+----------------------------+-----------+-------------+-----------+--------------------+--------------------+---------------------------------+-----------------------+--------------------+---------------------------------+------------------------------------------+--------------+--------------------+-----------------+--------------------+\n",
            "only showing top 20 rows\n",
            "\n"
          ],
          "name": "stdout"
        }
      ]
    },
    {
      "cell_type": "code",
      "metadata": {
        "id": "ZXcNTAcSgSEX",
        "outputId": "2f93b392-7f79-4f78-9b30-607b37b3b6b4",
        "colab": {
          "base_uri": "https://localhost:8080/"
        }
      },
      "source": [
        "# Create the NLP DataFrame\n",
        "df = df.select([\"Id\", \"Combined_Review\", \"Reviewer_Score\"])\n",
        "df.show()"
      ],
      "execution_count": 25,
      "outputs": [
        {
          "output_type": "stream",
          "text": [
            "+---+--------------------+--------------+\n",
            "| Id|     Combined_Review|Reviewer_Score|\n",
            "+---+--------------------+--------------+\n",
            "|  0| I am so angry th...|           2.9|\n",
            "|  1| No real complain...|           7.5|\n",
            "|  2| Rooms are nice b...|           7.1|\n",
            "|  3| My room was dirt...|           3.8|\n",
            "|  4| You When I booke...|           6.7|\n",
            "|  5| Backyard of the ...|           6.7|\n",
            "|  6| Cleaner did not ...|           4.6|\n",
            "|  7| Apart from the p...|          10.0|\n",
            "|  8| Even though the ...|           6.5|\n",
            "|  9| The aircondition...|           7.9|\n",
            "| 10| Nothing all grea...|          10.0|\n",
            "| 11| 6 30 AM started ...|           5.8|\n",
            "| 12| The floor in my ...|           4.6|\n",
            "| 13| This hotel is be...|           9.2|\n",
            "| 14| The staff in the...|           8.8|\n",
            "| 15| This hotel is aw...|          10.0|\n",
            "| 16| Very steep steps...|           6.3|\n",
            "| 17| We did not like ...|           7.5|\n",
            "| 18| Public areas are...|           7.1|\n",
            "| 19| We had issues wi...|           7.5|\n",
            "+---+--------------------+--------------+\n",
            "only showing top 20 rows\n",
            "\n"
          ],
          "name": "stdout"
        }
      ]
    },
    {
      "cell_type": "code",
      "metadata": {
        "id": "rP-QYpYDjNJ3",
        "outputId": "9bfde2d1-a456-4a4c-8a63-3feb89d93272",
        "colab": {
          "base_uri": "https://localhost:8080/"
        }
      },
      "source": [
        "# Tokenize DataFrame\n",
        "tokenizer = Tokenizer(inputCol=\"Combined_Review\", outputCol=\"Tokens\")\n",
        "tokenized_df = tokenizer.transform(df)\n",
        "tokenized_df.show()"
      ],
      "execution_count": 26,
      "outputs": [
        {
          "output_type": "stream",
          "text": [
            "+---+--------------------+--------------+--------------------+\n",
            "| Id|     Combined_Review|Reviewer_Score|              Tokens|\n",
            "+---+--------------------+--------------+--------------------+\n",
            "|  0| I am so angry th...|           2.9|[, i, am, so, ang...|\n",
            "|  1| No real complain...|           7.5|[, no, real, comp...|\n",
            "|  2| Rooms are nice b...|           7.1|[, rooms, are, ni...|\n",
            "|  3| My room was dirt...|           3.8|[, my, room, was,...|\n",
            "|  4| You When I booke...|           6.7|[, you, when, i, ...|\n",
            "|  5| Backyard of the ...|           6.7|[, backyard, of, ...|\n",
            "|  6| Cleaner did not ...|           4.6|[, cleaner, did, ...|\n",
            "|  7| Apart from the p...|          10.0|[, apart, from, t...|\n",
            "|  8| Even though the ...|           6.5|[, even, though, ...|\n",
            "|  9| The aircondition...|           7.9|[, the, aircondit...|\n",
            "| 10| Nothing all grea...|          10.0|[, nothing, all, ...|\n",
            "| 11| 6 30 AM started ...|           5.8|[, 6, 30, am, sta...|\n",
            "| 12| The floor in my ...|           4.6|[, the, floor, in...|\n",
            "| 13| This hotel is be...|           9.2|[, this, hotel, i...|\n",
            "| 14| The staff in the...|           8.8|[, the, staff, in...|\n",
            "| 15| This hotel is aw...|          10.0|[, this, hotel, i...|\n",
            "| 16| Very steep steps...|           6.3|[, very, steep, s...|\n",
            "| 17| We did not like ...|           7.5|[, we, did, not, ...|\n",
            "| 18| Public areas are...|           7.1|[, public, areas,...|\n",
            "| 19| We had issues wi...|           7.5|[, we, had, issue...|\n",
            "+---+--------------------+--------------+--------------------+\n",
            "only showing top 20 rows\n",
            "\n"
          ],
          "name": "stdout"
        }
      ]
    },
    {
      "cell_type": "code",
      "metadata": {
        "id": "pmUBMakKsAco",
        "outputId": "559c4f17-0720-416d-9908-759f1117263d",
        "colab": {
          "base_uri": "https://localhost:8080/"
        }
      },
      "source": [
        "# Remove Stop words\n",
        "remover = StopWordsRemover(inputCol=\"Tokens\", outputCol=\"stop_removed\")\n",
        "stop_removed = remover.transform(tokenized_df)\n",
        "stop_removed.show()"
      ],
      "execution_count": 30,
      "outputs": [
        {
          "output_type": "stream",
          "text": [
            "+---+--------------------+--------------+--------------------+--------------------+\n",
            "| Id|     Combined_Review|Reviewer_Score|              Tokens|        stop_removed|\n",
            "+---+--------------------+--------------+--------------------+--------------------+\n",
            "|  0| I am so angry th...|           2.9|[, i, am, so, ang...|[, angry, made, p...|\n",
            "|  1| No real complain...|           7.5|[, no, real, comp...|[, real, complain...|\n",
            "|  2| Rooms are nice b...|           7.1|[, rooms, are, ni...|[, rooms, nice, e...|\n",
            "|  3| My room was dirt...|           3.8|[, my, room, was,...|[, room, dirty, a...|\n",
            "|  4| You When I booke...|           6.7|[, you, when, i, ...|[, booked, compan...|\n",
            "|  5| Backyard of the ...|           6.7|[, backyard, of, ...|[, backyard, hote...|\n",
            "|  6| Cleaner did not ...|           4.6|[, cleaner, did, ...|[, cleaner, chang...|\n",
            "|  7| Apart from the p...|          10.0|[, apart, from, t...|[, apart, price, ...|\n",
            "|  8| Even though the ...|           6.5|[, even, though, ...|[, even, though, ...|\n",
            "|  9| The aircondition...|           7.9|[, the, aircondit...|[, aircondition, ...|\n",
            "| 10| Nothing all grea...|          10.0|[, nothing, all, ...|[, nothing, great...|\n",
            "| 11| 6 30 AM started ...|           5.8|[, 6, 30, am, sta...|[, 6, 30, started...|\n",
            "| 12| The floor in my ...|           4.6|[, the, floor, in...|[, floor, room, f...|\n",
            "| 13| This hotel is be...|           9.2|[, this, hotel, i...|[, hotel, renovat...|\n",
            "| 14| The staff in the...|           8.8|[, the, staff, in...|[, staff, restaur...|\n",
            "| 15| This hotel is aw...|          10.0|[, this, hotel, i...|[, hotel, awesome...|\n",
            "| 16| Very steep steps...|           6.3|[, very, steep, s...|[, steep, steps, ...|\n",
            "| 17| We did not like ...|           7.5|[, we, did, not, ...|[, like, fact, br...|\n",
            "| 18| Public areas are...|           7.1|[, public, areas,...|[, public, areas,...|\n",
            "| 19| We had issues wi...|           7.5|[, we, had, issue...|[, issues, electr...|\n",
            "+---+--------------------+--------------+--------------------+--------------------+\n",
            "only showing top 20 rows\n",
            "\n"
          ],
          "name": "stdout"
        }
      ]
    },
    {
      "cell_type": "code",
      "metadata": {
        "id": "B0-fGh6JkVis",
        "outputId": "d8ae274e-db84-4c4c-eb01-e010b8ed6ce3",
        "colab": {
          "base_uri": "https://localhost:8080/"
        }
      },
      "source": [
        "# Run the hashing term frequency\n",
        "hashing = HashingTF(inputCol=\"stop_removed\", outputCol=\"hashedValues\", numFeatures=pow(2,4))\n",
        "hashed_df = hashing.transform(stop_removed)\n",
        "hashed_df.show() "
      ],
      "execution_count": 32,
      "outputs": [
        {
          "output_type": "stream",
          "text": [
            "+---+--------------------+--------------+--------------------+--------------------+--------------------+\n",
            "| Id|     Combined_Review|Reviewer_Score|              Tokens|        stop_removed|        hashedValues|\n",
            "+---+--------------------+--------------+--------------------+--------------------+--------------------+\n",
            "|  0| I am so angry th...|           2.9|[, i, am, so, ang...|[, angry, made, p...|(16,[0,1,2,3,4,5,...|\n",
            "|  1| No real complain...|           7.5|[, no, real, comp...|[, real, complain...|(16,[0,1,2,3,4,5,...|\n",
            "|  2| Rooms are nice b...|           7.1|[, rooms, are, ni...|[, rooms, nice, e...|(16,[0,1,2,3,4,7,...|\n",
            "|  3| My room was dirt...|           3.8|[, my, room, was,...|[, room, dirty, a...|(16,[0,1,2,3,4,5,...|\n",
            "|  4| You When I booke...|           6.7|[, you, when, i, ...|[, booked, compan...|(16,[0,1,2,3,4,5,...|\n",
            "|  5| Backyard of the ...|           6.7|[, backyard, of, ...|[, backyard, hote...|(16,[1,2,3,4,5,6,...|\n",
            "|  6| Cleaner did not ...|           4.6|[, cleaner, did, ...|[, cleaner, chang...|(16,[0,2,3,4,5,6,...|\n",
            "|  7| Apart from the p...|          10.0|[, apart, from, t...|[, apart, price, ...|(16,[1,2,3,4,7,8,...|\n",
            "|  8| Even though the ...|           6.5|[, even, though, ...|[, even, though, ...|(16,[0,1,2,3,4,6,...|\n",
            "|  9| The aircondition...|           7.9|[, the, aircondit...|[, aircondition, ...|(16,[0,1,2,3,4,5,...|\n",
            "| 10| Nothing all grea...|          10.0|[, nothing, all, ...|[, nothing, great...|(16,[0,1,2,3,4,5,...|\n",
            "| 11| 6 30 AM started ...|           5.8|[, 6, 30, am, sta...|[, 6, 30, started...|(16,[0,1,2,3,4,5,...|\n",
            "| 12| The floor in my ...|           4.6|[, the, floor, in...|[, floor, room, f...|(16,[1,2,3,6,7,8,...|\n",
            "| 13| This hotel is be...|           9.2|[, this, hotel, i...|[, hotel, renovat...|(16,[0,2,3,4,5,6,...|\n",
            "| 14| The staff in the...|           8.8|[, the, staff, in...|[, staff, restaur...|(16,[0,1,2,4,5,6,...|\n",
            "| 15| This hotel is aw...|          10.0|[, this, hotel, i...|[, hotel, awesome...|(16,[0,1,2,3,4,5,...|\n",
            "| 16| Very steep steps...|           6.3|[, very, steep, s...|[, steep, steps, ...|(16,[2,3,4,9,10,1...|\n",
            "| 17| We did not like ...|           7.5|[, we, did, not, ...|[, like, fact, br...|(16,[0,1,2,3,4,5,...|\n",
            "| 18| Public areas are...|           7.1|[, public, areas,...|[, public, areas,...|(16,[2,3,7,8,9,10...|\n",
            "| 19| We had issues wi...|           7.5|[, we, had, issue...|[, issues, electr...|(16,[0,1,2,3,4,5,...|\n",
            "+---+--------------------+--------------+--------------------+--------------------+--------------------+\n",
            "only showing top 20 rows\n",
            "\n"
          ],
          "name": "stdout"
        }
      ]
    },
    {
      "cell_type": "code",
      "metadata": {
        "id": "xuy_2Y5Qt9_Y",
        "outputId": "2c6a92d2-1af6-4556-ce85-39ca38a227d3",
        "colab": {
          "base_uri": "https://localhost:8080/"
        }
      },
      "source": [
        "# Fit the IDF on the data set\n",
        "idf = IDF(inputCol=\"hashedValues\", outputCol=\"features\")\n",
        "idfModel = idf.fit(hashed_df)\n",
        "rescaledData = idfModel.transform(hashed_df)\n",
        "\n",
        "rescaledData.show()"
      ],
      "execution_count": 34,
      "outputs": [
        {
          "output_type": "stream",
          "text": [
            "+---+--------------------+--------------+--------------------+--------------------+--------------------+--------------------+\n",
            "| Id|     Combined_Review|Reviewer_Score|              Tokens|        stop_removed|        hashedValues|            features|\n",
            "+---+--------------------+--------------+--------------------+--------------------+--------------------+--------------------+\n",
            "|  0| I am so angry th...|           2.9|[, i, am, so, ang...|[, angry, made, p...|(16,[0,1,2,3,4,5,...|(16,[0,1,2,3,4,5,...|\n",
            "|  1| No real complain...|           7.5|[, no, real, comp...|[, real, complain...|(16,[0,1,2,3,4,5,...|(16,[0,1,2,3,4,5,...|\n",
            "|  2| Rooms are nice b...|           7.1|[, rooms, are, ni...|[, rooms, nice, e...|(16,[0,1,2,3,4,7,...|(16,[0,1,2,3,4,7,...|\n",
            "|  3| My room was dirt...|           3.8|[, my, room, was,...|[, room, dirty, a...|(16,[0,1,2,3,4,5,...|(16,[0,1,2,3,4,5,...|\n",
            "|  4| You When I booke...|           6.7|[, you, when, i, ...|[, booked, compan...|(16,[0,1,2,3,4,5,...|(16,[0,1,2,3,4,5,...|\n",
            "|  5| Backyard of the ...|           6.7|[, backyard, of, ...|[, backyard, hote...|(16,[1,2,3,4,5,6,...|(16,[1,2,3,4,5,6,...|\n",
            "|  6| Cleaner did not ...|           4.6|[, cleaner, did, ...|[, cleaner, chang...|(16,[0,2,3,4,5,6,...|(16,[0,2,3,4,5,6,...|\n",
            "|  7| Apart from the p...|          10.0|[, apart, from, t...|[, apart, price, ...|(16,[1,2,3,4,7,8,...|(16,[1,2,3,4,7,8,...|\n",
            "|  8| Even though the ...|           6.5|[, even, though, ...|[, even, though, ...|(16,[0,1,2,3,4,6,...|(16,[0,1,2,3,4,6,...|\n",
            "|  9| The aircondition...|           7.9|[, the, aircondit...|[, aircondition, ...|(16,[0,1,2,3,4,5,...|(16,[0,1,2,3,4,5,...|\n",
            "| 10| Nothing all grea...|          10.0|[, nothing, all, ...|[, nothing, great...|(16,[0,1,2,3,4,5,...|(16,[0,1,2,3,4,5,...|\n",
            "| 11| 6 30 AM started ...|           5.8|[, 6, 30, am, sta...|[, 6, 30, started...|(16,[0,1,2,3,4,5,...|(16,[0,1,2,3,4,5,...|\n",
            "| 12| The floor in my ...|           4.6|[, the, floor, in...|[, floor, room, f...|(16,[1,2,3,6,7,8,...|(16,[1,2,3,6,7,8,...|\n",
            "| 13| This hotel is be...|           9.2|[, this, hotel, i...|[, hotel, renovat...|(16,[0,2,3,4,5,6,...|(16,[0,2,3,4,5,6,...|\n",
            "| 14| The staff in the...|           8.8|[, the, staff, in...|[, staff, restaur...|(16,[0,1,2,4,5,6,...|(16,[0,1,2,4,5,6,...|\n",
            "| 15| This hotel is aw...|          10.0|[, this, hotel, i...|[, hotel, awesome...|(16,[0,1,2,3,4,5,...|(16,[0,1,2,3,4,5,...|\n",
            "| 16| Very steep steps...|           6.3|[, very, steep, s...|[, steep, steps, ...|(16,[2,3,4,9,10,1...|(16,[2,3,4,9,10,1...|\n",
            "| 17| We did not like ...|           7.5|[, we, did, not, ...|[, like, fact, br...|(16,[0,1,2,3,4,5,...|(16,[0,1,2,3,4,5,...|\n",
            "| 18| Public areas are...|           7.1|[, public, areas,...|[, public, areas,...|(16,[2,3,7,8,9,10...|(16,[2,3,7,8,9,10...|\n",
            "| 19| We had issues wi...|           7.5|[, we, had, issue...|[, issues, electr...|(16,[0,1,2,3,4,5,...|(16,[0,1,2,3,4,5,...|\n",
            "+---+--------------------+--------------+--------------------+--------------------+--------------------+--------------------+\n",
            "only showing top 20 rows\n",
            "\n"
          ],
          "name": "stdout"
        }
      ]
    },
    {
      "cell_type": "code",
      "metadata": {
        "id": "oh89ezFDl_co"
      },
      "source": [
        ""
      ],
      "execution_count": 13,
      "outputs": []
    }
  ]
}