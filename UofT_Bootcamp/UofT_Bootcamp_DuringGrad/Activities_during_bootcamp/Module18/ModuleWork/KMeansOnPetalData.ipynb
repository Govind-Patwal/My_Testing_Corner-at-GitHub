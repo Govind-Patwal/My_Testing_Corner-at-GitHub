{
 "cells": [
  {
   "cell_type": "code",
   "execution_count": null,
   "metadata": {
    "colab": {
     "base_uri": "https://localhost:8080/",
     "height": 462
    },
    "id": "N0tUGJCnxTq-",
    "outputId": "7fe75533-2fc5-4027-91f4-42ec41ae0f95"
   },
   "outputs": [],
   "source": [
    "import pandas as pd\n",
    "!pip install plotly\n",
    "import plotly.express as px\n",
    "import hvplot.pandas\n",
    "from sklearn.cluster import KMeans"
   ]
  },
  {
   "cell_type": "code",
   "execution_count": null,
   "metadata": {
    "colab": {
     "base_uri": "https://localhost:8080/",
     "height": 419
    },
    "id": "FZv19a9ZxlLT",
    "outputId": "49a03f29-f004-46a5-e999-33c554670dd9"
   },
   "outputs": [],
   "source": [
    "# importing the cleaned up file from the previous steps\n",
    "df_iris = pd.read_csv(\"new_iris_data.csv\")\n",
    "df_iris"
   ]
  },
  {
   "cell_type": "code",
   "execution_count": null,
   "metadata": {
    "colab": {
     "base_uri": "https://localhost:8080/",
     "height": 68
    },
    "id": "IgXNhGAZyK8w",
    "outputId": "7c84284b-9777-4017-a250-112933f3d4da"
   },
   "outputs": [],
   "source": [
    "# Initializing model with K =3 (since we already know the there are 3 classes)\n",
    "model = KMeans(n_clusters=3, random_state=5)\n",
    "model"
   ]
  },
  {
   "cell_type": "code",
   "execution_count": null,
   "metadata": {
    "colab": {
     "base_uri": "https://localhost:8080/",
     "height": 68
    },
    "id": "Xm1RPlCPypCA",
    "outputId": "a370cdf6-c855-4e2e-8e6a-fa69745b32d6"
   },
   "outputs": [],
   "source": [
    "# Fitting model\n",
    "model.fit(df_iris)"
   ]
  },
  {
   "cell_type": "code",
   "execution_count": null,
   "metadata": {
    "colab": {
     "base_uri": "https://localhost:8080/",
     "height": 102
    },
    "id": "-V-wgj6ky6n-",
    "outputId": "14a36cee-9145-4638-cfa9-db2897af103f"
   },
   "outputs": [],
   "source": [
    "# Get predictions\n",
    "predictions = model.predict(df_iris)\n",
    "print(predictions)\n"
   ]
  },
  {
   "cell_type": "code",
   "execution_count": null,
   "metadata": {
    "colab": {
     "base_uri": "https://localhost:8080/",
     "height": 419
    },
    "id": "2fq7QXnSzZTf",
    "outputId": "0628fbb0-dde1-410e-b5b0-ad6a8c5563da"
   },
   "outputs": [],
   "source": [
    "# Add a new class column to df_iris\n",
    "df_iris[\"class\"] =model.labels_\n",
    "df_iris"
   ]
  },
  {
   "cell_type": "code",
   "execution_count": null,
   "metadata": {
    "colab": {
     "base_uri": "https://localhost:8080/",
     "height": 562
    },
    "id": "-wPZ54_Kzzqu",
    "outputId": "4c74030a-18c1-44e4-eab6-49e44c06b6b1"
   },
   "outputs": [],
   "source": [
    "# Plotting the clusters with three features\n",
    "fig = px.scatter_3d(df_iris, x=\"petal_width\", y=\"sepal_length\", z=\"petal_length\", color=\"class\", symbol=\"class\", size=\"sepal_width\",width=800)\n",
    "fig.update_layout(legend=dict(x=0,y=1))\n",
    "fig.show()"
   ]
  },
  {
   "cell_type": "code",
   "execution_count": null,
   "metadata": {
    "id": "Q6DVu39u05In"
   },
   "outputs": [],
   "source": []
  }
 ],
 "metadata": {
  "colab": {
   "collapsed_sections": [],
   "name": "KMeansOnPetalData.ipynb",
   "provenance": []
  },
  "kernelspec": {
   "display_name": "mlenv",
   "language": "python",
   "name": "mlenv"
  },
  "language_info": {
   "codemirror_mode": {
    "name": "ipython",
    "version": 3
   },
   "file_extension": ".py",
   "mimetype": "text/x-python",
   "name": "python",
   "nbconvert_exporter": "python",
   "pygments_lexer": "ipython3",
   "version": "3.7.7"
  }
 },
 "nbformat": 4,
 "nbformat_minor": 1
}
