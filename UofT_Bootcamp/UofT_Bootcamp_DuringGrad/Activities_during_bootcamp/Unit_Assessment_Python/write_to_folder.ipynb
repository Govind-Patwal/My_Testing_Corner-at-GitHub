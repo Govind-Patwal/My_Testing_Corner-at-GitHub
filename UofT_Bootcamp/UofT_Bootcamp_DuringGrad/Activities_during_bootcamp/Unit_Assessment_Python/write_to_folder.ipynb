{
 "cells": [
  {
   "cell_type": "code",
   "execution_count": 5,
   "metadata": {},
   "outputs": [],
   "source": [
    "import os\n",
    "import csv\n",
    "\n",
    "file_to_save = os.path.join(\"output\", \"employees.txt\")\n",
    "\n",
    "with open(file_to_save, \"w\") as new_file:\n",
    "    employees = (\n",
    "        f\"First Name', 'Last Name', 'SSN\\n\"\n",
    "        f\"Caleb', 'Frost', '505-80-2901\\n\")\n",
    "    \n",
    "    new_file.write(employees)"
   ]
  }
 ],
 "metadata": {
  "kernelspec": {
   "display_name": "Python 3",
   "language": "python",
   "name": "python3"
  },
  "language_info": {
   "codemirror_mode": {
    "name": "ipython",
    "version": 3
   },
   "file_extension": ".py",
   "mimetype": "text/x-python",
   "name": "python",
   "nbconvert_exporter": "python",
   "pygments_lexer": "ipython3",
   "version": "3.7.7"
  }
 },
 "nbformat": 4,
 "nbformat_minor": 4
}
